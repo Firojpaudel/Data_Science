{
 "cells": [
  {
   "cell_type": "code",
   "execution_count": 1,
   "id": "e66b0893-a487-42c2-b76e-81b8a19c8c0f",
   "metadata": {},
   "outputs": [],
   "source": [
    "from rembg import remove\n",
    "import requests\n",
    "from PIL import Image\n",
    "from io import BytesIO\n",
    "import os "
   ]
  },
  {
   "cell_type": "code",
   "execution_count": 2,
   "id": "e5f3f861-c057-4be1-afe9-68c4affc4470",
   "metadata": {},
   "outputs": [],
   "source": [
    "os.makedirs('original', exist_ok = True)\n",
    "os.makedirs('masked', exist_ok = True)"
   ]
  },
  {
   "cell_type": "code",
   "execution_count": 3,
   "id": "feaef18a-5e4d-4953-aea6-f40879bcaa53",
   "metadata": {},
   "outputs": [
    {
     "data": {
      "text/plain": [
       "'tabby-cat-looking-up.jpg'"
      ]
     },
     "execution_count": 3,
     "metadata": {},
     "output_type": "execute_result"
    }
   ],
   "source": [
    "img_url = 'https://www.cats.org.uk/media/2297/tabby-cat-looking-up.jpg'\n",
    "img_name = img_url.split('/')[-1]\n",
    "img_name"
   ]
  },
  {
   "cell_type": "code",
   "execution_count": 4,
   "id": "d28a73f7-6603-49a3-8e2d-6ee7c2b30e09",
   "metadata": {},
   "outputs": [],
   "source": [
    "img = Image.open(BytesIO(requests.get(img_url).content))\n",
    "img.save('original/'+img_name, format='jpeg')"
   ]
  },
  {
   "cell_type": "code",
   "execution_count": 5,
   "id": "0230b8d3-267f-41eb-82ff-4ed56c7fb132",
   "metadata": {},
   "outputs": [
    {
     "data": {
      "text/plain": [
       "'masked/tabby-cat-looking-up.jpg'"
      ]
     },
     "execution_count": 5,
     "metadata": {},
     "output_type": "execute_result"
    }
   ],
   "source": [
    "op_path = 'masked/' + img_name\n",
    "op_path"
   ]
  },
  {
   "cell_type": "code",
   "execution_count": 6,
   "id": "e4c2ec50-d804-49d2-aa90-fec600202a96",
   "metadata": {},
   "outputs": [],
   "source": [
    "with open(op_path, 'wb') as f: \n",
    "    input = open('original/' + img_name, 'rb').read()\n",
    "    subject = remove(input, alpha_matting= True)\n",
    "    f.write(subject)"
   ]
  },
  {
   "cell_type": "code",
   "execution_count": null,
   "id": "f88dd925-de2f-4730-914b-54c8a622afb0",
   "metadata": {},
   "outputs": [],
   "source": [
    "background_img= 'https://images.nationalgeographic.org/image/upload/v1638890135/EducationHub/photos/rain-forest-mist.jpg'\n",
    "background_img = Image.open(BytesIO(requests.get(background_img).content))\n",
    "\n",
    "background_img = background_img.resize((img.width, img.height))\n",
    "\n",
    "foreground_img = Image.open(op_path)\n",
    "background_img.paste(foreground_img, (0,0), foreground_img)\n",
    "background_img.save('masked/background.jpg', format='jpeg')"
   ]
  }
 ],
 "metadata": {
  "kernelspec": {
   "display_name": "Python 3 (ipykernel)",
   "language": "python",
   "name": "python3"
  },
  "language_info": {
   "codemirror_mode": {
    "name": "ipython",
    "version": 3
   },
   "file_extension": ".py",
   "mimetype": "text/x-python",
   "name": "python",
   "nbconvert_exporter": "python",
   "pygments_lexer": "ipython3",
   "version": "3.11.2"
  }
 },
 "nbformat": 4,
 "nbformat_minor": 5
}
