{
  "nbformat": 4,
  "nbformat_minor": 0,
  "metadata": {
    "colab": {
      "provenance": [],
      "gpuType": "T4",
      "include_colab_link": true
    },
    "kernelspec": {
      "name": "python3",
      "display_name": "Python 3"
    },
    "language_info": {
      "name": "python"
    },
    "accelerator": "GPU"
  },
  "cells": [
    {
      "cell_type": "markdown",
      "metadata": {
        "id": "view-in-github",
        "colab_type": "text"
      },
      "source": [
        "<a href=\"https://colab.research.google.com/github/Firojpaudel/Machine-Learning-Notes/blob/main/Practical%20Deep%20Learning%20For%20Coders/Chapter_9.ipynb\" target=\"_parent\"><img src=\"https://colab.research.google.com/assets/colab-badge.svg\" alt=\"Open In Colab\"/></a>"
      ]
    },
    {
      "cell_type": "markdown",
      "source": [
        "# Tabular Modeling Deep Dive"
      ],
      "metadata": {
        "id": "wvKnRvatv1ZW"
      }
    },
    {
      "cell_type": "code",
      "source": [
        "#@ First Setting up the notebook:\n",
        "%reload_ext autoreload\n",
        "%autoreload 2\n",
        "%matplotlib inline"
      ],
      "metadata": {
        "id": "PNU0-ps7XVBW"
      },
      "execution_count": 92,
      "outputs": []
    },
    {
      "cell_type": "code",
      "source": [
        "#@ Also installing the dependencies and necessary fastai's and other libraries\n",
        "!pip install -Uqq fastbook\n",
        "import fastbook\n",
        "# fastbook.setup_book()\n",
        "\n",
        "from fastbook import *\n",
        "from fastai.callback.fp16 import *\n",
        "from fastai.collab import *\n",
        "from fastai.tabular.all import *\n",
        "from fastai.vision.all import *\n",
        "\n",
        "from sklearn.tree import DecisionTreeRegressor"
      ],
      "metadata": {
        "id": "6gIH2RDkcvZd"
      },
      "execution_count": 93,
      "outputs": []
    },
    {
      "cell_type": "markdown",
      "source": [
        "**Objective:**\n",
        "\n",
        "To predict the value in one column based on the values in other columns.\n",
        "\n",
        "---"
      ],
      "metadata": {
        "id": "cIcY-Cb1g3eI"
      }
    },
    {
      "cell_type": "markdown",
      "source": [
        "### **1. Categorical Embeddings**"
      ],
      "metadata": {
        "id": "gqBuzgE1TTKv"
      }
    },
    {
      "cell_type": "markdown",
      "source": [
        "#### A. Introduction\n",
        "\n"
      ],
      "metadata": {
        "id": "IievMP4iTkm3"
      }
    },
    {
      "cell_type": "markdown",
      "source": [
        "In tabular data, some columns may contain numerical data, like `age`, while others contain string values, like `sex`. The numerical data can be directly fed to the model (with some optional preprocessing), but the other columns need to be converted to numbers. Since the values in those correspond to different categories, we often call this type of variables **categorical variables**. The first type are called **continuous variables**."
      ],
      "metadata": {
        "id": "cOYuNpgtUxBG"
      }
    },
    {
      "cell_type": "markdown",
      "source": [
        "<details>\n",
        "<summary>\n",
        "<b>Jargon: Continuous and Categorical Variables</b>\n",
        "</summary>\n",
        "<ul>\n",
        "<li><b>Continuous variables</b> are numerical data, such as <code>age</code>, that can be directly fed to the model, since you can add and multiply them directly.</li>\n",
        "<li><b>Categorical variables</b> contain a number of discrete levels, such as <code>movie ID</code>, for which addition and multiplication don’t have meaning (even if they’re stored as numbers).</li>\n",
        "</ul>\n",
        "</details>"
      ],
      "metadata": {
        "id": "V-KI781jU2Ru"
      }
    },
    {
      "cell_type": "markdown",
      "source": [
        "##### **Example:** *Rossmann Sales Competition*\n",
        "At the end of 2015, the Rossmann sales competition ran on Kaggle. Competitors were given a wide range of information about various stores in Germany and were tasked with trying to predict sales on a number of days. The goal was to help the company manage stock properly and satisfy demand without holding unnecessary inventory.\n",
        "\n",
        "One of the gold medalists used **deep learning**, in one of the earliest examples of a state-of-the-art deep learning tabular model. Their method involved far less feature engineering based on domain knowledge than those of the other gold medalists.\n",
        "\n",
        "The paper [\"Entity Embeddings of Categorical Variables\"](https://arxiv.org/abs/1604.06737) by Cheng Guo and Felix Bekhahn describes their approach:\n",
        "- **Advantages of Entity Embeddings**:\n",
        "  - Reduces memory usage and speeds up neural networks compared with one-hot encoding.\n",
        "  - Maps similar values close to each other in the embedding space, revealing intrinsic properties of categorical variables.\n",
        "  - Useful for datasets with high cardinality features where other methods tend to overfit.\n",
        "  - Defines a distance measure for categorical variables, enabling visualization and clustering.\n",
        "\n",
        "  ***"
      ],
      "metadata": {
        "id": "aIvyddxQVpg3"
      }
    },
    {
      "cell_type": "markdown",
      "source": [
        "##### ***Key Insights from the Paper:***\n",
        "1. **Equivalence of Embedding Layers and Linear Layers**: An embedding layer is equivalent to placing an ordinary linear layer after every one-hot encoded input layer.\n",
        "2. **Embedding Weights Analysis**:\n",
        "   - Transforms categorical variables into inputs that are both continuous and meaningful.\n",
        "   - Embedding distances often align with intuitive or real-world distances (e.g., geographic distance for states).\n",
        "\n",
        "---"
      ],
      "metadata": {
        "id": "TlzRI3ljWJh3"
      }
    },
    {
      "cell_type": "markdown",
      "source": [
        "#### B. Visualizing Embeddings"
      ],
      "metadata": {
        "id": "TiSBbom1WPkw"
      }
    },
    {
      "cell_type": "markdown",
      "source": [
        "The embeddings learned can reveal patterns in categorical data:\n",
        "1. **State Embeddings**: Embeddings for German states learned their relative positions based solely on sales data.\n",
        "2. **Date Embeddings**: Days of the week or months close in time are also close in the embedding space."
      ],
      "metadata": {
        "id": "zpw7DhRUW9Q-"
      }
    },
    {
      "cell_type": "code",
      "source": [
        "\"Example code 1:\"\n",
        "import matplotlib.pyplot as plt\n",
        "import numpy as np\n",
        "\n",
        "# Simulated embedding data for states\n",
        "states = ['Berlin', 'Hamburg', 'Munich', 'Cologne']\n",
        "embeddings = np.random.rand(len(states), 2)\n",
        "\n",
        "plt.figure(figsize=(8, 6))\n",
        "for i, state in enumerate(states):\n",
        "    plt.scatter(embeddings[i, 0], embeddings[i, 1], label=state)\n",
        "    plt.text(embeddings[i, 0], embeddings[i, 1], state, fontsize=12)\n",
        "\n",
        "plt.title('State Embeddings')\n",
        "plt.xlabel('Dimension 1')\n",
        "plt.ylabel('Dimension 2')\n",
        "plt.legend()\n",
        "plt.show()"
      ],
      "metadata": {
        "id": "q062NgoKXuDW",
        "colab": {
          "base_uri": "https://localhost:8080/",
          "height": 573
        },
        "outputId": "53bce5de-762d-48d9-a162-9d619678c6b8"
      },
      "execution_count": 94,
      "outputs": [
        {
          "output_type": "display_data",
          "data": {
            "text/plain": [
              "<Figure size 800x600 with 1 Axes>"
            ],
            "image/png": "[encoded data removed]"
          },
          "metadata": {}
        }
      ]
    },
    {
      "cell_type": "markdown",
      "source": [
        "The above code simulates and visualizes embeddings for states. The scatter plot shows embeddings projected into two dimensions, and annotations indicate which state each point corresponds to. This visualization can help identify patterns, such as how similar states cluster together in the embedding space.\n",
        "\n",
        "The next code snippet simulates embeddings for days of the week. Each point in the scatter plot represents a day, with proximity in the plot reflecting similarity in the learned embedding space. For instance, weekdays may group together, while weekends might form their own cluster."
      ],
      "metadata": {
        "id": "oAJumUO3ZNBW"
      }
    },
    {
      "cell_type": "code",
      "source": [
        "\"Example Code 2:\"\n",
        "# Simulated embedding data for days of the week\n",
        "days = ['Monday', 'Tuesday', 'Wednesday', 'Thursday', 'Friday', 'Saturday', 'Sunday']\n",
        "embeddings = np.random.rand(len(days), 2)\n",
        "\n",
        "plt.figure(figsize=(8, 6))\n",
        "for i, day in enumerate(days):\n",
        "    plt.scatter(embeddings[i, 0], embeddings[i, 1], label=day)\n",
        "    plt.text(embeddings[i, 0], embeddings[i, 1], day, fontsize=12)\n",
        "\n",
        "plt.title('Date Embeddings')\n",
        "plt.xlabel('Dimension 1')\n",
        "plt.ylabel('Dimension 2')\n",
        "plt.legend()\n",
        "plt.show()"
      ],
      "metadata": {
        "id": "eR0P7h6FXzWf",
        "colab": {
          "base_uri": "https://localhost:8080/",
          "height": 573
        },
        "outputId": "391eb89d-bfde-4cec-8848-b5bb1b11f781"
      },
      "execution_count": 95,
      "outputs": [
        {
          "output_type": "display_data",
          "data": {
            "text/plain": [
              "<Figure size 800x600 with 1 Axes>"
            ],
            "image/png": "[encoded data removed]"
          },
          "metadata": {}
        }
      ]
    },
    {
      "cell_type": "markdown",
      "source": [
        "---\n",
        "#### C. Benefits of Embeddings"
      ],
      "metadata": {
        "id": "chyc3wy6X6TQ"
      }
    },
    {
      "cell_type": "markdown",
      "source": [
        "\n",
        "1. **Continuous Representation**: Models are better at understanding continuous variables.\n",
        "2. **Efficient Integration**: Continuous embeddings can be concatenated with other continuous input data before being fed into a dense layer.\n",
        "\n",
        "---"
      ],
      "metadata": {
        "id": "nQfAl0kJakNt"
      }
    },
    {
      "cell_type": "markdown",
      "source": [
        "#### D. Real-World Application: *Google Play Recommendations*\n"
      ],
      "metadata": {
        "id": "FokcyXjHYzSv"
      }
    },
    {
      "cell_type": "markdown",
      "source": [
        "Google’s recommendation system, as explained in the paper [\"Wide & Deep Learning for Recommender Systems\"](https://arxiv.org/abs/1606.07792), combines embeddings with both cross-product and neural network approaches. This hybrid system achieves state-of-the-art performance."
      ],
      "metadata": {
        "id": "0cn_b-ZNZ5PW"
      }
    },
    {
      "cell_type": "markdown",
      "source": [
        "> Deep learning also works very well for collaborative filtering. But it is not\n",
        " always the best starting point for analyzing tabular data."
      ],
      "metadata": {
        "id": "NUnYLMqLao1w"
      }
    },
    {
      "cell_type": "markdown",
      "source": [
        "### **2. Beyond Deep Learning**"
      ],
      "metadata": {
        "id": "5nmtpPZBbOa-"
      }
    },
    {
      "cell_type": "markdown",
      "source": [
        "Modern machine learning can largely be summarized into two highly effective approaches:\n",
        "\n",
        "1. **Ensembles of Decision Trees**\n",
        "   - Examples: Random forests, Gradient Boosting Machines (e.g., XGBoost, LightGBM, CatBoost).\n",
        "   - Best suited for structured/tabular data (e.g., datasets from database tables).\n",
        "   - Advantages:\n",
        "     - Faster training.\n",
        "     - Easier to interpret.\n",
        "     - No need for specialized GPU hardware.\n",
        "     - Mature ecosystem and tooling.\n",
        "     - Requires less hyperparameter tuning.\n",
        "   - Tools for interpretability:\n",
        "     - Identifying important features.\n",
        "     - Understanding feature relationships with the target variable.\n",
        "     - Explaining predictions for specific observations.\n",
        "\n",
        "2. **Multilayered Neural Networks (Deep Learning)**\n",
        "   - Examples: CNNs, RNNs, Transformers.\n",
        "   - Best suited for unstructured data (e.g., images, audio, text).\n",
        "   - Nearly always superior for unstructured data but may overlap with tree-based models for structured data.\n",
        "\n",
        "> **Guideline:** Start with decision tree ensembles for structured data unless high-cardinality categorical variables or unstructured data are present.\n",
        "\n",
        "---"
      ],
      "metadata": {
        "id": "wc4RrMnJcKV_"
      }
    },
    {
      "cell_type": "markdown",
      "source": [
        "#### A. Dataset for Demonstration: *Blue Book for Bulldozers*"
      ],
      "metadata": {
        "id": "EEoAKwdQcmAg"
      }
    },
    {
      "cell_type": "markdown",
      "source": [
        "**Problem:** Predict the auction sale price of heavy equipment based on features like usage, equipment type, and configuration.\n",
        "\n",
        "**Source:** Supposed to be Kaggle competetion 💀"
      ],
      "metadata": {
        "id": "ZvhJaXK3dzoe"
      }
    },
    {
      "cell_type": "markdown",
      "source": [
        "> **Problem I faced:** \\\n",
        "> So, the competition was over a long time ago. Now there's no other way than downloading those data manually, uploading in drive and accessing them."
      ],
      "metadata": {
        "id": "LFxCTyjZAHcd"
      }
    },
    {
      "cell_type": "code",
      "source": [
        "from google.colab import drive\n",
        "drive.mount('/content/drive')"
      ],
      "metadata": {
        "id": "swvtoZcYH5rv",
        "outputId": "cc857154-e2dc-4ad8-b6a9-77eb9a1eeeae",
        "colab": {
          "base_uri": "https://localhost:8080/"
        }
      },
      "execution_count": 96,
      "outputs": [
        {
          "output_type": "stream",
          "name": "stdout",
          "text": [
            "Drive already mounted at /content/drive; to attempt to forcibly remount, call drive.mount(\"/content/drive\", force_remount=True).\n"
          ]
        }
      ]
    },
    {
      "cell_type": "code",
      "source": [
        "!ls /content/drive/MyDrive"
      ],
      "metadata": {
        "id": "BWyLV_xZH7r0",
        "colab": {
          "base_uri": "https://localhost:8080/"
        },
        "outputId": "aed4ecca-de97-45a0-a97c-fc82fbc327cd"
      },
      "execution_count": 97,
      "outputs": [
        {
          "output_type": "stream",
          "name": "stdout",
          "text": [
            "'100 Days of Code The Complete Python Pro Bootcamp for 2023'\n",
            "'100 Days of Code The Complete Python Pro Bootcamp for 2023 (1)'\n",
            "'2nd Sem Books'\n",
            "'4th Semester Books'\n",
            " 80386\n",
            " 8085\n",
            "'Assignment 1 (31 Jul 2023 at 05:39).jpg'\n",
            " bluebook-for-bulldozers.zip\n",
            "'CA lab '\n",
            " Classroom\n",
            "'Colab Notebooks'\n",
            "'CSIT practical files + Study Materials'\n",
            " dataset\n",
            " Discrete-Formulas.pdf\n",
            " extracted_data\n",
            "'indexpage (1).gdoc'\n",
            "'Input_ Output Interfaces - Microprocessor - Hamro CSIT.pdf'\n",
            "'Introduction to Information Technology Note.pdf'\n",
            " Maths.pdf\n",
            "'Microprocessor Slides '\n",
            "'MIT_BIH dataset compiled'\n",
            "'ML_ Books'\n",
            " Ms_VISIO\n",
            "'Numerical Methods KEC.pdf'\n",
            "'Online Briefing Session IdeaX_2024.mp4'\n",
            "'Pendrive ma vako files of CPP '\n",
            "'Phyics Old is Gold.pdf'\n",
            "'Science class 10 .pdf'\n",
            "'stat book.pdf'\n",
            "'Unit 1 OOP.gslides'\n",
            "'unit-2 [Autosaved].gdoc'\n"
          ]
        }
      ]
    },
    {
      "cell_type": "code",
      "source": [
        "!cp \"/content/drive/MyDrive/bluebook-for-bulldozers.zip\" /content/"
      ],
      "metadata": {
        "id": "QEEW6w0fI8Ec"
      },
      "execution_count": 98,
      "outputs": []
    },
    {
      "cell_type": "code",
      "source": [
        "#@ Extracting the zip file\n",
        "\n",
        "zip_path = \"/content/bluebook-for-bulldozers.zip\"\n",
        "extract_path = \"/content/dataset\"\n",
        "with zipfile.ZipFile(zip_path, 'r') as zip_ref:\n",
        "    zip_ref.extractall(extract_path)"
      ],
      "metadata": {
        "id": "p0jwmaIuJZv0"
      },
      "execution_count": 99,
      "outputs": []
    },
    {
      "cell_type": "code",
      "source": [
        "data_path = \"/content/dataset/bluebook-for-bulldozers/TrainAndValid/TrainAndValid.csv\"\n",
        "test_path = \"/content/dataset/bluebook-for-bulldozers/Test.csv\"\n",
        "\n",
        "#@ Loading  the dataset\n",
        "data_df = pd.read_csv(data_path)\n",
        "test_df = pd.read_csv(test_path)"
      ],
      "metadata": {
        "id": "B_L8q5IgJ2AD",
        "outputId": "c26172a2-dd17-4505-f26e-e1c7e33b2e9d",
        "colab": {
          "base_uri": "https://localhost:8080/"
        }
      },
      "execution_count": 100,
      "outputs": [
        {
          "output_type": "stream",
          "name": "stderr",
          "text": [
            "<ipython-input-100-8e1d2fd8cf28>:5: DtypeWarning: Columns (13,39,40,41) have mixed types. Specify dtype option on import or set low_memory=False.\n",
            "  data_df = pd.read_csv(data_path)\n"
          ]
        }
      ]
    },
    {
      "cell_type": "code",
      "source": [
        "data_df.columns"
      ],
      "metadata": {
        "id": "ZY8t0zx9KixL",
        "outputId": "cb473040-734c-49b0-cee5-a198875baea1",
        "colab": {
          "base_uri": "https://localhost:8080/"
        }
      },
      "execution_count": 101,
      "outputs": [
        {
          "output_type": "execute_result",
          "data": {
            "text/plain": [
              "Index(['SalesID', 'SalePrice', 'MachineID', 'ModelID', 'datasource',\n",
              "       'auctioneerID', 'YearMade', 'MachineHoursCurrentMeter', 'UsageBand',\n",
              "       'saledate', 'fiModelDesc', 'fiBaseModel', 'fiSecondaryDesc',\n",
              "       'fiModelSeries', 'fiModelDescriptor', 'ProductSize',\n",
              "       'fiProductClassDesc', 'state', 'ProductGroup', 'ProductGroupDesc',\n",
              "       'Drive_System', 'Enclosure', 'Forks', 'Pad_Type', 'Ride_Control',\n",
              "       'Stick', 'Transmission', 'Turbocharged', 'Blade_Extension',\n",
              "       'Blade_Width', 'Enclosure_Type', 'Engine_Horsepower', 'Hydraulics',\n",
              "       'Pushblock', 'Ripper', 'Scarifier', 'Tip_Control', 'Tire_Size',\n",
              "       'Coupler', 'Coupler_System', 'Grouser_Tracks', 'Hydraulics_Flow',\n",
              "       'Track_Type', 'Undercarriage_Pad_Width', 'Stick_Length', 'Thumb',\n",
              "       'Pattern_Changer', 'Grouser_Type', 'Backhoe_Mounting', 'Blade_Type',\n",
              "       'Travel_Controls', 'Differential_Type', 'Steering_Controls'],\n",
              "      dtype='object')"
            ]
          },
          "metadata": {},
          "execution_count": 101
        }
      ]
    },
    {
      "cell_type": "code",
      "source": [
        "#@ Handling the ordinal columns\n",
        "\n",
        "data_df['ProductSize'].unique()"
      ],
      "metadata": {
        "id": "n3Xr9Mlo8ULp",
        "outputId": "4eec48fd-4753-41aa-bf8f-e67da5c055c0",
        "colab": {
          "base_uri": "https://localhost:8080/"
        }
      },
      "execution_count": 102,
      "outputs": [
        {
          "output_type": "execute_result",
          "data": {
            "text/plain": [
              "array([nan, 'Medium', 'Small', 'Large / Medium', 'Mini', 'Large', 'Compact'], dtype=object)"
            ]
          },
          "metadata": {},
          "execution_count": 102
        }
      ]
    },
    {
      "cell_type": "code",
      "source": [
        "##! Ordering\n",
        "\n",
        "sizes= 'Large', 'Large / Medium', 'Medium', 'Small', 'Mini', 'Compact'\n",
        "\n",
        "data_df['ProductSize'] = data_df['ProductSize'].astype('category')\n",
        "data_df['ProductSize'].cat.set_categories(sizes, ordered= True)"
      ],
      "metadata": {
        "id": "Q3a0BjDS8ebI",
        "outputId": "b4e0add6-9671-4150-b5cd-b361b9879da4",
        "colab": {
          "base_uri": "https://localhost:8080/",
          "height": 458
        }
      },
      "execution_count": 103,
      "outputs": [
        {
          "output_type": "execute_result",
          "data": {
            "text/plain": [
              "0            NaN\n",
              "1         Medium\n",
              "2            NaN\n",
              "3          Small\n",
              "4            NaN\n",
              "           ...  \n",
              "412693      Mini\n",
              "412694      Mini\n",
              "412695      Mini\n",
              "412696      Mini\n",
              "412697      Mini\n",
              "Name: ProductSize, Length: 412698, dtype: category\n",
              "Categories (6, object): ['Large' < 'Large / Medium' < 'Medium' < 'Small' < 'Mini' < 'Compact']"
            ],
            "text/html": [
              "<div>\n",
              "<style scoped>\n",
              "    .dataframe tbody tr th:only-of-type {\n",
              "        vertical-align: middle;\n",
              "    }\n",
              "\n",
              "    .dataframe tbody tr th {\n",
              "        vertical-align: top;\n",
              "    }\n",
              "\n",
              "    .dataframe thead th {\n",
              "        text-align: right;\n",
              "    }\n",
              "</style>\n",
              "<table border=\"1\" class=\"dataframe\">\n",
              "  <thead>\n",
              "    <tr style=\"text-align: right;\">\n",
              "      <th></th>\n",
              "      <th>ProductSize</th>\n",
              "    </tr>\n",
              "  </thead>\n",
              "  <tbody>\n",
              "    <tr>\n",
              "      <th>0</th>\n",
              "      <td>NaN</td>\n",
              "    </tr>\n",
              "    <tr>\n",
              "      <th>1</th>\n",
              "      <td>Medium</td>\n",
              "    </tr>\n",
              "    <tr>\n",
              "      <th>2</th>\n",
              "      <td>NaN</td>\n",
              "    </tr>\n",
              "    <tr>\n",
              "      <th>3</th>\n",
              "      <td>Small</td>\n",
              "    </tr>\n",
              "    <tr>\n",
              "      <th>4</th>\n",
              "      <td>NaN</td>\n",
              "    </tr>\n",
              "    <tr>\n",
              "      <th>...</th>\n",
              "      <td>...</td>\n",
              "    </tr>\n",
              "    <tr>\n",
              "      <th>412693</th>\n",
              "      <td>Mini</td>\n",
              "    </tr>\n",
              "    <tr>\n",
              "      <th>412694</th>\n",
              "      <td>Mini</td>\n",
              "    </tr>\n",
              "    <tr>\n",
              "      <th>412695</th>\n",
              "      <td>Mini</td>\n",
              "    </tr>\n",
              "    <tr>\n",
              "      <th>412696</th>\n",
              "      <td>Mini</td>\n",
              "    </tr>\n",
              "    <tr>\n",
              "      <th>412697</th>\n",
              "      <td>Mini</td>\n",
              "    </tr>\n",
              "  </tbody>\n",
              "</table>\n",
              "<p>412698 rows × 1 columns</p>\n",
              "</div><br><label><b>dtype:</b> category</label>"
            ]
          },
          "metadata": {},
          "execution_count": 103
        }
      ]
    },
    {
      "cell_type": "code",
      "source": [
        "#@ Calculating the RMLSE:\n",
        "\n",
        "dep_var = 'SalePrice'  #dependent variable\n",
        "data_df[dep_var] = np.log(data_df[dep_var])"
      ],
      "metadata": {
        "id": "hbg9Sxq4-9Aw"
      },
      "execution_count": 104,
      "outputs": []
    },
    {
      "cell_type": "markdown",
      "source": [
        "---\n",
        "#### B. Decision Trees"
      ],
      "metadata": {
        "id": "j8unuT_SAly3"
      }
    },
    {
      "cell_type": "markdown",
      "source": [
        "##### B1. Understanding Decision Tress\n"
      ],
      "metadata": {
        "id": "mZ6DB-pNA1Pn"
      }
    },
    {
      "cell_type": "markdown",
      "source": [
        "A decision tree consists of a sequence of binary questions that split data into distinct branches. Each split is based on a condition related to the features in the dataset. For instance, a tree can ask questions like \"Is Feature A > Threshold?\" and split the data accordingly. The goal is to keep splitting until we can make accurate predictions for each group."
      ],
      "metadata": {
        "id": "DMgx7_uvB1FP"
      }
    },
    {
      "cell_type": "markdown",
      "source": [
        "##### B2. Steps To Train a Decision Tree"
      ],
      "metadata": {
        "id": "Is9f0aaEB313"
      }
    },
    {
      "cell_type": "markdown",
      "source": [
        "  1. Loop through each column of the dataset.\n",
        "  2. For each column, evaluate all possible thresholds for splitting.\n",
        "  3. Split data into two groups based on the threshold.\n",
        "  4. Calculate predictions using the average target value in each group.\n",
        "  5. Find the best split that minimizes prediction error.\n",
        "  6. Recursively repeat the process for the resulting groups until a stopping criterion (e.g., minimum group size) is met.\n",
        "\n",
        "---"
      ],
      "metadata": {
        "id": "PGil2Jy3CBS3"
      }
    },
    {
      "cell_type": "markdown",
      "source": [
        "#### C. Handling Dates"
      ],
      "metadata": {
        "id": "YNbEtXQMCFIA"
      }
    },
    {
      "cell_type": "markdown",
      "source": [
        "Dates need to be expanded into meaningful categorical or ordinal features (e.g., day of the week, month). This allows the decision tree to make splits based on these additional features.\n"
      ],
      "metadata": {
        "id": "3dyfJEDoColv"
      }
    },
    {
      "cell_type": "code",
      "source": [
        "'''\n",
        "   fastai's add_datepart() function handles date. So directly using that\n",
        "'''\n",
        "\n",
        "data_df= add_datepart(data_df, 'saledate')\n",
        "test_df = add_datepart(test_df, 'saledate')\n",
        "\n",
        "\"the above code is only supposed to be run once since it breaks the date to saleYear, saleMonth and so on\""
      ],
      "metadata": {
        "id": "mHtWc9zGCtCf",
        "outputId": "3c7affc0-c440-4875-c266-5d3fd0515b3f",
        "colab": {
          "base_uri": "https://localhost:8080/",
          "height": 125
        }
      },
      "execution_count": 109,
      "outputs": [
        {
          "output_type": "stream",
          "name": "stderr",
          "text": [
            "/usr/local/lib/python3.10/dist-packages/fastai/tabular/core.py:25: UserWarning: The argument 'infer_datetime_format' is deprecated and will be removed in a future version. A strict version of it is now the default, see https://pandas.pydata.org/pdeps/0004-consistent-to-datetime-parsing.html. You can safely remove this argument.\n",
            "  df[date_field] = pd.to_datetime(df[date_field], infer_datetime_format=True)\n",
            "/usr/local/lib/python3.10/dist-packages/fastai/tabular/core.py:25: UserWarning: The argument 'infer_datetime_format' is deprecated and will be removed in a future version. A strict version of it is now the default, see https://pandas.pydata.org/pdeps/0004-consistent-to-datetime-parsing.html. You can safely remove this argument.\n",
            "  df[date_field] = pd.to_datetime(df[date_field], infer_datetime_format=True)\n"
          ]
        },
        {
          "output_type": "execute_result",
          "data": {
            "text/plain": [
              "'the above code is only supposed to be run once since it breaks the date to saleYear, saleMonth and so on'"
            ],
            "application/vnd.google.colaboratory.intrinsic+json": {
              "type": "string"
            }
          },
          "metadata": {},
          "execution_count": 109
        }
      ]
    },
    {
      "cell_type": "code",
      "source": [
        "##@ Inspecting the columns which start with word \"sale\"\n",
        "\n",
        "' '.join(o for o in data_df.columns if o.startswith('sale'))"
      ],
      "metadata": {
        "id": "3tEAlfM6DtbI",
        "outputId": "d09c3fd1-a9cc-4a6c-ecd0-201a34730772",
        "colab": {
          "base_uri": "https://localhost:8080/",
          "height": 35
        }
      },
      "execution_count": 110,
      "outputs": [
        {
          "output_type": "execute_result",
          "data": {
            "text/plain": [
              "'saleYear saleMonth saleWeek saleDay saleDayofweek saleDayofyear saleIs_month_end saleIs_month_start saleIs_quarter_end saleIs_quarter_start saleIs_year_end saleIs_year_start saleElapsed'"
            ],
            "application/vnd.google.colaboratory.intrinsic+json": {
              "type": "string"
            }
          },
          "metadata": {},
          "execution_count": 110
        }
      ]
    },
    {
      "cell_type": "markdown",
      "source": [
        "---\n",
        "#### D. Handling Missing Data and Categoricals\n"
      ],
      "metadata": {
        "id": "iRCgb-WoEC3P"
      }
    },
    {
      "cell_type": "markdown",
      "source": [
        "Fastai provides `TabularPandas` and `TabularProcs` for handling tabular data. We use `Categorify` to convert categorical variables into numeric categories and `FillMissing` to handle missing values.\n"
      ],
      "metadata": {
        "id": "FhbU54UkEXEI"
      }
    },
    {
      "cell_type": "code",
      "source": [
        "##@ Defining preprocessing steps\n",
        "procs = [Categorify, FillMissing]"
      ],
      "metadata": {
        "id": "VZyffalrEbYw"
      },
      "execution_count": 111,
      "outputs": []
    },
    {
      "cell_type": "code",
      "source": [
        "#@ Now we split the TrainAndValid\n",
        "\n",
        "cond = (data_df.saleYear<2011) | (data_df.saleMonth<10)\n",
        "train_idx = np.where(cond)[0]\n",
        "valid_idx = np.where(~cond)[0]\n",
        "\n",
        "splits = (list(train_idx), list(valid_idx))"
      ],
      "metadata": {
        "id": "8gcElH9HFexp"
      },
      "execution_count": 112,
      "outputs": []
    },
    {
      "cell_type": "markdown",
      "source": [
        "The `TabularPandas` needs to be told which columns are continuous and which are catego\n",
        "rical. We can handle that automatically using the helper function `cont_cat_split`"
      ],
      "metadata": {
        "id": "l9sLJly1CGRQ"
      }
    },
    {
      "cell_type": "code",
      "source": [
        "cont,cat = cont_cat_split(data_df, max_card=1, dep_var=dep_var)\n",
        "tabular_pandas = TabularPandas(data_df, procs, cat, cont, y_names=dep_var, splits=splits)"
      ],
      "metadata": {
        "colab": {
          "base_uri": "https://localhost:8080/"
        },
        "id": "MpcsXUDGCc-u",
        "outputId": "96194aeb-1f76-42dd-d705-b04dc03e110a"
      },
      "execution_count": 113,
      "outputs": [
        {
          "output_type": "stream",
          "name": "stderr",
          "text": [
            "/usr/local/lib/python3.10/dist-packages/fastai/tabular/core.py:314: FutureWarning: A value is trying to be set on a copy of a DataFrame or Series through chained assignment using an inplace method.\n",
            "The behavior will change in pandas 3.0. This inplace method will never work because the intermediate object on which we are setting values always behaves as a copy.\n",
            "\n",
            "For example, when doing 'df[col].method(value, inplace=True)', try using 'df.method({col: value}, inplace=True)' or df[col] = df[col].method(value) instead, to perform the operation inplace on the original object.\n",
            "\n",
            "\n",
            "  to[n].fillna(self.na_dict[n], inplace=True)\n",
            "/usr/local/lib/python3.10/dist-packages/fastai/tabular/core.py:314: FutureWarning: A value is trying to be set on a copy of a DataFrame or Series through chained assignment using an inplace method.\n",
            "The behavior will change in pandas 3.0. This inplace method will never work because the intermediate object on which we are setting values always behaves as a copy.\n",
            "\n",
            "For example, when doing 'df[col].method(value, inplace=True)', try using 'df.method({col: value}, inplace=True)' or df[col] = df[col].method(value) instead, to perform the operation inplace on the original object.\n",
            "\n",
            "\n",
            "  to[n].fillna(self.na_dict[n], inplace=True)\n"
          ]
        }
      ]
    },
    {
      "cell_type": "code",
      "source": [
        "#@ Lets then test the length of these splits\n",
        "\n",
        "len(tabular_pandas.train), len(tabular_pandas.valid)"
      ],
      "metadata": {
        "colab": {
          "base_uri": "https://localhost:8080/"
        },
        "id": "5kkfZpzhCs7v",
        "outputId": "1cdd030f-623b-4fc6-e593-9edb18564ae0"
      },
      "execution_count": 114,
      "outputs": [
        {
          "output_type": "execute_result",
          "data": {
            "text/plain": [
              "(404710, 7988)"
            ]
          },
          "metadata": {},
          "execution_count": 114
        }
      ]
    },
    {
      "cell_type": "code",
      "source": [
        "##@ Inspecting the tabular pandas object\n",
        "tabular_pandas.show(3)"
      ],
      "metadata": {
        "colab": {
          "base_uri": "https://localhost:8080/",
          "height": 233
        },
        "id": "3M0hpFQuDBnG",
        "outputId": "5a02f656-35b0-4dac-8e3a-532c7aa0c4e1"
      },
      "execution_count": 130,
      "outputs": [
        {
          "output_type": "display_data",
          "data": {
            "text/plain": [
              "<IPython.core.display.HTML object>"
            ],
            "text/html": [
              "<table border=\"1\" class=\"dataframe\">\n",
              "  <thead>\n",
              "    <tr style=\"text-align: right;\">\n",
              "      <th></th>\n",
              "      <th>UsageBand</th>\n",
              "      <th>fiModelDesc</th>\n",
              "      <th>fiBaseModel</th>\n",
              "      <th>fiSecondaryDesc</th>\n",
              "      <th>fiModelSeries</th>\n",
              "      <th>fiModelDescriptor</th>\n",
              "      <th>ProductSize</th>\n",
              "      <th>fiProductClassDesc</th>\n",
              "      <th>state</th>\n",
              "      <th>ProductGroup</th>\n",
              "      <th>ProductGroupDesc</th>\n",
              "      <th>Drive_System</th>\n",
              "      <th>Enclosure</th>\n",
              "      <th>Forks</th>\n",
              "      <th>Pad_Type</th>\n",
              "      <th>Ride_Control</th>\n",
              "      <th>Stick</th>\n",
              "      <th>Transmission</th>\n",
              "      <th>Turbocharged</th>\n",
              "      <th>Blade_Extension</th>\n",
              "      <th>Blade_Width</th>\n",
              "      <th>Enclosure_Type</th>\n",
              "      <th>Engine_Horsepower</th>\n",
              "      <th>Hydraulics</th>\n",
              "      <th>Pushblock</th>\n",
              "      <th>Ripper</th>\n",
              "      <th>Scarifier</th>\n",
              "      <th>Tip_Control</th>\n",
              "      <th>Tire_Size</th>\n",
              "      <th>Coupler</th>\n",
              "      <th>Coupler_System</th>\n",
              "      <th>Grouser_Tracks</th>\n",
              "      <th>Hydraulics_Flow</th>\n",
              "      <th>Track_Type</th>\n",
              "      <th>Undercarriage_Pad_Width</th>\n",
              "      <th>Stick_Length</th>\n",
              "      <th>Thumb</th>\n",
              "      <th>Pattern_Changer</th>\n",
              "      <th>Grouser_Type</th>\n",
              "      <th>Backhoe_Mounting</th>\n",
              "      <th>Blade_Type</th>\n",
              "      <th>Travel_Controls</th>\n",
              "      <th>Differential_Type</th>\n",
              "      <th>Steering_Controls</th>\n",
              "      <th>saleIs_month_end</th>\n",
              "      <th>saleIs_month_start</th>\n",
              "      <th>saleIs_quarter_end</th>\n",
              "      <th>saleIs_quarter_start</th>\n",
              "      <th>saleIs_year_end</th>\n",
              "      <th>saleIs_year_start</th>\n",
              "      <th>auctioneerID_na</th>\n",
              "      <th>MachineHoursCurrentMeter_na</th>\n",
              "      <th>SalesID</th>\n",
              "      <th>MachineID</th>\n",
              "      <th>ModelID</th>\n",
              "      <th>datasource</th>\n",
              "      <th>auctioneerID</th>\n",
              "      <th>YearMade</th>\n",
              "      <th>MachineHoursCurrentMeter</th>\n",
              "      <th>saleYear</th>\n",
              "      <th>saleMonth</th>\n",
              "      <th>saleWeek</th>\n",
              "      <th>saleDay</th>\n",
              "      <th>saleDayofweek</th>\n",
              "      <th>saleDayofyear</th>\n",
              "      <th>saleElapsed</th>\n",
              "      <th>SalePrice</th>\n",
              "    </tr>\n",
              "  </thead>\n",
              "  <tbody>\n",
              "    <tr>\n",
              "      <th>0</th>\n",
              "      <td>Low</td>\n",
              "      <td>521D</td>\n",
              "      <td>521</td>\n",
              "      <td>D</td>\n",
              "      <td>#na#</td>\n",
              "      <td>#na#</td>\n",
              "      <td>#na#</td>\n",
              "      <td>Wheel Loader - 110.0 to 120.0 Horsepower</td>\n",
              "      <td>Alabama</td>\n",
              "      <td>WL</td>\n",
              "      <td>Wheel Loader</td>\n",
              "      <td>#na#</td>\n",
              "      <td>EROPS w AC</td>\n",
              "      <td>None or Unspecified</td>\n",
              "      <td>#na#</td>\n",
              "      <td>None or Unspecified</td>\n",
              "      <td>#na#</td>\n",
              "      <td>#na#</td>\n",
              "      <td>#na#</td>\n",
              "      <td>#na#</td>\n",
              "      <td>#na#</td>\n",
              "      <td>#na#</td>\n",
              "      <td>#na#</td>\n",
              "      <td>2 Valve</td>\n",
              "      <td>#na#</td>\n",
              "      <td>#na#</td>\n",
              "      <td>#na#</td>\n",
              "      <td>#na#</td>\n",
              "      <td>None or Unspecified</td>\n",
              "      <td>None or Unspecified</td>\n",
              "      <td>#na#</td>\n",
              "      <td>#na#</td>\n",
              "      <td>#na#</td>\n",
              "      <td>#na#</td>\n",
              "      <td>#na#</td>\n",
              "      <td>#na#</td>\n",
              "      <td>#na#</td>\n",
              "      <td>#na#</td>\n",
              "      <td>#na#</td>\n",
              "      <td>#na#</td>\n",
              "      <td>#na#</td>\n",
              "      <td>#na#</td>\n",
              "      <td>Standard</td>\n",
              "      <td>Conventional</td>\n",
              "      <td>False</td>\n",
              "      <td>False</td>\n",
              "      <td>False</td>\n",
              "      <td>False</td>\n",
              "      <td>False</td>\n",
              "      <td>False</td>\n",
              "      <td>False</td>\n",
              "      <td>False</td>\n",
              "      <td>1139246</td>\n",
              "      <td>999089</td>\n",
              "      <td>3157</td>\n",
              "      <td>121</td>\n",
              "      <td>3.0</td>\n",
              "      <td>2004</td>\n",
              "      <td>68.0</td>\n",
              "      <td>2006</td>\n",
              "      <td>11</td>\n",
              "      <td>46</td>\n",
              "      <td>16</td>\n",
              "      <td>3</td>\n",
              "      <td>320</td>\n",
              "      <td>1.163635e+09</td>\n",
              "      <td>11.097410</td>\n",
              "    </tr>\n",
              "    <tr>\n",
              "      <th>1</th>\n",
              "      <td>Low</td>\n",
              "      <td>950FII</td>\n",
              "      <td>950</td>\n",
              "      <td>F</td>\n",
              "      <td>II</td>\n",
              "      <td>#na#</td>\n",
              "      <td>Medium</td>\n",
              "      <td>Wheel Loader - 150.0 to 175.0 Horsepower</td>\n",
              "      <td>North Carolina</td>\n",
              "      <td>WL</td>\n",
              "      <td>Wheel Loader</td>\n",
              "      <td>#na#</td>\n",
              "      <td>EROPS w AC</td>\n",
              "      <td>None or Unspecified</td>\n",
              "      <td>#na#</td>\n",
              "      <td>None or Unspecified</td>\n",
              "      <td>#na#</td>\n",
              "      <td>#na#</td>\n",
              "      <td>#na#</td>\n",
              "      <td>#na#</td>\n",
              "      <td>#na#</td>\n",
              "      <td>#na#</td>\n",
              "      <td>#na#</td>\n",
              "      <td>2 Valve</td>\n",
              "      <td>#na#</td>\n",
              "      <td>#na#</td>\n",
              "      <td>#na#</td>\n",
              "      <td>#na#</td>\n",
              "      <td>23.5</td>\n",
              "      <td>None or Unspecified</td>\n",
              "      <td>#na#</td>\n",
              "      <td>#na#</td>\n",
              "      <td>#na#</td>\n",
              "      <td>#na#</td>\n",
              "      <td>#na#</td>\n",
              "      <td>#na#</td>\n",
              "      <td>#na#</td>\n",
              "      <td>#na#</td>\n",
              "      <td>#na#</td>\n",
              "      <td>#na#</td>\n",
              "      <td>#na#</td>\n",
              "      <td>#na#</td>\n",
              "      <td>Standard</td>\n",
              "      <td>Conventional</td>\n",
              "      <td>False</td>\n",
              "      <td>False</td>\n",
              "      <td>False</td>\n",
              "      <td>False</td>\n",
              "      <td>False</td>\n",
              "      <td>False</td>\n",
              "      <td>False</td>\n",
              "      <td>False</td>\n",
              "      <td>1139248</td>\n",
              "      <td>117657</td>\n",
              "      <td>77</td>\n",
              "      <td>121</td>\n",
              "      <td>3.0</td>\n",
              "      <td>1996</td>\n",
              "      <td>4640.0</td>\n",
              "      <td>2004</td>\n",
              "      <td>3</td>\n",
              "      <td>13</td>\n",
              "      <td>26</td>\n",
              "      <td>4</td>\n",
              "      <td>86</td>\n",
              "      <td>1.080259e+09</td>\n",
              "      <td>10.950807</td>\n",
              "    </tr>\n",
              "    <tr>\n",
              "      <th>2</th>\n",
              "      <td>High</td>\n",
              "      <td>226</td>\n",
              "      <td>226</td>\n",
              "      <td>#na#</td>\n",
              "      <td>#na#</td>\n",
              "      <td>#na#</td>\n",
              "      <td>#na#</td>\n",
              "      <td>Skid Steer Loader - 1351.0 to 1601.0 Lb Operating Capacity</td>\n",
              "      <td>New York</td>\n",
              "      <td>SSL</td>\n",
              "      <td>Skid Steer Loaders</td>\n",
              "      <td>#na#</td>\n",
              "      <td>OROPS</td>\n",
              "      <td>None or Unspecified</td>\n",
              "      <td>#na#</td>\n",
              "      <td>#na#</td>\n",
              "      <td>#na#</td>\n",
              "      <td>#na#</td>\n",
              "      <td>#na#</td>\n",
              "      <td>#na#</td>\n",
              "      <td>#na#</td>\n",
              "      <td>#na#</td>\n",
              "      <td>#na#</td>\n",
              "      <td>Auxiliary</td>\n",
              "      <td>#na#</td>\n",
              "      <td>#na#</td>\n",
              "      <td>#na#</td>\n",
              "      <td>#na#</td>\n",
              "      <td>#na#</td>\n",
              "      <td>None or Unspecified</td>\n",
              "      <td>None or Unspecified</td>\n",
              "      <td>None or Unspecified</td>\n",
              "      <td>Standard</td>\n",
              "      <td>#na#</td>\n",
              "      <td>#na#</td>\n",
              "      <td>#na#</td>\n",
              "      <td>#na#</td>\n",
              "      <td>#na#</td>\n",
              "      <td>#na#</td>\n",
              "      <td>#na#</td>\n",
              "      <td>#na#</td>\n",
              "      <td>#na#</td>\n",
              "      <td>#na#</td>\n",
              "      <td>#na#</td>\n",
              "      <td>False</td>\n",
              "      <td>False</td>\n",
              "      <td>False</td>\n",
              "      <td>False</td>\n",
              "      <td>False</td>\n",
              "      <td>False</td>\n",
              "      <td>False</td>\n",
              "      <td>False</td>\n",
              "      <td>1139249</td>\n",
              "      <td>434808</td>\n",
              "      <td>7009</td>\n",
              "      <td>121</td>\n",
              "      <td>3.0</td>\n",
              "      <td>2001</td>\n",
              "      <td>2838.0</td>\n",
              "      <td>2004</td>\n",
              "      <td>2</td>\n",
              "      <td>9</td>\n",
              "      <td>26</td>\n",
              "      <td>3</td>\n",
              "      <td>57</td>\n",
              "      <td>1.077754e+09</td>\n",
              "      <td>9.210340</td>\n",
              "    </tr>\n",
              "  </tbody>\n",
              "</table>"
            ]
          },
          "metadata": {}
        }
      ]
    },
    {
      "cell_type": "code",
      "source": [
        "##@ Inspecting  the tabular pandas object\n",
        "tabular_pandas.items.head(3)"
      ],
      "metadata": {
        "id": "NRiZ9ZDfDUl9"
      },
      "execution_count": null,
      "outputs": []
    },
    {
      "cell_type": "code",
      "source": [
        "##@ Saving the processed data so that we dont have to rerun everytime\n",
        "\n",
        "save_pickle('/content/dataset/tabular_pandas.pkl', tabular_pandas)"
      ],
      "metadata": {
        "id": "6ahVvDHeEKYO"
      },
      "execution_count": 117,
      "outputs": []
    },
    {
      "cell_type": "code",
      "source": [
        "#@ Loading\n",
        "\n",
        "tabular_pandas = load_pickle('/content/dataset/tabular_pandas.pkl')"
      ],
      "metadata": {
        "id": "9BTZ8ol1H1jC"
      },
      "execution_count": 119,
      "outputs": []
    },
    {
      "cell_type": "markdown",
      "source": [
        "#### E. Creating Decision Trees"
      ],
      "metadata": {
        "id": "KwtTH54pIfLR"
      }
    },
    {
      "cell_type": "code",
      "source": [
        "#@ First we define the independent and dependent variables\n",
        "\n",
        "xs, y = tabular_pandas.train.xs, tabular_pandas.train.y\n",
        "valid_xs, valid_y = tabular_pandas.valid.xs, tabular_pandas.valid.y"
      ],
      "metadata": {
        "id": "Huw5l84tImQg"
      },
      "execution_count": 131,
      "outputs": []
    },
    {
      "cell_type": "code",
      "source": [
        "y"
      ],
      "metadata": {
        "id": "RuY7dqsNNAQs",
        "outputId": "242fa85f-fe2b-41b8-ac34-0e0a1719c004",
        "colab": {
          "base_uri": "https://localhost:8080/",
          "height": 458
        }
      },
      "execution_count": 132,
      "outputs": [
        {
          "output_type": "execute_result",
          "data": {
            "text/plain": [
              "0         11.097410\n",
              "1         10.950807\n",
              "2          9.210340\n",
              "3         10.558414\n",
              "4          9.305651\n",
              "            ...    \n",
              "412693          NaN\n",
              "412694          NaN\n",
              "412695          NaN\n",
              "412696          NaN\n",
              "412697          NaN\n",
              "Name: SalePrice, Length: 404710, dtype: float32"
            ],
            "text/html": [
              "<div>\n",
              "<style scoped>\n",
              "    .dataframe tbody tr th:only-of-type {\n",
              "        vertical-align: middle;\n",
              "    }\n",
              "\n",
              "    .dataframe tbody tr th {\n",
              "        vertical-align: top;\n",
              "    }\n",
              "\n",
              "    .dataframe thead th {\n",
              "        text-align: right;\n",
              "    }\n",
              "</style>\n",
              "<table border=\"1\" class=\"dataframe\">\n",
              "  <thead>\n",
              "    <tr style=\"text-align: right;\">\n",
              "      <th></th>\n",
              "      <th>SalePrice</th>\n",
              "    </tr>\n",
              "  </thead>\n",
              "  <tbody>\n",
              "    <tr>\n",
              "      <th>0</th>\n",
              "      <td>11.097410</td>\n",
              "    </tr>\n",
              "    <tr>\n",
              "      <th>1</th>\n",
              "      <td>10.950807</td>\n",
              "    </tr>\n",
              "    <tr>\n",
              "      <th>2</th>\n",
              "      <td>9.210340</td>\n",
              "    </tr>\n",
              "    <tr>\n",
              "      <th>3</th>\n",
              "      <td>10.558414</td>\n",
              "    </tr>\n",
              "    <tr>\n",
              "      <th>4</th>\n",
              "      <td>9.305651</td>\n",
              "    </tr>\n",
              "    <tr>\n",
              "      <th>...</th>\n",
              "      <td>...</td>\n",
              "    </tr>\n",
              "    <tr>\n",
              "      <th>412693</th>\n",
              "      <td>NaN</td>\n",
              "    </tr>\n",
              "    <tr>\n",
              "      <th>412694</th>\n",
              "      <td>NaN</td>\n",
              "    </tr>\n",
              "    <tr>\n",
              "      <th>412695</th>\n",
              "      <td>NaN</td>\n",
              "    </tr>\n",
              "    <tr>\n",
              "      <th>412696</th>\n",
              "      <td>NaN</td>\n",
              "    </tr>\n",
              "    <tr>\n",
              "      <th>412697</th>\n",
              "      <td>NaN</td>\n",
              "    </tr>\n",
              "  </tbody>\n",
              "</table>\n",
              "<p>404710 rows × 1 columns</p>\n",
              "</div><br><label><b>dtype:</b> float32</label>"
            ]
          },
          "metadata": {},
          "execution_count": 132
        }
      ]
    },
    {
      "cell_type": "markdown",
      "source": [
        "Now that our data is all numeric, and there are no missing values, we can create the decision tree"
      ],
      "metadata": {
        "id": "HkyRXRaWI9iy"
      }
    },
    {
      "cell_type": "code",
      "source": [
        "m = DecisionTreeRegressor(max_leaf_nodes =4)\n",
        "m.fit(xs, y)"
      ],
      "metadata": {
        "colab": {
          "base_uri": "https://localhost:8080/",
          "height": 304
        },
        "id": "83msVlaRJNAH",
        "outputId": "b53e115b-0e51-4ab3-c3b5-a98a82cbe8b8"
      },
      "execution_count": 122,
      "outputs": [
        {
          "output_type": "error",
          "ename": "ValueError",
          "evalue": "Input y contains NaN.",
          "traceback": [
            "\u001b[0;31m---------------------------------------------------------------------------\u001b[0m",
            "\u001b[0;31mValueError\u001b[0m                                Traceback (most recent call last)",
            "\u001b[0;32m<ipython-input-122-0fde127799f1>\u001b[0m in \u001b[0;36m<cell line: 2>\u001b[0;34m()\u001b[0m\n\u001b[1;32m      1\u001b[0m \u001b[0mm\u001b[0m \u001b[0;34m=\u001b[0m \u001b[0mDecisionTreeRegressor\u001b[0m\u001b[0;34m(\u001b[0m\u001b[0mmax_leaf_nodes\u001b[0m \u001b[0;34m=\u001b[0m\u001b[0;36m4\u001b[0m\u001b[0;34m)\u001b[0m\u001b[0;34m\u001b[0m\u001b[0;34m\u001b[0m\u001b[0m\n\u001b[0;32m----> 2\u001b[0;31m \u001b[0mm\u001b[0m\u001b[0;34m.\u001b[0m\u001b[0mfit\u001b[0m\u001b[0;34m(\u001b[0m\u001b[0mxs\u001b[0m\u001b[0;34m,\u001b[0m \u001b[0my\u001b[0m\u001b[0;34m)\u001b[0m\u001b[0;34m\u001b[0m\u001b[0;34m\u001b[0m\u001b[0m\n\u001b[0m",
            "\u001b[0;32m/usr/local/lib/python3.10/dist-packages/sklearn/base.py\u001b[0m in \u001b[0;36mwrapper\u001b[0;34m(estimator, *args, **kwargs)\u001b[0m\n\u001b[1;32m   1471\u001b[0m                 )\n\u001b[1;32m   1472\u001b[0m             ):\n\u001b[0;32m-> 1473\u001b[0;31m                 \u001b[0;32mreturn\u001b[0m \u001b[0mfit_method\u001b[0m\u001b[0;34m(\u001b[0m\u001b[0mestimator\u001b[0m\u001b[0;34m,\u001b[0m \u001b[0;34m*\u001b[0m\u001b[0margs\u001b[0m\u001b[0;34m,\u001b[0m \u001b[0;34m**\u001b[0m\u001b[0mkwargs\u001b[0m\u001b[0;34m)\u001b[0m\u001b[0;34m\u001b[0m\u001b[0;34m\u001b[0m\u001b[0m\n\u001b[0m\u001b[1;32m   1474\u001b[0m \u001b[0;34m\u001b[0m\u001b[0m\n\u001b[1;32m   1475\u001b[0m         \u001b[0;32mreturn\u001b[0m \u001b[0mwrapper\u001b[0m\u001b[0;34m\u001b[0m\u001b[0;34m\u001b[0m\u001b[0m\n",
            "\u001b[0;32m/usr/local/lib/python3.10/dist-packages/sklearn/tree/_classes.py\u001b[0m in \u001b[0;36mfit\u001b[0;34m(self, X, y, sample_weight, check_input)\u001b[0m\n\u001b[1;32m   1375\u001b[0m         \"\"\"\n\u001b[1;32m   1376\u001b[0m \u001b[0;34m\u001b[0m\u001b[0m\n\u001b[0;32m-> 1377\u001b[0;31m         super()._fit(\n\u001b[0m\u001b[1;32m   1378\u001b[0m             \u001b[0mX\u001b[0m\u001b[0;34m,\u001b[0m\u001b[0;34m\u001b[0m\u001b[0;34m\u001b[0m\u001b[0m\n\u001b[1;32m   1379\u001b[0m             \u001b[0my\u001b[0m\u001b[0;34m,\u001b[0m\u001b[0;34m\u001b[0m\u001b[0;34m\u001b[0m\u001b[0m\n",
            "\u001b[0;32m/usr/local/lib/python3.10/dist-packages/sklearn/tree/_classes.py\u001b[0m in \u001b[0;36m_fit\u001b[0;34m(self, X, y, sample_weight, check_input, missing_values_in_feature_mask)\u001b[0m\n\u001b[1;32m    250\u001b[0m             )\n\u001b[1;32m    251\u001b[0m             \u001b[0mcheck_y_params\u001b[0m \u001b[0;34m=\u001b[0m \u001b[0mdict\u001b[0m\u001b[0;34m(\u001b[0m\u001b[0mensure_2d\u001b[0m\u001b[0;34m=\u001b[0m\u001b[0;32mFalse\u001b[0m\u001b[0;34m,\u001b[0m \u001b[0mdtype\u001b[0m\u001b[0;34m=\u001b[0m\u001b[0;32mNone\u001b[0m\u001b[0;34m)\u001b[0m\u001b[0;34m\u001b[0m\u001b[0;34m\u001b[0m\u001b[0m\n\u001b[0;32m--> 252\u001b[0;31m             X, y = self._validate_data(\n\u001b[0m\u001b[1;32m    253\u001b[0m                 \u001b[0mX\u001b[0m\u001b[0;34m,\u001b[0m \u001b[0my\u001b[0m\u001b[0;34m,\u001b[0m \u001b[0mvalidate_separately\u001b[0m\u001b[0;34m=\u001b[0m\u001b[0;34m(\u001b[0m\u001b[0mcheck_X_params\u001b[0m\u001b[0;34m,\u001b[0m \u001b[0mcheck_y_params\u001b[0m\u001b[0;34m)\u001b[0m\u001b[0;34m\u001b[0m\u001b[0;34m\u001b[0m\u001b[0m\n\u001b[1;32m    254\u001b[0m             )\n",
            "\u001b[0;32m/usr/local/lib/python3.10/dist-packages/sklearn/base.py\u001b[0m in \u001b[0;36m_validate_data\u001b[0;34m(self, X, y, reset, validate_separately, cast_to_ndarray, **check_params)\u001b[0m\n\u001b[1;32m    646\u001b[0m                 \u001b[0;32mif\u001b[0m \u001b[0;34m\"estimator\"\u001b[0m \u001b[0;32mnot\u001b[0m \u001b[0;32min\u001b[0m \u001b[0mcheck_y_params\u001b[0m\u001b[0;34m:\u001b[0m\u001b[0;34m\u001b[0m\u001b[0;34m\u001b[0m\u001b[0m\n\u001b[1;32m    647\u001b[0m                     \u001b[0mcheck_y_params\u001b[0m \u001b[0;34m=\u001b[0m \u001b[0;34m{\u001b[0m\u001b[0;34m**\u001b[0m\u001b[0mdefault_check_params\u001b[0m\u001b[0;34m,\u001b[0m \u001b[0;34m**\u001b[0m\u001b[0mcheck_y_params\u001b[0m\u001b[0;34m}\u001b[0m\u001b[0;34m\u001b[0m\u001b[0;34m\u001b[0m\u001b[0m\n\u001b[0;32m--> 648\u001b[0;31m                 \u001b[0my\u001b[0m \u001b[0;34m=\u001b[0m \u001b[0mcheck_array\u001b[0m\u001b[0;34m(\u001b[0m\u001b[0my\u001b[0m\u001b[0;34m,\u001b[0m \u001b[0minput_name\u001b[0m\u001b[0;34m=\u001b[0m\u001b[0;34m\"y\"\u001b[0m\u001b[0;34m,\u001b[0m \u001b[0;34m**\u001b[0m\u001b[0mcheck_y_params\u001b[0m\u001b[0;34m)\u001b[0m\u001b[0;34m\u001b[0m\u001b[0;34m\u001b[0m\u001b[0m\n\u001b[0m\u001b[1;32m    649\u001b[0m             \u001b[0;32melse\u001b[0m\u001b[0;34m:\u001b[0m\u001b[0;34m\u001b[0m\u001b[0;34m\u001b[0m\u001b[0m\n\u001b[1;32m    650\u001b[0m                 \u001b[0mX\u001b[0m\u001b[0;34m,\u001b[0m \u001b[0my\u001b[0m \u001b[0;34m=\u001b[0m \u001b[0mcheck_X_y\u001b[0m\u001b[0;34m(\u001b[0m\u001b[0mX\u001b[0m\u001b[0;34m,\u001b[0m \u001b[0my\u001b[0m\u001b[0;34m,\u001b[0m \u001b[0;34m**\u001b[0m\u001b[0mcheck_params\u001b[0m\u001b[0;34m)\u001b[0m\u001b[0;34m\u001b[0m\u001b[0;34m\u001b[0m\u001b[0m\n",
            "\u001b[0;32m/usr/local/lib/python3.10/dist-packages/sklearn/utils/validation.py\u001b[0m in \u001b[0;36mcheck_array\u001b[0;34m(array, accept_sparse, accept_large_sparse, dtype, order, copy, force_writeable, force_all_finite, ensure_2d, allow_nd, ensure_min_samples, ensure_min_features, estimator, input_name)\u001b[0m\n\u001b[1;32m   1062\u001b[0m \u001b[0;34m\u001b[0m\u001b[0m\n\u001b[1;32m   1063\u001b[0m         \u001b[0;32mif\u001b[0m \u001b[0mforce_all_finite\u001b[0m\u001b[0;34m:\u001b[0m\u001b[0;34m\u001b[0m\u001b[0;34m\u001b[0m\u001b[0m\n\u001b[0;32m-> 1064\u001b[0;31m             _assert_all_finite(\n\u001b[0m\u001b[1;32m   1065\u001b[0m                 \u001b[0marray\u001b[0m\u001b[0;34m,\u001b[0m\u001b[0;34m\u001b[0m\u001b[0;34m\u001b[0m\u001b[0m\n\u001b[1;32m   1066\u001b[0m                 \u001b[0minput_name\u001b[0m\u001b[0;34m=\u001b[0m\u001b[0minput_name\u001b[0m\u001b[0;34m,\u001b[0m\u001b[0;34m\u001b[0m\u001b[0;34m\u001b[0m\u001b[0m\n",
            "\u001b[0;32m/usr/local/lib/python3.10/dist-packages/sklearn/utils/validation.py\u001b[0m in \u001b[0;36m_assert_all_finite\u001b[0;34m(X, allow_nan, msg_dtype, estimator_name, input_name)\u001b[0m\n\u001b[1;32m    121\u001b[0m         \u001b[0;32mreturn\u001b[0m\u001b[0;34m\u001b[0m\u001b[0;34m\u001b[0m\u001b[0m\n\u001b[1;32m    122\u001b[0m \u001b[0;34m\u001b[0m\u001b[0m\n\u001b[0;32m--> 123\u001b[0;31m     _assert_all_finite_element_wise(\n\u001b[0m\u001b[1;32m    124\u001b[0m         \u001b[0mX\u001b[0m\u001b[0;34m,\u001b[0m\u001b[0;34m\u001b[0m\u001b[0;34m\u001b[0m\u001b[0m\n\u001b[1;32m    125\u001b[0m         \u001b[0mxp\u001b[0m\u001b[0;34m=\u001b[0m\u001b[0mxp\u001b[0m\u001b[0;34m,\u001b[0m\u001b[0;34m\u001b[0m\u001b[0;34m\u001b[0m\u001b[0m\n",
            "\u001b[0;32m/usr/local/lib/python3.10/dist-packages/sklearn/utils/validation.py\u001b[0m in \u001b[0;36m_assert_all_finite_element_wise\u001b[0;34m(X, xp, allow_nan, msg_dtype, estimator_name, input_name)\u001b[0m\n\u001b[1;32m    170\u001b[0m                 \u001b[0;34m\"#estimators-that-handle-nan-values\"\u001b[0m\u001b[0;34m\u001b[0m\u001b[0;34m\u001b[0m\u001b[0m\n\u001b[1;32m    171\u001b[0m             )\n\u001b[0;32m--> 172\u001b[0;31m         \u001b[0;32mraise\u001b[0m \u001b[0mValueError\u001b[0m\u001b[0;34m(\u001b[0m\u001b[0mmsg_err\u001b[0m\u001b[0;34m)\u001b[0m\u001b[0;34m\u001b[0m\u001b[0;34m\u001b[0m\u001b[0m\n\u001b[0m\u001b[1;32m    173\u001b[0m \u001b[0;34m\u001b[0m\u001b[0m\n\u001b[1;32m    174\u001b[0m \u001b[0;34m\u001b[0m\u001b[0m\n",
            "\u001b[0;31mValueError\u001b[0m: Input y contains NaN."
          ]
        }
      ]
    }
  ]
}