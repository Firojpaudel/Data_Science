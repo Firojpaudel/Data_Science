{
  "nbformat": 4,
  "nbformat_minor": 0,
  "metadata": {
    "colab": {
      "provenance": [],
      "include_colab_link": true
    },
    "kernelspec": {
      "name": "python3",
      "display_name": "Python 3"
    },
    "language_info": {
      "name": "python"
    }
  },
  "cells": [
    {
      "cell_type": "markdown",
      "metadata": {
        "id": "view-in-github",
        "colab_type": "text"
      },
      "source": [
        "<a href=\"https://colab.research.google.com/github/Firojpaudel/Machine-Learning-Notes/blob/main/Practical%20Deep%20Learning%20For%20Coders/Chapter_9.ipynb\" target=\"_parent\"><img src=\"https://colab.research.google.com/assets/colab-badge.svg\" alt=\"Open In Colab\"/></a>"
      ]
    },
    {
      "cell_type": "markdown",
      "source": [
        "# Tabular Modeling Deep Dive"
      ],
      "metadata": {
        "id": "wvKnRvatv1ZW"
      }
    },
    {
      "cell_type": "code",
      "source": [
        "#@ First Setting up the notebook:\n",
        "%reload_ext autoreload\n",
        "%autoreload 2\n",
        "%matplotlib inline"
      ],
      "metadata": {
        "id": "PNU0-ps7XVBW"
      },
      "execution_count": 22,
      "outputs": []
    },
    {
      "cell_type": "code",
      "source": [
        "#@ Also installing the dependencies and necessary fastai's libraries\n",
        "!pip install -Uqq fastbook\n",
        "import fastbook\n",
        "fastbook.setup_book()\n",
        "\n",
        "from fastbook import *\n",
        "from fastai.callback.fp16 import *\n",
        "from fastai.collab import *\n",
        "from fastai.tabular.all import *\n",
        "from fastai.vision.all import *"
      ],
      "metadata": {
        "id": "6gIH2RDkcvZd",
        "outputId": "c5631f97-a6d9-4509-860e-c6ebcd55f5c1",
        "colab": {
          "base_uri": "https://localhost:8080/",
          "height": 356
        }
      },
      "execution_count": 23,
      "outputs": [
        {
          "output_type": "error",
          "ename": "OSError",
          "evalue": "[Errno 107] Transport endpoint is not connected: '/content/gdrive/My Drive'",
          "traceback": [
            "\u001b[0;31m---------------------------------------------------------------------------\u001b[0m",
            "\u001b[0;31mOSError\u001b[0m                                   Traceback (most recent call last)",
            "\u001b[0;32m<ipython-input-23-1151c47cb80d>\u001b[0m in \u001b[0;36m<cell line: 4>\u001b[0;34m()\u001b[0m\n\u001b[1;32m      2\u001b[0m \u001b[0mget_ipython\u001b[0m\u001b[0;34m(\u001b[0m\u001b[0;34m)\u001b[0m\u001b[0;34m.\u001b[0m\u001b[0msystem\u001b[0m\u001b[0;34m(\u001b[0m\u001b[0;34m'pip install -Uqq fastbook'\u001b[0m\u001b[0;34m)\u001b[0m\u001b[0;34m\u001b[0m\u001b[0;34m\u001b[0m\u001b[0m\n\u001b[1;32m      3\u001b[0m \u001b[0;32mimport\u001b[0m \u001b[0mfastbook\u001b[0m\u001b[0;34m\u001b[0m\u001b[0;34m\u001b[0m\u001b[0m\n\u001b[0;32m----> 4\u001b[0;31m \u001b[0mfastbook\u001b[0m\u001b[0;34m.\u001b[0m\u001b[0msetup_book\u001b[0m\u001b[0;34m(\u001b[0m\u001b[0;34m)\u001b[0m\u001b[0;34m\u001b[0m\u001b[0;34m\u001b[0m\u001b[0m\n\u001b[0m\u001b[1;32m      5\u001b[0m \u001b[0;34m\u001b[0m\u001b[0m\n\u001b[1;32m      6\u001b[0m \u001b[0;32mfrom\u001b[0m \u001b[0mfastbook\u001b[0m \u001b[0;32mimport\u001b[0m \u001b[0;34m*\u001b[0m\u001b[0;34m\u001b[0m\u001b[0;34m\u001b[0m\u001b[0m\n",
            "\u001b[0;32m/usr/local/lib/python3.10/dist-packages/fastbook/__init__.py\u001b[0m in \u001b[0;36msetup_book\u001b[0;34m()\u001b[0m\n\u001b[1;32m     36\u001b[0m \u001b[0;34m\u001b[0m\u001b[0m\n\u001b[1;32m     37\u001b[0m \u001b[0;32mdef\u001b[0m \u001b[0msetup_book\u001b[0m\u001b[0;34m(\u001b[0m\u001b[0;34m)\u001b[0m\u001b[0;34m:\u001b[0m\u001b[0;34m\u001b[0m\u001b[0;34m\u001b[0m\u001b[0m\n\u001b[0;32m---> 38\u001b[0;31m     \u001b[0;32mif\u001b[0m \u001b[0mIN_COLAB\u001b[0m\u001b[0;34m:\u001b[0m \u001b[0;32mreturn\u001b[0m \u001b[0msetup_colab\u001b[0m\u001b[0;34m(\u001b[0m\u001b[0;34m)\u001b[0m\u001b[0;34m\u001b[0m\u001b[0;34m\u001b[0m\u001b[0m\n\u001b[0m\u001b[1;32m     39\u001b[0m \u001b[0;34m\u001b[0m\u001b[0m\n\u001b[1;32m     40\u001b[0m \u001b[0;32mdef\u001b[0m \u001b[0mgv\u001b[0m\u001b[0;34m(\u001b[0m\u001b[0ms\u001b[0m\u001b[0;34m)\u001b[0m\u001b[0;34m:\u001b[0m \u001b[0;32mreturn\u001b[0m \u001b[0mgraphviz\u001b[0m\u001b[0;34m.\u001b[0m\u001b[0mSource\u001b[0m\u001b[0;34m(\u001b[0m\u001b[0;34m'digraph G{ rankdir=\"LR\"'\u001b[0m \u001b[0;34m+\u001b[0m \u001b[0ms\u001b[0m \u001b[0;34m+\u001b[0m \u001b[0;34m'; }'\u001b[0m\u001b[0;34m)\u001b[0m\u001b[0;34m\u001b[0m\u001b[0;34m\u001b[0m\u001b[0m\n",
            "\u001b[0;32m/usr/local/lib/python3.10/dist-packages/fastbook/__init__.py\u001b[0m in \u001b[0;36msetup_colab\u001b[0;34m()\u001b[0m\n\u001b[1;32m     33\u001b[0m     \u001b[0mgdrive\u001b[0m \u001b[0;34m=\u001b[0m \u001b[0mPath\u001b[0m\u001b[0;34m(\u001b[0m\u001b[0;34m'/content/gdrive/My Drive'\u001b[0m\u001b[0;34m)\u001b[0m\u001b[0;34m\u001b[0m\u001b[0;34m\u001b[0m\u001b[0m\n\u001b[1;32m     34\u001b[0m     \u001b[0;32mfrom\u001b[0m \u001b[0mgoogle\u001b[0m\u001b[0;34m.\u001b[0m\u001b[0mcolab\u001b[0m \u001b[0;32mimport\u001b[0m \u001b[0mdrive\u001b[0m\u001b[0;34m\u001b[0m\u001b[0;34m\u001b[0m\u001b[0m\n\u001b[0;32m---> 35\u001b[0;31m     \u001b[0;32mif\u001b[0m \u001b[0;32mnot\u001b[0m \u001b[0mgdrive\u001b[0m\u001b[0;34m.\u001b[0m\u001b[0mexists\u001b[0m\u001b[0;34m(\u001b[0m\u001b[0;34m)\u001b[0m\u001b[0;34m:\u001b[0m \u001b[0mdrive\u001b[0m\u001b[0;34m.\u001b[0m\u001b[0mmount\u001b[0m\u001b[0;34m(\u001b[0m\u001b[0mstr\u001b[0m\u001b[0;34m(\u001b[0m\u001b[0mgdrive\u001b[0m\u001b[0;34m.\u001b[0m\u001b[0mparent\u001b[0m\u001b[0;34m)\u001b[0m\u001b[0;34m)\u001b[0m\u001b[0;34m\u001b[0m\u001b[0;34m\u001b[0m\u001b[0m\n\u001b[0m\u001b[1;32m     36\u001b[0m \u001b[0;34m\u001b[0m\u001b[0m\n\u001b[1;32m     37\u001b[0m \u001b[0;32mdef\u001b[0m \u001b[0msetup_book\u001b[0m\u001b[0;34m(\u001b[0m\u001b[0;34m)\u001b[0m\u001b[0;34m:\u001b[0m\u001b[0;34m\u001b[0m\u001b[0;34m\u001b[0m\u001b[0m\n",
            "\u001b[0;32m/usr/lib/python3.10/pathlib.py\u001b[0m in \u001b[0;36mexists\u001b[0;34m(self)\u001b[0m\n\u001b[1;32m   1288\u001b[0m         \"\"\"\n\u001b[1;32m   1289\u001b[0m         \u001b[0;32mtry\u001b[0m\u001b[0;34m:\u001b[0m\u001b[0;34m\u001b[0m\u001b[0;34m\u001b[0m\u001b[0m\n\u001b[0;32m-> 1290\u001b[0;31m             \u001b[0mself\u001b[0m\u001b[0;34m.\u001b[0m\u001b[0mstat\u001b[0m\u001b[0;34m(\u001b[0m\u001b[0;34m)\u001b[0m\u001b[0;34m\u001b[0m\u001b[0;34m\u001b[0m\u001b[0m\n\u001b[0m\u001b[1;32m   1291\u001b[0m         \u001b[0;32mexcept\u001b[0m \u001b[0mOSError\u001b[0m \u001b[0;32mas\u001b[0m \u001b[0me\u001b[0m\u001b[0;34m:\u001b[0m\u001b[0;34m\u001b[0m\u001b[0;34m\u001b[0m\u001b[0m\n\u001b[1;32m   1292\u001b[0m             \u001b[0;32mif\u001b[0m \u001b[0;32mnot\u001b[0m \u001b[0m_ignore_error\u001b[0m\u001b[0;34m(\u001b[0m\u001b[0me\u001b[0m\u001b[0;34m)\u001b[0m\u001b[0;34m:\u001b[0m\u001b[0;34m\u001b[0m\u001b[0;34m\u001b[0m\u001b[0m\n",
            "\u001b[0;32m/usr/lib/python3.10/pathlib.py\u001b[0m in \u001b[0;36mstat\u001b[0;34m(self, follow_symlinks)\u001b[0m\n\u001b[1;32m   1095\u001b[0m         \u001b[0mos\u001b[0m\u001b[0;34m.\u001b[0m\u001b[0mstat\u001b[0m\u001b[0;34m(\u001b[0m\u001b[0;34m)\u001b[0m \u001b[0mdoes\u001b[0m\u001b[0;34m.\u001b[0m\u001b[0;34m\u001b[0m\u001b[0;34m\u001b[0m\u001b[0m\n\u001b[1;32m   1096\u001b[0m         \"\"\"\n\u001b[0;32m-> 1097\u001b[0;31m         \u001b[0;32mreturn\u001b[0m \u001b[0mself\u001b[0m\u001b[0;34m.\u001b[0m\u001b[0m_accessor\u001b[0m\u001b[0;34m.\u001b[0m\u001b[0mstat\u001b[0m\u001b[0;34m(\u001b[0m\u001b[0mself\u001b[0m\u001b[0;34m,\u001b[0m \u001b[0mfollow_symlinks\u001b[0m\u001b[0;34m=\u001b[0m\u001b[0mfollow_symlinks\u001b[0m\u001b[0;34m)\u001b[0m\u001b[0;34m\u001b[0m\u001b[0;34m\u001b[0m\u001b[0m\n\u001b[0m\u001b[1;32m   1098\u001b[0m \u001b[0;34m\u001b[0m\u001b[0m\n\u001b[1;32m   1099\u001b[0m     \u001b[0;32mdef\u001b[0m \u001b[0mowner\u001b[0m\u001b[0;34m(\u001b[0m\u001b[0mself\u001b[0m\u001b[0;34m)\u001b[0m\u001b[0;34m:\u001b[0m\u001b[0;34m\u001b[0m\u001b[0;34m\u001b[0m\u001b[0m\n",
            "\u001b[0;31mOSError\u001b[0m: [Errno 107] Transport endpoint is not connected: '/content/gdrive/My Drive'"
          ]
        }
      ]
    },
    {
      "cell_type": "markdown",
      "source": [
        "**Objective:**\n",
        "\n",
        "To predict the value in one column based on the values in other columns.\n",
        "\n",
        "---"
      ],
      "metadata": {
        "id": "cIcY-Cb1g3eI"
      }
    },
    {
      "cell_type": "markdown",
      "source": [
        "### **1. Categorical Embeddings**"
      ],
      "metadata": {
        "id": "gqBuzgE1TTKv"
      }
    },
    {
      "cell_type": "markdown",
      "source": [
        "#### A. Introduction\n",
        "\n"
      ],
      "metadata": {
        "id": "IievMP4iTkm3"
      }
    },
    {
      "cell_type": "markdown",
      "source": [
        "In tabular data, some columns may contain numerical data, like `age`, while others contain string values, like `sex`. The numerical data can be directly fed to the model (with some optional preprocessing), but the other columns need to be converted to numbers. Since the values in those correspond to different categories, we often call this type of variables **categorical variables**. The first type are called **continuous variables**."
      ],
      "metadata": {
        "id": "cOYuNpgtUxBG"
      }
    },
    {
      "cell_type": "markdown",
      "source": [
        "<details>\n",
        "<summary>\n",
        "<b>Jargon: Continuous and Categorical Variables</b>\n",
        "</summary>\n",
        "<ul>\n",
        "<li><b>Continuous variables</b> are numerical data, such as <code>age</code>, that can be directly fed to the model, since you can add and multiply them directly.</li>\n",
        "<li><b>Categorical variables</b> contain a number of discrete levels, such as <code>movie ID</code>, for which addition and multiplication don’t have meaning (even if they’re stored as numbers).</li>\n",
        "</ul>\n",
        "</details>"
      ],
      "metadata": {
        "id": "V-KI781jU2Ru"
      }
    },
    {
      "cell_type": "markdown",
      "source": [
        "##### **Example:** *Rossmann Sales Competition*\n",
        "At the end of 2015, the Rossmann sales competition ran on Kaggle. Competitors were given a wide range of information about various stores in Germany and were tasked with trying to predict sales on a number of days. The goal was to help the company manage stock properly and satisfy demand without holding unnecessary inventory.\n",
        "\n",
        "One of the gold medalists used **deep learning**, in one of the earliest examples of a state-of-the-art deep learning tabular model. Their method involved far less feature engineering based on domain knowledge than those of the other gold medalists.\n",
        "\n",
        "The paper [\"Entity Embeddings of Categorical Variables\"](https://arxiv.org/abs/1604.06737) by Cheng Guo and Felix Bekhahn describes their approach:\n",
        "- **Advantages of Entity Embeddings**:\n",
        "  - Reduces memory usage and speeds up neural networks compared with one-hot encoding.\n",
        "  - Maps similar values close to each other in the embedding space, revealing intrinsic properties of categorical variables.\n",
        "  - Useful for datasets with high cardinality features where other methods tend to overfit.\n",
        "  - Defines a distance measure for categorical variables, enabling visualization and clustering.\n",
        "\n",
        "  ***"
      ],
      "metadata": {
        "id": "aIvyddxQVpg3"
      }
    },
    {
      "cell_type": "markdown",
      "source": [
        "##### ***Key Insights from the Paper:***\n",
        "1. **Equivalence of Embedding Layers and Linear Layers**: An embedding layer is equivalent to placing an ordinary linear layer after every one-hot encoded input layer.\n",
        "2. **Embedding Weights Analysis**:\n",
        "   - Transforms categorical variables into inputs that are both continuous and meaningful.\n",
        "   - Embedding distances often align with intuitive or real-world distances (e.g., geographic distance for states).\n",
        "\n",
        "---"
      ],
      "metadata": {
        "id": "TlzRI3ljWJh3"
      }
    },
    {
      "cell_type": "markdown",
      "source": [
        "#### B. Visualizing Embeddings"
      ],
      "metadata": {
        "id": "TiSBbom1WPkw"
      }
    },
    {
      "cell_type": "markdown",
      "source": [
        "The embeddings learned can reveal patterns in categorical data:\n",
        "1. **State Embeddings**: Embeddings for German states learned their relative positions based solely on sales data.\n",
        "2. **Date Embeddings**: Days of the week or months close in time are also close in the embedding space."
      ],
      "metadata": {
        "id": "zpw7DhRUW9Q-"
      }
    },
    {
      "cell_type": "code",
      "source": [
        "\"Example code 1:\"\n",
        "import matplotlib.pyplot as plt\n",
        "import numpy as np\n",
        "\n",
        "# Simulated embedding data for states\n",
        "states = ['Berlin', 'Hamburg', 'Munich', 'Cologne']\n",
        "embeddings = np.random.rand(len(states), 2)\n",
        "\n",
        "plt.figure(figsize=(8, 6))\n",
        "for i, state in enumerate(states):\n",
        "    plt.scatter(embeddings[i, 0], embeddings[i, 1], label=state)\n",
        "    plt.text(embeddings[i, 0], embeddings[i, 1], state, fontsize=12)\n",
        "\n",
        "plt.title('State Embeddings')\n",
        "plt.xlabel('Dimension 1')\n",
        "plt.ylabel('Dimension 2')\n",
        "plt.legend()\n",
        "plt.show()"
      ],
      "metadata": {
        "id": "q062NgoKXuDW"
      },
      "execution_count": null,
      "outputs": []
    },
    {
      "cell_type": "markdown",
      "source": [
        "The above code simulates and visualizes embeddings for states. The scatter plot shows embeddings projected into two dimensions, and annotations indicate which state each point corresponds to. This visualization can help identify patterns, such as how similar states cluster together in the embedding space.\n",
        "\n",
        "The next code snippet simulates embeddings for days of the week. Each point in the scatter plot represents a day, with proximity in the plot reflecting similarity in the learned embedding space. For instance, weekdays may group together, while weekends might form their own cluster."
      ],
      "metadata": {
        "id": "oAJumUO3ZNBW"
      }
    },
    {
      "cell_type": "code",
      "source": [
        "\"Example Code 2:\"\n",
        "# Simulated embedding data for days of the week\n",
        "days = ['Monday', 'Tuesday', 'Wednesday', 'Thursday', 'Friday', 'Saturday', 'Sunday']\n",
        "embeddings = np.random.rand(len(days), 2)\n",
        "\n",
        "plt.figure(figsize=(8, 6))\n",
        "for i, day in enumerate(days):\n",
        "    plt.scatter(embeddings[i, 0], embeddings[i, 1], label=day)\n",
        "    plt.text(embeddings[i, 0], embeddings[i, 1], day, fontsize=12)\n",
        "\n",
        "plt.title('Date Embeddings')\n",
        "plt.xlabel('Dimension 1')\n",
        "plt.ylabel('Dimension 2')\n",
        "plt.legend()\n",
        "plt.show()"
      ],
      "metadata": {
        "id": "eR0P7h6FXzWf",
        "colab": {
          "base_uri": "https://localhost:8080/",
          "height": 573
        },
        "outputId": "3c2de9e1-6a4b-40e4-acdb-b5e0388acc6d"
      },
      "execution_count": 24,
      "outputs": [
        {
          "output_type": "display_data",
          "data": {
            "text/plain": [
              "<Figure size 800x600 with 1 Axes>"
            ],
            "image/png": "[encoded data removed]"
          },
          "metadata": {}
        }
      ]
    },
    {
      "cell_type": "markdown",
      "source": [
        "---\n",
        "#### C. Benefits of Embeddings"
      ],
      "metadata": {
        "id": "chyc3wy6X6TQ"
      }
    },
    {
      "cell_type": "markdown",
      "source": [
        "\n",
        "1. **Continuous Representation**: Models are better at understanding continuous variables.\n",
        "2. **Efficient Integration**: Continuous embeddings can be concatenated with other continuous input data before being fed into a dense layer.\n",
        "\n",
        "---"
      ],
      "metadata": {
        "id": "nQfAl0kJakNt"
      }
    },
    {
      "cell_type": "markdown",
      "source": [
        "#### D. Real-World Application: *Google Play Recommendations*\n"
      ],
      "metadata": {
        "id": "FokcyXjHYzSv"
      }
    },
    {
      "cell_type": "markdown",
      "source": [
        "Google’s recommendation system, as explained in the paper [\"Wide & Deep Learning for Recommender Systems\"](https://arxiv.org/abs/1606.07792), combines embeddings with both cross-product and neural network approaches. This hybrid system achieves state-of-the-art performance."
      ],
      "metadata": {
        "id": "0cn_b-ZNZ5PW"
      }
    },
    {
      "cell_type": "markdown",
      "source": [
        "> Deep learning also works very well for collaborative filtering. But it is not\n",
        " always the best starting point for analyzing tabular data."
      ],
      "metadata": {
        "id": "NUnYLMqLao1w"
      }
    },
    {
      "cell_type": "markdown",
      "source": [
        "### **2. Beyond Deep Learning**"
      ],
      "metadata": {
        "id": "5nmtpPZBbOa-"
      }
    },
    {
      "cell_type": "markdown",
      "source": [
        "Modern machine learning can largely be summarized into two highly effective approaches:\n",
        "\n",
        "1. **Ensembles of Decision Trees**\n",
        "   - Examples: Random forests, Gradient Boosting Machines (e.g., XGBoost, LightGBM, CatBoost).\n",
        "   - Best suited for structured/tabular data (e.g., datasets from database tables).\n",
        "   - Advantages:\n",
        "     - Faster training.\n",
        "     - Easier to interpret.\n",
        "     - No need for specialized GPU hardware.\n",
        "     - Mature ecosystem and tooling.\n",
        "     - Requires less hyperparameter tuning.\n",
        "   - Tools for interpretability:\n",
        "     - Identifying important features.\n",
        "     - Understanding feature relationships with the target variable.\n",
        "     - Explaining predictions for specific observations.\n",
        "\n",
        "2. **Multilayered Neural Networks (Deep Learning)**\n",
        "   - Examples: CNNs, RNNs, Transformers.\n",
        "   - Best suited for unstructured data (e.g., images, audio, text).\n",
        "   - Nearly always superior for unstructured data but may overlap with tree-based models for structured data.\n",
        "\n",
        "> **Guideline:** Start with decision tree ensembles for structured data unless high-cardinality categorical variables or unstructured data are present.\n",
        "\n",
        "---"
      ],
      "metadata": {
        "id": "wc4RrMnJcKV_"
      }
    },
    {
      "cell_type": "markdown",
      "source": [
        "#### A. Dataset for Demonstration: *Blue Book for Bulldozers*"
      ],
      "metadata": {
        "id": "EEoAKwdQcmAg"
      }
    },
    {
      "cell_type": "markdown",
      "source": [
        "**Problem:** Predict the auction sale price of heavy equipment based on features like usage, equipment type, and configuration.\n",
        "\n",
        "**Source:** Supposed to be Kaggle competition 💀"
      ],
      "metadata": {
        "id": "ZvhJaXK3dzoe"
      }
    },
    {
      "cell_type": "markdown",
      "source": [
        "> **Problem I faced:** \\\n",
        "> So, the competition was over a long time ago. Now there's no other way than downloading those data manually, uploading in drive and accessing them."
      ],
      "metadata": {
        "id": "LFxCTyjZAHcd"
      }
    },
    {
      "cell_type": "code",
      "source": [
        "from google.colab import drive\n",
        "drive.mount('/content/drive')"
      ],
      "metadata": {
        "id": "swvtoZcYH5rv",
        "outputId": "3a8bb43f-3fbf-4887-ddf7-869bfb6026b1",
        "colab": {
          "base_uri": "https://localhost:8080/"
        }
      },
      "execution_count": 25,
      "outputs": [
        {
          "output_type": "stream",
          "name": "stdout",
          "text": [
            "Drive already mounted at /content/drive; to attempt to forcibly remount, call drive.mount(\"/content/drive\", force_remount=True).\n"
          ]
        }
      ]
    },
    {
      "cell_type": "code",
      "source": [
        "!ls /content/drive/MyDrive"
      ],
      "metadata": {
        "id": "BWyLV_xZH7r0"
      },
      "execution_count": null,
      "outputs": []
    },
    {
      "cell_type": "code",
      "source": [
        "!cp \"/content/drive/MyDrive/bluebook-for-bulldozers.zip\" /content/"
      ],
      "metadata": {
        "id": "QEEW6w0fI8Ec"
      },
      "execution_count": 27,
      "outputs": []
    },
    {
      "cell_type": "code",
      "source": [
        "#@ Extracting the zip file\n",
        "\n",
        "zip_path = \"/content/bluebook-for-bulldozers.zip\"\n",
        "extract_path = \"/content/dataset\"\n",
        "with zipfile.ZipFile(zip_path, 'r') as zip_ref:\n",
        "    zip_ref.extractall(extract_path)"
      ],
      "metadata": {
        "id": "p0jwmaIuJZv0"
      },
      "execution_count": 28,
      "outputs": []
    },
    {
      "cell_type": "code",
      "source": [
        "data_path = \"/content/dataset/bluebook-for-bulldozers/TrainAndValid/TrainAndValid.csv\"\n",
        "test_path = \"/content/dataset/bluebook-for-bulldozers/Test.csv\"\n",
        "\n",
        "#@ Loading  the dataset\n",
        "data_df = pd.read_csv(data_path)\n",
        "test_df = pd.read_csv(test_path)"
      ],
      "metadata": {
        "id": "B_L8q5IgJ2AD",
        "outputId": "b40b288d-f8ce-4824-98c4-9cbebe1a3a8e",
        "colab": {
          "base_uri": "https://localhost:8080/"
        }
      },
      "execution_count": 30,
      "outputs": [
        {
          "output_type": "stream",
          "name": "stderr",
          "text": [
            "<ipython-input-30-8e1d2fd8cf28>:5: DtypeWarning: Columns (13,39,40,41) have mixed types. Specify dtype option on import or set low_memory=False.\n",
            "  data_df = pd.read_csv(data_path)\n"
          ]
        }
      ]
    },
    {
      "cell_type": "code",
      "source": [
        "data_df.columns"
      ],
      "metadata": {
        "id": "ZY8t0zx9KixL",
        "outputId": "6f43ac9f-7a97-4a37-d3fc-d02968beca6d",
        "colab": {
          "base_uri": "https://localhost:8080/"
        }
      },
      "execution_count": 31,
      "outputs": [
        {
          "output_type": "execute_result",
          "data": {
            "text/plain": [
              "Index(['SalesID', 'SalePrice', 'MachineID', 'ModelID', 'datasource',\n",
              "       'auctioneerID', 'YearMade', 'MachineHoursCurrentMeter', 'UsageBand',\n",
              "       'saledate', 'fiModelDesc', 'fiBaseModel', 'fiSecondaryDesc',\n",
              "       'fiModelSeries', 'fiModelDescriptor', 'ProductSize',\n",
              "       'fiProductClassDesc', 'state', 'ProductGroup', 'ProductGroupDesc',\n",
              "       'Drive_System', 'Enclosure', 'Forks', 'Pad_Type', 'Ride_Control',\n",
              "       'Stick', 'Transmission', 'Turbocharged', 'Blade_Extension',\n",
              "       'Blade_Width', 'Enclosure_Type', 'Engine_Horsepower', 'Hydraulics',\n",
              "       'Pushblock', 'Ripper', 'Scarifier', 'Tip_Control', 'Tire_Size',\n",
              "       'Coupler', 'Coupler_System', 'Grouser_Tracks', 'Hydraulics_Flow',\n",
              "       'Track_Type', 'Undercarriage_Pad_Width', 'Stick_Length', 'Thumb',\n",
              "       'Pattern_Changer', 'Grouser_Type', 'Backhoe_Mounting', 'Blade_Type',\n",
              "       'Travel_Controls', 'Differential_Type', 'Steering_Controls'],\n",
              "      dtype='object')"
            ]
          },
          "metadata": {},
          "execution_count": 31
        }
      ]
    },
    {
      "cell_type": "code",
      "source": [
        "#@ Handling the ordinal columns\n",
        "\n",
        "data_df['ProductSize'].unique()"
      ],
      "metadata": {
        "id": "n3Xr9Mlo8ULp",
        "outputId": "4b4be384-2c23-4bee-86e9-9e11a0028fb9",
        "colab": {
          "base_uri": "https://localhost:8080/"
        }
      },
      "execution_count": 32,
      "outputs": [
        {
          "output_type": "execute_result",
          "data": {
            "text/plain": [
              "array([nan, 'Medium', 'Small', 'Large / Medium', 'Mini', 'Large', 'Compact'], dtype=object)"
            ]
          },
          "metadata": {},
          "execution_count": 32
        }
      ]
    },
    {
      "cell_type": "code",
      "source": [
        "##! Ordering\n",
        "\n",
        "sizes= 'Large', 'Large / Medium', 'Medium', 'Small', 'Mini', 'Compact'\n",
        "\n",
        "data_df['ProductSize'] = data_df['ProductSize'].astype('category')\n",
        "data_df['ProductSize'].cat.set_categories(sizes, ordered= True)"
      ],
      "metadata": {
        "id": "Q3a0BjDS8ebI",
        "outputId": "1095a451-6171-4584-d780-4d6b5be17aa9",
        "colab": {
          "base_uri": "https://localhost:8080/",
          "height": 458
        }
      },
      "execution_count": 33,
      "outputs": [
        {
          "output_type": "execute_result",
          "data": {
            "text/plain": [
              "0            NaN\n",
              "1         Medium\n",
              "2            NaN\n",
              "3          Small\n",
              "4            NaN\n",
              "           ...  \n",
              "412693      Mini\n",
              "412694      Mini\n",
              "412695      Mini\n",
              "412696      Mini\n",
              "412697      Mini\n",
              "Name: ProductSize, Length: 412698, dtype: category\n",
              "Categories (6, object): ['Large' < 'Large / Medium' < 'Medium' < 'Small' < 'Mini' < 'Compact']"
            ],
            "text/html": [
              "<div>\n",
              "<style scoped>\n",
              "    .dataframe tbody tr th:only-of-type {\n",
              "        vertical-align: middle;\n",
              "    }\n",
              "\n",
              "    .dataframe tbody tr th {\n",
              "        vertical-align: top;\n",
              "    }\n",
              "\n",
              "    .dataframe thead th {\n",
              "        text-align: right;\n",
              "    }\n",
              "</style>\n",
              "<table border=\"1\" class=\"dataframe\">\n",
              "  <thead>\n",
              "    <tr style=\"text-align: right;\">\n",
              "      <th></th>\n",
              "      <th>ProductSize</th>\n",
              "    </tr>\n",
              "  </thead>\n",
              "  <tbody>\n",
              "    <tr>\n",
              "      <th>0</th>\n",
              "      <td>NaN</td>\n",
              "    </tr>\n",
              "    <tr>\n",
              "      <th>1</th>\n",
              "      <td>Medium</td>\n",
              "    </tr>\n",
              "    <tr>\n",
              "      <th>2</th>\n",
              "      <td>NaN</td>\n",
              "    </tr>\n",
              "    <tr>\n",
              "      <th>3</th>\n",
              "      <td>Small</td>\n",
              "    </tr>\n",
              "    <tr>\n",
              "      <th>4</th>\n",
              "      <td>NaN</td>\n",
              "    </tr>\n",
              "    <tr>\n",
              "      <th>...</th>\n",
              "      <td>...</td>\n",
              "    </tr>\n",
              "    <tr>\n",
              "      <th>412693</th>\n",
              "      <td>Mini</td>\n",
              "    </tr>\n",
              "    <tr>\n",
              "      <th>412694</th>\n",
              "      <td>Mini</td>\n",
              "    </tr>\n",
              "    <tr>\n",
              "      <th>412695</th>\n",
              "      <td>Mini</td>\n",
              "    </tr>\n",
              "    <tr>\n",
              "      <th>412696</th>\n",
              "      <td>Mini</td>\n",
              "    </tr>\n",
              "    <tr>\n",
              "      <th>412697</th>\n",
              "      <td>Mini</td>\n",
              "    </tr>\n",
              "  </tbody>\n",
              "</table>\n",
              "<p>412698 rows × 1 columns</p>\n",
              "</div><br><label><b>dtype:</b> category</label>"
            ]
          },
          "metadata": {},
          "execution_count": 33
        }
      ]
    },
    {
      "cell_type": "code",
      "source": [
        "#@ Calculating the RMLSE:\n",
        "\n",
        "dep_variable = 'SalePrice'  #dependent variable\n",
        "data_df[dep_variable] = np.log(data_df[dep_variable])"
      ],
      "metadata": {
        "id": "hbg9Sxq4-9Aw"
      },
      "execution_count": 34,
      "outputs": []
    },
    {
      "cell_type": "markdown",
      "source": [
        "---\n",
        "#### B. Decision Trees"
      ],
      "metadata": {
        "id": "j8unuT_SAly3"
      }
    },
    {
      "cell_type": "markdown",
      "source": [
        "##### B1. Understanding Decision Tress\n"
      ],
      "metadata": {
        "id": "mZ6DB-pNA1Pn"
      }
    },
    {
      "cell_type": "markdown",
      "source": [
        "A decision tree consists of a sequence of binary questions that split data into distinct branches. Each split is based on a condition related to the features in the dataset. For instance, a tree can ask questions like \"Is Feature A > Threshold?\" and split the data accordingly. The goal is to keep splitting until we can make accurate predictions for each group."
      ],
      "metadata": {
        "id": "DMgx7_uvB1FP"
      }
    },
    {
      "cell_type": "markdown",
      "source": [
        "##### B2. Steps To Train a Decision Tree"
      ],
      "metadata": {
        "id": "Is9f0aaEB313"
      }
    },
    {
      "cell_type": "markdown",
      "source": [
        "  1. Loop through each column of the dataset.\n",
        "  2. For each column, evaluate all possible thresholds for splitting.\n",
        "  3. Split data into two groups based on the threshold.\n",
        "  4. Calculate predictions using the average target value in each group.\n",
        "  5. Find the best split that minimizes prediction error.\n",
        "  6. Recursively repeat the process for the resulting groups until a stopping criterion (e.g., minimum group size) is met.\n",
        "\n",
        "---"
      ],
      "metadata": {
        "id": "PGil2Jy3CBS3"
      }
    },
    {
      "cell_type": "markdown",
      "source": [
        "#### C. Handling Dates"
      ],
      "metadata": {
        "id": "YNbEtXQMCFIA"
      }
    },
    {
      "cell_type": "markdown",
      "source": [
        "Dates need to be expanded into meaningful categorical or ordinal features (e.g., day of the week, month). This allows the decision tree to make splits based on these additional features.\n"
      ],
      "metadata": {
        "id": "3dyfJEDoColv"
      }
    },
    {
      "cell_type": "code",
      "source": [
        "'''\n",
        "   fastai's add_datepart() function handles date. So directly using that\n",
        "'''\n",
        "\n",
        "data_df= add_datepart(data_df, 'saledate')\n",
        "\n",
        "\" Doing the same with Test file as well\"\n",
        "\n",
        "test_df = add_datepart(test_df, 'saledate')"
      ],
      "metadata": {
        "id": "mHtWc9zGCtCf",
        "outputId": "092d817b-7fd0-4bbe-b403-fa680e0e9149",
        "colab": {
          "base_uri": "https://localhost:8080/"
        }
      },
      "execution_count": 35,
      "outputs": [
        {
          "output_type": "stream",
          "name": "stderr",
          "text": [
            "/usr/local/lib/python3.10/dist-packages/fastai/tabular/core.py:25: UserWarning: The argument 'infer_datetime_format' is deprecated and will be removed in a future version. A strict version of it is now the default, see https://pandas.pydata.org/pdeps/0004-consistent-to-datetime-parsing.html. You can safely remove this argument.\n",
            "  df[date_field] = pd.to_datetime(df[date_field], infer_datetime_format=True)\n",
            "/usr/local/lib/python3.10/dist-packages/fastai/tabular/core.py:25: UserWarning: The argument 'infer_datetime_format' is deprecated and will be removed in a future version. A strict version of it is now the default, see https://pandas.pydata.org/pdeps/0004-consistent-to-datetime-parsing.html. You can safely remove this argument.\n",
            "  df[date_field] = pd.to_datetime(df[date_field], infer_datetime_format=True)\n"
          ]
        }
      ]
    },
    {
      "cell_type": "code",
      "source": [
        "##@ Inspecting the columns which start with word \"sale\"\n",
        "\n",
        "' '.join(o for o in data_df.columns if o.startswith('sale'))"
      ],
      "metadata": {
        "id": "3tEAlfM6DtbI",
        "outputId": "88967bb3-cc5b-41b8-a4f8-bf43c20c1cd7",
        "colab": {
          "base_uri": "https://localhost:8080/",
          "height": 35
        }
      },
      "execution_count": 36,
      "outputs": [
        {
          "output_type": "execute_result",
          "data": {
            "text/plain": [
              "'saleYear saleMonth saleWeek saleDay saleDayofweek saleDayofyear saleIs_month_end saleIs_month_start saleIs_quarter_end saleIs_quarter_start saleIs_year_end saleIs_year_start saleElapsed'"
            ],
            "application/vnd.google.colaboratory.intrinsic+json": {
              "type": "string"
            }
          },
          "metadata": {},
          "execution_count": 36
        }
      ]
    },
    {
      "cell_type": "markdown",
      "source": [
        "---\n",
        "#### D. Handling Missing Data and Categoricals\n"
      ],
      "metadata": {
        "id": "iRCgb-WoEC3P"
      }
    },
    {
      "cell_type": "markdown",
      "source": [
        "Fastai provides `TabularPandas` and `TabularProcs` for handling tabular data. We use `Categorify` to convert categorical variables into numeric categories and `FillMissing` to handle missing values.\n"
      ],
      "metadata": {
        "id": "FhbU54UkEXEI"
      }
    },
    {
      "cell_type": "code",
      "source": [
        "##@ Defining preprocessing steps\n",
        "procs = [Categorify, FillMissing]"
      ],
      "metadata": {
        "id": "VZyffalrEbYw",
        "outputId": "572d8304-3222-44b6-e7d8-ffdc18f5c0bf",
        "colab": {
          "base_uri": "https://localhost:8080/"
        }
      },
      "execution_count": null,
      "outputs": [
        {
          "output_type": "execute_result",
          "data": {
            "text/plain": [
              "(401125, 11573)"
            ]
          },
          "metadata": {},
          "execution_count": 23
        }
      ]
    },
    {
      "cell_type": "code",
      "source": [
        "## To do tomorrow: The train and validation split is not as same as in the text book. So the first task tomorrow will be to merge these two datasets together and call the dataframe \\\n",
        "## as df itself"
      ],
      "metadata": {
        "id": "8gcElH9HFexp"
      },
      "execution_count": null,
      "outputs": []
    }
  ]
}