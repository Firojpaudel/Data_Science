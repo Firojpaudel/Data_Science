{
  "nbformat": 4,
  "nbformat_minor": 0,
  "metadata": {
    "colab": {
      "provenance": [],
      "include_colab_link": true
    },
    "kernelspec": {
      "name": "python3",
      "display_name": "Python 3"
    },
    "language_info": {
      "name": "python"
    }
  },
  "cells": [
    {
      "cell_type": "markdown",
      "metadata": {
        "id": "view-in-github",
        "colab_type": "text"
      },
      "source": [
        "<a href=\"https://colab.research.google.com/github/Firojpaudel/Machine-Learning-Notes/blob/main/Practical%20Deep%20Learning%20For%20Coders/Chapter_9.ipynb\" target=\"_parent\"><img src=\"https://colab.research.google.com/assets/colab-badge.svg\" alt=\"Open In Colab\"/></a>"
      ]
    },
    {
      "cell_type": "markdown",
      "source": [
        "# Tabular Modeling Deep Dive"
      ],
      "metadata": {
        "id": "wvKnRvatv1ZW"
      }
    },
    {
      "cell_type": "code",
      "source": [
        "#@ First Setting up the notebook:\n",
        "%reload_ext autoreload\n",
        "%autoreload 2\n",
        "%matplotlib inline"
      ],
      "metadata": {
        "id": "PNU0-ps7XVBW"
      },
      "execution_count": 1,
      "outputs": []
    },
    {
      "cell_type": "code",
      "source": [
        "#@ Also installing the dependencies and necessary fastai's and other libraries\n",
        "!pip install -Uqq fastbook waterfallcharts treeinterpreter dtreeviz\n",
        "import fastbook\n",
        "# fastbook.setup_book()\n",
        "\n",
        "from fastbook import *\n",
        "from fastai.callback.fp16 import *\n",
        "from fastai.collab import *\n",
        "from fastai.tabular.all import *\n",
        "from fastai.vision.all import *\n",
        "from sklearn.tree import DecisionTreeRegressor\n",
        "from IPython.display import Image, display_svg, SVG\n",
        "from treeinterpreter import treeinterpreter\n",
        "from waterfall_chart import plot as waterfall\n",
        "from sklearn.tree import DecisionTreeRegressor\n",
        "from dtreeviz.trees import *\n",
        "warnings.simplefilter(\"ignore\", FutureWarning)\n",
        "from matplotlib import rcParams"
      ],
      "metadata": {
        "id": "6gIH2RDkcvZd"
      },
      "execution_count": 44,
      "outputs": []
    },
    {
      "cell_type": "code",
      "source": [
        "# Setting a different font family that is available for dtreeviz\n",
        "rcParams['font.family'] = 'DejaVu Sans'"
      ],
      "metadata": {
        "id": "Wm5WcitfWysp"
      },
      "execution_count": 30,
      "outputs": []
    },
    {
      "cell_type": "markdown",
      "source": [
        "**Objective:**\n",
        "\n",
        "To predict the value in one column based on the values in other columns.\n",
        "\n",
        "---"
      ],
      "metadata": {
        "id": "cIcY-Cb1g3eI"
      }
    },
    {
      "cell_type": "markdown",
      "source": [
        "### **1. Categorical Embeddings**"
      ],
      "metadata": {
        "id": "gqBuzgE1TTKv"
      }
    },
    {
      "cell_type": "markdown",
      "source": [
        "#### A. Introduction\n",
        "\n"
      ],
      "metadata": {
        "id": "IievMP4iTkm3"
      }
    },
    {
      "cell_type": "markdown",
      "source": [
        "In tabular data, some columns may contain numerical data, like `age`, while others contain string values, like `sex`. The numerical data can be directly fed to the model (with some optional preprocessing), but the other columns need to be converted to numbers. Since the values in those correspond to different categories, we often call this type of variables **categorical variables**. The first type are called **continuous variables**."
      ],
      "metadata": {
        "id": "cOYuNpgtUxBG"
      }
    },
    {
      "cell_type": "markdown",
      "source": [
        "<details>\n",
        "<summary>\n",
        "<b>Jargon: Continuous and Categorical Variables</b>\n",
        "</summary>\n",
        "<ul>\n",
        "<li><b>Continuous variables</b> are numerical data, such as <code>age</code>, that can be directly fed to the model, since you can add and multiply them directly.</li>\n",
        "<li><b>Categorical variables</b> contain a number of discrete levels, such as <code>movie ID</code>, for which addition and multiplication don’t have meaning (even if they’re stored as numbers).</li>\n",
        "</ul>\n",
        "</details>"
      ],
      "metadata": {
        "id": "V-KI781jU2Ru"
      }
    },
    {
      "cell_type": "markdown",
      "source": [
        "##### **Example:** *Rossmann Sales Competition*\n",
        "At the end of 2015, the Rossmann sales competition ran on Kaggle. Competitors were given a wide range of information about various stores in Germany and were tasked with trying to predict sales on a number of days. The goal was to help the company manage stock properly and satisfy demand without holding unnecessary inventory.\n",
        "\n",
        "One of the gold medalists used **deep learning**, in one of the earliest examples of a state-of-the-art deep learning tabular model. Their method involved far less feature engineering based on domain knowledge than those of the other gold medalists.\n",
        "\n",
        "The paper [\"Entity Embeddings of Categorical Variables\"](https://arxiv.org/abs/1604.06737) by Cheng Guo and Felix Bekhahn describes their approach:\n",
        "- **Advantages of Entity Embeddings**:\n",
        "  - Reduces memory usage and speeds up neural networks compared with one-hot encoding.\n",
        "  - Maps similar values close to each other in the embedding space, revealing intrinsic properties of categorical variables.\n",
        "  - Useful for datasets with high cardinality features where other methods tend to overfit.\n",
        "  - Defines a distance measure for categorical variables, enabling visualization and clustering.\n",
        "\n",
        "  ***"
      ],
      "metadata": {
        "id": "aIvyddxQVpg3"
      }
    },
    {
      "cell_type": "markdown",
      "source": [
        "##### ***Key Insights from the Paper:***\n",
        "1. **Equivalence of Embedding Layers and Linear Layers**: An embedding layer is equivalent to placing an ordinary linear layer after every one-hot encoded input layer.\n",
        "2. **Embedding Weights Analysis**:\n",
        "   - Transforms categorical variables into inputs that are both continuous and meaningful.\n",
        "   - Embedding distances often align with intuitive or real-world distances (e.g., geographic distance for states).\n",
        "\n",
        "---"
      ],
      "metadata": {
        "id": "TlzRI3ljWJh3"
      }
    },
    {
      "cell_type": "markdown",
      "source": [
        "#### B. Visualizing Embeddings"
      ],
      "metadata": {
        "id": "TiSBbom1WPkw"
      }
    },
    {
      "cell_type": "markdown",
      "source": [
        "The embeddings learned can reveal patterns in categorical data:\n",
        "1. **State Embeddings**: Embeddings for German states learned their relative positions based solely on sales data.\n",
        "2. **Date Embeddings**: Days of the week or months close in time are also close in the embedding space."
      ],
      "metadata": {
        "id": "zpw7DhRUW9Q-"
      }
    },
    {
      "cell_type": "code",
      "source": [
        "\"Example code 1:\"\n",
        "import matplotlib.pyplot as plt\n",
        "import numpy as np\n",
        "\n",
        "# Simulated embedding data for states\n",
        "states = ['Berlin', 'Hamburg', 'Munich', 'Cologne']\n",
        "embeddings = np.random.rand(len(states), 2)\n",
        "\n",
        "plt.figure(figsize=(8, 6))\n",
        "for i, state in enumerate(states):\n",
        "    plt.scatter(embeddings[i, 0], embeddings[i, 1], label=state)\n",
        "    plt.text(embeddings[i, 0], embeddings[i, 1], state, fontsize=12)\n",
        "\n",
        "plt.title('State Embeddings')\n",
        "plt.xlabel('Dimension 1')\n",
        "plt.ylabel('Dimension 2')\n",
        "plt.legend()\n",
        "plt.show()"
      ],
      "metadata": {
        "id": "q062NgoKXuDW",
        "colab": {
          "base_uri": "https://localhost:8080/",
          "height": 573
        },
        "outputId": "cc40ef4c-6c83-494f-a505-a633c6f83b07"
      },
      "execution_count": 3,
      "outputs": [
        {
          "output_type": "display_data",
          "data": {
            "text/plain": [
              "<Figure size 800x600 with 1 Axes>"
            ],
            "image/png": "[encoded data removed]"
          },
          "metadata": {}
        }
      ]
    },
    {
      "cell_type": "markdown",
      "source": [
        "The above code simulates and visualizes embeddings for states. The scatter plot shows embeddings projected into two dimensions, and annotations indicate which state each point corresponds to. This visualization can help identify patterns, such as how similar states cluster together in the embedding space.\n",
        "\n",
        "The next code snippet simulates embeddings for days of the week. Each point in the scatter plot represents a day, with proximity in the plot reflecting similarity in the learned embedding space. For instance, weekdays may group together, while weekends might form their own cluster."
      ],
      "metadata": {
        "id": "oAJumUO3ZNBW"
      }
    },
    {
      "cell_type": "code",
      "source": [
        "\"Example Code 2:\"\n",
        "# Simulated embedding data for days of the week\n",
        "days = ['Monday', 'Tuesday', 'Wednesday', 'Thursday', 'Friday', 'Saturday', 'Sunday']\n",
        "embeddings = np.random.rand(len(days), 2)\n",
        "\n",
        "plt.figure(figsize=(8, 6))\n",
        "for i, day in enumerate(days):\n",
        "    plt.scatter(embeddings[i, 0], embeddings[i, 1], label=day)\n",
        "    plt.text(embeddings[i, 0], embeddings[i, 1], day, fontsize=12)\n",
        "\n",
        "plt.title('Date Embeddings')\n",
        "plt.xlabel('Dimension 1')\n",
        "plt.ylabel('Dimension 2')\n",
        "plt.legend()\n",
        "plt.show()"
      ],
      "metadata": {
        "id": "eR0P7h6FXzWf",
        "colab": {
          "base_uri": "https://localhost:8080/",
          "height": 573
        },
        "outputId": "56ae680f-7a10-464d-dc0a-01dc6ce5a3c4"
      },
      "execution_count": 4,
      "outputs": [
        {
          "output_type": "display_data",
          "data": {
            "text/plain": [
              "<Figure size 800x600 with 1 Axes>"
            ],
            "image/png": "[encoded data removed]"
          },
          "metadata": {}
        }
      ]
    },
    {
      "cell_type": "markdown",
      "source": [
        "---\n",
        "#### C. Benefits of Embeddings"
      ],
      "metadata": {
        "id": "chyc3wy6X6TQ"
      }
    },
    {
      "cell_type": "markdown",
      "source": [
        "\n",
        "1. **Continuous Representation**: Models are better at understanding continuous variables.\n",
        "2. **Efficient Integration**: Continuous embeddings can be concatenated with other continuous input data before being fed into a dense layer.\n",
        "\n",
        "---"
      ],
      "metadata": {
        "id": "nQfAl0kJakNt"
      }
    },
    {
      "cell_type": "markdown",
      "source": [
        "#### D. Real-World Application: *Google Play Recommendations*\n"
      ],
      "metadata": {
        "id": "FokcyXjHYzSv"
      }
    },
    {
      "cell_type": "markdown",
      "source": [
        "Google’s recommendation system, as explained in the paper [\"Wide & Deep Learning for Recommender Systems\"](https://arxiv.org/abs/1606.07792), combines embeddings with both cross-product and neural network approaches. This hybrid system achieves state-of-the-art performance."
      ],
      "metadata": {
        "id": "0cn_b-ZNZ5PW"
      }
    },
    {
      "cell_type": "markdown",
      "source": [
        "> Deep learning also works very well for collaborative filtering. But it is not\n",
        " always the best starting point for analyzing tabular data."
      ],
      "metadata": {
        "id": "NUnYLMqLao1w"
      }
    },
    {
      "cell_type": "markdown",
      "source": [
        "### **2. Beyond Deep Learning**"
      ],
      "metadata": {
        "id": "5nmtpPZBbOa-"
      }
    },
    {
      "cell_type": "markdown",
      "source": [
        "Modern machine learning can largely be summarized into two highly effective approaches:\n",
        "\n",
        "1. **Ensembles of Decision Trees**\n",
        "   - Examples: Random forests, Gradient Boosting Machines (e.g., XGBoost, LightGBM, CatBoost).\n",
        "   - Best suited for structured/tabular data (e.g., datasets from database tables).\n",
        "   - Advantages:\n",
        "     - Faster training.\n",
        "     - Easier to interpret.\n",
        "     - No need for specialized GPU hardware.\n",
        "     - Mature ecosystem and tooling.\n",
        "     - Requires less hyperparameter tuning.\n",
        "   - Tools for interpretability:\n",
        "     - Identifying important features.\n",
        "     - Understanding feature relationships with the target variable.\n",
        "     - Explaining predictions for specific observations.\n",
        "\n",
        "2. **Multilayered Neural Networks (Deep Learning)**\n",
        "   - Examples: CNNs, RNNs, Transformers.\n",
        "   - Best suited for unstructured data (e.g., images, audio, text).\n",
        "   - Nearly always superior for unstructured data but may overlap with tree-based models for structured data.\n",
        "\n",
        "> **Guideline:** Start with decision tree ensembles for structured data unless high-cardinality categorical variables or unstructured data are present.\n",
        "\n",
        "---"
      ],
      "metadata": {
        "id": "wc4RrMnJcKV_"
      }
    },
    {
      "cell_type": "markdown",
      "source": [
        "#### A. Dataset for Demonstration: *Blue Book for Bulldozers*"
      ],
      "metadata": {
        "id": "EEoAKwdQcmAg"
      }
    },
    {
      "cell_type": "markdown",
      "source": [
        "**Problem:** Predict the auction sale price of heavy equipment based on features like usage, equipment type, and configuration.\n",
        "\n",
        "**Source:** Supposed to be Kaggle competetion 💀"
      ],
      "metadata": {
        "id": "ZvhJaXK3dzoe"
      }
    },
    {
      "cell_type": "markdown",
      "source": [
        "> **Problem I faced:** \\\n",
        "> So, the competition was over a long time ago. Now there's no other way than downloading those data manually, uploading in drive and accessing them."
      ],
      "metadata": {
        "id": "LFxCTyjZAHcd"
      }
    },
    {
      "cell_type": "code",
      "source": [
        "from google.colab import drive\n",
        "drive.mount('/content/drive')"
      ],
      "metadata": {
        "id": "swvtoZcYH5rv",
        "outputId": "93b03a04-e90b-4fc8-f259-c7426ca206d2",
        "colab": {
          "base_uri": "https://localhost:8080/"
        }
      },
      "execution_count": 67,
      "outputs": [
        {
          "output_type": "stream",
          "name": "stdout",
          "text": [
            "Drive already mounted at /content/drive; to attempt to forcibly remount, call drive.mount(\"/content/drive\", force_remount=True).\n"
          ]
        }
      ]
    },
    {
      "cell_type": "code",
      "source": [
        "# !ls /content/drive/MyDrive"
      ],
      "metadata": {
        "id": "BWyLV_xZH7r0"
      },
      "execution_count": 66,
      "outputs": []
    },
    {
      "cell_type": "code",
      "source": [
        "!cp \"/content/drive/MyDrive/bluebook-for-bulldozers.zip\" /content/"
      ],
      "metadata": {
        "id": "QEEW6w0fI8Ec"
      },
      "execution_count": 7,
      "outputs": []
    },
    {
      "cell_type": "code",
      "source": [
        "#@ Extracting the zip file\n",
        "\n",
        "zip_path = \"/content/bluebook-for-bulldozers.zip\"\n",
        "extract_path = \"/content/dataset\"\n",
        "with zipfile.ZipFile(zip_path, 'r') as zip_ref:\n",
        "    zip_ref.extractall(extract_path)"
      ],
      "metadata": {
        "id": "p0jwmaIuJZv0"
      },
      "execution_count": 8,
      "outputs": []
    },
    {
      "cell_type": "code",
      "source": [
        "data_path = \"/content/dataset/bluebook-for-bulldozers/TrainAndValid/TrainAndValid.csv\"\n",
        "test_path = \"/content/dataset/bluebook-for-bulldozers/Test.csv\"\n",
        "\n",
        "#@ Loading  the dataset\n",
        "data_df = pd.read_csv(data_path)\n",
        "test_df = pd.read_csv(test_path)"
      ],
      "metadata": {
        "id": "B_L8q5IgJ2AD",
        "outputId": "4ad21e1f-c071-4831-9f1d-19c02fae063c",
        "colab": {
          "base_uri": "https://localhost:8080/"
        }
      },
      "execution_count": 9,
      "outputs": [
        {
          "output_type": "stream",
          "name": "stderr",
          "text": [
            "<ipython-input-9-8e1d2fd8cf28>:5: DtypeWarning: Columns (13,39,40,41) have mixed types. Specify dtype option on import or set low_memory=False.\n",
            "  data_df = pd.read_csv(data_path)\n"
          ]
        }
      ]
    },
    {
      "cell_type": "code",
      "source": [
        "data_df.columns"
      ],
      "metadata": {
        "id": "ZY8t0zx9KixL",
        "outputId": "9915a796-324f-4b9d-e8ea-228d109179bc",
        "colab": {
          "base_uri": "https://localhost:8080/"
        }
      },
      "execution_count": 10,
      "outputs": [
        {
          "output_type": "execute_result",
          "data": {
            "text/plain": [
              "Index(['SalesID', 'SalePrice', 'MachineID', 'ModelID', 'datasource',\n",
              "       'auctioneerID', 'YearMade', 'MachineHoursCurrentMeter', 'UsageBand',\n",
              "       'saledate', 'fiModelDesc', 'fiBaseModel', 'fiSecondaryDesc',\n",
              "       'fiModelSeries', 'fiModelDescriptor', 'ProductSize',\n",
              "       'fiProductClassDesc', 'state', 'ProductGroup', 'ProductGroupDesc',\n",
              "       'Drive_System', 'Enclosure', 'Forks', 'Pad_Type', 'Ride_Control',\n",
              "       'Stick', 'Transmission', 'Turbocharged', 'Blade_Extension',\n",
              "       'Blade_Width', 'Enclosure_Type', 'Engine_Horsepower', 'Hydraulics',\n",
              "       'Pushblock', 'Ripper', 'Scarifier', 'Tip_Control', 'Tire_Size',\n",
              "       'Coupler', 'Coupler_System', 'Grouser_Tracks', 'Hydraulics_Flow',\n",
              "       'Track_Type', 'Undercarriage_Pad_Width', 'Stick_Length', 'Thumb',\n",
              "       'Pattern_Changer', 'Grouser_Type', 'Backhoe_Mounting', 'Blade_Type',\n",
              "       'Travel_Controls', 'Differential_Type', 'Steering_Controls'],\n",
              "      dtype='object')"
            ]
          },
          "metadata": {},
          "execution_count": 10
        }
      ]
    },
    {
      "cell_type": "code",
      "source": [
        "#@ Handling the ordinal columns\n",
        "\n",
        "data_df['ProductSize'].unique()"
      ],
      "metadata": {
        "id": "n3Xr9Mlo8ULp",
        "outputId": "4b966d68-1609-43cf-c63d-e0fe1f6e76ab",
        "colab": {
          "base_uri": "https://localhost:8080/"
        }
      },
      "execution_count": 11,
      "outputs": [
        {
          "output_type": "execute_result",
          "data": {
            "text/plain": [
              "array([nan, 'Medium', 'Small', 'Large / Medium', 'Mini', 'Large', 'Compact'], dtype=object)"
            ]
          },
          "metadata": {},
          "execution_count": 11
        }
      ]
    },
    {
      "cell_type": "code",
      "source": [
        "##! Ordering\n",
        "\n",
        "sizes= 'Large', 'Large / Medium', 'Medium', 'Small', 'Mini', 'Compact'\n",
        "\n",
        "data_df['ProductSize'] = data_df['ProductSize'].astype('category')\n",
        "data_df['ProductSize'].cat.set_categories(sizes, ordered= True)"
      ],
      "metadata": {
        "id": "Q3a0BjDS8ebI",
        "outputId": "45431d47-e190-4b6b-9ada-7a6e3c2ac516",
        "colab": {
          "base_uri": "https://localhost:8080/",
          "height": 458
        }
      },
      "execution_count": 12,
      "outputs": [
        {
          "output_type": "execute_result",
          "data": {
            "text/plain": [
              "0            NaN\n",
              "1         Medium\n",
              "2            NaN\n",
              "3          Small\n",
              "4            NaN\n",
              "           ...  \n",
              "412693      Mini\n",
              "412694      Mini\n",
              "412695      Mini\n",
              "412696      Mini\n",
              "412697      Mini\n",
              "Name: ProductSize, Length: 412698, dtype: category\n",
              "Categories (6, object): ['Large' < 'Large / Medium' < 'Medium' < 'Small' < 'Mini' < 'Compact']"
            ],
            "text/html": [
              "<div>\n",
              "<style scoped>\n",
              "    .dataframe tbody tr th:only-of-type {\n",
              "        vertical-align: middle;\n",
              "    }\n",
              "\n",
              "    .dataframe tbody tr th {\n",
              "        vertical-align: top;\n",
              "    }\n",
              "\n",
              "    .dataframe thead th {\n",
              "        text-align: right;\n",
              "    }\n",
              "</style>\n",
              "<table border=\"1\" class=\"dataframe\">\n",
              "  <thead>\n",
              "    <tr style=\"text-align: right;\">\n",
              "      <th></th>\n",
              "      <th>ProductSize</th>\n",
              "    </tr>\n",
              "  </thead>\n",
              "  <tbody>\n",
              "    <tr>\n",
              "      <th>0</th>\n",
              "      <td>NaN</td>\n",
              "    </tr>\n",
              "    <tr>\n",
              "      <th>1</th>\n",
              "      <td>Medium</td>\n",
              "    </tr>\n",
              "    <tr>\n",
              "      <th>2</th>\n",
              "      <td>NaN</td>\n",
              "    </tr>\n",
              "    <tr>\n",
              "      <th>3</th>\n",
              "      <td>Small</td>\n",
              "    </tr>\n",
              "    <tr>\n",
              "      <th>4</th>\n",
              "      <td>NaN</td>\n",
              "    </tr>\n",
              "    <tr>\n",
              "      <th>...</th>\n",
              "      <td>...</td>\n",
              "    </tr>\n",
              "    <tr>\n",
              "      <th>412693</th>\n",
              "      <td>Mini</td>\n",
              "    </tr>\n",
              "    <tr>\n",
              "      <th>412694</th>\n",
              "      <td>Mini</td>\n",
              "    </tr>\n",
              "    <tr>\n",
              "      <th>412695</th>\n",
              "      <td>Mini</td>\n",
              "    </tr>\n",
              "    <tr>\n",
              "      <th>412696</th>\n",
              "      <td>Mini</td>\n",
              "    </tr>\n",
              "    <tr>\n",
              "      <th>412697</th>\n",
              "      <td>Mini</td>\n",
              "    </tr>\n",
              "  </tbody>\n",
              "</table>\n",
              "<p>412698 rows × 1 columns</p>\n",
              "</div><br><label><b>dtype:</b> category</label>"
            ]
          },
          "metadata": {},
          "execution_count": 12
        }
      ]
    },
    {
      "cell_type": "code",
      "source": [
        "#@ Calculating the RMLSE:\n",
        "\n",
        "dep_var = 'SalePrice'  #dependent variable\n",
        "data_df[dep_var] = np.log(data_df[dep_var])"
      ],
      "metadata": {
        "id": "hbg9Sxq4-9Aw"
      },
      "execution_count": 13,
      "outputs": []
    },
    {
      "cell_type": "markdown",
      "source": [
        "---\n",
        "#### B. Decision Trees"
      ],
      "metadata": {
        "id": "j8unuT_SAly3"
      }
    },
    {
      "cell_type": "markdown",
      "source": [
        "##### B1. Understanding Decision Tress\n"
      ],
      "metadata": {
        "id": "mZ6DB-pNA1Pn"
      }
    },
    {
      "cell_type": "markdown",
      "source": [
        "A decision tree consists of a sequence of binary questions that split data into distinct branches. Each split is based on a condition related to the features in the dataset. For instance, a tree can ask questions like \"Is Feature A > Threshold?\" and split the data accordingly. The goal is to keep splitting until we can make accurate predictions for each group."
      ],
      "metadata": {
        "id": "DMgx7_uvB1FP"
      }
    },
    {
      "cell_type": "markdown",
      "source": [
        "##### B2. Steps To Train a Decision Tree"
      ],
      "metadata": {
        "id": "Is9f0aaEB313"
      }
    },
    {
      "cell_type": "markdown",
      "source": [
        "  1. Loop through each column of the dataset.\n",
        "  2. For each column, evaluate all possible thresholds for splitting.\n",
        "  3. Split data into two groups based on the threshold.\n",
        "  4. Calculate predictions using the average target value in each group.\n",
        "  5. Find the best split that minimizes prediction error.\n",
        "  6. Recursively repeat the process for the resulting groups until a stopping criterion (e.g., minimum group size) is met.\n",
        "\n",
        "---"
      ],
      "metadata": {
        "id": "PGil2Jy3CBS3"
      }
    },
    {
      "cell_type": "markdown",
      "source": [
        "#### C. Handling Dates"
      ],
      "metadata": {
        "id": "YNbEtXQMCFIA"
      }
    },
    {
      "cell_type": "markdown",
      "source": [
        "Dates need to be expanded into meaningful categorical or ordinal features (e.g., day of the week, month). This allows the decision tree to make splits based on these additional features.\n"
      ],
      "metadata": {
        "id": "3dyfJEDoColv"
      }
    },
    {
      "cell_type": "code",
      "source": [
        "'''\n",
        "   fastai's add_datepart() function handles date. So directly using that\n",
        "'''\n",
        "\n",
        "data_df= add_datepart(data_df, 'saledate')\n",
        "test_df = add_datepart(test_df, 'saledate')\n",
        "\n",
        "\"the above code is only supposed to be run once since it breaks the date to saleYear, saleMonth and so on\""
      ],
      "metadata": {
        "id": "mHtWc9zGCtCf",
        "outputId": "7ce7af1f-1115-4722-8af0-a248c92f4b42",
        "colab": {
          "base_uri": "https://localhost:8080/",
          "height": 125
        }
      },
      "execution_count": 14,
      "outputs": [
        {
          "output_type": "stream",
          "name": "stderr",
          "text": [
            "/usr/local/lib/python3.10/dist-packages/fastai/tabular/core.py:25: UserWarning: The argument 'infer_datetime_format' is deprecated and will be removed in a future version. A strict version of it is now the default, see https://pandas.pydata.org/pdeps/0004-consistent-to-datetime-parsing.html. You can safely remove this argument.\n",
            "  df[date_field] = pd.to_datetime(df[date_field], infer_datetime_format=True)\n",
            "/usr/local/lib/python3.10/dist-packages/fastai/tabular/core.py:25: UserWarning: The argument 'infer_datetime_format' is deprecated and will be removed in a future version. A strict version of it is now the default, see https://pandas.pydata.org/pdeps/0004-consistent-to-datetime-parsing.html. You can safely remove this argument.\n",
            "  df[date_field] = pd.to_datetime(df[date_field], infer_datetime_format=True)\n"
          ]
        },
        {
          "output_type": "execute_result",
          "data": {
            "text/plain": [
              "'the above code is only supposed to be run once since it breaks the date to saleYear, saleMonth and so on'"
            ],
            "application/vnd.google.colaboratory.intrinsic+json": {
              "type": "string"
            }
          },
          "metadata": {},
          "execution_count": 14
        }
      ]
    },
    {
      "cell_type": "code",
      "source": [
        "##@ Inspecting the columns which start with word \"sale\"\n",
        "\n",
        "' '.join(o for o in data_df.columns if o.startswith('sale'))"
      ],
      "metadata": {
        "id": "3tEAlfM6DtbI",
        "outputId": "9f770367-0497-445e-8470-22540754f298",
        "colab": {
          "base_uri": "https://localhost:8080/",
          "height": 35
        }
      },
      "execution_count": 15,
      "outputs": [
        {
          "output_type": "execute_result",
          "data": {
            "text/plain": [
              "'saleYear saleMonth saleWeek saleDay saleDayofweek saleDayofyear saleIs_month_end saleIs_month_start saleIs_quarter_end saleIs_quarter_start saleIs_year_end saleIs_year_start saleElapsed'"
            ],
            "application/vnd.google.colaboratory.intrinsic+json": {
              "type": "string"
            }
          },
          "metadata": {},
          "execution_count": 15
        }
      ]
    },
    {
      "cell_type": "markdown",
      "source": [
        "---\n",
        "#### D. Handling Missing Data and Categoricals\n"
      ],
      "metadata": {
        "id": "iRCgb-WoEC3P"
      }
    },
    {
      "cell_type": "markdown",
      "source": [
        "Fastai provides `TabularPandas` and `TabularProcs` for handling tabular data. We use `Categorify` to convert categorical variables into numeric categories and `FillMissing` to handle missing values.\n"
      ],
      "metadata": {
        "id": "FhbU54UkEXEI"
      }
    },
    {
      "cell_type": "code",
      "source": [
        "##@ Defining preprocessing steps\n",
        "procs = [Categorify, FillMissing]"
      ],
      "metadata": {
        "id": "VZyffalrEbYw"
      },
      "execution_count": 16,
      "outputs": []
    },
    {
      "cell_type": "code",
      "source": [
        "#@ Now we split the TrainAndValid\n",
        "\n",
        "cond = (data_df.saleYear<2011) | (data_df.saleMonth<10)\n",
        "train_idx = np.where(cond)[0]\n",
        "valid_idx = np.where(~cond)[0]\n",
        "\n",
        "splits = (list(train_idx), list(valid_idx))"
      ],
      "metadata": {
        "id": "8gcElH9HFexp"
      },
      "execution_count": 17,
      "outputs": []
    },
    {
      "cell_type": "markdown",
      "source": [
        "The `TabularPandas` needs to be told which columns are continuous and which are catego\n",
        "rical. We can handle that automatically using the helper function `cont_cat_split`"
      ],
      "metadata": {
        "id": "l9sLJly1CGRQ"
      }
    },
    {
      "cell_type": "code",
      "source": [
        "cont,cat = cont_cat_split(data_df, max_card=1, dep_var=dep_var)\n",
        "tabular_pandas = TabularPandas(data_df, procs, cat, cont, y_names=dep_var, splits=splits)"
      ],
      "metadata": {
        "colab": {
          "base_uri": "https://localhost:8080/"
        },
        "id": "MpcsXUDGCc-u",
        "outputId": "15d88c99-f47d-4ccc-b28e-73a2a1d242fa"
      },
      "execution_count": 18,
      "outputs": [
        {
          "output_type": "stream",
          "name": "stderr",
          "text": [
            "/usr/local/lib/python3.10/dist-packages/fastai/tabular/core.py:314: FutureWarning: A value is trying to be set on a copy of a DataFrame or Series through chained assignment using an inplace method.\n",
            "The behavior will change in pandas 3.0. This inplace method will never work because the intermediate object on which we are setting values always behaves as a copy.\n",
            "\n",
            "For example, when doing 'df[col].method(value, inplace=True)', try using 'df.method({col: value}, inplace=True)' or df[col] = df[col].method(value) instead, to perform the operation inplace on the original object.\n",
            "\n",
            "\n",
            "  to[n].fillna(self.na_dict[n], inplace=True)\n",
            "/usr/local/lib/python3.10/dist-packages/fastai/tabular/core.py:314: FutureWarning: A value is trying to be set on a copy of a DataFrame or Series through chained assignment using an inplace method.\n",
            "The behavior will change in pandas 3.0. This inplace method will never work because the intermediate object on which we are setting values always behaves as a copy.\n",
            "\n",
            "For example, when doing 'df[col].method(value, inplace=True)', try using 'df.method({col: value}, inplace=True)' or df[col] = df[col].method(value) instead, to perform the operation inplace on the original object.\n",
            "\n",
            "\n",
            "  to[n].fillna(self.na_dict[n], inplace=True)\n"
          ]
        }
      ]
    },
    {
      "cell_type": "code",
      "source": [
        "#@ Lets then test the length of these splits\n",
        "\n",
        "len(tabular_pandas.train), len(tabular_pandas.valid)"
      ],
      "metadata": {
        "colab": {
          "base_uri": "https://localhost:8080/"
        },
        "id": "5kkfZpzhCs7v",
        "outputId": "ed57d1ec-2583-4dbb-bde8-93a7e012d0d2"
      },
      "execution_count": 19,
      "outputs": [
        {
          "output_type": "execute_result",
          "data": {
            "text/plain": [
              "(404710, 7988)"
            ]
          },
          "metadata": {},
          "execution_count": 19
        }
      ]
    },
    {
      "cell_type": "code",
      "source": [
        "##@ Inspecting the tabular pandas object\n",
        "tabular_pandas.show(3)"
      ],
      "metadata": {
        "colab": {
          "base_uri": "https://localhost:8080/",
          "height": 233
        },
        "id": "3M0hpFQuDBnG",
        "outputId": "07dfdd2c-66d0-42fa-fee7-da129f807019"
      },
      "execution_count": 20,
      "outputs": [
        {
          "output_type": "display_data",
          "data": {
            "text/plain": [
              "<IPython.core.display.HTML object>"
            ],
            "text/html": [
              "<table border=\"1\" class=\"dataframe\">\n",
              "  <thead>\n",
              "    <tr style=\"text-align: right;\">\n",
              "      <th></th>\n",
              "      <th>UsageBand</th>\n",
              "      <th>fiModelDesc</th>\n",
              "      <th>fiBaseModel</th>\n",
              "      <th>fiSecondaryDesc</th>\n",
              "      <th>fiModelSeries</th>\n",
              "      <th>fiModelDescriptor</th>\n",
              "      <th>ProductSize</th>\n",
              "      <th>fiProductClassDesc</th>\n",
              "      <th>state</th>\n",
              "      <th>ProductGroup</th>\n",
              "      <th>ProductGroupDesc</th>\n",
              "      <th>Drive_System</th>\n",
              "      <th>Enclosure</th>\n",
              "      <th>Forks</th>\n",
              "      <th>Pad_Type</th>\n",
              "      <th>Ride_Control</th>\n",
              "      <th>Stick</th>\n",
              "      <th>Transmission</th>\n",
              "      <th>Turbocharged</th>\n",
              "      <th>Blade_Extension</th>\n",
              "      <th>Blade_Width</th>\n",
              "      <th>Enclosure_Type</th>\n",
              "      <th>Engine_Horsepower</th>\n",
              "      <th>Hydraulics</th>\n",
              "      <th>Pushblock</th>\n",
              "      <th>Ripper</th>\n",
              "      <th>Scarifier</th>\n",
              "      <th>Tip_Control</th>\n",
              "      <th>Tire_Size</th>\n",
              "      <th>Coupler</th>\n",
              "      <th>Coupler_System</th>\n",
              "      <th>Grouser_Tracks</th>\n",
              "      <th>Hydraulics_Flow</th>\n",
              "      <th>Track_Type</th>\n",
              "      <th>Undercarriage_Pad_Width</th>\n",
              "      <th>Stick_Length</th>\n",
              "      <th>Thumb</th>\n",
              "      <th>Pattern_Changer</th>\n",
              "      <th>Grouser_Type</th>\n",
              "      <th>Backhoe_Mounting</th>\n",
              "      <th>Blade_Type</th>\n",
              "      <th>Travel_Controls</th>\n",
              "      <th>Differential_Type</th>\n",
              "      <th>Steering_Controls</th>\n",
              "      <th>saleIs_month_end</th>\n",
              "      <th>saleIs_month_start</th>\n",
              "      <th>saleIs_quarter_end</th>\n",
              "      <th>saleIs_quarter_start</th>\n",
              "      <th>saleIs_year_end</th>\n",
              "      <th>saleIs_year_start</th>\n",
              "      <th>auctioneerID_na</th>\n",
              "      <th>MachineHoursCurrentMeter_na</th>\n",
              "      <th>SalesID</th>\n",
              "      <th>MachineID</th>\n",
              "      <th>ModelID</th>\n",
              "      <th>datasource</th>\n",
              "      <th>auctioneerID</th>\n",
              "      <th>YearMade</th>\n",
              "      <th>MachineHoursCurrentMeter</th>\n",
              "      <th>saleYear</th>\n",
              "      <th>saleMonth</th>\n",
              "      <th>saleWeek</th>\n",
              "      <th>saleDay</th>\n",
              "      <th>saleDayofweek</th>\n",
              "      <th>saleDayofyear</th>\n",
              "      <th>saleElapsed</th>\n",
              "      <th>SalePrice</th>\n",
              "    </tr>\n",
              "  </thead>\n",
              "  <tbody>\n",
              "    <tr>\n",
              "      <th>0</th>\n",
              "      <td>Low</td>\n",
              "      <td>521D</td>\n",
              "      <td>521</td>\n",
              "      <td>D</td>\n",
              "      <td>#na#</td>\n",
              "      <td>#na#</td>\n",
              "      <td>#na#</td>\n",
              "      <td>Wheel Loader - 110.0 to 120.0 Horsepower</td>\n",
              "      <td>Alabama</td>\n",
              "      <td>WL</td>\n",
              "      <td>Wheel Loader</td>\n",
              "      <td>#na#</td>\n",
              "      <td>EROPS w AC</td>\n",
              "      <td>None or Unspecified</td>\n",
              "      <td>#na#</td>\n",
              "      <td>None or Unspecified</td>\n",
              "      <td>#na#</td>\n",
              "      <td>#na#</td>\n",
              "      <td>#na#</td>\n",
              "      <td>#na#</td>\n",
              "      <td>#na#</td>\n",
              "      <td>#na#</td>\n",
              "      <td>#na#</td>\n",
              "      <td>2 Valve</td>\n",
              "      <td>#na#</td>\n",
              "      <td>#na#</td>\n",
              "      <td>#na#</td>\n",
              "      <td>#na#</td>\n",
              "      <td>None or Unspecified</td>\n",
              "      <td>None or Unspecified</td>\n",
              "      <td>#na#</td>\n",
              "      <td>#na#</td>\n",
              "      <td>#na#</td>\n",
              "      <td>#na#</td>\n",
              "      <td>#na#</td>\n",
              "      <td>#na#</td>\n",
              "      <td>#na#</td>\n",
              "      <td>#na#</td>\n",
              "      <td>#na#</td>\n",
              "      <td>#na#</td>\n",
              "      <td>#na#</td>\n",
              "      <td>#na#</td>\n",
              "      <td>Standard</td>\n",
              "      <td>Conventional</td>\n",
              "      <td>False</td>\n",
              "      <td>False</td>\n",
              "      <td>False</td>\n",
              "      <td>False</td>\n",
              "      <td>False</td>\n",
              "      <td>False</td>\n",
              "      <td>False</td>\n",
              "      <td>False</td>\n",
              "      <td>1139246</td>\n",
              "      <td>999089</td>\n",
              "      <td>3157</td>\n",
              "      <td>121</td>\n",
              "      <td>3.0</td>\n",
              "      <td>2004</td>\n",
              "      <td>68.0</td>\n",
              "      <td>2006</td>\n",
              "      <td>11</td>\n",
              "      <td>46</td>\n",
              "      <td>16</td>\n",
              "      <td>3</td>\n",
              "      <td>320</td>\n",
              "      <td>1.163635e+09</td>\n",
              "      <td>11.097410</td>\n",
              "    </tr>\n",
              "    <tr>\n",
              "      <th>1</th>\n",
              "      <td>Low</td>\n",
              "      <td>950FII</td>\n",
              "      <td>950</td>\n",
              "      <td>F</td>\n",
              "      <td>II</td>\n",
              "      <td>#na#</td>\n",
              "      <td>Medium</td>\n",
              "      <td>Wheel Loader - 150.0 to 175.0 Horsepower</td>\n",
              "      <td>North Carolina</td>\n",
              "      <td>WL</td>\n",
              "      <td>Wheel Loader</td>\n",
              "      <td>#na#</td>\n",
              "      <td>EROPS w AC</td>\n",
              "      <td>None or Unspecified</td>\n",
              "      <td>#na#</td>\n",
              "      <td>None or Unspecified</td>\n",
              "      <td>#na#</td>\n",
              "      <td>#na#</td>\n",
              "      <td>#na#</td>\n",
              "      <td>#na#</td>\n",
              "      <td>#na#</td>\n",
              "      <td>#na#</td>\n",
              "      <td>#na#</td>\n",
              "      <td>2 Valve</td>\n",
              "      <td>#na#</td>\n",
              "      <td>#na#</td>\n",
              "      <td>#na#</td>\n",
              "      <td>#na#</td>\n",
              "      <td>23.5</td>\n",
              "      <td>None or Unspecified</td>\n",
              "      <td>#na#</td>\n",
              "      <td>#na#</td>\n",
              "      <td>#na#</td>\n",
              "      <td>#na#</td>\n",
              "      <td>#na#</td>\n",
              "      <td>#na#</td>\n",
              "      <td>#na#</td>\n",
              "      <td>#na#</td>\n",
              "      <td>#na#</td>\n",
              "      <td>#na#</td>\n",
              "      <td>#na#</td>\n",
              "      <td>#na#</td>\n",
              "      <td>Standard</td>\n",
              "      <td>Conventional</td>\n",
              "      <td>False</td>\n",
              "      <td>False</td>\n",
              "      <td>False</td>\n",
              "      <td>False</td>\n",
              "      <td>False</td>\n",
              "      <td>False</td>\n",
              "      <td>False</td>\n",
              "      <td>False</td>\n",
              "      <td>1139248</td>\n",
              "      <td>117657</td>\n",
              "      <td>77</td>\n",
              "      <td>121</td>\n",
              "      <td>3.0</td>\n",
              "      <td>1996</td>\n",
              "      <td>4640.0</td>\n",
              "      <td>2004</td>\n",
              "      <td>3</td>\n",
              "      <td>13</td>\n",
              "      <td>26</td>\n",
              "      <td>4</td>\n",
              "      <td>86</td>\n",
              "      <td>1.080259e+09</td>\n",
              "      <td>10.950807</td>\n",
              "    </tr>\n",
              "    <tr>\n",
              "      <th>2</th>\n",
              "      <td>High</td>\n",
              "      <td>226</td>\n",
              "      <td>226</td>\n",
              "      <td>#na#</td>\n",
              "      <td>#na#</td>\n",
              "      <td>#na#</td>\n",
              "      <td>#na#</td>\n",
              "      <td>Skid Steer Loader - 1351.0 to 1601.0 Lb Operating Capacity</td>\n",
              "      <td>New York</td>\n",
              "      <td>SSL</td>\n",
              "      <td>Skid Steer Loaders</td>\n",
              "      <td>#na#</td>\n",
              "      <td>OROPS</td>\n",
              "      <td>None or Unspecified</td>\n",
              "      <td>#na#</td>\n",
              "      <td>#na#</td>\n",
              "      <td>#na#</td>\n",
              "      <td>#na#</td>\n",
              "      <td>#na#</td>\n",
              "      <td>#na#</td>\n",
              "      <td>#na#</td>\n",
              "      <td>#na#</td>\n",
              "      <td>#na#</td>\n",
              "      <td>Auxiliary</td>\n",
              "      <td>#na#</td>\n",
              "      <td>#na#</td>\n",
              "      <td>#na#</td>\n",
              "      <td>#na#</td>\n",
              "      <td>#na#</td>\n",
              "      <td>None or Unspecified</td>\n",
              "      <td>None or Unspecified</td>\n",
              "      <td>None or Unspecified</td>\n",
              "      <td>Standard</td>\n",
              "      <td>#na#</td>\n",
              "      <td>#na#</td>\n",
              "      <td>#na#</td>\n",
              "      <td>#na#</td>\n",
              "      <td>#na#</td>\n",
              "      <td>#na#</td>\n",
              "      <td>#na#</td>\n",
              "      <td>#na#</td>\n",
              "      <td>#na#</td>\n",
              "      <td>#na#</td>\n",
              "      <td>#na#</td>\n",
              "      <td>False</td>\n",
              "      <td>False</td>\n",
              "      <td>False</td>\n",
              "      <td>False</td>\n",
              "      <td>False</td>\n",
              "      <td>False</td>\n",
              "      <td>False</td>\n",
              "      <td>False</td>\n",
              "      <td>1139249</td>\n",
              "      <td>434808</td>\n",
              "      <td>7009</td>\n",
              "      <td>121</td>\n",
              "      <td>3.0</td>\n",
              "      <td>2001</td>\n",
              "      <td>2838.0</td>\n",
              "      <td>2004</td>\n",
              "      <td>2</td>\n",
              "      <td>9</td>\n",
              "      <td>26</td>\n",
              "      <td>3</td>\n",
              "      <td>57</td>\n",
              "      <td>1.077754e+09</td>\n",
              "      <td>9.210340</td>\n",
              "    </tr>\n",
              "  </tbody>\n",
              "</table>"
            ]
          },
          "metadata": {}
        }
      ]
    },
    {
      "cell_type": "code",
      "source": [
        "##@ Inspecting  the tabular pandas object\n",
        "tabular_pandas.items.head(3)"
      ],
      "metadata": {
        "colab": {
          "base_uri": "https://localhost:8080/",
          "height": 163
        },
        "id": "NRiZ9ZDfDUl9",
        "outputId": "2db8064a-f8bd-40b9-9847-76d19f1bd161"
      },
      "execution_count": 21,
      "outputs": [
        {
          "output_type": "execute_result",
          "data": {
            "text/plain": [
              "   SalesID  SalePrice  MachineID  ModelID  datasource  auctioneerID  YearMade  \\\n",
              "0  1139246  11.097410     999089     3157         121           3.0      2004   \n",
              "1  1139248  10.950807     117657       77         121           3.0      1996   \n",
              "2  1139249   9.210340     434808     7009         121           3.0      2001   \n",
              "\n",
              "   MachineHoursCurrentMeter  UsageBand  fiModelDesc  fiBaseModel  \\\n",
              "0                      68.0          2          963          298   \n",
              "1                    4640.0          2         1745          529   \n",
              "2                    2838.0          1          336          111   \n",
              "\n",
              "   fiSecondaryDesc  fiModelSeries  fiModelDescriptor  ProductSize  \\\n",
              "0               43              0                  0            0   \n",
              "1               57            104                  0            4   \n",
              "2                0              0                  0            0   \n",
              "\n",
              "   fiProductClassDesc  state  ProductGroup  ProductGroupDesc  Drive_System  \\\n",
              "0                  59      1             6                 6             0   \n",
              "1                  62     33             6                 6             0   \n",
              "2                  39     32             3                 3             0   \n",
              "\n",
              "   Enclosure  Forks  Pad_Type  Ride_Control  Stick  Transmission  \\\n",
              "0          3      1         0             2      0             0   \n",
              "1          3      1         0             2      0             0   \n",
              "2          6      1         0             0      0             0   \n",
              "\n",
              "   Turbocharged  Blade_Extension  Blade_Width  Enclosure_Type  \\\n",
              "0             0                0            0               0   \n",
              "1             0                0            0               0   \n",
              "2             0                0            0               0   \n",
              "\n",
              "   Engine_Horsepower  Hydraulics  Pushblock  Ripper  Scarifier  Tip_Control  \\\n",
              "0                  0           1          0       0          0            0   \n",
              "1                  0           1          0       0          0            0   \n",
              "2                  0           4          0       0          0            0   \n",
              "\n",
              "   Tire_Size  Coupler  Coupler_System  Grouser_Tracks  Hydraulics_Flow  \\\n",
              "0         17        3               0               0                0   \n",
              "1         12        3               0               0                0   \n",
              "2          0        3               1               1                3   \n",
              "\n",
              "   Track_Type  Undercarriage_Pad_Width  Stick_Length  Thumb  Pattern_Changer  \\\n",
              "0           0                        0             0      0                0   \n",
              "1           0                        0             0      0                0   \n",
              "2           0                        0             0      0                0   \n",
              "\n",
              "   Grouser_Type  Backhoe_Mounting  Blade_Type  Travel_Controls  \\\n",
              "0             0                 0           0                0   \n",
              "1             0                 0           0                0   \n",
              "2             0                 0           0                0   \n",
              "\n",
              "   Differential_Type  Steering_Controls  saleYear  saleMonth  saleWeek  \\\n",
              "0                  4                  2      2006         11        46   \n",
              "1                  4                  2      2004          3        13   \n",
              "2                  0                  0      2004          2         9   \n",
              "\n",
              "   saleDay  saleDayofweek  saleDayofyear  saleIs_month_end  \\\n",
              "0       16              3            320                 1   \n",
              "1       26              4             86                 1   \n",
              "2       26              3             57                 1   \n",
              "\n",
              "   saleIs_month_start  saleIs_quarter_end  saleIs_quarter_start  \\\n",
              "0                   1                   1                     1   \n",
              "1                   1                   1                     1   \n",
              "2                   1                   1                     1   \n",
              "\n",
              "   saleIs_year_end  saleIs_year_start   saleElapsed  auctioneerID_na  \\\n",
              "0                1                  1  1.163635e+09                1   \n",
              "1                1                  1  1.080259e+09                1   \n",
              "2                1                  1  1.077754e+09                1   \n",
              "\n",
              "   MachineHoursCurrentMeter_na  \n",
              "0                            1  \n",
              "1                            1  \n",
              "2                            1  "
            ],
            "text/html": [
              "\n",
              "  <div id=\"df-69f792f7-8eb6-44d9-8edc-ba1cb11331ee\" class=\"colab-df-container\">\n",
              "    <div>\n",
              "<style scoped>\n",
              "    .dataframe tbody tr th:only-of-type {\n",
              "        vertical-align: middle;\n",
              "    }\n",
              "\n",
              "    .dataframe tbody tr th {\n",
              "        vertical-align: top;\n",
              "    }\n",
              "\n",
              "    .dataframe thead th {\n",
              "        text-align: right;\n",
              "    }\n",
              "</style>\n",
              "<table border=\"1\" class=\"dataframe\">\n",
              "  <thead>\n",
              "    <tr style=\"text-align: right;\">\n",
              "      <th></th>\n",
              "      <th>SalesID</th>\n",
              "      <th>SalePrice</th>\n",
              "      <th>MachineID</th>\n",
              "      <th>ModelID</th>\n",
              "      <th>datasource</th>\n",
              "      <th>auctioneerID</th>\n",
              "      <th>YearMade</th>\n",
              "      <th>MachineHoursCurrentMeter</th>\n",
              "      <th>UsageBand</th>\n",
              "      <th>fiModelDesc</th>\n",
              "      <th>fiBaseModel</th>\n",
              "      <th>fiSecondaryDesc</th>\n",
              "      <th>fiModelSeries</th>\n",
              "      <th>fiModelDescriptor</th>\n",
              "      <th>ProductSize</th>\n",
              "      <th>fiProductClassDesc</th>\n",
              "      <th>state</th>\n",
              "      <th>ProductGroup</th>\n",
              "      <th>ProductGroupDesc</th>\n",
              "      <th>Drive_System</th>\n",
              "      <th>Enclosure</th>\n",
              "      <th>Forks</th>\n",
              "      <th>Pad_Type</th>\n",
              "      <th>Ride_Control</th>\n",
              "      <th>Stick</th>\n",
              "      <th>Transmission</th>\n",
              "      <th>Turbocharged</th>\n",
              "      <th>Blade_Extension</th>\n",
              "      <th>Blade_Width</th>\n",
              "      <th>Enclosure_Type</th>\n",
              "      <th>Engine_Horsepower</th>\n",
              "      <th>Hydraulics</th>\n",
              "      <th>Pushblock</th>\n",
              "      <th>Ripper</th>\n",
              "      <th>Scarifier</th>\n",
              "      <th>Tip_Control</th>\n",
              "      <th>Tire_Size</th>\n",
              "      <th>Coupler</th>\n",
              "      <th>Coupler_System</th>\n",
              "      <th>Grouser_Tracks</th>\n",
              "      <th>Hydraulics_Flow</th>\n",
              "      <th>Track_Type</th>\n",
              "      <th>Undercarriage_Pad_Width</th>\n",
              "      <th>Stick_Length</th>\n",
              "      <th>Thumb</th>\n",
              "      <th>Pattern_Changer</th>\n",
              "      <th>Grouser_Type</th>\n",
              "      <th>Backhoe_Mounting</th>\n",
              "      <th>Blade_Type</th>\n",
              "      <th>Travel_Controls</th>\n",
              "      <th>Differential_Type</th>\n",
              "      <th>Steering_Controls</th>\n",
              "      <th>saleYear</th>\n",
              "      <th>saleMonth</th>\n",
              "      <th>saleWeek</th>\n",
              "      <th>saleDay</th>\n",
              "      <th>saleDayofweek</th>\n",
              "      <th>saleDayofyear</th>\n",
              "      <th>saleIs_month_end</th>\n",
              "      <th>saleIs_month_start</th>\n",
              "      <th>saleIs_quarter_end</th>\n",
              "      <th>saleIs_quarter_start</th>\n",
              "      <th>saleIs_year_end</th>\n",
              "      <th>saleIs_year_start</th>\n",
              "      <th>saleElapsed</th>\n",
              "      <th>auctioneerID_na</th>\n",
              "      <th>MachineHoursCurrentMeter_na</th>\n",
              "    </tr>\n",
              "  </thead>\n",
              "  <tbody>\n",
              "    <tr>\n",
              "      <th>0</th>\n",
              "      <td>1139246</td>\n",
              "      <td>11.097410</td>\n",
              "      <td>999089</td>\n",
              "      <td>3157</td>\n",
              "      <td>121</td>\n",
              "      <td>3.0</td>\n",
              "      <td>2004</td>\n",
              "      <td>68.0</td>\n",
              "      <td>2</td>\n",
              "      <td>963</td>\n",
              "      <td>298</td>\n",
              "      <td>43</td>\n",
              "      <td>0</td>\n",
              "      <td>0</td>\n",
              "      <td>0</td>\n",
              "      <td>59</td>\n",
              "      <td>1</td>\n",
              "      <td>6</td>\n",
              "      <td>6</td>\n",
              "      <td>0</td>\n",
              "      <td>3</td>\n",
              "      <td>1</td>\n",
              "      <td>0</td>\n",
              "      <td>2</td>\n",
              "      <td>0</td>\n",
              "      <td>0</td>\n",
              "      <td>0</td>\n",
              "      <td>0</td>\n",
              "      <td>0</td>\n",
              "      <td>0</td>\n",
              "      <td>0</td>\n",
              "      <td>1</td>\n",
              "      <td>0</td>\n",
              "      <td>0</td>\n",
              "      <td>0</td>\n",
              "      <td>0</td>\n",
              "      <td>17</td>\n",
              "      <td>3</td>\n",
              "      <td>0</td>\n",
              "      <td>0</td>\n",
              "      <td>0</td>\n",
              "      <td>0</td>\n",
              "      <td>0</td>\n",
              "      <td>0</td>\n",
              "      <td>0</td>\n",
              "      <td>0</td>\n",
              "      <td>0</td>\n",
              "      <td>0</td>\n",
              "      <td>0</td>\n",
              "      <td>0</td>\n",
              "      <td>4</td>\n",
              "      <td>2</td>\n",
              "      <td>2006</td>\n",
              "      <td>11</td>\n",
              "      <td>46</td>\n",
              "      <td>16</td>\n",
              "      <td>3</td>\n",
              "      <td>320</td>\n",
              "      <td>1</td>\n",
              "      <td>1</td>\n",
              "      <td>1</td>\n",
              "      <td>1</td>\n",
              "      <td>1</td>\n",
              "      <td>1</td>\n",
              "      <td>1.163635e+09</td>\n",
              "      <td>1</td>\n",
              "      <td>1</td>\n",
              "    </tr>\n",
              "    <tr>\n",
              "      <th>1</th>\n",
              "      <td>1139248</td>\n",
              "      <td>10.950807</td>\n",
              "      <td>117657</td>\n",
              "      <td>77</td>\n",
              "      <td>121</td>\n",
              "      <td>3.0</td>\n",
              "      <td>1996</td>\n",
              "      <td>4640.0</td>\n",
              "      <td>2</td>\n",
              "      <td>1745</td>\n",
              "      <td>529</td>\n",
              "      <td>57</td>\n",
              "      <td>104</td>\n",
              "      <td>0</td>\n",
              "      <td>4</td>\n",
              "      <td>62</td>\n",
              "      <td>33</td>\n",
              "      <td>6</td>\n",
              "      <td>6</td>\n",
              "      <td>0</td>\n",
              "      <td>3</td>\n",
              "      <td>1</td>\n",
              "      <td>0</td>\n",
              "      <td>2</td>\n",
              "      <td>0</td>\n",
              "      <td>0</td>\n",
              "      <td>0</td>\n",
              "      <td>0</td>\n",
              "      <td>0</td>\n",
              "      <td>0</td>\n",
              "      <td>0</td>\n",
              "      <td>1</td>\n",
              "      <td>0</td>\n",
              "      <td>0</td>\n",
              "      <td>0</td>\n",
              "      <td>0</td>\n",
              "      <td>12</td>\n",
              "      <td>3</td>\n",
              "      <td>0</td>\n",
              "      <td>0</td>\n",
              "      <td>0</td>\n",
              "      <td>0</td>\n",
              "      <td>0</td>\n",
              "      <td>0</td>\n",
              "      <td>0</td>\n",
              "      <td>0</td>\n",
              "      <td>0</td>\n",
              "      <td>0</td>\n",
              "      <td>0</td>\n",
              "      <td>0</td>\n",
              "      <td>4</td>\n",
              "      <td>2</td>\n",
              "      <td>2004</td>\n",
              "      <td>3</td>\n",
              "      <td>13</td>\n",
              "      <td>26</td>\n",
              "      <td>4</td>\n",
              "      <td>86</td>\n",
              "      <td>1</td>\n",
              "      <td>1</td>\n",
              "      <td>1</td>\n",
              "      <td>1</td>\n",
              "      <td>1</td>\n",
              "      <td>1</td>\n",
              "      <td>1.080259e+09</td>\n",
              "      <td>1</td>\n",
              "      <td>1</td>\n",
              "    </tr>\n",
              "    <tr>\n",
              "      <th>2</th>\n",
              "      <td>1139249</td>\n",
              "      <td>9.210340</td>\n",
              "      <td>434808</td>\n",
              "      <td>7009</td>\n",
              "      <td>121</td>\n",
              "      <td>3.0</td>\n",
              "      <td>2001</td>\n",
              "      <td>2838.0</td>\n",
              "      <td>1</td>\n",
              "      <td>336</td>\n",
              "      <td>111</td>\n",
              "      <td>0</td>\n",
              "      <td>0</td>\n",
              "      <td>0</td>\n",
              "      <td>0</td>\n",
              "      <td>39</td>\n",
              "      <td>32</td>\n",
              "      <td>3</td>\n",
              "      <td>3</td>\n",
              "      <td>0</td>\n",
              "      <td>6</td>\n",
              "      <td>1</td>\n",
              "      <td>0</td>\n",
              "      <td>0</td>\n",
              "      <td>0</td>\n",
              "      <td>0</td>\n",
              "      <td>0</td>\n",
              "      <td>0</td>\n",
              "      <td>0</td>\n",
              "      <td>0</td>\n",
              "      <td>0</td>\n",
              "      <td>4</td>\n",
              "      <td>0</td>\n",
              "      <td>0</td>\n",
              "      <td>0</td>\n",
              "      <td>0</td>\n",
              "      <td>0</td>\n",
              "      <td>3</td>\n",
              "      <td>1</td>\n",
              "      <td>1</td>\n",
              "      <td>3</td>\n",
              "      <td>0</td>\n",
              "      <td>0</td>\n",
              "      <td>0</td>\n",
              "      <td>0</td>\n",
              "      <td>0</td>\n",
              "      <td>0</td>\n",
              "      <td>0</td>\n",
              "      <td>0</td>\n",
              "      <td>0</td>\n",
              "      <td>0</td>\n",
              "      <td>0</td>\n",
              "      <td>2004</td>\n",
              "      <td>2</td>\n",
              "      <td>9</td>\n",
              "      <td>26</td>\n",
              "      <td>3</td>\n",
              "      <td>57</td>\n",
              "      <td>1</td>\n",
              "      <td>1</td>\n",
              "      <td>1</td>\n",
              "      <td>1</td>\n",
              "      <td>1</td>\n",
              "      <td>1</td>\n",
              "      <td>1.077754e+09</td>\n",
              "      <td>1</td>\n",
              "      <td>1</td>\n",
              "    </tr>\n",
              "  </tbody>\n",
              "</table>\n",
              "</div>\n",
              "    <div class=\"colab-df-buttons\">\n",
              "\n",
              "  <div class=\"colab-df-container\">\n",
              "    <button class=\"colab-df-convert\" onclick=\"convertToInteractive('df-69f792f7-8eb6-44d9-8edc-ba1cb11331ee')\"\n",
              "            title=\"Convert this dataframe to an interactive table.\"\n",
              "            style=\"display:none;\">\n",
              "\n",
              "  <svg xmlns=\"http://www.w3.org/2000/svg\" height=\"24px\" viewBox=\"0 -960 960 960\">\n",
              "    <path d=\"M120-120v-720h720v720H120Zm60-500h600v-160H180v160Zm220 220h160v-160H400v160Zm0 220h160v-160H400v160ZM180-400h160v-160H180v160Zm440 0h160v-160H620v160ZM180-180h160v-160H180v160Zm440 0h160v-160H620v160Z\"/>\n",
              "  </svg>\n",
              "    </button>\n",
              "\n",
              "  <style>\n",
              "    .colab-df-container {\n",
              "      display:flex;\n",
              "      gap: 12px;\n",
              "    }\n",
              "\n",
              "    .colab-df-convert {\n",
              "      background-color: #E8F0FE;\n",
              "      border: none;\n",
              "      border-radius: 50%;\n",
              "      cursor: pointer;\n",
              "      display: none;\n",
              "      fill: #1967D2;\n",
              "      height: 32px;\n",
              "      padding: 0 0 0 0;\n",
              "      width: 32px;\n",
              "    }\n",
              "\n",
              "    .colab-df-convert:hover {\n",
              "      background-color: #E2EBFA;\n",
              "      box-shadow: 0px 1px 2px rgba(60, 64, 67, 0.3), 0px 1px 3px 1px rgba(60, 64, 67, 0.15);\n",
              "      fill: #174EA6;\n",
              "    }\n",
              "\n",
              "    .colab-df-buttons div {\n",
              "      margin-bottom: 4px;\n",
              "    }\n",
              "\n",
              "    [theme=dark] .colab-df-convert {\n",
              "      background-color: #3B4455;\n",
              "      fill: #D2E3FC;\n",
              "    }\n",
              "\n",
              "    [theme=dark] .colab-df-convert:hover {\n",
              "      background-color: #434B5C;\n",
              "      box-shadow: 0px 1px 3px 1px rgba(0, 0, 0, 0.15);\n",
              "      filter: drop-shadow(0px 1px 2px rgba(0, 0, 0, 0.3));\n",
              "      fill: #FFFFFF;\n",
              "    }\n",
              "  </style>\n",
              "\n",
              "    <script>\n",
              "      const buttonEl =\n",
              "        document.querySelector('#df-69f792f7-8eb6-44d9-8edc-ba1cb11331ee button.colab-df-convert');\n",
              "      buttonEl.style.display =\n",
              "        google.colab.kernel.accessAllowed ? 'block' : 'none';\n",
              "\n",
              "      async function convertToInteractive(key) {\n",
              "        const element = document.querySelector('#df-69f792f7-8eb6-44d9-8edc-ba1cb11331ee');\n",
              "        const dataTable =\n",
              "          await google.colab.kernel.invokeFunction('convertToInteractive',\n",
              "                                                    [key], {});\n",
              "        if (!dataTable) return;\n",
              "\n",
              "        const docLinkHtml = 'Like what you see? Visit the ' +\n",
              "          '<a target=\"_blank\" href=https://colab.research.google.com/notebooks/data_table.ipynb>data table notebook</a>'\n",
              "          + ' to learn more about interactive tables.';\n",
              "        element.innerHTML = '';\n",
              "        dataTable['output_type'] = 'display_data';\n",
              "        await google.colab.output.renderOutput(dataTable, element);\n",
              "        const docLink = document.createElement('div');\n",
              "        docLink.innerHTML = docLinkHtml;\n",
              "        element.appendChild(docLink);\n",
              "      }\n",
              "    </script>\n",
              "  </div>\n",
              "\n",
              "\n",
              "<div id=\"df-621f7797-0661-4e61-8ffb-d6fa2072aac8\">\n",
              "  <button class=\"colab-df-quickchart\" onclick=\"quickchart('df-621f7797-0661-4e61-8ffb-d6fa2072aac8')\"\n",
              "            title=\"Suggest charts\"\n",
              "            style=\"display:none;\">\n",
              "\n",
              "<svg xmlns=\"http://www.w3.org/2000/svg\" height=\"24px\"viewBox=\"0 0 24 24\"\n",
              "     width=\"24px\">\n",
              "    <g>\n",
              "        <path d=\"M19 3H5c-1.1 0-2 .9-2 2v14c0 1.1.9 2 2 2h14c1.1 0 2-.9 2-2V5c0-1.1-.9-2-2-2zM9 17H7v-7h2v7zm4 0h-2V7h2v10zm4 0h-2v-4h2v4z\"/>\n",
              "    </g>\n",
              "</svg>\n",
              "  </button>\n",
              "\n",
              "<style>\n",
              "  .colab-df-quickchart {\n",
              "      --bg-color: #E8F0FE;\n",
              "      --fill-color: #1967D2;\n",
              "      --hover-bg-color: #E2EBFA;\n",
              "      --hover-fill-color: #174EA6;\n",
              "      --disabled-fill-color: #AAA;\n",
              "      --disabled-bg-color: #DDD;\n",
              "  }\n",
              "\n",
              "  [theme=dark] .colab-df-quickchart {\n",
              "      --bg-color: #3B4455;\n",
              "      --fill-color: #D2E3FC;\n",
              "      --hover-bg-color: #434B5C;\n",
              "      --hover-fill-color: #FFFFFF;\n",
              "      --disabled-bg-color: #3B4455;\n",
              "      --disabled-fill-color: #666;\n",
              "  }\n",
              "\n",
              "  .colab-df-quickchart {\n",
              "    background-color: var(--bg-color);\n",
              "    border: none;\n",
              "    border-radius: 50%;\n",
              "    cursor: pointer;\n",
              "    display: none;\n",
              "    fill: var(--fill-color);\n",
              "    height: 32px;\n",
              "    padding: 0;\n",
              "    width: 32px;\n",
              "  }\n",
              "\n",
              "  .colab-df-quickchart:hover {\n",
              "    background-color: var(--hover-bg-color);\n",
              "    box-shadow: 0 1px 2px rgba(60, 64, 67, 0.3), 0 1px 3px 1px rgba(60, 64, 67, 0.15);\n",
              "    fill: var(--button-hover-fill-color);\n",
              "  }\n",
              "\n",
              "  .colab-df-quickchart-complete:disabled,\n",
              "  .colab-df-quickchart-complete:disabled:hover {\n",
              "    background-color: var(--disabled-bg-color);\n",
              "    fill: var(--disabled-fill-color);\n",
              "    box-shadow: none;\n",
              "  }\n",
              "\n",
              "  .colab-df-spinner {\n",
              "    border: 2px solid var(--fill-color);\n",
              "    border-color: transparent;\n",
              "    border-bottom-color: var(--fill-color);\n",
              "    animation:\n",
              "      spin 1s steps(1) infinite;\n",
              "  }\n",
              "\n",
              "  @keyframes spin {\n",
              "    0% {\n",
              "      border-color: transparent;\n",
              "      border-bottom-color: var(--fill-color);\n",
              "      border-left-color: var(--fill-color);\n",
              "    }\n",
              "    20% {\n",
              "      border-color: transparent;\n",
              "      border-left-color: var(--fill-color);\n",
              "      border-top-color: var(--fill-color);\n",
              "    }\n",
              "    30% {\n",
              "      border-color: transparent;\n",
              "      border-left-color: var(--fill-color);\n",
              "      border-top-color: var(--fill-color);\n",
              "      border-right-color: var(--fill-color);\n",
              "    }\n",
              "    40% {\n",
              "      border-color: transparent;\n",
              "      border-right-color: var(--fill-color);\n",
              "      border-top-color: var(--fill-color);\n",
              "    }\n",
              "    60% {\n",
              "      border-color: transparent;\n",
              "      border-right-color: var(--fill-color);\n",
              "    }\n",
              "    80% {\n",
              "      border-color: transparent;\n",
              "      border-right-color: var(--fill-color);\n",
              "      border-bottom-color: var(--fill-color);\n",
              "    }\n",
              "    90% {\n",
              "      border-color: transparent;\n",
              "      border-bottom-color: var(--fill-color);\n",
              "    }\n",
              "  }\n",
              "</style>\n",
              "\n",
              "  <script>\n",
              "    async function quickchart(key) {\n",
              "      const quickchartButtonEl =\n",
              "        document.querySelector('#' + key + ' button');\n",
              "      quickchartButtonEl.disabled = true;  // To prevent multiple clicks.\n",
              "      quickchartButtonEl.classList.add('colab-df-spinner');\n",
              "      try {\n",
              "        const charts = await google.colab.kernel.invokeFunction(\n",
              "            'suggestCharts', [key], {});\n",
              "      } catch (error) {\n",
              "        console.error('Error during call to suggestCharts:', error);\n",
              "      }\n",
              "      quickchartButtonEl.classList.remove('colab-df-spinner');\n",
              "      quickchartButtonEl.classList.add('colab-df-quickchart-complete');\n",
              "    }\n",
              "    (() => {\n",
              "      let quickchartButtonEl =\n",
              "        document.querySelector('#df-621f7797-0661-4e61-8ffb-d6fa2072aac8 button');\n",
              "      quickchartButtonEl.style.display =\n",
              "        google.colab.kernel.accessAllowed ? 'block' : 'none';\n",
              "    })();\n",
              "  </script>\n",
              "</div>\n",
              "\n",
              "    </div>\n",
              "  </div>\n"
            ],
            "application/vnd.google.colaboratory.intrinsic+json": {
              "type": "dataframe"
            }
          },
          "metadata": {},
          "execution_count": 21
        }
      ]
    },
    {
      "cell_type": "code",
      "source": [
        "tabular_pandas[\"SalePrice\"]"
      ],
      "metadata": {
        "id": "o_h7Zl9oSisf",
        "outputId": "afa71481-3b42-4452-9ce2-186bd84aafe8",
        "colab": {
          "base_uri": "https://localhost:8080/",
          "height": 458
        }
      },
      "execution_count": 22,
      "outputs": [
        {
          "output_type": "execute_result",
          "data": {
            "text/plain": [
              "0         11.097410\n",
              "1         10.950807\n",
              "2          9.210340\n",
              "3         10.558414\n",
              "4          9.305651\n",
              "            ...    \n",
              "401120     9.259130\n",
              "401121     9.305651\n",
              "401122     9.350102\n",
              "401123     9.104980\n",
              "401124     8.955448\n",
              "Name: SalePrice, Length: 412698, dtype: float32"
            ],
            "text/html": [
              "<div>\n",
              "<style scoped>\n",
              "    .dataframe tbody tr th:only-of-type {\n",
              "        vertical-align: middle;\n",
              "    }\n",
              "\n",
              "    .dataframe tbody tr th {\n",
              "        vertical-align: top;\n",
              "    }\n",
              "\n",
              "    .dataframe thead th {\n",
              "        text-align: right;\n",
              "    }\n",
              "</style>\n",
              "<table border=\"1\" class=\"dataframe\">\n",
              "  <thead>\n",
              "    <tr style=\"text-align: right;\">\n",
              "      <th></th>\n",
              "      <th>SalePrice</th>\n",
              "    </tr>\n",
              "  </thead>\n",
              "  <tbody>\n",
              "    <tr>\n",
              "      <th>0</th>\n",
              "      <td>11.097410</td>\n",
              "    </tr>\n",
              "    <tr>\n",
              "      <th>1</th>\n",
              "      <td>10.950807</td>\n",
              "    </tr>\n",
              "    <tr>\n",
              "      <th>2</th>\n",
              "      <td>9.210340</td>\n",
              "    </tr>\n",
              "    <tr>\n",
              "      <th>3</th>\n",
              "      <td>10.558414</td>\n",
              "    </tr>\n",
              "    <tr>\n",
              "      <th>4</th>\n",
              "      <td>9.305651</td>\n",
              "    </tr>\n",
              "    <tr>\n",
              "      <th>...</th>\n",
              "      <td>...</td>\n",
              "    </tr>\n",
              "    <tr>\n",
              "      <th>401120</th>\n",
              "      <td>9.259130</td>\n",
              "    </tr>\n",
              "    <tr>\n",
              "      <th>401121</th>\n",
              "      <td>9.305651</td>\n",
              "    </tr>\n",
              "    <tr>\n",
              "      <th>401122</th>\n",
              "      <td>9.350102</td>\n",
              "    </tr>\n",
              "    <tr>\n",
              "      <th>401123</th>\n",
              "      <td>9.104980</td>\n",
              "    </tr>\n",
              "    <tr>\n",
              "      <th>401124</th>\n",
              "      <td>8.955448</td>\n",
              "    </tr>\n",
              "  </tbody>\n",
              "</table>\n",
              "<p>412698 rows × 1 columns</p>\n",
              "</div><br><label><b>dtype:</b> float32</label>"
            ]
          },
          "metadata": {},
          "execution_count": 22
        }
      ]
    },
    {
      "cell_type": "code",
      "source": [],
      "metadata": {
        "id": "efv7siMAf99x"
      },
      "execution_count": null,
      "outputs": []
    },
    {
      "cell_type": "code",
      "source": [
        "##@ Saving the processed data so that we dont have to rerun everytime\n",
        "\n",
        "save_pickle('/content/dataset/tabular_pandas.pkl', tabular_pandas)"
      ],
      "metadata": {
        "id": "6ahVvDHeEKYO"
      },
      "execution_count": 23,
      "outputs": []
    },
    {
      "cell_type": "code",
      "source": [
        "#@ Loading\n",
        "\n",
        "tabular_pandas = load_pickle('/content/dataset/tabular_pandas.pkl')"
      ],
      "metadata": {
        "id": "9BTZ8ol1H1jC"
      },
      "execution_count": 24,
      "outputs": []
    },
    {
      "cell_type": "markdown",
      "source": [
        "#### E. Creating Decision Trees"
      ],
      "metadata": {
        "id": "KwtTH54pIfLR"
      }
    },
    {
      "cell_type": "code",
      "source": [
        "#@ First we define the independent and dependent variables\n",
        "\n",
        "xs, y = tabular_pandas.train.xs, tabular_pandas.train.y\n",
        "valid_xs, valid_y = tabular_pandas.valid.xs, tabular_pandas.valid.y"
      ],
      "metadata": {
        "id": "Huw5l84tImQg"
      },
      "execution_count": 25,
      "outputs": []
    },
    {
      "cell_type": "code",
      "source": [
        "for col in xs.columns:\n",
        "    xs[col] = pd.to_numeric(xs[col], errors='coerce')\n",
        "y = pd.Series(y)\n",
        "\n",
        "xs.fillna(xs.mean(), inplace=True)\n",
        "y.fillna(0, inplace=True)"
      ],
      "metadata": {
        "id": "RuY7dqsNNAQs"
      },
      "execution_count": 54,
      "outputs": []
    },
    {
      "cell_type": "markdown",
      "source": [
        "Now that our data is all numeric, and there are no missing values, we can create the decision tree"
      ],
      "metadata": {
        "id": "HkyRXRaWI9iy"
      }
    },
    {
      "cell_type": "code",
      "source": [
        "m = DecisionTreeRegressor(max_leaf_nodes =4)\n",
        "m.fit(xs, y)\n",
        "\n",
        "draw_tree(m, xs, size=7, leaves_parallel=True, precision=2)"
      ],
      "metadata": {
        "id": "83msVlaRJNAH",
        "outputId": "72132be4-cb96-4af9-a6c8-77cf4b4444f9",
        "colab": {
          "base_uri": "https://localhost:8080/",
          "height": 428
        }
      },
      "execution_count": 55,
      "outputs": [
        {
          "output_type": "execute_result",
          "data": {
            "image/svg+xml": "<?xml version=\"1.0\" encoding=\"UTF-8\" standalone=\"no\"?>\n<!DOCTYPE svg PUBLIC \"-//W3C//DTD SVG 1.1//EN\"\n \"http://www.w3.org/Graphics/SVG/1.1/DTD/svg11.dtd\">\n<!-- Generated by graphviz version 2.43.0 (0)\n -->\n<!-- Title: Tree Pages: 1 -->\n<svg width=\"504pt\" height=\"305pt\"\n viewBox=\"0.00 0.00 504.00 305.13\" xmlns=\"http://www.w3.org/2000/svg\" xmlns:xlink=\"http://www.w3.org/1999/xlink\">\n<g id=\"graph0\" class=\"graph\" transform=\"scale(0.8 0.8) rotate(0) translate(4 376.5)\">\n<title>Tree</title>\n<polygon fill=\"white\" stroke=\"transparent\" points=\"-4,4 -4,-376.5 624.5,-376.5 624.5,4 -4,4\"/>\n<!-- 0 -->\n<g id=\"node1\" class=\"node\">\n<title>0</title>\n<path fill=\"#efb083\" stroke=\"black\" d=\"M532.83,-373C532.83,-373 413.83,-373 413.83,-373 407.83,-373 401.83,-367 401.83,-361 401.83,-361 401.83,-317 401.83,-317 401.83,-311 407.83,-305 413.83,-305 413.83,-305 532.83,-305 532.83,-305 538.83,-305 544.83,-311 544.83,-317 544.83,-317 544.83,-361 544.83,-361 544.83,-367 538.83,-373 532.83,-373\"/>\n<text text-anchor=\"start\" x=\"425.33\" y=\"-357.8\" font-family=\"Helvetica,sans-Serif\" font-size=\"14.00\">Feature4 ≤ 0.95</text>\n<text text-anchor=\"start\" x=\"409.83\" y=\"-342.8\" font-family=\"Helvetica,sans-Serif\" font-size=\"14.00\">squared_error = 0.25</text>\n<text text-anchor=\"start\" x=\"428.33\" y=\"-327.8\" font-family=\"Helvetica,sans-Serif\" font-size=\"14.00\">samples = 100</text>\n<text text-anchor=\"start\" x=\"435.83\" y=\"-312.8\" font-family=\"Helvetica,sans-Serif\" font-size=\"14.00\">value = 0.47</text>\n</g>\n<!-- 1 -->\n<g id=\"node2\" class=\"node\">\n<title>1</title>\n<path fill=\"#eda877\" stroke=\"black\" d=\"M453.83,-269C453.83,-269 334.83,-269 334.83,-269 328.83,-269 322.83,-263 322.83,-257 322.83,-257 322.83,-213 322.83,-213 322.83,-207 328.83,-201 334.83,-201 334.83,-201 453.83,-201 453.83,-201 459.83,-201 465.83,-207 465.83,-213 465.83,-213 465.83,-257 465.83,-257 465.83,-263 459.83,-269 453.83,-269\"/>\n<text text-anchor=\"start\" x=\"346.33\" y=\"-253.8\" font-family=\"Helvetica,sans-Serif\" font-size=\"14.00\">Feature4 ≤ 0.54</text>\n<text text-anchor=\"start\" x=\"330.83\" y=\"-238.8\" font-family=\"Helvetica,sans-Serif\" font-size=\"14.00\">squared_error = 0.25</text>\n<text text-anchor=\"start\" x=\"353.33\" y=\"-223.8\" font-family=\"Helvetica,sans-Serif\" font-size=\"14.00\">samples = 91</text>\n<text text-anchor=\"start\" x=\"356.83\" y=\"-208.8\" font-family=\"Helvetica,sans-Serif\" font-size=\"14.00\">value = 0.51</text>\n</g>\n<!-- 0&#45;&gt;1 -->\n<g id=\"edge1\" class=\"edge\">\n<title>0&#45;&gt;1</title>\n<path fill=\"none\" stroke=\"black\" d=\"M447.68,-304.88C440.85,-296.07 433.39,-286.43 426.26,-277.24\"/>\n<polygon fill=\"black\" stroke=\"black\" points=\"429.01,-275.06 420.12,-269.3 423.47,-279.35 429.01,-275.06\"/>\n<text text-anchor=\"middle\" x=\"416.97\" y=\"-290.4\" font-family=\"Helvetica,sans-Serif\" font-size=\"14.00\">True</text>\n</g>\n<!-- 2 -->\n<g id=\"node7\" class=\"node\">\n<title>2</title>\n<path fill=\"#ffffff\" stroke=\"black\" d=\"M608.33,-52.5C608.33,-52.5 496.33,-52.5 496.33,-52.5 490.33,-52.5 484.33,-46.5 484.33,-40.5 484.33,-40.5 484.33,-11.5 484.33,-11.5 484.33,-5.5 490.33,0.5 496.33,0.5 496.33,0.5 608.33,0.5 608.33,0.5 614.33,0.5 620.33,-5.5 620.33,-11.5 620.33,-11.5 620.33,-40.5 620.33,-40.5 620.33,-46.5 614.33,-52.5 608.33,-52.5\"/>\n<text text-anchor=\"start\" x=\"492.33\" y=\"-37.3\" font-family=\"Helvetica,sans-Serif\" font-size=\"14.00\">squared_error = 0.1</text>\n<text text-anchor=\"start\" x=\"514.83\" y=\"-22.3\" font-family=\"Helvetica,sans-Serif\" font-size=\"14.00\">samples = 9</text>\n<text text-anchor=\"start\" x=\"514.83\" y=\"-7.3\" font-family=\"Helvetica,sans-Serif\" font-size=\"14.00\">value = 0.11</text>\n</g>\n<!-- 0&#45;&gt;2 -->\n<g id=\"edge6\" class=\"edge\">\n<title>0&#45;&gt;2</title>\n<path fill=\"none\" stroke=\"black\" d=\"M481.78,-304.72C496.76,-245.76 527.82,-123.49 543.24,-62.79\"/>\n<polygon fill=\"black\" stroke=\"black\" points=\"546.68,-63.45 545.75,-52.9 539.9,-61.73 546.68,-63.45\"/>\n<text text-anchor=\"middle\" x=\"558.53\" y=\"-70.68\" font-family=\"Helvetica,sans-Serif\" font-size=\"14.00\">False</text>\n</g>\n<!-- 3 -->\n<g id=\"node3\" class=\"node\">\n<title>3</title>\n<path fill=\"#f3c4a3\" stroke=\"black\" d=\"M292.83,-165C292.83,-165 173.83,-165 173.83,-165 167.83,-165 161.83,-159 161.83,-153 161.83,-153 161.83,-109 161.83,-109 161.83,-103 167.83,-97 173.83,-97 173.83,-97 292.83,-97 292.83,-97 298.83,-97 304.83,-103 304.83,-109 304.83,-109 304.83,-153 304.83,-153 304.83,-159 298.83,-165 292.83,-165\"/>\n<text text-anchor=\"start\" x=\"185.33\" y=\"-149.8\" font-family=\"Helvetica,sans-Serif\" font-size=\"14.00\">Feature1 ≤ 0.29</text>\n<text text-anchor=\"start\" x=\"169.83\" y=\"-134.8\" font-family=\"Helvetica,sans-Serif\" font-size=\"14.00\">squared_error = 0.23</text>\n<text text-anchor=\"start\" x=\"192.33\" y=\"-119.8\" font-family=\"Helvetica,sans-Serif\" font-size=\"14.00\">samples = 53</text>\n<text text-anchor=\"start\" x=\"195.83\" y=\"-104.8\" font-family=\"Helvetica,sans-Serif\" font-size=\"14.00\">value = 0.38</text>\n</g>\n<!-- 1&#45;&gt;3 -->\n<g id=\"edge2\" class=\"edge\">\n<title>1&#45;&gt;3</title>\n<path fill=\"none\" stroke=\"black\" d=\"M342.06,-200.88C326.79,-191.21 309.98,-180.56 294.24,-170.59\"/>\n<polygon fill=\"black\" stroke=\"black\" points=\"295.93,-167.52 285.61,-165.12 292.19,-173.43 295.93,-167.52\"/>\n</g>\n<!-- 4 -->\n<g id=\"node6\" class=\"node\">\n<title>4</title>\n<path fill=\"#e58139\" stroke=\"black\" d=\"M453.83,-52.5C453.83,-52.5 334.83,-52.5 334.83,-52.5 328.83,-52.5 322.83,-46.5 322.83,-40.5 322.83,-40.5 322.83,-11.5 322.83,-11.5 322.83,-5.5 328.83,0.5 334.83,0.5 334.83,0.5 453.83,0.5 453.83,0.5 459.83,0.5 465.83,-5.5 465.83,-11.5 465.83,-11.5 465.83,-40.5 465.83,-40.5 465.83,-46.5 459.83,-52.5 453.83,-52.5\"/>\n<text text-anchor=\"start\" x=\"330.83\" y=\"-37.3\" font-family=\"Helvetica,sans-Serif\" font-size=\"14.00\">squared_error = 0.22</text>\n<text text-anchor=\"start\" x=\"353.33\" y=\"-22.3\" font-family=\"Helvetica,sans-Serif\" font-size=\"14.00\">samples = 38</text>\n<text text-anchor=\"start\" x=\"356.83\" y=\"-7.3\" font-family=\"Helvetica,sans-Serif\" font-size=\"14.00\">value = 0.68</text>\n</g>\n<!-- 1&#45;&gt;4 -->\n<g id=\"edge5\" class=\"edge\">\n<title>1&#45;&gt;4</title>\n<path fill=\"none\" stroke=\"black\" d=\"M394.33,-200.74C394.33,-163.03 394.33,-101.76 394.33,-62.97\"/>\n<polygon fill=\"black\" stroke=\"black\" points=\"397.83,-62.66 394.33,-52.66 390.83,-62.66 397.83,-62.66\"/>\n</g>\n<!-- 5 -->\n<g id=\"node4\" class=\"node\">\n<title>5</title>\n<path fill=\"#fbebe0\" stroke=\"black\" d=\"M130.83,-52.5C130.83,-52.5 11.83,-52.5 11.83,-52.5 5.83,-52.5 -0.17,-46.5 -0.17,-40.5 -0.17,-40.5 -0.17,-11.5 -0.17,-11.5 -0.17,-5.5 5.83,0.5 11.83,0.5 11.83,0.5 130.83,0.5 130.83,0.5 136.83,0.5 142.83,-5.5 142.83,-11.5 142.83,-11.5 142.83,-40.5 142.83,-40.5 142.83,-46.5 136.83,-52.5 130.83,-52.5\"/>\n<text text-anchor=\"start\" x=\"7.83\" y=\"-37.3\" font-family=\"Helvetica,sans-Serif\" font-size=\"14.00\">squared_error = 0.16</text>\n<text text-anchor=\"start\" x=\"30.33\" y=\"-22.3\" font-family=\"Helvetica,sans-Serif\" font-size=\"14.00\">samples = 20</text>\n<text text-anchor=\"start\" x=\"37.83\" y=\"-7.3\" font-family=\"Helvetica,sans-Serif\" font-size=\"14.00\">value = 0.2</text>\n</g>\n<!-- 3&#45;&gt;5 -->\n<g id=\"edge3\" class=\"edge\">\n<title>3&#45;&gt;5</title>\n<path fill=\"none\" stroke=\"black\" d=\"M181.18,-96.84C161.61,-84.4 139.45,-70.31 120.19,-58.07\"/>\n<polygon fill=\"black\" stroke=\"black\" points=\"121.88,-54.99 111.56,-52.58 118.12,-60.9 121.88,-54.99\"/>\n</g>\n<!-- 6 -->\n<g id=\"node5\" class=\"node\">\n<title>6</title>\n<path fill=\"#eead7e\" stroke=\"black\" d=\"M292.83,-52.5C292.83,-52.5 173.83,-52.5 173.83,-52.5 167.83,-52.5 161.83,-46.5 161.83,-40.5 161.83,-40.5 161.83,-11.5 161.83,-11.5 161.83,-5.5 167.83,0.5 173.83,0.5 173.83,0.5 292.83,0.5 292.83,0.5 298.83,0.5 304.83,-5.5 304.83,-11.5 304.83,-11.5 304.83,-40.5 304.83,-40.5 304.83,-46.5 298.83,-52.5 292.83,-52.5\"/>\n<text text-anchor=\"start\" x=\"169.83\" y=\"-37.3\" font-family=\"Helvetica,sans-Serif\" font-size=\"14.00\">squared_error = 0.25</text>\n<text text-anchor=\"start\" x=\"192.33\" y=\"-22.3\" font-family=\"Helvetica,sans-Serif\" font-size=\"14.00\">samples = 33</text>\n<text text-anchor=\"start\" x=\"195.83\" y=\"-7.3\" font-family=\"Helvetica,sans-Serif\" font-size=\"14.00\">value = 0.48</text>\n</g>\n<!-- 3&#45;&gt;6 -->\n<g id=\"edge4\" class=\"edge\">\n<title>3&#45;&gt;6</title>\n<path fill=\"none\" stroke=\"black\" d=\"M233.33,-96.84C233.33,-85.97 233.33,-73.84 233.33,-62.78\"/>\n<polygon fill=\"black\" stroke=\"black\" points=\"236.83,-62.58 233.33,-52.58 229.83,-62.58 236.83,-62.58\"/>\n</g>\n</g>\n</svg>\n",
            "text/plain": [
              "<graphviz.sources.Source at 0x7cdc05f503d0>"
            ]
          },
          "metadata": {},
          "execution_count": 55
        }
      ]
    },
    {
      "cell_type": "code",
      "source": [
        "from dtreeviz import model\n",
        "\n",
        "samp_idx = np.random.permutation(len(y))[:500]\n",
        "\n",
        "viz_model = model(m, xs.iloc[samp_idx], y.iloc[samp_idx],\n",
        "            feature_names=xs.columns,\n",
        "            target_name=dep_var,\n",
        "            class_names=list(y.unique()))\n",
        "viz_model.view(fontname=\"DejaVu Sans\", scale=1.6, label_fontsize=10, orientation=\"LR\")"
      ],
      "metadata": {
        "id": "Tn63EWZoUqwO",
        "outputId": "259a98c1-bae7-40e0-9beb-8c867c7d5482",
        "colab": {
          "base_uri": "https://localhost:8080/",
          "height": 378
        }
      },
      "execution_count": 65,
      "outputs": [
        {
          "output_type": "stream",
          "name": "stderr",
          "text": [
            "/usr/local/lib/python3.10/dist-packages/sklearn/base.py:493: UserWarning: X does not have valid feature names, but DecisionTreeRegressor was fitted with feature names\n"
          ]
        },
        {
          "output_type": "execute_result",
          "data": {
            "text/plain": [
              "<dtreeviz.utils.DTreeVizRender at 0x7cdc07b57cd0>"
            ],
            "image/svg+xml": "<svg xmlns=\"http://www.w3.org/2000/svg\" xmlns:dc=\"http://purl.org/dc/elements/1.1/\" xmlns:ns2=\"http://creativecommons.org/ns#\" xmlns:rdf=\"http://www.w3.org/1999/02/22-rdf-syntax-ns#\" xmlns:xlink=\"http://www.w3.org/1999/xlink\" width=\"897.6\" height=\"339.20000000000005\" viewBox=\"0.0 0.0 897.6 339.20000000000005\">\n<g id=\"graph0\" class=\"graph\" transform=\"scale(1.6 1.6) rotate(0) translate(4 208)\">\n<title>G</title>\n<polygon fill=\"white\" stroke=\"transparent\" points=\"-4,4 -4,-208 557,-208 557,4 -4,4\" />\n\n<g id=\"node1\" class=\"node\">\n<title>node3</title>\n<svg width=\"129px\" height=\"71px\" viewBox=\"0 0 173.21875 95.167767\" version=\"1.1\" preserveAspectRatio=\"xMinYMin meet\" x=\"347.5\" y=\"-180.5\">\n <metadata>\n  <rdf:RDF>\n   <ns2:Work>\n    <dc:type rdf:resource=\"http://purl.org/dc/dcmitype/StillImage\" />\n    <dc:date>2024-12-17T11:59:04.727332</dc:date>\n    <dc:format>image/svg+xml</dc:format>\n    <dc:creator>\n     <ns2:Agent>\n      <dc:title>Matplotlib v3.8.0, https://matplotlib.org/</dc:title>\n     </ns2:Agent>\n    </dc:creator>\n   </ns2:Work>\n  </rdf:RDF>\n </metadata>\n <defs>\n  <style type=\"text/css\">*{stroke-linejoin: round; stroke-linecap: butt}</style>\n </defs>\n <g id=\"figure_1\">\n  <g id=\"patch_1\">\n   <path d=\"M 0 95.167767  L 173.21875 95.167767  L 173.21875 0  L 0 0  z \" style=\"fill: #ffffff\" />\n  </g>\n  <g id=\"axes_1\">\n   <g id=\"patch_2\">\n    <path d=\"M 19.7225 62.247142  L 159.2225 62.247142  L 159.2225 1.263142  L 19.7225 1.263142  z \" style=\"fill: #ffffff\" />\n   </g>\n   <g id=\"PathCollection_1\">\n    <defs>\n     <path id=\"m7ca84e36c9\" d=\"M 0 1.118034  C 0.296506 1.118034 0.580908 1.000231 0.790569 0.790569  C 1.000231 0.580908 1.118034 0.296506 1.118034 0  C 1.118034 -0.296506 1.000231 -0.580908 0.790569 -0.790569  C 0.580908 -1.000231 0.296506 -1.118034 0 -1.118034  C -0.296506 -1.118034 -0.580908 -1.000231 -0.790569 -0.790569  C -1.000231 -0.580908 -1.118034 -0.296506 -1.118034 0  C -1.118034 0.296506 -1.000231 0.580908 -0.790569 0.790569  C -0.580908 1.000231 -0.296506 1.118034 0 1.118034  z \" style=\"stroke: #4575b4; stroke-opacity: 0.7; stroke-width: 0.3\" />\n    </defs>\n    <g clip-path=\"url(#p59d998b9a8)\">\n     <use xlink:href=\"#m7ca84e36c9\" x=\"75.114111\" y=\"62.247142\" style=\"fill: #4575b4; fill-opacity: 0.7; stroke: #4575b4; stroke-opacity: 0.7; stroke-width: 0.3\" />\n     <use xlink:href=\"#m7ca84e36c9\" x=\"24.758749\" y=\"62.247142\" style=\"fill: #4575b4; fill-opacity: 0.7; stroke: #4575b4; stroke-opacity: 0.7; stroke-width: 0.3\" />\n     <use xlink:href=\"#m7ca84e36c9\" x=\"138.579797\" y=\"3.039375\" style=\"fill: #4575b4; fill-opacity: 0.7; stroke: #4575b4; stroke-opacity: 0.7; stroke-width: 0.3\" />\n     <use xlink:href=\"#m7ca84e36c9\" x=\"133.253157\" y=\"3.039375\" style=\"fill: #4575b4; fill-opacity: 0.7; stroke: #4575b4; stroke-opacity: 0.7; stroke-width: 0.3\" />\n     <use xlink:href=\"#m7ca84e36c9\" x=\"90.239396\" y=\"62.247142\" style=\"fill: #4575b4; fill-opacity: 0.7; stroke: #4575b4; stroke-opacity: 0.7; stroke-width: 0.3\" />\n     <use xlink:href=\"#m7ca84e36c9\" x=\"52.322789\" y=\"62.247142\" style=\"fill: #4575b4; fill-opacity: 0.7; stroke: #4575b4; stroke-opacity: 0.7; stroke-width: 0.3\" />\n     <use xlink:href=\"#m7ca84e36c9\" x=\"119.452874\" y=\"62.247142\" style=\"fill: #4575b4; fill-opacity: 0.7; stroke: #4575b4; stroke-opacity: 0.7; stroke-width: 0.3\" />\n     <use xlink:href=\"#m7ca84e36c9\" x=\"113.396119\" y=\"62.247142\" style=\"fill: #4575b4; fill-opacity: 0.7; stroke: #4575b4; stroke-opacity: 0.7; stroke-width: 0.3\" />\n     <use xlink:href=\"#m7ca84e36c9\" x=\"44.171682\" y=\"62.247142\" style=\"fill: #4575b4; fill-opacity: 0.7; stroke: #4575b4; stroke-opacity: 0.7; stroke-width: 0.3\" />\n     <use xlink:href=\"#m7ca84e36c9\" x=\"100.071576\" y=\"62.247142\" style=\"fill: #4575b4; fill-opacity: 0.7; stroke: #4575b4; stroke-opacity: 0.7; stroke-width: 0.3\" />\n     <use xlink:href=\"#m7ca84e36c9\" x=\"49.260046\" y=\"62.247142\" style=\"fill: #4575b4; fill-opacity: 0.7; stroke: #4575b4; stroke-opacity: 0.7; stroke-width: 0.3\" />\n     <use xlink:href=\"#m7ca84e36c9\" x=\"83.451852\" y=\"62.247142\" style=\"fill: #4575b4; fill-opacity: 0.7; stroke: #4575b4; stroke-opacity: 0.7; stroke-width: 0.3\" />\n     <use xlink:href=\"#m7ca84e36c9\" x=\"96.053527\" y=\"3.039375\" style=\"fill: #4575b4; fill-opacity: 0.7; stroke: #4575b4; stroke-opacity: 0.7; stroke-width: 0.3\" />\n     <use xlink:href=\"#m7ca84e36c9\" x=\"159.2225\" y=\"62.247142\" style=\"fill: #4575b4; fill-opacity: 0.7; stroke: #4575b4; stroke-opacity: 0.7; stroke-width: 0.3\" />\n     <use xlink:href=\"#m7ca84e36c9\" x=\"73.603556\" y=\"3.039375\" style=\"fill: #4575b4; fill-opacity: 0.7; stroke: #4575b4; stroke-opacity: 0.7; stroke-width: 0.3\" />\n     <use xlink:href=\"#m7ca84e36c9\" x=\"139.064863\" y=\"62.247142\" style=\"fill: #4575b4; fill-opacity: 0.7; stroke: #4575b4; stroke-opacity: 0.7; stroke-width: 0.3\" />\n     <use xlink:href=\"#m7ca84e36c9\" x=\"22.002509\" y=\"62.247142\" style=\"fill: #4575b4; fill-opacity: 0.7; stroke: #4575b4; stroke-opacity: 0.7; stroke-width: 0.3\" />\n     <use xlink:href=\"#m7ca84e36c9\" x=\"121.378511\" y=\"62.247142\" style=\"fill: #4575b4; fill-opacity: 0.7; stroke: #4575b4; stroke-opacity: 0.7; stroke-width: 0.3\" />\n     <use xlink:href=\"#m7ca84e36c9\" x=\"52.943298\" y=\"62.247142\" style=\"fill: #4575b4; fill-opacity: 0.7; stroke: #4575b4; stroke-opacity: 0.7; stroke-width: 0.3\" />\n     <use xlink:href=\"#m7ca84e36c9\" x=\"64.686003\" y=\"3.039375\" style=\"fill: #4575b4; fill-opacity: 0.7; stroke: #4575b4; stroke-opacity: 0.7; stroke-width: 0.3\" />\n     <use xlink:href=\"#m7ca84e36c9\" x=\"47.624112\" y=\"3.039375\" style=\"fill: #4575b4; fill-opacity: 0.7; stroke: #4575b4; stroke-opacity: 0.7; stroke-width: 0.3\" />\n     <use xlink:href=\"#m7ca84e36c9\" x=\"80.776693\" y=\"62.247142\" style=\"fill: #4575b4; fill-opacity: 0.7; stroke: #4575b4; stroke-opacity: 0.7; stroke-width: 0.3\" />\n     <use xlink:href=\"#m7ca84e36c9\" x=\"95.165428\" y=\"62.247142\" style=\"fill: #4575b4; fill-opacity: 0.7; stroke: #4575b4; stroke-opacity: 0.7; stroke-width: 0.3\" />\n     <use xlink:href=\"#m7ca84e36c9\" x=\"128.702634\" y=\"62.247142\" style=\"fill: #4575b4; fill-opacity: 0.7; stroke: #4575b4; stroke-opacity: 0.7; stroke-width: 0.3\" />\n     <use xlink:href=\"#m7ca84e36c9\" x=\"120.259418\" y=\"62.247142\" style=\"fill: #4575b4; fill-opacity: 0.7; stroke: #4575b4; stroke-opacity: 0.7; stroke-width: 0.3\" />\n     <use xlink:href=\"#m7ca84e36c9\" x=\"28.475969\" y=\"62.247142\" style=\"fill: #4575b4; fill-opacity: 0.7; stroke: #4575b4; stroke-opacity: 0.7; stroke-width: 0.3\" />\n     <use xlink:href=\"#m7ca84e36c9\" x=\"108.906613\" y=\"62.247142\" style=\"fill: #4575b4; fill-opacity: 0.7; stroke: #4575b4; stroke-opacity: 0.7; stroke-width: 0.3\" />\n     <use xlink:href=\"#m7ca84e36c9\" x=\"130.391892\" y=\"3.039375\" style=\"fill: #4575b4; fill-opacity: 0.7; stroke: #4575b4; stroke-opacity: 0.7; stroke-width: 0.3\" />\n     <use xlink:href=\"#m7ca84e36c9\" x=\"21.140745\" y=\"62.247142\" style=\"fill: #4575b4; fill-opacity: 0.7; stroke: #4575b4; stroke-opacity: 0.7; stroke-width: 0.3\" />\n     <use xlink:href=\"#m7ca84e36c9\" x=\"84.391372\" y=\"3.039375\" style=\"fill: #4575b4; fill-opacity: 0.7; stroke: #4575b4; stroke-opacity: 0.7; stroke-width: 0.3\" />\n     <use xlink:href=\"#m7ca84e36c9\" x=\"116.708194\" y=\"3.039375\" style=\"fill: #4575b4; fill-opacity: 0.7; stroke: #4575b4; stroke-opacity: 0.7; stroke-width: 0.3\" />\n     <use xlink:href=\"#m7ca84e36c9\" x=\"55.869639\" y=\"62.247142\" style=\"fill: #4575b4; fill-opacity: 0.7; stroke: #4575b4; stroke-opacity: 0.7; stroke-width: 0.3\" />\n     <use xlink:href=\"#m7ca84e36c9\" x=\"26.707098\" y=\"62.247142\" style=\"fill: #4575b4; fill-opacity: 0.7; stroke: #4575b4; stroke-opacity: 0.7; stroke-width: 0.3\" />\n     <use xlink:href=\"#m7ca84e36c9\" x=\"24.222493\" y=\"62.247142\" style=\"fill: #4575b4; fill-opacity: 0.7; stroke: #4575b4; stroke-opacity: 0.7; stroke-width: 0.3\" />\n     <use xlink:href=\"#m7ca84e36c9\" x=\"35.422949\" y=\"3.039375\" style=\"fill: #4575b4; fill-opacity: 0.7; stroke: #4575b4; stroke-opacity: 0.7; stroke-width: 0.3\" />\n     <use xlink:href=\"#m7ca84e36c9\" x=\"65.958934\" y=\"3.039375\" style=\"fill: #4575b4; fill-opacity: 0.7; stroke: #4575b4; stroke-opacity: 0.7; stroke-width: 0.3\" />\n     <use xlink:href=\"#m7ca84e36c9\" x=\"52.059511\" y=\"62.247142\" style=\"fill: #4575b4; fill-opacity: 0.7; stroke: #4575b4; stroke-opacity: 0.7; stroke-width: 0.3\" />\n     <use xlink:href=\"#m7ca84e36c9\" x=\"115.744386\" y=\"3.039375\" style=\"fill: #4575b4; fill-opacity: 0.7; stroke: #4575b4; stroke-opacity: 0.7; stroke-width: 0.3\" />\n     <use xlink:href=\"#m7ca84e36c9\" x=\"33.613074\" y=\"62.247142\" style=\"fill: #4575b4; fill-opacity: 0.7; stroke: #4575b4; stroke-opacity: 0.7; stroke-width: 0.3\" />\n     <use xlink:href=\"#m7ca84e36c9\" x=\"140.280742\" y=\"62.247142\" style=\"fill: #4575b4; fill-opacity: 0.7; stroke: #4575b4; stroke-opacity: 0.7; stroke-width: 0.3\" />\n     <use xlink:href=\"#m7ca84e36c9\" x=\"122.196568\" y=\"62.247142\" style=\"fill: #4575b4; fill-opacity: 0.7; stroke: #4575b4; stroke-opacity: 0.7; stroke-width: 0.3\" />\n     <use xlink:href=\"#m7ca84e36c9\" x=\"47.862045\" y=\"62.247142\" style=\"fill: #4575b4; fill-opacity: 0.7; stroke: #4575b4; stroke-opacity: 0.7; stroke-width: 0.3\" />\n     <use xlink:href=\"#m7ca84e36c9\" x=\"25.307206\" y=\"3.039375\" style=\"fill: #4575b4; fill-opacity: 0.7; stroke: #4575b4; stroke-opacity: 0.7; stroke-width: 0.3\" />\n     <use xlink:href=\"#m7ca84e36c9\" x=\"124.497728\" y=\"3.039375\" style=\"fill: #4575b4; fill-opacity: 0.7; stroke: #4575b4; stroke-opacity: 0.7; stroke-width: 0.3\" />\n     <use xlink:href=\"#m7ca84e36c9\" x=\"105.49443\" y=\"62.247142\" style=\"fill: #4575b4; fill-opacity: 0.7; stroke: #4575b4; stroke-opacity: 0.7; stroke-width: 0.3\" />\n     <use xlink:href=\"#m7ca84e36c9\" x=\"119.915704\" y=\"3.039375\" style=\"fill: #4575b4; fill-opacity: 0.7; stroke: #4575b4; stroke-opacity: 0.7; stroke-width: 0.3\" />\n     <use xlink:href=\"#m7ca84e36c9\" x=\"48.144335\" y=\"62.247142\" style=\"fill: #4575b4; fill-opacity: 0.7; stroke: #4575b4; stroke-opacity: 0.7; stroke-width: 0.3\" />\n     <use xlink:href=\"#m7ca84e36c9\" x=\"141.73864\" y=\"3.039375\" style=\"fill: #4575b4; fill-opacity: 0.7; stroke: #4575b4; stroke-opacity: 0.7; stroke-width: 0.3\" />\n     <use xlink:href=\"#m7ca84e36c9\" x=\"50.949606\" y=\"3.039375\" style=\"fill: #4575b4; fill-opacity: 0.7; stroke: #4575b4; stroke-opacity: 0.7; stroke-width: 0.3\" />\n     <use xlink:href=\"#m7ca84e36c9\" x=\"127.222381\" y=\"3.039375\" style=\"fill: #4575b4; fill-opacity: 0.7; stroke: #4575b4; stroke-opacity: 0.7; stroke-width: 0.3\" />\n     <use xlink:href=\"#m7ca84e36c9\" x=\"59.247659\" y=\"3.039375\" style=\"fill: #4575b4; fill-opacity: 0.7; stroke: #4575b4; stroke-opacity: 0.7; stroke-width: 0.3\" />\n     <use xlink:href=\"#m7ca84e36c9\" x=\"59.218237\" y=\"62.247142\" style=\"fill: #4575b4; fill-opacity: 0.7; stroke: #4575b4; stroke-opacity: 0.7; stroke-width: 0.3\" />\n     <use xlink:href=\"#m7ca84e36c9\" x=\"87.084465\" y=\"3.039375\" style=\"fill: #4575b4; fill-opacity: 0.7; stroke: #4575b4; stroke-opacity: 0.7; stroke-width: 0.3\" />\n    </g>\n   </g>\n   <g id=\"patch_3\">\n    <path d=\"M 59.232946 62.247142  L 56.721946 68.345542  L 61.743946 68.345542  z \" style=\"fill: #444443\" />\n   </g>\n   <g id=\"matplotlib.axis_1\">\n    <g id=\"xtick_1\">\n     <g id=\"line2d_1\">\n      <defs>\n       <path id=\"m41f80854cc\" d=\"M 0 0  L 0 3.5  \" style=\"stroke: #000000; stroke-width: 0.3\" />\n      </defs>\n      <g>\n       <use xlink:href=\"#m41f80854cc\" x=\"19.7225\" y=\"62.247142\" style=\"stroke: #000000; stroke-width: 0.3\" />\n      </g>\n     </g>\n     <g id=\"text_1\">\n      \n      <g style=\"fill: #444443\" transform=\"translate(5.72625 79.825892) scale(0.08 -0.08)\">\n       <defs>\n        <path id=\"DejaVuSans-30\" d=\"M 2034 4250  Q 1547 4250 1301 3770  Q 1056 3291 1056 2328  Q 1056 1369 1301 889  Q 1547 409 2034 409  Q 2525 409 2770 889  Q 3016 1369 3016 2328  Q 3016 3291 2770 3770  Q 2525 4250 2034 4250  z M 2034 4750  Q 2819 4750 3233 4129  Q 3647 3509 3647 2328  Q 3647 1150 3233 529  Q 2819 -91 2034 -91  Q 1250 -91 836 529  Q 422 1150 422 2328  Q 422 3509 836 4129  Q 1250 4750 2034 4750  z \" transform=\"scale(0.015625)\" />\n        <path id=\"DejaVuSans-2e\" d=\"M 684 794  L 1344 794  L 1344 0  L 684 0  L 684 794  z \" transform=\"scale(0.015625)\" />\n        <path id=\"DejaVuSans-33\" d=\"M 2597 2516  Q 3050 2419 3304 2112  Q 3559 1806 3559 1356  Q 3559 666 3084 287  Q 2609 -91 1734 -91  Q 1441 -91 1130 -33  Q 819 25 488 141  L 488 750  Q 750 597 1062 519  Q 1375 441 1716 441  Q 2309 441 2620 675  Q 2931 909 2931 1356  Q 2931 1769 2642 2001  Q 2353 2234 1838 2234  L 1294 2234  L 1294 2753  L 1863 2753  Q 2328 2753 2575 2939  Q 2822 3125 2822 3475  Q 2822 3834 2567 4026  Q 2313 4219 1838 4219  Q 1578 4219 1281 4162  Q 984 4106 628 3988  L 628 4550  Q 988 4650 1302 4700  Q 1616 4750 1894 4750  Q 2613 4750 3031 4423  Q 3450 4097 3450 3541  Q 3450 3153 3228 2886  Q 3006 2619 2597 2516  z \" transform=\"scale(0.015625)\" />\n        <path id=\"DejaVuSans-32\" d=\"M 1228 531  L 3431 531  L 3431 0  L 469 0  L 469 531  Q 828 903 1448 1529  Q 2069 2156 2228 2338  Q 2531 2678 2651 2914  Q 2772 3150 2772 3378  Q 2772 3750 2511 3984  Q 2250 4219 1831 4219  Q 1534 4219 1204 4116  Q 875 4013 500 3803  L 500 4441  Q 881 4594 1212 4672  Q 1544 4750 1819 4750  Q 2544 4750 2975 4387  Q 3406 4025 3406 3419  Q 3406 3131 3298 2873  Q 3191 2616 2906 2266  Q 2828 2175 2409 1742  Q 1991 1309 1228 531  z \" transform=\"scale(0.015625)\" />\n       </defs>\n       <use xlink:href=\"#DejaVuSans-30\" />\n       <use xlink:href=\"#DejaVuSans-2e\" x=\"63.623047\" />\n       <use xlink:href=\"#DejaVuSans-30\" x=\"95.410156\" />\n       <use xlink:href=\"#DejaVuSans-30\" x=\"159.033203\" />\n       <use xlink:href=\"#DejaVuSans-33\" x=\"222.65625\" />\n       <use xlink:href=\"#DejaVuSans-32\" x=\"286.279297\" />\n      </g>\n     </g>\n    </g>\n    <g id=\"xtick_2\">\n     <g id=\"line2d_2\">\n      <g>\n       <use xlink:href=\"#m41f80854cc\" x=\"59.232946\" y=\"62.247142\" style=\"stroke: #000000; stroke-width: 0.3\" />\n      </g>\n     </g>\n     <g id=\"text_2\">\n      \n      <g style=\"fill: #444443\" transform=\"translate(45.236696 79.825892) scale(0.08 -0.08)\">\n       <defs>\n        <path id=\"DejaVuSans-38\" d=\"M 2034 2216  Q 1584 2216 1326 1975  Q 1069 1734 1069 1313  Q 1069 891 1326 650  Q 1584 409 2034 409  Q 2484 409 2743 651  Q 3003 894 3003 1313  Q 3003 1734 2745 1975  Q 2488 2216 2034 2216  z M 1403 2484  Q 997 2584 770 2862  Q 544 3141 544 3541  Q 544 4100 942 4425  Q 1341 4750 2034 4750  Q 2731 4750 3128 4425  Q 3525 4100 3525 3541  Q 3525 3141 3298 2862  Q 3072 2584 2669 2484  Q 3125 2378 3379 2068  Q 3634 1759 3634 1313  Q 3634 634 3220 271  Q 2806 -91 2034 -91  Q 1263 -91 848 271  Q 434 634 434 1313  Q 434 1759 690 2068  Q 947 2378 1403 2484  z M 1172 3481  Q 1172 3119 1398 2916  Q 1625 2713 2034 2713  Q 2441 2713 2670 2916  Q 2900 3119 2900 3481  Q 2900 3844 2670 4047  Q 2441 4250 2034 4250  Q 1625 4250 1398 4047  Q 1172 3844 1172 3481  z \" transform=\"scale(0.015625)\" />\n        <path id=\"DejaVuSans-35\" d=\"M 691 4666  L 3169 4666  L 3169 4134  L 1269 4134  L 1269 2991  Q 1406 3038 1543 3061  Q 1681 3084 1819 3084  Q 2600 3084 3056 2656  Q 3513 2228 3513 1497  Q 3513 744 3044 326  Q 2575 -91 1722 -91  Q 1428 -91 1123 -41  Q 819 9 494 109  L 494 744  Q 775 591 1075 516  Q 1375 441 1709 441  Q 2250 441 2565 725  Q 2881 1009 2881 1497  Q 2881 1984 2565 2268  Q 2250 2553 1709 2553  Q 1456 2553 1204 2497  Q 953 2441 691 2322  L 691 4666  z \" transform=\"scale(0.015625)\" />\n       </defs>\n       <use xlink:href=\"#DejaVuSans-30\" />\n       <use xlink:href=\"#DejaVuSans-2e\" x=\"63.623047\" />\n       <use xlink:href=\"#DejaVuSans-32\" x=\"95.410156\" />\n       <use xlink:href=\"#DejaVuSans-38\" x=\"159.033203\" />\n       <use xlink:href=\"#DejaVuSans-35\" x=\"222.65625\" />\n       <use xlink:href=\"#DejaVuSans-35\" x=\"286.279297\" />\n      </g>\n     </g>\n    </g>\n    <g id=\"xtick_3\">\n     <g id=\"line2d_3\">\n      <g>\n       <use xlink:href=\"#m41f80854cc\" x=\"159.2225\" y=\"62.247142\" style=\"stroke: #000000; stroke-width: 0.3\" />\n      </g>\n     </g>\n     <g id=\"text_3\">\n      \n      <g style=\"fill: #444443\" transform=\"translate(145.22625 79.825892) scale(0.08 -0.08)\">\n       <defs>\n        <path id=\"DejaVuSans-39\" d=\"M 703 97  L 703 672  Q 941 559 1184 500  Q 1428 441 1663 441  Q 2288 441 2617 861  Q 2947 1281 2994 2138  Q 2813 1869 2534 1725  Q 2256 1581 1919 1581  Q 1219 1581 811 2004  Q 403 2428 403 3163  Q 403 3881 828 4315  Q 1253 4750 1959 4750  Q 2769 4750 3195 4129  Q 3622 3509 3622 2328  Q 3622 1225 3098 567  Q 2575 -91 1691 -91  Q 1453 -91 1209 -44  Q 966 3 703 97  z M 1959 2075  Q 2384 2075 2632 2365  Q 2881 2656 2881 3163  Q 2881 3666 2632 3958  Q 2384 4250 1959 4250  Q 1534 4250 1286 3958  Q 1038 3666 1038 3163  Q 1038 2656 1286 2365  Q 1534 2075 1959 2075  z \" transform=\"scale(0.015625)\" />\n       </defs>\n       <use xlink:href=\"#DejaVuSans-30\" />\n       <use xlink:href=\"#DejaVuSans-2e\" x=\"63.623047\" />\n       <use xlink:href=\"#DejaVuSans-39\" x=\"95.410156\" />\n       <use xlink:href=\"#DejaVuSans-39\" x=\"159.033203\" />\n       <use xlink:href=\"#DejaVuSans-39\" x=\"222.65625\" />\n       <use xlink:href=\"#DejaVuSans-39\" x=\"286.279297\" />\n      </g>\n     </g>\n    </g>\n    <g id=\"text_4\">\n     \n     <g style=\"fill: #444443\" transform=\"translate(67.401406 93.088079) scale(0.1 -0.1)\">\n      <defs>\n       <path id=\"DejaVuSans-46\" d=\"M 628 4666  L 3309 4666  L 3309 4134  L 1259 4134  L 1259 2759  L 3109 2759  L 3109 2228  L 1259 2228  L 1259 0  L 628 0  L 628 4666  z \" transform=\"scale(0.015625)\" />\n       <path id=\"DejaVuSans-65\" d=\"M 3597 1894  L 3597 1613  L 953 1613  Q 991 1019 1311 708  Q 1631 397 2203 397  Q 2534 397 2845 478  Q 3156 559 3463 722  L 3463 178  Q 3153 47 2828 -22  Q 2503 -91 2169 -91  Q 1331 -91 842 396  Q 353 884 353 1716  Q 353 2575 817 3079  Q 1281 3584 2069 3584  Q 2775 3584 3186 3129  Q 3597 2675 3597 1894  z M 3022 2063  Q 3016 2534 2758 2815  Q 2500 3097 2075 3097  Q 1594 3097 1305 2825  Q 1016 2553 972 2059  L 3022 2063  z \" transform=\"scale(0.015625)\" />\n       <path id=\"DejaVuSans-61\" d=\"M 2194 1759  Q 1497 1759 1228 1600  Q 959 1441 959 1056  Q 959 750 1161 570  Q 1363 391 1709 391  Q 2188 391 2477 730  Q 2766 1069 2766 1631  L 2766 1759  L 2194 1759  z M 3341 1997  L 3341 0  L 2766 0  L 2766 531  Q 2569 213 2275 61  Q 1981 -91 1556 -91  Q 1019 -91 701 211  Q 384 513 384 1019  Q 384 1609 779 1909  Q 1175 2209 1959 2209  L 2766 2209  L 2766 2266  Q 2766 2663 2505 2880  Q 2244 3097 1772 3097  Q 1472 3097 1187 3025  Q 903 2953 641 2809  L 641 3341  Q 956 3463 1253 3523  Q 1550 3584 1831 3584  Q 2591 3584 2966 3190  Q 3341 2797 3341 1997  z \" transform=\"scale(0.015625)\" />\n       <path id=\"DejaVuSans-74\" d=\"M 1172 4494  L 1172 3500  L 2356 3500  L 2356 3053  L 1172 3053  L 1172 1153  Q 1172 725 1289 603  Q 1406 481 1766 481  L 2356 481  L 2356 0  L 1766 0  Q 1100 0 847 248  Q 594 497 594 1153  L 594 3053  L 172 3053  L 172 3500  L 594 3500  L 594 4494  L 1172 4494  z \" transform=\"scale(0.015625)\" />\n       <path id=\"DejaVuSans-75\" d=\"M 544 1381  L 544 3500  L 1119 3500  L 1119 1403  Q 1119 906 1312 657  Q 1506 409 1894 409  Q 2359 409 2629 706  Q 2900 1003 2900 1516  L 2900 3500  L 3475 3500  L 3475 0  L 2900 0  L 2900 538  Q 2691 219 2414 64  Q 2138 -91 1772 -91  Q 1169 -91 856 284  Q 544 659 544 1381  z M 1991 3584  L 1991 3584  z \" transform=\"scale(0.015625)\" />\n       <path id=\"DejaVuSans-72\" d=\"M 2631 2963  Q 2534 3019 2420 3045  Q 2306 3072 2169 3072  Q 1681 3072 1420 2755  Q 1159 2438 1159 1844  L 1159 0  L 581 0  L 581 3500  L 1159 3500  L 1159 2956  Q 1341 3275 1631 3429  Q 1922 3584 2338 3584  Q 2397 3584 2469 3576  Q 2541 3569 2628 3553  L 2631 2963  z \" transform=\"scale(0.015625)\" />\n       <path id=\"DejaVuSans-31\" d=\"M 794 531  L 1825 531  L 1825 4091  L 703 3866  L 703 4441  L 1819 4666  L 2450 4666  L 2450 531  L 3481 531  L 3481 0  L 794 0  L 794 531  z \" transform=\"scale(0.015625)\" />\n      </defs>\n      <use xlink:href=\"#DejaVuSans-46\" />\n      <use xlink:href=\"#DejaVuSans-65\" x=\"52.019531\" />\n      <use xlink:href=\"#DejaVuSans-61\" x=\"113.542969\" />\n      <use xlink:href=\"#DejaVuSans-74\" x=\"174.822266\" />\n      <use xlink:href=\"#DejaVuSans-75\" x=\"214.03125\" />\n      <use xlink:href=\"#DejaVuSans-72\" x=\"277.410156\" />\n      <use xlink:href=\"#DejaVuSans-65\" x=\"316.273438\" />\n      <use xlink:href=\"#DejaVuSans-31\" x=\"377.796875\" />\n     </g>\n    </g>\n   </g>\n   <g id=\"matplotlib.axis_2\">\n    <g id=\"ytick_1\">\n     <g id=\"line2d_4\">\n      <defs>\n       <path id=\"m7390e314b1\" d=\"M 0 0  L -3.5 0  \" style=\"stroke: #000000; stroke-width: 0.3\" />\n      </defs>\n      <g>\n       <use xlink:href=\"#m7390e314b1\" x=\"19.7225\" y=\"62.247142\" style=\"stroke: #000000; stroke-width: 0.3\" />\n      </g>\n     </g>\n     <g id=\"text_5\">\n      \n      <g style=\"fill: #444443\" transform=\"translate(0 65.286517) scale(0.08 -0.08)\">\n       <use xlink:href=\"#DejaVuSans-30\" />\n       <use xlink:href=\"#DejaVuSans-2e\" x=\"63.623047\" />\n       <use xlink:href=\"#DejaVuSans-30\" x=\"95.410156\" />\n      </g>\n     </g>\n    </g>\n    <g id=\"ytick_2\">\n     <g id=\"line2d_5\">\n      <g>\n       <use xlink:href=\"#m7390e314b1\" x=\"19.7225\" y=\"32.643258\" style=\"stroke: #000000; stroke-width: 0.3\" />\n      </g>\n     </g>\n     <g id=\"text_6\">\n      \n      <g style=\"fill: #444443\" transform=\"translate(0 35.682633) scale(0.08 -0.08)\">\n       <use xlink:href=\"#DejaVuSans-30\" />\n       <use xlink:href=\"#DejaVuSans-2e\" x=\"63.623047\" />\n       <use xlink:href=\"#DejaVuSans-35\" x=\"95.410156\" />\n      </g>\n     </g>\n    </g>\n    <g id=\"ytick_3\">\n     <g id=\"line2d_6\">\n      <g>\n       <use xlink:href=\"#m7390e314b1\" x=\"19.7225\" y=\"3.039375\" style=\"stroke: #000000; stroke-width: 0.3\" />\n      </g>\n     </g>\n     <g id=\"text_7\">\n      \n      <g style=\"fill: #444443\" transform=\"translate(0 6.07875) scale(0.08 -0.08)\">\n       <use xlink:href=\"#DejaVuSans-31\" />\n       <use xlink:href=\"#DejaVuSans-2e\" x=\"63.623047\" />\n       <use xlink:href=\"#DejaVuSans-30\" x=\"95.410156\" />\n      </g>\n     </g>\n    </g>\n   </g>\n   <g id=\"line2d_7\">\n    <path d=\"M 19.7225 50.405589  L 59.232946 50.405589  \" clip-path=\"url(#p59d998b9a8)\" style=\"fill: none; stroke-dasharray: 3.7,1.6; stroke-dashoffset: 0; stroke: #444443\" />\n   </g>\n   <g id=\"line2d_8\">\n    <path d=\"M 59.232946 62.247142  L 59.232946 1.263142  \" clip-path=\"url(#p59d998b9a8)\" style=\"fill: none; stroke-dasharray: 3.7,1.6; stroke-dashoffset: 0; stroke: #444443\" />\n   </g>\n   <g id=\"line2d_9\">\n    <path d=\"M 59.232946 33.540346  L 159.2225 33.540346  \" clip-path=\"url(#p59d998b9a8)\" style=\"fill: none; stroke-dasharray: 3.7,1.6; stroke-dashoffset: 0; stroke: #444443\" />\n   </g>\n   <g id=\"patch_4\">\n    <path d=\"M 19.7225 62.247142  L 19.7225 1.263142  \" style=\"fill: none; stroke: #444443; stroke-width: 0.3; stroke-linejoin: miter; stroke-linecap: square\" />\n   </g>\n   <g id=\"patch_5\">\n    <path d=\"M 19.7225 62.247142  L 159.2225 62.247142  \" style=\"fill: none; stroke: #444443; stroke-width: 0.3; stroke-linejoin: miter; stroke-linecap: square\" />\n   </g>\n  </g>\n </g>\n <defs>\n  <clipPath id=\"p59d998b9a8\">\n   <rect x=\"19.7225\" y=\"1.263142\" width=\"139.5\" height=\"60.984\" />\n  </clipPath>\n </defs>\n</svg></g>\n\n<g id=\"node4\" class=\"node\">\n<title>leaf5</title>\n<polygon fill=\"none\" stroke=\"#444443\" stroke-width=\"0\" points=\"553,-204 497,-204 497,-145 553,-145 553,-204\" />\n<svg width=\"48px\" height=\"51px\" viewBox=\"0 0 64.040781 68.725507\" version=\"1.1\" preserveAspectRatio=\"xMinYMin meet\" x=\"501\" y=\"-199.5\">\n <metadata>\n  <rdf:RDF>\n   <ns2:Work>\n    <dc:type rdf:resource=\"http://purl.org/dc/dcmitype/StillImage\" />\n    <dc:date>2024-12-17T11:59:05.323805</dc:date>\n    <dc:format>image/svg+xml</dc:format>\n    <dc:creator>\n     <ns2:Agent>\n      <dc:title>Matplotlib v3.8.0, https://matplotlib.org/</dc:title>\n     </ns2:Agent>\n    </dc:creator>\n   </ns2:Work>\n  </rdf:RDF>\n </metadata>\n <defs>\n  <style type=\"text/css\">*{stroke-linejoin: round; stroke-linecap: butt}</style>\n </defs>\n <g id=\"figure_1\">\n  <g id=\"patch_1\">\n   <path d=\"M 0 68.725507  L 64.040781 68.725507  L 64.040781 0  L 0 0  z \" style=\"fill: #ffffff\" />\n  </g>\n  <g id=\"axes_1\">\n   <g id=\"patch_2\">\n    <path d=\"M 12.09 46.099569  L 53.94 46.099569  L 53.94 1.747569  L 12.09 1.747569  z \" style=\"fill: #ffffff\" />\n   </g>\n   <g id=\"PathCollection_1\">\n    <defs>\n     <path id=\"m9c8e2d04d5\" d=\"M 0 1.118034  C 0.296506 1.118034 0.580908 1.000231 0.790569 0.790569  C 1.000231 0.580908 1.118034 0.296506 1.118034 0  C 1.118034 -0.296506 1.000231 -0.580908 0.790569 -0.790569  C 0.580908 -1.000231 0.296506 -1.118034 0 -1.118034  C -0.296506 -1.118034 -0.580908 -1.000231 -0.790569 -0.790569  C -1.000231 -0.580908 -1.118034 -0.296506 -1.118034 0  C -1.118034 0.296506 -1.000231 0.580908 -0.790569 0.790569  C -0.580908 1.000231 -0.296506 1.118034 0 1.118034  z \" style=\"stroke: #4575b4; stroke-opacity: 0.7; stroke-width: 0.3\" />\n    </defs>\n    <g clip-path=\"url(#p643e8ab191)\">\n     <use xlink:href=\"#m9c8e2d04d5\" x=\"36.074277\" y=\"46.099569\" style=\"fill: #4575b4; fill-opacity: 0.7; stroke: #4575b4; stroke-opacity: 0.7; stroke-width: 0.3\" />\n     <use xlink:href=\"#m9c8e2d04d5\" x=\"33.599325\" y=\"46.099569\" style=\"fill: #4575b4; fill-opacity: 0.7; stroke: #4575b4; stroke-opacity: 0.7; stroke-width: 0.3\" />\n     <use xlink:href=\"#m9c8e2d04d5\" x=\"33.558791\" y=\"46.099569\" style=\"fill: #4575b4; fill-opacity: 0.7; stroke: #4575b4; stroke-opacity: 0.7; stroke-width: 0.3\" />\n     <use xlink:href=\"#m9c8e2d04d5\" x=\"34.337026\" y=\"46.099569\" style=\"fill: #4575b4; fill-opacity: 0.7; stroke: #4575b4; stroke-opacity: 0.7; stroke-width: 0.3\" />\n     <use xlink:href=\"#m9c8e2d04d5\" x=\"35.891193\" y=\"46.099569\" style=\"fill: #4575b4; fill-opacity: 0.7; stroke: #4575b4; stroke-opacity: 0.7; stroke-width: 0.3\" />\n     <use xlink:href=\"#m9c8e2d04d5\" x=\"30.73289\" y=\"46.099569\" style=\"fill: #4575b4; fill-opacity: 0.7; stroke: #4575b4; stroke-opacity: 0.7; stroke-width: 0.3\" />\n     <use xlink:href=\"#m9c8e2d04d5\" x=\"39.663684\" y=\"3.039375\" style=\"fill: #4575b4; fill-opacity: 0.7; stroke: #4575b4; stroke-opacity: 0.7; stroke-width: 0.3\" />\n     <use xlink:href=\"#m9c8e2d04d5\" x=\"32.907556\" y=\"46.099569\" style=\"fill: #4575b4; fill-opacity: 0.7; stroke: #4575b4; stroke-opacity: 0.7; stroke-width: 0.3\" />\n     <use xlink:href=\"#m9c8e2d04d5\" x=\"32.315809\" y=\"46.099569\" style=\"fill: #4575b4; fill-opacity: 0.7; stroke: #4575b4; stroke-opacity: 0.7; stroke-width: 0.3\" />\n     <use xlink:href=\"#m9c8e2d04d5\" x=\"30.78851\" y=\"46.099569\" style=\"fill: #4575b4; fill-opacity: 0.7; stroke: #4575b4; stroke-opacity: 0.7; stroke-width: 0.3\" />\n     <use xlink:href=\"#m9c8e2d04d5\" x=\"34.760958\" y=\"46.099569\" style=\"fill: #4575b4; fill-opacity: 0.7; stroke: #4575b4; stroke-opacity: 0.7; stroke-width: 0.3\" />\n     <use xlink:href=\"#m9c8e2d04d5\" x=\"34.506614\" y=\"46.099569\" style=\"fill: #4575b4; fill-opacity: 0.7; stroke: #4575b4; stroke-opacity: 0.7; stroke-width: 0.3\" />\n     <use xlink:href=\"#m9c8e2d04d5\" x=\"34.508057\" y=\"3.039375\" style=\"fill: #4575b4; fill-opacity: 0.7; stroke: #4575b4; stroke-opacity: 0.7; stroke-width: 0.3\" />\n     <use xlink:href=\"#m9c8e2d04d5\" x=\"35.416818\" y=\"46.099569\" style=\"fill: #4575b4; fill-opacity: 0.7; stroke: #4575b4; stroke-opacity: 0.7; stroke-width: 0.3\" />\n     <use xlink:href=\"#m9c8e2d04d5\" x=\"36.272487\" y=\"46.099569\" style=\"fill: #4575b4; fill-opacity: 0.7; stroke: #4575b4; stroke-opacity: 0.7; stroke-width: 0.3\" />\n     <use xlink:href=\"#m9c8e2d04d5\" x=\"35.269207\" y=\"46.099569\" style=\"fill: #4575b4; fill-opacity: 0.7; stroke: #4575b4; stroke-opacity: 0.7; stroke-width: 0.3\" />\n     <use xlink:href=\"#m9c8e2d04d5\" x=\"34.798125\" y=\"3.039375\" style=\"fill: #4575b4; fill-opacity: 0.7; stroke: #4575b4; stroke-opacity: 0.7; stroke-width: 0.3\" />\n     <use xlink:href=\"#m9c8e2d04d5\" x=\"34.426584\" y=\"46.099569\" style=\"fill: #4575b4; fill-opacity: 0.7; stroke: #4575b4; stroke-opacity: 0.7; stroke-width: 0.3\" />\n     <use xlink:href=\"#m9c8e2d04d5\" x=\"32.948006\" y=\"3.039375\" style=\"fill: #4575b4; fill-opacity: 0.7; stroke: #4575b4; stroke-opacity: 0.7; stroke-width: 0.3\" />\n     <use xlink:href=\"#m9c8e2d04d5\" x=\"35.402415\" y=\"46.099569\" style=\"fill: #4575b4; fill-opacity: 0.7; stroke: #4575b4; stroke-opacity: 0.7; stroke-width: 0.3\" />\n    </g>\n   </g>\n   <g id=\"matplotlib.axis_1\" />\n   <g id=\"matplotlib.axis_2\">\n    <g id=\"ytick_1\">\n     <g id=\"line2d_1\">\n      <defs>\n       <path id=\"m47d39556ea\" d=\"M 0 0  L -3.5 0  \" style=\"stroke: #000000; stroke-width: 0.3\" />\n      </defs>\n      <g>\n       <use xlink:href=\"#m47d39556ea\" x=\"12.09\" y=\"46.099569\" style=\"stroke: #000000; stroke-width: 0.3\" />\n      </g>\n     </g>\n     <g id=\"text_1\">\n      \n      <g style=\"fill: #444443\" transform=\"translate(0 49.138944) scale(0.08 -0.08)\">\n       <defs>\n        <path id=\"DejaVuSans-30\" d=\"M 2034 4250  Q 1547 4250 1301 3770  Q 1056 3291 1056 2328  Q 1056 1369 1301 889  Q 1547 409 2034 409  Q 2525 409 2770 889  Q 3016 1369 3016 2328  Q 3016 3291 2770 3770  Q 2525 4250 2034 4250  z M 2034 4750  Q 2819 4750 3233 4129  Q 3647 3509 3647 2328  Q 3647 1150 3233 529  Q 2819 -91 2034 -91  Q 1250 -91 836 529  Q 422 1150 422 2328  Q 422 3509 836 4129  Q 1250 4750 2034 4750  z \" transform=\"scale(0.015625)\" />\n       </defs>\n       <use xlink:href=\"#DejaVuSans-30\" />\n      </g>\n     </g>\n    </g>\n    <g id=\"ytick_2\">\n     <g id=\"line2d_2\">\n      <g>\n       <use xlink:href=\"#m47d39556ea\" x=\"12.09\" y=\"3.039375\" style=\"stroke: #000000; stroke-width: 0.3\" />\n      </g>\n     </g>\n     <g id=\"text_2\">\n      \n      <g style=\"fill: #444443\" transform=\"translate(0 6.07875) scale(0.08 -0.08)\">\n       <defs>\n        <path id=\"DejaVuSans-31\" d=\"M 794 531  L 1825 531  L 1825 4091  L 703 3866  L 703 4441  L 1819 4666  L 2450 4666  L 2450 531  L 3481 531  L 3481 0  L 794 0  L 794 531  z \" transform=\"scale(0.015625)\" />\n       </defs>\n       <use xlink:href=\"#DejaVuSans-31\" />\n      </g>\n     </g>\n    </g>\n   </g>\n   <g id=\"line2d_3\">\n    <path d=\"M 12.09 37.48753  L 65.040781 37.48753  \" clip-path=\"url(#p643e8ab191)\" style=\"fill: none; stroke-dasharray: 3.7,1.6; stroke-dashoffset: 0; stroke: #444443\" />\n   </g>\n   <g id=\"patch_3\">\n    <path d=\"M 12.09 46.099569  L 12.09 1.747569  \" style=\"fill: none; stroke: #444443; stroke-width: 0.3; stroke-linejoin: miter; stroke-linecap: square\" />\n   </g>\n   <g id=\"text_3\">\n    \n    <g style=\"fill: #444443\" transform=\"translate(2.989219 55.448007) scale(0.1 -0.1)\">\n     <defs>\n      <path id=\"DejaVuSans-74\" d=\"M 1172 4494  L 1172 3500  L 2356 3500  L 2356 3053  L 1172 3053  L 1172 1153  Q 1172 725 1289 603  Q 1406 481 1766 481  L 2356 481  L 2356 0  L 1766 0  Q 1100 0 847 248  Q 594 497 594 1153  L 594 3053  L 172 3053  L 172 3500  L 594 3500  L 594 4494  L 1172 4494  z \" transform=\"scale(0.015625)\" />\n      <path id=\"DejaVuSans-61\" d=\"M 2194 1759  Q 1497 1759 1228 1600  Q 959 1441 959 1056  Q 959 750 1161 570  Q 1363 391 1709 391  Q 2188 391 2477 730  Q 2766 1069 2766 1631  L 2766 1759  L 2194 1759  z M 3341 1997  L 3341 0  L 2766 0  L 2766 531  Q 2569 213 2275 61  Q 1981 -91 1556 -91  Q 1019 -91 701 211  Q 384 513 384 1019  Q 384 1609 779 1909  Q 1175 2209 1959 2209  L 2766 2209  L 2766 2266  Q 2766 2663 2505 2880  Q 2244 3097 1772 3097  Q 1472 3097 1187 3025  Q 903 2953 641 2809  L 641 3341  Q 956 3463 1253 3523  Q 1550 3584 1831 3584  Q 2591 3584 2966 3190  Q 3341 2797 3341 1997  z \" transform=\"scale(0.015625)\" />\n      <path id=\"DejaVuSans-72\" d=\"M 2631 2963  Q 2534 3019 2420 3045  Q 2306 3072 2169 3072  Q 1681 3072 1420 2755  Q 1159 2438 1159 1844  L 1159 0  L 581 0  L 581 3500  L 1159 3500  L 1159 2956  Q 1341 3275 1631 3429  Q 1922 3584 2338 3584  Q 2397 3584 2469 3576  Q 2541 3569 2628 3553  L 2631 2963  z \" transform=\"scale(0.015625)\" />\n      <path id=\"DejaVuSans-67\" d=\"M 2906 1791  Q 2906 2416 2648 2759  Q 2391 3103 1925 3103  Q 1463 3103 1205 2759  Q 947 2416 947 1791  Q 947 1169 1205 825  Q 1463 481 1925 481  Q 2391 481 2648 825  Q 2906 1169 2906 1791  z M 3481 434  Q 3481 -459 3084 -895  Q 2688 -1331 1869 -1331  Q 1566 -1331 1297 -1286  Q 1028 -1241 775 -1147  L 775 -588  Q 1028 -725 1275 -790  Q 1522 -856 1778 -856  Q 2344 -856 2625 -561  Q 2906 -266 2906 331  L 2906 616  Q 2728 306 2450 153  Q 2172 0 1784 0  Q 1141 0 747 490  Q 353 981 353 1791  Q 353 2603 747 3093  Q 1141 3584 1784 3584  Q 2172 3584 2450 3431  Q 2728 3278 2906 2969  L 2906 3500  L 3481 3500  L 3481 434  z \" transform=\"scale(0.015625)\" />\n      <path id=\"DejaVuSans-65\" d=\"M 3597 1894  L 3597 1613  L 953 1613  Q 991 1019 1311 708  Q 1631 397 2203 397  Q 2534 397 2845 478  Q 3156 559 3463 722  L 3463 178  Q 3153 47 2828 -22  Q 2503 -91 2169 -91  Q 1331 -91 842 396  Q 353 884 353 1716  Q 353 2575 817 3079  Q 1281 3584 2069 3584  Q 2775 3584 3186 3129  Q 3597 2675 3597 1894  z M 3022 2063  Q 3016 2534 2758 2815  Q 2500 3097 2075 3097  Q 1594 3097 1305 2825  Q 1016 2553 972 2059  L 3022 2063  z \" transform=\"scale(0.015625)\" />\n      <path id=\"DejaVuSans-3d\" d=\"M 678 2906  L 4684 2906  L 4684 2381  L 678 2381  L 678 2906  z M 678 1631  L 4684 1631  L 4684 1100  L 678 1100  L 678 1631  z \" transform=\"scale(0.015625)\" />\n      <path id=\"DejaVuSans-2e\" d=\"M 684 794  L 1344 794  L 1344 0  L 684 0  L 684 794  z \" transform=\"scale(0.015625)\" />\n      <path id=\"DejaVuSans-32\" d=\"M 1228 531  L 3431 531  L 3431 0  L 469 0  L 469 531  Q 828 903 1448 1529  Q 2069 2156 2228 2338  Q 2531 2678 2651 2914  Q 2772 3150 2772 3378  Q 2772 3750 2511 3984  Q 2250 4219 1831 4219  Q 1534 4219 1204 4116  Q 875 4013 500 3803  L 500 4441  Q 881 4594 1212 4672  Q 1544 4750 1819 4750  Q 2544 4750 2975 4387  Q 3406 4025 3406 3419  Q 3406 3131 3298 2873  Q 3191 2616 2906 2266  Q 2828 2175 2409 1742  Q 1991 1309 1228 531  z \" transform=\"scale(0.015625)\" />\n     </defs>\n     <use xlink:href=\"#DejaVuSans-74\" />\n     <use xlink:href=\"#DejaVuSans-61\" x=\"39.208984\" />\n     <use xlink:href=\"#DejaVuSans-72\" x=\"100.488281\" />\n     <use xlink:href=\"#DejaVuSans-67\" x=\"139.851562\" />\n     <use xlink:href=\"#DejaVuSans-65\" x=\"203.328125\" />\n     <use xlink:href=\"#DejaVuSans-74\" x=\"264.851562\" />\n     <use xlink:href=\"#DejaVuSans-3d\" x=\"304.060547\" />\n     <use xlink:href=\"#DejaVuSans-30\" x=\"387.849609\" />\n     <use xlink:href=\"#DejaVuSans-2e\" x=\"451.472656\" />\n     <use xlink:href=\"#DejaVuSans-32\" x=\"483.259766\" />\n     <use xlink:href=\"#DejaVuSans-30\" x=\"546.882812\" />\n    </g>\n    \n    <g style=\"fill: #444443\" transform=\"translate(19.793906 66.645819) scale(0.1 -0.1)\">\n     <defs>\n      <path id=\"DejaVuSans-6e\" d=\"M 3513 2113  L 3513 0  L 2938 0  L 2938 2094  Q 2938 2591 2744 2837  Q 2550 3084 2163 3084  Q 1697 3084 1428 2787  Q 1159 2491 1159 1978  L 1159 0  L 581 0  L 581 3500  L 1159 3500  L 1159 2956  Q 1366 3272 1645 3428  Q 1925 3584 2291 3584  Q 2894 3584 3203 3211  Q 3513 2838 3513 2113  z \" transform=\"scale(0.015625)\" />\n     </defs>\n     <use xlink:href=\"#DejaVuSans-6e\" />\n     <use xlink:href=\"#DejaVuSans-3d\" x=\"63.378906\" />\n     <use xlink:href=\"#DejaVuSans-32\" x=\"147.167969\" />\n     <use xlink:href=\"#DejaVuSans-30\" x=\"210.791016\" />\n    </g>\n   </g>\n  </g>\n </g>\n <defs>\n  <clipPath id=\"p643e8ab191\">\n   <rect x=\"12.09\" y=\"1.747569\" width=\"41.85\" height=\"44.352\" />\n  </clipPath>\n </defs>\n</svg></g>\n\n<g id=\"edge1\" class=\"edge\">\n<title>node3-&gt;leaf5</title>\n<path fill=\"none\" stroke=\"#444443\" stroke-width=\"0.3\" d=\"M480.25,-163.12C484.63,-164.26 488.9,-165.37 492.96,-166.43\" />\n<polygon fill=\"#444443\" stroke=\"#444443\" stroke-width=\"0.3\" points=\"492.71,-167.81 496.94,-167.46 493.42,-165.1 492.71,-167.81\" />\n</g>\n\n<g id=\"node5\" class=\"node\">\n<title>leaf6</title>\n<polygon fill=\"none\" stroke=\"#444443\" stroke-width=\"0\" points=\"553,-131 497,-131 497,-72 553,-72 553,-131\" />\n<svg width=\"48px\" height=\"51px\" viewBox=\"0 0 64.040781 68.725507\" version=\"1.1\" preserveAspectRatio=\"xMinYMin meet\" x=\"501\" y=\"-126.5\">\n <metadata>\n  <rdf:RDF>\n   <ns2:Work>\n    <dc:type rdf:resource=\"http://purl.org/dc/dcmitype/StillImage\" />\n    <dc:date>2024-12-17T11:59:05.468114</dc:date>\n    <dc:format>image/svg+xml</dc:format>\n    <dc:creator>\n     <ns2:Agent>\n      <dc:title>Matplotlib v3.8.0, https://matplotlib.org/</dc:title>\n     </ns2:Agent>\n    </dc:creator>\n   </ns2:Work>\n  </rdf:RDF>\n </metadata>\n <defs>\n  <style type=\"text/css\">*{stroke-linejoin: round; stroke-linecap: butt}</style>\n </defs>\n <g id=\"figure_1\">\n  <g id=\"patch_1\">\n   <path d=\"M 0 68.725507  L 64.040781 68.725507  L 64.040781 0  L 0 0  z \" style=\"fill: #ffffff\" />\n  </g>\n  <g id=\"axes_1\">\n   <g id=\"patch_2\">\n    <path d=\"M 12.09 46.099569  L 53.94 46.099569  L 53.94 1.747569  L 12.09 1.747569  z \" style=\"fill: #ffffff\" />\n   </g>\n   <g id=\"PathCollection_1\">\n    <defs>\n     <path id=\"mcd360c872b\" d=\"M 0 1.118034  C 0.296506 1.118034 0.580908 1.000231 0.790569 0.790569  C 1.000231 0.580908 1.118034 0.296506 1.118034 0  C 1.118034 -0.296506 1.000231 -0.580908 0.790569 -0.790569  C 0.580908 -1.000231 0.296506 -1.118034 0 -1.118034  C -0.296506 -1.118034 -0.580908 -1.000231 -0.790569 -0.790569  C -1.000231 -0.580908 -1.118034 -0.296506 -1.118034 0  C -1.118034 0.296506 -1.000231 0.580908 -0.790569 0.790569  C -0.580908 1.000231 -0.296506 1.118034 0 1.118034  z \" style=\"stroke: #4575b4; stroke-opacity: 0.7; stroke-width: 0.3\" />\n    </defs>\n    <g clip-path=\"url(#p5df9cc373c)\">\n     <use xlink:href=\"#mcd360c872b\" x=\"34.13536\" y=\"46.099569\" style=\"fill: #4575b4; fill-opacity: 0.7; stroke: #4575b4; stroke-opacity: 0.7; stroke-width: 0.3\" />\n     <use xlink:href=\"#mcd360c872b\" x=\"35.41498\" y=\"3.039375\" style=\"fill: #4575b4; fill-opacity: 0.7; stroke: #4575b4; stroke-opacity: 0.7; stroke-width: 0.3\" />\n     <use xlink:href=\"#mcd360c872b\" x=\"33.184593\" y=\"3.039375\" style=\"fill: #4575b4; fill-opacity: 0.7; stroke: #4575b4; stroke-opacity: 0.7; stroke-width: 0.3\" />\n     <use xlink:href=\"#mcd360c872b\" x=\"40.502884\" y=\"46.099569\" style=\"fill: #4575b4; fill-opacity: 0.7; stroke: #4575b4; stroke-opacity: 0.7; stroke-width: 0.3\" />\n     <use xlink:href=\"#mcd360c872b\" x=\"34.75825\" y=\"46.099569\" style=\"fill: #4575b4; fill-opacity: 0.7; stroke: #4575b4; stroke-opacity: 0.7; stroke-width: 0.3\" />\n     <use xlink:href=\"#mcd360c872b\" x=\"33.778974\" y=\"46.099569\" style=\"fill: #4575b4; fill-opacity: 0.7; stroke: #4575b4; stroke-opacity: 0.7; stroke-width: 0.3\" />\n     <use xlink:href=\"#mcd360c872b\" x=\"24.344009\" y=\"46.099569\" style=\"fill: #4575b4; fill-opacity: 0.7; stroke: #4575b4; stroke-opacity: 0.7; stroke-width: 0.3\" />\n     <use xlink:href=\"#mcd360c872b\" x=\"27.528277\" y=\"46.099569\" style=\"fill: #4575b4; fill-opacity: 0.7; stroke: #4575b4; stroke-opacity: 0.7; stroke-width: 0.3\" />\n     <use xlink:href=\"#mcd360c872b\" x=\"34.174528\" y=\"3.039375\" style=\"fill: #4575b4; fill-opacity: 0.7; stroke: #4575b4; stroke-opacity: 0.7; stroke-width: 0.3\" />\n     <use xlink:href=\"#mcd360c872b\" x=\"32.816181\" y=\"46.099569\" style=\"fill: #4575b4; fill-opacity: 0.7; stroke: #4575b4; stroke-opacity: 0.7; stroke-width: 0.3\" />\n     <use xlink:href=\"#mcd360c872b\" x=\"31.134133\" y=\"3.039375\" style=\"fill: #4575b4; fill-opacity: 0.7; stroke: #4575b4; stroke-opacity: 0.7; stroke-width: 0.3\" />\n     <use xlink:href=\"#mcd360c872b\" x=\"34.943725\" y=\"46.099569\" style=\"fill: #4575b4; fill-opacity: 0.7; stroke: #4575b4; stroke-opacity: 0.7; stroke-width: 0.3\" />\n     <use xlink:href=\"#mcd360c872b\" x=\"35.687361\" y=\"46.099569\" style=\"fill: #4575b4; fill-opacity: 0.7; stroke: #4575b4; stroke-opacity: 0.7; stroke-width: 0.3\" />\n     <use xlink:href=\"#mcd360c872b\" x=\"34.786409\" y=\"3.039375\" style=\"fill: #4575b4; fill-opacity: 0.7; stroke: #4575b4; stroke-opacity: 0.7; stroke-width: 0.3\" />\n     <use xlink:href=\"#mcd360c872b\" x=\"31.462179\" y=\"46.099569\" style=\"fill: #4575b4; fill-opacity: 0.7; stroke: #4575b4; stroke-opacity: 0.7; stroke-width: 0.3\" />\n     <use xlink:href=\"#mcd360c872b\" x=\"37.038489\" y=\"46.099569\" style=\"fill: #4575b4; fill-opacity: 0.7; stroke: #4575b4; stroke-opacity: 0.7; stroke-width: 0.3\" />\n     <use xlink:href=\"#mcd360c872b\" x=\"30.156594\" y=\"46.099569\" style=\"fill: #4575b4; fill-opacity: 0.7; stroke: #4575b4; stroke-opacity: 0.7; stroke-width: 0.3\" />\n     <use xlink:href=\"#mcd360c872b\" x=\"31.404873\" y=\"46.099569\" style=\"fill: #4575b4; fill-opacity: 0.7; stroke: #4575b4; stroke-opacity: 0.7; stroke-width: 0.3\" />\n     <use xlink:href=\"#mcd360c872b\" x=\"37.440969\" y=\"46.099569\" style=\"fill: #4575b4; fill-opacity: 0.7; stroke: #4575b4; stroke-opacity: 0.7; stroke-width: 0.3\" />\n     <use xlink:href=\"#mcd360c872b\" x=\"32.486636\" y=\"3.039375\" style=\"fill: #4575b4; fill-opacity: 0.7; stroke: #4575b4; stroke-opacity: 0.7; stroke-width: 0.3\" />\n     <use xlink:href=\"#mcd360c872b\" x=\"30.962848\" y=\"3.039375\" style=\"fill: #4575b4; fill-opacity: 0.7; stroke: #4575b4; stroke-opacity: 0.7; stroke-width: 0.3\" />\n     <use xlink:href=\"#mcd360c872b\" x=\"35.837541\" y=\"3.039375\" style=\"fill: #4575b4; fill-opacity: 0.7; stroke: #4575b4; stroke-opacity: 0.7; stroke-width: 0.3\" />\n     <use xlink:href=\"#mcd360c872b\" x=\"32.672531\" y=\"3.039375\" style=\"fill: #4575b4; fill-opacity: 0.7; stroke: #4575b4; stroke-opacity: 0.7; stroke-width: 0.3\" />\n     <use xlink:href=\"#mcd360c872b\" x=\"40.473648\" y=\"3.039375\" style=\"fill: #4575b4; fill-opacity: 0.7; stroke: #4575b4; stroke-opacity: 0.7; stroke-width: 0.3\" />\n     <use xlink:href=\"#mcd360c872b\" x=\"30.265847\" y=\"46.099569\" style=\"fill: #4575b4; fill-opacity: 0.7; stroke: #4575b4; stroke-opacity: 0.7; stroke-width: 0.3\" />\n     <use xlink:href=\"#mcd360c872b\" x=\"30.535557\" y=\"46.099569\" style=\"fill: #4575b4; fill-opacity: 0.7; stroke: #4575b4; stroke-opacity: 0.7; stroke-width: 0.3\" />\n     <use xlink:href=\"#mcd360c872b\" x=\"34.158569\" y=\"3.039375\" style=\"fill: #4575b4; fill-opacity: 0.7; stroke: #4575b4; stroke-opacity: 0.7; stroke-width: 0.3\" />\n     <use xlink:href=\"#mcd360c872b\" x=\"39.97926\" y=\"46.099569\" style=\"fill: #4575b4; fill-opacity: 0.7; stroke: #4575b4; stroke-opacity: 0.7; stroke-width: 0.3\" />\n     <use xlink:href=\"#mcd360c872b\" x=\"35.067139\" y=\"3.039375\" style=\"fill: #4575b4; fill-opacity: 0.7; stroke: #4575b4; stroke-opacity: 0.7; stroke-width: 0.3\" />\n     <use xlink:href=\"#mcd360c872b\" x=\"32.121719\" y=\"3.039375\" style=\"fill: #4575b4; fill-opacity: 0.7; stroke: #4575b4; stroke-opacity: 0.7; stroke-width: 0.3\" />\n     <use xlink:href=\"#mcd360c872b\" x=\"30.115579\" y=\"3.039375\" style=\"fill: #4575b4; fill-opacity: 0.7; stroke: #4575b4; stroke-opacity: 0.7; stroke-width: 0.3\" />\n     <use xlink:href=\"#mcd360c872b\" x=\"38.639242\" y=\"3.039375\" style=\"fill: #4575b4; fill-opacity: 0.7; stroke: #4575b4; stroke-opacity: 0.7; stroke-width: 0.3\" />\n     <use xlink:href=\"#mcd360c872b\" x=\"33.605524\" y=\"3.039375\" style=\"fill: #4575b4; fill-opacity: 0.7; stroke: #4575b4; stroke-opacity: 0.7; stroke-width: 0.3\" />\n    </g>\n   </g>\n   <g id=\"matplotlib.axis_1\" />\n   <g id=\"matplotlib.axis_2\">\n    <g id=\"ytick_1\">\n     <g id=\"line2d_1\">\n      <defs>\n       <path id=\"mc179b2b2ab\" d=\"M 0 0  L -3.5 0  \" style=\"stroke: #000000; stroke-width: 0.3\" />\n      </defs>\n      <g>\n       <use xlink:href=\"#mc179b2b2ab\" x=\"12.09\" y=\"46.099569\" style=\"stroke: #000000; stroke-width: 0.3\" />\n      </g>\n     </g>\n     <g id=\"text_1\">\n      \n      <g style=\"fill: #444443\" transform=\"translate(0 49.138944) scale(0.08 -0.08)\">\n       <defs>\n        <path id=\"DejaVuSans-30\" d=\"M 2034 4250  Q 1547 4250 1301 3770  Q 1056 3291 1056 2328  Q 1056 1369 1301 889  Q 1547 409 2034 409  Q 2525 409 2770 889  Q 3016 1369 3016 2328  Q 3016 3291 2770 3770  Q 2525 4250 2034 4250  z M 2034 4750  Q 2819 4750 3233 4129  Q 3647 3509 3647 2328  Q 3647 1150 3233 529  Q 2819 -91 2034 -91  Q 1250 -91 836 529  Q 422 1150 422 2328  Q 422 3509 836 4129  Q 1250 4750 2034 4750  z \" transform=\"scale(0.015625)\" />\n       </defs>\n       <use xlink:href=\"#DejaVuSans-30\" />\n      </g>\n     </g>\n    </g>\n    <g id=\"ytick_2\">\n     <g id=\"line2d_2\">\n      <g>\n       <use xlink:href=\"#mc179b2b2ab\" x=\"12.09\" y=\"3.039375\" style=\"stroke: #000000; stroke-width: 0.3\" />\n      </g>\n     </g>\n     <g id=\"text_2\">\n      \n      <g style=\"fill: #444443\" transform=\"translate(0 6.07875) scale(0.08 -0.08)\">\n       <defs>\n        <path id=\"DejaVuSans-31\" d=\"M 794 531  L 1825 531  L 1825 4091  L 703 3866  L 703 4441  L 1819 4666  L 2450 4666  L 2450 531  L 3481 531  L 3481 0  L 794 0  L 794 531  z \" transform=\"scale(0.015625)\" />\n       </defs>\n       <use xlink:href=\"#DejaVuSans-31\" />\n      </g>\n     </g>\n    </g>\n   </g>\n   <g id=\"line2d_3\">\n    <path d=\"M 12.09 25.221899  L 65.040781 25.221899  \" clip-path=\"url(#p5df9cc373c)\" style=\"fill: none; stroke-dasharray: 3.7,1.6; stroke-dashoffset: 0; stroke: #444443\" />\n   </g>\n   <g id=\"patch_3\">\n    <path d=\"M 12.09 46.099569  L 12.09 1.747569  \" style=\"fill: none; stroke: #444443; stroke-width: 0.3; stroke-linejoin: miter; stroke-linecap: square\" />\n   </g>\n   <g id=\"text_3\">\n    \n    <g style=\"fill: #444443\" transform=\"translate(2.989219 55.448007) scale(0.1 -0.1)\">\n     <defs>\n      <path id=\"DejaVuSans-74\" d=\"M 1172 4494  L 1172 3500  L 2356 3500  L 2356 3053  L 1172 3053  L 1172 1153  Q 1172 725 1289 603  Q 1406 481 1766 481  L 2356 481  L 2356 0  L 1766 0  Q 1100 0 847 248  Q 594 497 594 1153  L 594 3053  L 172 3053  L 172 3500  L 594 3500  L 594 4494  L 1172 4494  z \" transform=\"scale(0.015625)\" />\n      <path id=\"DejaVuSans-61\" d=\"M 2194 1759  Q 1497 1759 1228 1600  Q 959 1441 959 1056  Q 959 750 1161 570  Q 1363 391 1709 391  Q 2188 391 2477 730  Q 2766 1069 2766 1631  L 2766 1759  L 2194 1759  z M 3341 1997  L 3341 0  L 2766 0  L 2766 531  Q 2569 213 2275 61  Q 1981 -91 1556 -91  Q 1019 -91 701 211  Q 384 513 384 1019  Q 384 1609 779 1909  Q 1175 2209 1959 2209  L 2766 2209  L 2766 2266  Q 2766 2663 2505 2880  Q 2244 3097 1772 3097  Q 1472 3097 1187 3025  Q 903 2953 641 2809  L 641 3341  Q 956 3463 1253 3523  Q 1550 3584 1831 3584  Q 2591 3584 2966 3190  Q 3341 2797 3341 1997  z \" transform=\"scale(0.015625)\" />\n      <path id=\"DejaVuSans-72\" d=\"M 2631 2963  Q 2534 3019 2420 3045  Q 2306 3072 2169 3072  Q 1681 3072 1420 2755  Q 1159 2438 1159 1844  L 1159 0  L 581 0  L 581 3500  L 1159 3500  L 1159 2956  Q 1341 3275 1631 3429  Q 1922 3584 2338 3584  Q 2397 3584 2469 3576  Q 2541 3569 2628 3553  L 2631 2963  z \" transform=\"scale(0.015625)\" />\n      <path id=\"DejaVuSans-67\" d=\"M 2906 1791  Q 2906 2416 2648 2759  Q 2391 3103 1925 3103  Q 1463 3103 1205 2759  Q 947 2416 947 1791  Q 947 1169 1205 825  Q 1463 481 1925 481  Q 2391 481 2648 825  Q 2906 1169 2906 1791  z M 3481 434  Q 3481 -459 3084 -895  Q 2688 -1331 1869 -1331  Q 1566 -1331 1297 -1286  Q 1028 -1241 775 -1147  L 775 -588  Q 1028 -725 1275 -790  Q 1522 -856 1778 -856  Q 2344 -856 2625 -561  Q 2906 -266 2906 331  L 2906 616  Q 2728 306 2450 153  Q 2172 0 1784 0  Q 1141 0 747 490  Q 353 981 353 1791  Q 353 2603 747 3093  Q 1141 3584 1784 3584  Q 2172 3584 2450 3431  Q 2728 3278 2906 2969  L 2906 3500  L 3481 3500  L 3481 434  z \" transform=\"scale(0.015625)\" />\n      <path id=\"DejaVuSans-65\" d=\"M 3597 1894  L 3597 1613  L 953 1613  Q 991 1019 1311 708  Q 1631 397 2203 397  Q 2534 397 2845 478  Q 3156 559 3463 722  L 3463 178  Q 3153 47 2828 -22  Q 2503 -91 2169 -91  Q 1331 -91 842 396  Q 353 884 353 1716  Q 353 2575 817 3079  Q 1281 3584 2069 3584  Q 2775 3584 3186 3129  Q 3597 2675 3597 1894  z M 3022 2063  Q 3016 2534 2758 2815  Q 2500 3097 2075 3097  Q 1594 3097 1305 2825  Q 1016 2553 972 2059  L 3022 2063  z \" transform=\"scale(0.015625)\" />\n      <path id=\"DejaVuSans-3d\" d=\"M 678 2906  L 4684 2906  L 4684 2381  L 678 2381  L 678 2906  z M 678 1631  L 4684 1631  L 4684 1100  L 678 1100  L 678 1631  z \" transform=\"scale(0.015625)\" />\n      <path id=\"DejaVuSans-2e\" d=\"M 684 794  L 1344 794  L 1344 0  L 684 0  L 684 794  z \" transform=\"scale(0.015625)\" />\n      <path id=\"DejaVuSans-34\" d=\"M 2419 4116  L 825 1625  L 2419 1625  L 2419 4116  z M 2253 4666  L 3047 4666  L 3047 1625  L 3713 1625  L 3713 1100  L 3047 1100  L 3047 0  L 2419 0  L 2419 1100  L 313 1100  L 313 1709  L 2253 4666  z \" transform=\"scale(0.015625)\" />\n      <path id=\"DejaVuSans-38\" d=\"M 2034 2216  Q 1584 2216 1326 1975  Q 1069 1734 1069 1313  Q 1069 891 1326 650  Q 1584 409 2034 409  Q 2484 409 2743 651  Q 3003 894 3003 1313  Q 3003 1734 2745 1975  Q 2488 2216 2034 2216  z M 1403 2484  Q 997 2584 770 2862  Q 544 3141 544 3541  Q 544 4100 942 4425  Q 1341 4750 2034 4750  Q 2731 4750 3128 4425  Q 3525 4100 3525 3541  Q 3525 3141 3298 2862  Q 3072 2584 2669 2484  Q 3125 2378 3379 2068  Q 3634 1759 3634 1313  Q 3634 634 3220 271  Q 2806 -91 2034 -91  Q 1263 -91 848 271  Q 434 634 434 1313  Q 434 1759 690 2068  Q 947 2378 1403 2484  z M 1172 3481  Q 1172 3119 1398 2916  Q 1625 2713 2034 2713  Q 2441 2713 2670 2916  Q 2900 3119 2900 3481  Q 2900 3844 2670 4047  Q 2441 4250 2034 4250  Q 1625 4250 1398 4047  Q 1172 3844 1172 3481  z \" transform=\"scale(0.015625)\" />\n     </defs>\n     <use xlink:href=\"#DejaVuSans-74\" />\n     <use xlink:href=\"#DejaVuSans-61\" x=\"39.208984\" />\n     <use xlink:href=\"#DejaVuSans-72\" x=\"100.488281\" />\n     <use xlink:href=\"#DejaVuSans-67\" x=\"139.851562\" />\n     <use xlink:href=\"#DejaVuSans-65\" x=\"203.328125\" />\n     <use xlink:href=\"#DejaVuSans-74\" x=\"264.851562\" />\n     <use xlink:href=\"#DejaVuSans-3d\" x=\"304.060547\" />\n     <use xlink:href=\"#DejaVuSans-30\" x=\"387.849609\" />\n     <use xlink:href=\"#DejaVuSans-2e\" x=\"451.472656\" />\n     <use xlink:href=\"#DejaVuSans-34\" x=\"483.259766\" />\n     <use xlink:href=\"#DejaVuSans-38\" x=\"546.882812\" />\n    </g>\n    \n    <g style=\"fill: #444443\" transform=\"translate(19.793906 66.645819) scale(0.1 -0.1)\">\n     <defs>\n      <path id=\"DejaVuSans-6e\" d=\"M 3513 2113  L 3513 0  L 2938 0  L 2938 2094  Q 2938 2591 2744 2837  Q 2550 3084 2163 3084  Q 1697 3084 1428 2787  Q 1159 2491 1159 1978  L 1159 0  L 581 0  L 581 3500  L 1159 3500  L 1159 2956  Q 1366 3272 1645 3428  Q 1925 3584 2291 3584  Q 2894 3584 3203 3211  Q 3513 2838 3513 2113  z \" transform=\"scale(0.015625)\" />\n      <path id=\"DejaVuSans-33\" d=\"M 2597 2516  Q 3050 2419 3304 2112  Q 3559 1806 3559 1356  Q 3559 666 3084 287  Q 2609 -91 1734 -91  Q 1441 -91 1130 -33  Q 819 25 488 141  L 488 750  Q 750 597 1062 519  Q 1375 441 1716 441  Q 2309 441 2620 675  Q 2931 909 2931 1356  Q 2931 1769 2642 2001  Q 2353 2234 1838 2234  L 1294 2234  L 1294 2753  L 1863 2753  Q 2328 2753 2575 2939  Q 2822 3125 2822 3475  Q 2822 3834 2567 4026  Q 2313 4219 1838 4219  Q 1578 4219 1281 4162  Q 984 4106 628 3988  L 628 4550  Q 988 4650 1302 4700  Q 1616 4750 1894 4750  Q 2613 4750 3031 4423  Q 3450 4097 3450 3541  Q 3450 3153 3228 2886  Q 3006 2619 2597 2516  z \" transform=\"scale(0.015625)\" />\n     </defs>\n     <use xlink:href=\"#DejaVuSans-6e\" />\n     <use xlink:href=\"#DejaVuSans-3d\" x=\"63.378906\" />\n     <use xlink:href=\"#DejaVuSans-33\" x=\"147.167969\" />\n     <use xlink:href=\"#DejaVuSans-33\" x=\"210.791016\" />\n    </g>\n   </g>\n  </g>\n </g>\n <defs>\n  <clipPath id=\"p5df9cc373c\">\n   <rect x=\"12.09\" y=\"1.747569\" width=\"41.85\" height=\"44.352\" />\n  </clipPath>\n </defs>\n</svg></g>\n\n<g id=\"edge2\" class=\"edge\">\n<title>node3-&gt;leaf6</title>\n<path fill=\"none\" stroke=\"#444443\" stroke-width=\"0.3\" d=\"M480.25,-118.76C484.72,-117 489.08,-115.28 493.21,-113.65\" />\n<polygon fill=\"#444443\" stroke=\"#444443\" stroke-width=\"0.3\" points=\"493.73,-114.95 496.94,-112.18 492.7,-112.35 493.73,-114.95\" />\n</g>\n\n<g id=\"node6\" class=\"node\">\n<title>leaf4</title>\n<polygon fill=\"none\" stroke=\"#444443\" stroke-width=\"0\" points=\"439.5,-92 383.5,-92 383.5,-33 439.5,-33 439.5,-92\" />\n<svg width=\"48px\" height=\"51px\" viewBox=\"0 0 64.040781 68.725507\" version=\"1.1\" preserveAspectRatio=\"xMinYMin meet\" x=\"387.5\" y=\"-87.5\">\n <metadata>\n  <rdf:RDF>\n   <ns2:Work>\n    <dc:type rdf:resource=\"http://purl.org/dc/dcmitype/StillImage\" />\n    <dc:date>2024-12-17T11:59:05.606511</dc:date>\n    <dc:format>image/svg+xml</dc:format>\n    <dc:creator>\n     <ns2:Agent>\n      <dc:title>Matplotlib v3.8.0, https://matplotlib.org/</dc:title>\n     </ns2:Agent>\n    </dc:creator>\n   </ns2:Work>\n  </rdf:RDF>\n </metadata>\n <defs>\n  <style type=\"text/css\">*{stroke-linejoin: round; stroke-linecap: butt}</style>\n </defs>\n <g id=\"figure_1\">\n  <g id=\"patch_1\">\n   <path d=\"M 0 68.725507  L 64.040781 68.725507  L 64.040781 0  L 0 0  z \" style=\"fill: #ffffff\" />\n  </g>\n  <g id=\"axes_1\">\n   <g id=\"patch_2\">\n    <path d=\"M 12.09 46.099569  L 53.94 46.099569  L 53.94 1.747569  L 12.09 1.747569  z \" style=\"fill: #ffffff\" />\n   </g>\n   <g id=\"PathCollection_1\">\n    <defs>\n     <path id=\"m34643f2992\" d=\"M 0 1.118034  C 0.296506 1.118034 0.580908 1.000231 0.790569 0.790569  C 1.000231 0.580908 1.118034 0.296506 1.118034 0  C 1.118034 -0.296506 1.000231 -0.580908 0.790569 -0.790569  C 0.580908 -1.000231 0.296506 -1.118034 0 -1.118034  C -0.296506 -1.118034 -0.580908 -1.000231 -0.790569 -0.790569  C -1.000231 -0.580908 -1.118034 -0.296506 -1.118034 0  C -1.118034 0.296506 -1.000231 0.580908 -0.790569 0.790569  C -0.580908 1.000231 -0.296506 1.118034 0 1.118034  z \" style=\"stroke: #4575b4; stroke-opacity: 0.7; stroke-width: 0.3\" />\n    </defs>\n    <g clip-path=\"url(#p7de0886efd)\">\n     <use xlink:href=\"#m34643f2992\" x=\"25.339197\" y=\"46.099569\" style=\"fill: #4575b4; fill-opacity: 0.7; stroke: #4575b4; stroke-opacity: 0.7; stroke-width: 0.3\" />\n     <use xlink:href=\"#m34643f2992\" x=\"39.178303\" y=\"46.099569\" style=\"fill: #4575b4; fill-opacity: 0.7; stroke: #4575b4; stroke-opacity: 0.7; stroke-width: 0.3\" />\n     <use xlink:href=\"#m34643f2992\" x=\"33.355414\" y=\"3.039375\" style=\"fill: #4575b4; fill-opacity: 0.7; stroke: #4575b4; stroke-opacity: 0.7; stroke-width: 0.3\" />\n     <use xlink:href=\"#m34643f2992\" x=\"35.152268\" y=\"3.039375\" style=\"fill: #4575b4; fill-opacity: 0.7; stroke: #4575b4; stroke-opacity: 0.7; stroke-width: 0.3\" />\n     <use xlink:href=\"#m34643f2992\" x=\"30.727486\" y=\"3.039375\" style=\"fill: #4575b4; fill-opacity: 0.7; stroke: #4575b4; stroke-opacity: 0.7; stroke-width: 0.3\" />\n     <use xlink:href=\"#m34643f2992\" x=\"30.52155\" y=\"3.039375\" style=\"fill: #4575b4; fill-opacity: 0.7; stroke: #4575b4; stroke-opacity: 0.7; stroke-width: 0.3\" />\n     <use xlink:href=\"#m34643f2992\" x=\"34.729335\" y=\"3.039375\" style=\"fill: #4575b4; fill-opacity: 0.7; stroke: #4575b4; stroke-opacity: 0.7; stroke-width: 0.3\" />\n     <use xlink:href=\"#m34643f2992\" x=\"28.951533\" y=\"3.039375\" style=\"fill: #4575b4; fill-opacity: 0.7; stroke: #4575b4; stroke-opacity: 0.7; stroke-width: 0.3\" />\n     <use xlink:href=\"#m34643f2992\" x=\"35.783366\" y=\"46.099569\" style=\"fill: #4575b4; fill-opacity: 0.7; stroke: #4575b4; stroke-opacity: 0.7; stroke-width: 0.3\" />\n     <use xlink:href=\"#m34643f2992\" x=\"36.711762\" y=\"3.039375\" style=\"fill: #4575b4; fill-opacity: 0.7; stroke: #4575b4; stroke-opacity: 0.7; stroke-width: 0.3\" />\n     <use xlink:href=\"#m34643f2992\" x=\"35.697748\" y=\"46.099569\" style=\"fill: #4575b4; fill-opacity: 0.7; stroke: #4575b4; stroke-opacity: 0.7; stroke-width: 0.3\" />\n     <use xlink:href=\"#m34643f2992\" x=\"33.835787\" y=\"46.099569\" style=\"fill: #4575b4; fill-opacity: 0.7; stroke: #4575b4; stroke-opacity: 0.7; stroke-width: 0.3\" />\n     <use xlink:href=\"#m34643f2992\" x=\"29.836936\" y=\"3.039375\" style=\"fill: #4575b4; fill-opacity: 0.7; stroke: #4575b4; stroke-opacity: 0.7; stroke-width: 0.3\" />\n     <use xlink:href=\"#m34643f2992\" x=\"34.616563\" y=\"3.039375\" style=\"fill: #4575b4; fill-opacity: 0.7; stroke: #4575b4; stroke-opacity: 0.7; stroke-width: 0.3\" />\n     <use xlink:href=\"#m34643f2992\" x=\"26.004327\" y=\"3.039375\" style=\"fill: #4575b4; fill-opacity: 0.7; stroke: #4575b4; stroke-opacity: 0.7; stroke-width: 0.3\" />\n     <use xlink:href=\"#m34643f2992\" x=\"29.270056\" y=\"3.039375\" style=\"fill: #4575b4; fill-opacity: 0.7; stroke: #4575b4; stroke-opacity: 0.7; stroke-width: 0.3\" />\n     <use xlink:href=\"#m34643f2992\" x=\"36.619313\" y=\"3.039375\" style=\"fill: #4575b4; fill-opacity: 0.7; stroke: #4575b4; stroke-opacity: 0.7; stroke-width: 0.3\" />\n     <use xlink:href=\"#m34643f2992\" x=\"26.369238\" y=\"3.039375\" style=\"fill: #4575b4; fill-opacity: 0.7; stroke: #4575b4; stroke-opacity: 0.7; stroke-width: 0.3\" />\n     <use xlink:href=\"#m34643f2992\" x=\"29.105905\" y=\"3.039375\" style=\"fill: #4575b4; fill-opacity: 0.7; stroke: #4575b4; stroke-opacity: 0.7; stroke-width: 0.3\" />\n     <use xlink:href=\"#m34643f2992\" x=\"30.049802\" y=\"3.039375\" style=\"fill: #4575b4; fill-opacity: 0.7; stroke: #4575b4; stroke-opacity: 0.7; stroke-width: 0.3\" />\n     <use xlink:href=\"#m34643f2992\" x=\"33.877607\" y=\"3.039375\" style=\"fill: #4575b4; fill-opacity: 0.7; stroke: #4575b4; stroke-opacity: 0.7; stroke-width: 0.3\" />\n     <use xlink:href=\"#m34643f2992\" x=\"32.157662\" y=\"46.099569\" style=\"fill: #4575b4; fill-opacity: 0.7; stroke: #4575b4; stroke-opacity: 0.7; stroke-width: 0.3\" />\n     <use xlink:href=\"#m34643f2992\" x=\"30.436626\" y=\"46.099569\" style=\"fill: #4575b4; fill-opacity: 0.7; stroke: #4575b4; stroke-opacity: 0.7; stroke-width: 0.3\" />\n     <use xlink:href=\"#m34643f2992\" x=\"30.459227\" y=\"3.039375\" style=\"fill: #4575b4; fill-opacity: 0.7; stroke: #4575b4; stroke-opacity: 0.7; stroke-width: 0.3\" />\n     <use xlink:href=\"#m34643f2992\" x=\"40.705506\" y=\"46.099569\" style=\"fill: #4575b4; fill-opacity: 0.7; stroke: #4575b4; stroke-opacity: 0.7; stroke-width: 0.3\" />\n     <use xlink:href=\"#m34643f2992\" x=\"33.528989\" y=\"46.099569\" style=\"fill: #4575b4; fill-opacity: 0.7; stroke: #4575b4; stroke-opacity: 0.7; stroke-width: 0.3\" />\n     <use xlink:href=\"#m34643f2992\" x=\"34.162984\" y=\"3.039375\" style=\"fill: #4575b4; fill-opacity: 0.7; stroke: #4575b4; stroke-opacity: 0.7; stroke-width: 0.3\" />\n     <use xlink:href=\"#m34643f2992\" x=\"26.363613\" y=\"3.039375\" style=\"fill: #4575b4; fill-opacity: 0.7; stroke: #4575b4; stroke-opacity: 0.7; stroke-width: 0.3\" />\n     <use xlink:href=\"#m34643f2992\" x=\"32.218518\" y=\"3.039375\" style=\"fill: #4575b4; fill-opacity: 0.7; stroke: #4575b4; stroke-opacity: 0.7; stroke-width: 0.3\" />\n     <use xlink:href=\"#m34643f2992\" x=\"27.962168\" y=\"3.039375\" style=\"fill: #4575b4; fill-opacity: 0.7; stroke: #4575b4; stroke-opacity: 0.7; stroke-width: 0.3\" />\n     <use xlink:href=\"#m34643f2992\" x=\"26.742042\" y=\"46.099569\" style=\"fill: #4575b4; fill-opacity: 0.7; stroke: #4575b4; stroke-opacity: 0.7; stroke-width: 0.3\" />\n     <use xlink:href=\"#m34643f2992\" x=\"28.885809\" y=\"3.039375\" style=\"fill: #4575b4; fill-opacity: 0.7; stroke: #4575b4; stroke-opacity: 0.7; stroke-width: 0.3\" />\n     <use xlink:href=\"#m34643f2992\" x=\"32.610886\" y=\"3.039375\" style=\"fill: #4575b4; fill-opacity: 0.7; stroke: #4575b4; stroke-opacity: 0.7; stroke-width: 0.3\" />\n     <use xlink:href=\"#m34643f2992\" x=\"33.478842\" y=\"46.099569\" style=\"fill: #4575b4; fill-opacity: 0.7; stroke: #4575b4; stroke-opacity: 0.7; stroke-width: 0.3\" />\n     <use xlink:href=\"#m34643f2992\" x=\"34.178077\" y=\"3.039375\" style=\"fill: #4575b4; fill-opacity: 0.7; stroke: #4575b4; stroke-opacity: 0.7; stroke-width: 0.3\" />\n     <use xlink:href=\"#m34643f2992\" x=\"32.402886\" y=\"3.039375\" style=\"fill: #4575b4; fill-opacity: 0.7; stroke: #4575b4; stroke-opacity: 0.7; stroke-width: 0.3\" />\n     <use xlink:href=\"#m34643f2992\" x=\"32.897354\" y=\"46.099569\" style=\"fill: #4575b4; fill-opacity: 0.7; stroke: #4575b4; stroke-opacity: 0.7; stroke-width: 0.3\" />\n     <use xlink:href=\"#m34643f2992\" x=\"30.838467\" y=\"3.039375\" style=\"fill: #4575b4; fill-opacity: 0.7; stroke: #4575b4; stroke-opacity: 0.7; stroke-width: 0.3\" />\n    </g>\n   </g>\n   <g id=\"matplotlib.axis_1\" />\n   <g id=\"matplotlib.axis_2\">\n    <g id=\"ytick_1\">\n     <g id=\"line2d_1\">\n      <defs>\n       <path id=\"m2cec9d572b\" d=\"M 0 0  L -3.5 0  \" style=\"stroke: #000000; stroke-width: 0.3\" />\n      </defs>\n      <g>\n       <use xlink:href=\"#m2cec9d572b\" x=\"12.09\" y=\"46.099569\" style=\"stroke: #000000; stroke-width: 0.3\" />\n      </g>\n     </g>\n     <g id=\"text_1\">\n      \n      <g style=\"fill: #444443\" transform=\"translate(0 49.138944) scale(0.08 -0.08)\">\n       <defs>\n        <path id=\"DejaVuSans-30\" d=\"M 2034 4250  Q 1547 4250 1301 3770  Q 1056 3291 1056 2328  Q 1056 1369 1301 889  Q 1547 409 2034 409  Q 2525 409 2770 889  Q 3016 1369 3016 2328  Q 3016 3291 2770 3770  Q 2525 4250 2034 4250  z M 2034 4750  Q 2819 4750 3233 4129  Q 3647 3509 3647 2328  Q 3647 1150 3233 529  Q 2819 -91 2034 -91  Q 1250 -91 836 529  Q 422 1150 422 2328  Q 422 3509 836 4129  Q 1250 4750 2034 4750  z \" transform=\"scale(0.015625)\" />\n       </defs>\n       <use xlink:href=\"#DejaVuSans-30\" />\n      </g>\n     </g>\n    </g>\n    <g id=\"ytick_2\">\n     <g id=\"line2d_2\">\n      <g>\n       <use xlink:href=\"#m2cec9d572b\" x=\"12.09\" y=\"3.039375\" style=\"stroke: #000000; stroke-width: 0.3\" />\n      </g>\n     </g>\n     <g id=\"text_2\">\n      \n      <g style=\"fill: #444443\" transform=\"translate(0 6.07875) scale(0.08 -0.08)\">\n       <defs>\n        <path id=\"DejaVuSans-31\" d=\"M 794 531  L 1825 531  L 1825 4091  L 703 3866  L 703 4441  L 1819 4666  L 2450 4666  L 2450 531  L 3481 531  L 3481 0  L 794 0  L 794 531  z \" transform=\"scale(0.015625)\" />\n       </defs>\n       <use xlink:href=\"#DejaVuSans-31\" />\n      </g>\n     </g>\n    </g>\n   </g>\n   <g id=\"line2d_3\">\n    <path d=\"M 12.09 16.637331  L 65.040781 16.637331  \" clip-path=\"url(#p7de0886efd)\" style=\"fill: none; stroke-dasharray: 3.7,1.6; stroke-dashoffset: 0; stroke: #444443\" />\n   </g>\n   <g id=\"patch_3\">\n    <path d=\"M 12.09 46.099569  L 12.09 1.747569  \" style=\"fill: none; stroke: #444443; stroke-width: 0.3; stroke-linejoin: miter; stroke-linecap: square\" />\n   </g>\n   <g id=\"text_3\">\n    \n    <g style=\"fill: #444443\" transform=\"translate(2.989219 55.448007) scale(0.1 -0.1)\">\n     <defs>\n      <path id=\"DejaVuSans-74\" d=\"M 1172 4494  L 1172 3500  L 2356 3500  L 2356 3053  L 1172 3053  L 1172 1153  Q 1172 725 1289 603  Q 1406 481 1766 481  L 2356 481  L 2356 0  L 1766 0  Q 1100 0 847 248  Q 594 497 594 1153  L 594 3053  L 172 3053  L 172 3500  L 594 3500  L 594 4494  L 1172 4494  z \" transform=\"scale(0.015625)\" />\n      <path id=\"DejaVuSans-61\" d=\"M 2194 1759  Q 1497 1759 1228 1600  Q 959 1441 959 1056  Q 959 750 1161 570  Q 1363 391 1709 391  Q 2188 391 2477 730  Q 2766 1069 2766 1631  L 2766 1759  L 2194 1759  z M 3341 1997  L 3341 0  L 2766 0  L 2766 531  Q 2569 213 2275 61  Q 1981 -91 1556 -91  Q 1019 -91 701 211  Q 384 513 384 1019  Q 384 1609 779 1909  Q 1175 2209 1959 2209  L 2766 2209  L 2766 2266  Q 2766 2663 2505 2880  Q 2244 3097 1772 3097  Q 1472 3097 1187 3025  Q 903 2953 641 2809  L 641 3341  Q 956 3463 1253 3523  Q 1550 3584 1831 3584  Q 2591 3584 2966 3190  Q 3341 2797 3341 1997  z \" transform=\"scale(0.015625)\" />\n      <path id=\"DejaVuSans-72\" d=\"M 2631 2963  Q 2534 3019 2420 3045  Q 2306 3072 2169 3072  Q 1681 3072 1420 2755  Q 1159 2438 1159 1844  L 1159 0  L 581 0  L 581 3500  L 1159 3500  L 1159 2956  Q 1341 3275 1631 3429  Q 1922 3584 2338 3584  Q 2397 3584 2469 3576  Q 2541 3569 2628 3553  L 2631 2963  z \" transform=\"scale(0.015625)\" />\n      <path id=\"DejaVuSans-67\" d=\"M 2906 1791  Q 2906 2416 2648 2759  Q 2391 3103 1925 3103  Q 1463 3103 1205 2759  Q 947 2416 947 1791  Q 947 1169 1205 825  Q 1463 481 1925 481  Q 2391 481 2648 825  Q 2906 1169 2906 1791  z M 3481 434  Q 3481 -459 3084 -895  Q 2688 -1331 1869 -1331  Q 1566 -1331 1297 -1286  Q 1028 -1241 775 -1147  L 775 -588  Q 1028 -725 1275 -790  Q 1522 -856 1778 -856  Q 2344 -856 2625 -561  Q 2906 -266 2906 331  L 2906 616  Q 2728 306 2450 153  Q 2172 0 1784 0  Q 1141 0 747 490  Q 353 981 353 1791  Q 353 2603 747 3093  Q 1141 3584 1784 3584  Q 2172 3584 2450 3431  Q 2728 3278 2906 2969  L 2906 3500  L 3481 3500  L 3481 434  z \" transform=\"scale(0.015625)\" />\n      <path id=\"DejaVuSans-65\" d=\"M 3597 1894  L 3597 1613  L 953 1613  Q 991 1019 1311 708  Q 1631 397 2203 397  Q 2534 397 2845 478  Q 3156 559 3463 722  L 3463 178  Q 3153 47 2828 -22  Q 2503 -91 2169 -91  Q 1331 -91 842 396  Q 353 884 353 1716  Q 353 2575 817 3079  Q 1281 3584 2069 3584  Q 2775 3584 3186 3129  Q 3597 2675 3597 1894  z M 3022 2063  Q 3016 2534 2758 2815  Q 2500 3097 2075 3097  Q 1594 3097 1305 2825  Q 1016 2553 972 2059  L 3022 2063  z \" transform=\"scale(0.015625)\" />\n      <path id=\"DejaVuSans-3d\" d=\"M 678 2906  L 4684 2906  L 4684 2381  L 678 2381  L 678 2906  z M 678 1631  L 4684 1631  L 4684 1100  L 678 1100  L 678 1631  z \" transform=\"scale(0.015625)\" />\n      <path id=\"DejaVuSans-2e\" d=\"M 684 794  L 1344 794  L 1344 0  L 684 0  L 684 794  z \" transform=\"scale(0.015625)\" />\n      <path id=\"DejaVuSans-36\" d=\"M 2113 2584  Q 1688 2584 1439 2293  Q 1191 2003 1191 1497  Q 1191 994 1439 701  Q 1688 409 2113 409  Q 2538 409 2786 701  Q 3034 994 3034 1497  Q 3034 2003 2786 2293  Q 2538 2584 2113 2584  z M 3366 4563  L 3366 3988  Q 3128 4100 2886 4159  Q 2644 4219 2406 4219  Q 1781 4219 1451 3797  Q 1122 3375 1075 2522  Q 1259 2794 1537 2939  Q 1816 3084 2150 3084  Q 2853 3084 3261 2657  Q 3669 2231 3669 1497  Q 3669 778 3244 343  Q 2819 -91 2113 -91  Q 1303 -91 875 529  Q 447 1150 447 2328  Q 447 3434 972 4092  Q 1497 4750 2381 4750  Q 2619 4750 2861 4703  Q 3103 4656 3366 4563  z \" transform=\"scale(0.015625)\" />\n      <path id=\"DejaVuSans-38\" d=\"M 2034 2216  Q 1584 2216 1326 1975  Q 1069 1734 1069 1313  Q 1069 891 1326 650  Q 1584 409 2034 409  Q 2484 409 2743 651  Q 3003 894 3003 1313  Q 3003 1734 2745 1975  Q 2488 2216 2034 2216  z M 1403 2484  Q 997 2584 770 2862  Q 544 3141 544 3541  Q 544 4100 942 4425  Q 1341 4750 2034 4750  Q 2731 4750 3128 4425  Q 3525 4100 3525 3541  Q 3525 3141 3298 2862  Q 3072 2584 2669 2484  Q 3125 2378 3379 2068  Q 3634 1759 3634 1313  Q 3634 634 3220 271  Q 2806 -91 2034 -91  Q 1263 -91 848 271  Q 434 634 434 1313  Q 434 1759 690 2068  Q 947 2378 1403 2484  z M 1172 3481  Q 1172 3119 1398 2916  Q 1625 2713 2034 2713  Q 2441 2713 2670 2916  Q 2900 3119 2900 3481  Q 2900 3844 2670 4047  Q 2441 4250 2034 4250  Q 1625 4250 1398 4047  Q 1172 3844 1172 3481  z \" transform=\"scale(0.015625)\" />\n     </defs>\n     <use xlink:href=\"#DejaVuSans-74\" />\n     <use xlink:href=\"#DejaVuSans-61\" x=\"39.208984\" />\n     <use xlink:href=\"#DejaVuSans-72\" x=\"100.488281\" />\n     <use xlink:href=\"#DejaVuSans-67\" x=\"139.851562\" />\n     <use xlink:href=\"#DejaVuSans-65\" x=\"203.328125\" />\n     <use xlink:href=\"#DejaVuSans-74\" x=\"264.851562\" />\n     <use xlink:href=\"#DejaVuSans-3d\" x=\"304.060547\" />\n     <use xlink:href=\"#DejaVuSans-30\" x=\"387.849609\" />\n     <use xlink:href=\"#DejaVuSans-2e\" x=\"451.472656\" />\n     <use xlink:href=\"#DejaVuSans-36\" x=\"483.259766\" />\n     <use xlink:href=\"#DejaVuSans-38\" x=\"546.882812\" />\n    </g>\n    \n    <g style=\"fill: #444443\" transform=\"translate(19.793906 66.645819) scale(0.1 -0.1)\">\n     <defs>\n      <path id=\"DejaVuSans-6e\" d=\"M 3513 2113  L 3513 0  L 2938 0  L 2938 2094  Q 2938 2591 2744 2837  Q 2550 3084 2163 3084  Q 1697 3084 1428 2787  Q 1159 2491 1159 1978  L 1159 0  L 581 0  L 581 3500  L 1159 3500  L 1159 2956  Q 1366 3272 1645 3428  Q 1925 3584 2291 3584  Q 2894 3584 3203 3211  Q 3513 2838 3513 2113  z \" transform=\"scale(0.015625)\" />\n      <path id=\"DejaVuSans-33\" d=\"M 2597 2516  Q 3050 2419 3304 2112  Q 3559 1806 3559 1356  Q 3559 666 3084 287  Q 2609 -91 1734 -91  Q 1441 -91 1130 -33  Q 819 25 488 141  L 488 750  Q 750 597 1062 519  Q 1375 441 1716 441  Q 2309 441 2620 675  Q 2931 909 2931 1356  Q 2931 1769 2642 2001  Q 2353 2234 1838 2234  L 1294 2234  L 1294 2753  L 1863 2753  Q 2328 2753 2575 2939  Q 2822 3125 2822 3475  Q 2822 3834 2567 4026  Q 2313 4219 1838 4219  Q 1578 4219 1281 4162  Q 984 4106 628 3988  L 628 4550  Q 988 4650 1302 4700  Q 1616 4750 1894 4750  Q 2613 4750 3031 4423  Q 3450 4097 3450 3541  Q 3450 3153 3228 2886  Q 3006 2619 2597 2516  z \" transform=\"scale(0.015625)\" />\n     </defs>\n     <use xlink:href=\"#DejaVuSans-6e\" />\n     <use xlink:href=\"#DejaVuSans-3d\" x=\"63.378906\" />\n     <use xlink:href=\"#DejaVuSans-33\" x=\"147.167969\" />\n     <use xlink:href=\"#DejaVuSans-38\" x=\"210.791016\" />\n    </g>\n   </g>\n  </g>\n </g>\n <defs>\n  <clipPath id=\"p7de0886efd\">\n   <rect x=\"12.09\" y=\"1.747569\" width=\"41.85\" height=\"44.352\" />\n  </clipPath>\n </defs>\n</svg></g>\n\n\n<g id=\"node2\" class=\"node\">\n<title>node1</title>\n<svg width=\"129px\" height=\"71px\" viewBox=\"0 0 173.21875 95.167767\" version=\"1.1\" preserveAspectRatio=\"xMinYMin meet\" x=\"193.5\" y=\"-147.5\">\n <metadata>\n  <rdf:RDF>\n   <ns2:Work>\n    <dc:type rdf:resource=\"http://purl.org/dc/dcmitype/StillImage\" />\n    <dc:date>2024-12-17T11:59:04.900213</dc:date>\n    <dc:format>image/svg+xml</dc:format>\n    <dc:creator>\n     <ns2:Agent>\n      <dc:title>Matplotlib v3.8.0, https://matplotlib.org/</dc:title>\n     </ns2:Agent>\n    </dc:creator>\n   </ns2:Work>\n  </rdf:RDF>\n </metadata>\n <defs>\n  <style type=\"text/css\">*{stroke-linejoin: round; stroke-linecap: butt}</style>\n </defs>\n <g id=\"figure_1\">\n  <g id=\"patch_1\">\n   <path d=\"M 0 95.167767  L 173.21875 95.167767  L 173.21875 0  L 0 0  z \" style=\"fill: #ffffff\" />\n  </g>\n  <g id=\"axes_1\">\n   <g id=\"patch_2\">\n    <path d=\"M 19.7225 62.247142  L 159.2225 62.247142  L 159.2225 1.263142  L 19.7225 1.263142  z \" style=\"fill: #ffffff\" />\n   </g>\n   <g id=\"PathCollection_1\">\n    <defs>\n     <path id=\"m0f5abcf865\" d=\"M 0 1.118034  C 0.296506 1.118034 0.580908 1.000231 0.790569 0.790569  C 1.000231 0.580908 1.118034 0.296506 1.118034 0  C 1.118034 -0.296506 1.000231 -0.580908 0.790569 -0.790569  C 0.580908 -1.000231 0.296506 -1.118034 0 -1.118034  C -0.296506 -1.118034 -0.580908 -1.000231 -0.790569 -0.790569  C -1.000231 -0.580908 -1.118034 -0.296506 -1.118034 0  C -1.118034 0.296506 -1.000231 0.580908 -0.790569 0.790569  C -0.580908 1.000231 -0.296506 1.118034 0 1.118034  z \" style=\"stroke: #4575b4; stroke-opacity: 0.7; stroke-width: 0.3\" />\n    </defs>\n    <g clip-path=\"url(#p22f7309d76)\">\n     <use xlink:href=\"#m0f5abcf865\" x=\"77.130903\" y=\"62.247142\" style=\"fill: #4575b4; fill-opacity: 0.7; stroke: #4575b4; stroke-opacity: 0.7; stroke-width: 0.3\" />\n     <use xlink:href=\"#m0f5abcf865\" x=\"148.358177\" y=\"62.247142\" style=\"fill: #4575b4; fill-opacity: 0.7; stroke: #4575b4; stroke-opacity: 0.7; stroke-width: 0.3\" />\n     <use xlink:href=\"#m0f5abcf865\" x=\"41.121712\" y=\"62.247142\" style=\"fill: #4575b4; fill-opacity: 0.7; stroke: #4575b4; stroke-opacity: 0.7; stroke-width: 0.3\" />\n     <use xlink:href=\"#m0f5abcf865\" x=\"63.465019\" y=\"3.039375\" style=\"fill: #4575b4; fill-opacity: 0.7; stroke: #4575b4; stroke-opacity: 0.7; stroke-width: 0.3\" />\n     <use xlink:href=\"#m0f5abcf865\" x=\"105.076586\" y=\"62.247142\" style=\"fill: #4575b4; fill-opacity: 0.7; stroke: #4575b4; stroke-opacity: 0.7; stroke-width: 0.3\" />\n     <use xlink:href=\"#m0f5abcf865\" x=\"32.774368\" y=\"3.039375\" style=\"fill: #4575b4; fill-opacity: 0.7; stroke: #4575b4; stroke-opacity: 0.7; stroke-width: 0.3\" />\n     <use xlink:href=\"#m0f5abcf865\" x=\"68.680098\" y=\"62.247142\" style=\"fill: #4575b4; fill-opacity: 0.7; stroke: #4575b4; stroke-opacity: 0.7; stroke-width: 0.3\" />\n     <use xlink:href=\"#m0f5abcf865\" x=\"114.590918\" y=\"3.039375\" style=\"fill: #4575b4; fill-opacity: 0.7; stroke: #4575b4; stroke-opacity: 0.7; stroke-width: 0.3\" />\n     <use xlink:href=\"#m0f5abcf865\" x=\"67.567435\" y=\"62.247142\" style=\"fill: #4575b4; fill-opacity: 0.7; stroke: #4575b4; stroke-opacity: 0.7; stroke-width: 0.3\" />\n     <use xlink:href=\"#m0f5abcf865\" x=\"49.508786\" y=\"62.247142\" style=\"fill: #4575b4; fill-opacity: 0.7; stroke: #4575b4; stroke-opacity: 0.7; stroke-width: 0.3\" />\n     <use xlink:href=\"#m0f5abcf865\" x=\"34.789097\" y=\"62.247142\" style=\"fill: #4575b4; fill-opacity: 0.7; stroke: #4575b4; stroke-opacity: 0.7; stroke-width: 0.3\" />\n     <use xlink:href=\"#m0f5abcf865\" x=\"23.126956\" y=\"62.247142\" style=\"fill: #4575b4; fill-opacity: 0.7; stroke: #4575b4; stroke-opacity: 0.7; stroke-width: 0.3\" />\n     <use xlink:href=\"#m0f5abcf865\" x=\"139.937338\" y=\"3.039375\" style=\"fill: #4575b4; fill-opacity: 0.7; stroke: #4575b4; stroke-opacity: 0.7; stroke-width: 0.3\" />\n     <use xlink:href=\"#m0f5abcf865\" x=\"82.309793\" y=\"62.247142\" style=\"fill: #4575b4; fill-opacity: 0.7; stroke: #4575b4; stroke-opacity: 0.7; stroke-width: 0.3\" />\n     <use xlink:href=\"#m0f5abcf865\" x=\"67.830607\" y=\"62.247142\" style=\"fill: #4575b4; fill-opacity: 0.7; stroke: #4575b4; stroke-opacity: 0.7; stroke-width: 0.3\" />\n     <use xlink:href=\"#m0f5abcf865\" x=\"91.638513\" y=\"62.247142\" style=\"fill: #4575b4; fill-opacity: 0.7; stroke: #4575b4; stroke-opacity: 0.7; stroke-width: 0.3\" />\n     <use xlink:href=\"#m0f5abcf865\" x=\"115.774261\" y=\"3.039375\" style=\"fill: #4575b4; fill-opacity: 0.7; stroke: #4575b4; stroke-opacity: 0.7; stroke-width: 0.3\" />\n     <use xlink:href=\"#m0f5abcf865\" x=\"115.484576\" y=\"3.039375\" style=\"fill: #4575b4; fill-opacity: 0.7; stroke: #4575b4; stroke-opacity: 0.7; stroke-width: 0.3\" />\n     <use xlink:href=\"#m0f5abcf865\" x=\"139.467456\" y=\"3.039375\" style=\"fill: #4575b4; fill-opacity: 0.7; stroke: #4575b4; stroke-opacity: 0.7; stroke-width: 0.3\" />\n     <use xlink:href=\"#m0f5abcf865\" x=\"62.166527\" y=\"3.039375\" style=\"fill: #4575b4; fill-opacity: 0.7; stroke: #4575b4; stroke-opacity: 0.7; stroke-width: 0.3\" />\n     <use xlink:href=\"#m0f5abcf865\" x=\"44.568406\" y=\"62.247142\" style=\"fill: #4575b4; fill-opacity: 0.7; stroke: #4575b4; stroke-opacity: 0.7; stroke-width: 0.3\" />\n     <use xlink:href=\"#m0f5abcf865\" x=\"94.551895\" y=\"3.039375\" style=\"fill: #4575b4; fill-opacity: 0.7; stroke: #4575b4; stroke-opacity: 0.7; stroke-width: 0.3\" />\n     <use xlink:href=\"#m0f5abcf865\" x=\"146.181161\" y=\"62.247142\" style=\"fill: #4575b4; fill-opacity: 0.7; stroke: #4575b4; stroke-opacity: 0.7; stroke-width: 0.3\" />\n     <use xlink:href=\"#m0f5abcf865\" x=\"76.710607\" y=\"3.039375\" style=\"fill: #4575b4; fill-opacity: 0.7; stroke: #4575b4; stroke-opacity: 0.7; stroke-width: 0.3\" />\n     <use xlink:href=\"#m0f5abcf865\" x=\"106.022312\" y=\"3.039375\" style=\"fill: #4575b4; fill-opacity: 0.7; stroke: #4575b4; stroke-opacity: 0.7; stroke-width: 0.3\" />\n     <use xlink:href=\"#m0f5abcf865\" x=\"25.007062\" y=\"62.247142\" style=\"fill: #4575b4; fill-opacity: 0.7; stroke: #4575b4; stroke-opacity: 0.7; stroke-width: 0.3\" />\n     <use xlink:href=\"#m0f5abcf865\" x=\"120.643097\" y=\"62.247142\" style=\"fill: #4575b4; fill-opacity: 0.7; stroke: #4575b4; stroke-opacity: 0.7; stroke-width: 0.3\" />\n     <use xlink:href=\"#m0f5abcf865\" x=\"143.186611\" y=\"62.247142\" style=\"fill: #4575b4; fill-opacity: 0.7; stroke: #4575b4; stroke-opacity: 0.7; stroke-width: 0.3\" />\n     <use xlink:href=\"#m0f5abcf865\" x=\"108.870752\" y=\"3.039375\" style=\"fill: #4575b4; fill-opacity: 0.7; stroke: #4575b4; stroke-opacity: 0.7; stroke-width: 0.3\" />\n     <use xlink:href=\"#m0f5abcf865\" x=\"45.142243\" y=\"62.247142\" style=\"fill: #4575b4; fill-opacity: 0.7; stroke: #4575b4; stroke-opacity: 0.7; stroke-width: 0.3\" />\n     <use xlink:href=\"#m0f5abcf865\" x=\"49.506819\" y=\"62.247142\" style=\"fill: #4575b4; fill-opacity: 0.7; stroke: #4575b4; stroke-opacity: 0.7; stroke-width: 0.3\" />\n     <use xlink:href=\"#m0f5abcf865\" x=\"19.7225\" y=\"62.247142\" style=\"fill: #4575b4; fill-opacity: 0.7; stroke: #4575b4; stroke-opacity: 0.7; stroke-width: 0.3\" />\n     <use xlink:href=\"#m0f5abcf865\" x=\"150.145419\" y=\"3.039375\" style=\"fill: #4575b4; fill-opacity: 0.7; stroke: #4575b4; stroke-opacity: 0.7; stroke-width: 0.3\" />\n     <use xlink:href=\"#m0f5abcf865\" x=\"56.155789\" y=\"3.039375\" style=\"fill: #4575b4; fill-opacity: 0.7; stroke: #4575b4; stroke-opacity: 0.7; stroke-width: 0.3\" />\n     <use xlink:href=\"#m0f5abcf865\" x=\"86.481074\" y=\"3.039375\" style=\"fill: #4575b4; fill-opacity: 0.7; stroke: #4575b4; stroke-opacity: 0.7; stroke-width: 0.3\" />\n     <use xlink:href=\"#m0f5abcf865\" x=\"53.808164\" y=\"62.247142\" style=\"fill: #4575b4; fill-opacity: 0.7; stroke: #4575b4; stroke-opacity: 0.7; stroke-width: 0.3\" />\n     <use xlink:href=\"#m0f5abcf865\" x=\"25.666062\" y=\"62.247142\" style=\"fill: #4575b4; fill-opacity: 0.7; stroke: #4575b4; stroke-opacity: 0.7; stroke-width: 0.3\" />\n     <use xlink:href=\"#m0f5abcf865\" x=\"151.39306\" y=\"3.039375\" style=\"fill: #4575b4; fill-opacity: 0.7; stroke: #4575b4; stroke-opacity: 0.7; stroke-width: 0.3\" />\n     <use xlink:href=\"#m0f5abcf865\" x=\"143.488951\" y=\"3.039375\" style=\"fill: #4575b4; fill-opacity: 0.7; stroke: #4575b4; stroke-opacity: 0.7; stroke-width: 0.3\" />\n     <use xlink:href=\"#m0f5abcf865\" x=\"20.011887\" y=\"62.247142\" style=\"fill: #4575b4; fill-opacity: 0.7; stroke: #4575b4; stroke-opacity: 0.7; stroke-width: 0.3\" />\n     <use xlink:href=\"#m0f5abcf865\" x=\"83.828701\" y=\"62.247142\" style=\"fill: #4575b4; fill-opacity: 0.7; stroke: #4575b4; stroke-opacity: 0.7; stroke-width: 0.3\" />\n     <use xlink:href=\"#m0f5abcf865\" x=\"20.843582\" y=\"62.247142\" style=\"fill: #4575b4; fill-opacity: 0.7; stroke: #4575b4; stroke-opacity: 0.7; stroke-width: 0.3\" />\n     <use xlink:href=\"#m0f5abcf865\" x=\"22.983044\" y=\"62.247142\" style=\"fill: #4575b4; fill-opacity: 0.7; stroke: #4575b4; stroke-opacity: 0.7; stroke-width: 0.3\" />\n     <use xlink:href=\"#m0f5abcf865\" x=\"34.182271\" y=\"3.039375\" style=\"fill: #4575b4; fill-opacity: 0.7; stroke: #4575b4; stroke-opacity: 0.7; stroke-width: 0.3\" />\n     <use xlink:href=\"#m0f5abcf865\" x=\"94.353792\" y=\"62.247142\" style=\"fill: #4575b4; fill-opacity: 0.7; stroke: #4575b4; stroke-opacity: 0.7; stroke-width: 0.3\" />\n     <use xlink:href=\"#m0f5abcf865\" x=\"77.539597\" y=\"3.039375\" style=\"fill: #4575b4; fill-opacity: 0.7; stroke: #4575b4; stroke-opacity: 0.7; stroke-width: 0.3\" />\n     <use xlink:href=\"#m0f5abcf865\" x=\"119.895931\" y=\"3.039375\" style=\"fill: #4575b4; fill-opacity: 0.7; stroke: #4575b4; stroke-opacity: 0.7; stroke-width: 0.3\" />\n     <use xlink:href=\"#m0f5abcf865\" x=\"64.227005\" y=\"3.039375\" style=\"fill: #4575b4; fill-opacity: 0.7; stroke: #4575b4; stroke-opacity: 0.7; stroke-width: 0.3\" />\n     <use xlink:href=\"#m0f5abcf865\" x=\"32.326273\" y=\"62.247142\" style=\"fill: #4575b4; fill-opacity: 0.7; stroke: #4575b4; stroke-opacity: 0.7; stroke-width: 0.3\" />\n     <use xlink:href=\"#m0f5abcf865\" x=\"84.741566\" y=\"62.247142\" style=\"fill: #4575b4; fill-opacity: 0.7; stroke: #4575b4; stroke-opacity: 0.7; stroke-width: 0.3\" />\n     <use xlink:href=\"#m0f5abcf865\" x=\"55.489492\" y=\"62.247142\" style=\"fill: #4575b4; fill-opacity: 0.7; stroke: #4575b4; stroke-opacity: 0.7; stroke-width: 0.3\" />\n     <use xlink:href=\"#m0f5abcf865\" x=\"121.157107\" y=\"3.039375\" style=\"fill: #4575b4; fill-opacity: 0.7; stroke: #4575b4; stroke-opacity: 0.7; stroke-width: 0.3\" />\n     <use xlink:href=\"#m0f5abcf865\" x=\"23.635784\" y=\"3.039375\" style=\"fill: #4575b4; fill-opacity: 0.7; stroke: #4575b4; stroke-opacity: 0.7; stroke-width: 0.3\" />\n     <use xlink:href=\"#m0f5abcf865\" x=\"47.599073\" y=\"3.039375\" style=\"fill: #4575b4; fill-opacity: 0.7; stroke: #4575b4; stroke-opacity: 0.7; stroke-width: 0.3\" />\n     <use xlink:href=\"#m0f5abcf865\" x=\"109.485656\" y=\"3.039375\" style=\"fill: #4575b4; fill-opacity: 0.7; stroke: #4575b4; stroke-opacity: 0.7; stroke-width: 0.3\" />\n     <use xlink:href=\"#m0f5abcf865\" x=\"149.597614\" y=\"3.039375\" style=\"fill: #4575b4; fill-opacity: 0.7; stroke: #4575b4; stroke-opacity: 0.7; stroke-width: 0.3\" />\n     <use xlink:href=\"#m0f5abcf865\" x=\"90.511936\" y=\"62.247142\" style=\"fill: #4575b4; fill-opacity: 0.7; stroke: #4575b4; stroke-opacity: 0.7; stroke-width: 0.3\" />\n     <use xlink:href=\"#m0f5abcf865\" x=\"98.72299\" y=\"3.039375\" style=\"fill: #4575b4; fill-opacity: 0.7; stroke: #4575b4; stroke-opacity: 0.7; stroke-width: 0.3\" />\n     <use xlink:href=\"#m0f5abcf865\" x=\"103.032791\" y=\"62.247142\" style=\"fill: #4575b4; fill-opacity: 0.7; stroke: #4575b4; stroke-opacity: 0.7; stroke-width: 0.3\" />\n     <use xlink:href=\"#m0f5abcf865\" x=\"135.467909\" y=\"62.247142\" style=\"fill: #4575b4; fill-opacity: 0.7; stroke: #4575b4; stroke-opacity: 0.7; stroke-width: 0.3\" />\n     <use xlink:href=\"#m0f5abcf865\" x=\"151.155091\" y=\"3.039375\" style=\"fill: #4575b4; fill-opacity: 0.7; stroke: #4575b4; stroke-opacity: 0.7; stroke-width: 0.3\" />\n     <use xlink:href=\"#m0f5abcf865\" x=\"77.749134\" y=\"3.039375\" style=\"fill: #4575b4; fill-opacity: 0.7; stroke: #4575b4; stroke-opacity: 0.7; stroke-width: 0.3\" />\n     <use xlink:href=\"#m0f5abcf865\" x=\"137.873539\" y=\"62.247142\" style=\"fill: #4575b4; fill-opacity: 0.7; stroke: #4575b4; stroke-opacity: 0.7; stroke-width: 0.3\" />\n     <use xlink:href=\"#m0f5abcf865\" x=\"61.204638\" y=\"62.247142\" style=\"fill: #4575b4; fill-opacity: 0.7; stroke: #4575b4; stroke-opacity: 0.7; stroke-width: 0.3\" />\n     <use xlink:href=\"#m0f5abcf865\" x=\"137.166879\" y=\"62.247142\" style=\"fill: #4575b4; fill-opacity: 0.7; stroke: #4575b4; stroke-opacity: 0.7; stroke-width: 0.3\" />\n     <use xlink:href=\"#m0f5abcf865\" x=\"92.155293\" y=\"62.247142\" style=\"fill: #4575b4; fill-opacity: 0.7; stroke: #4575b4; stroke-opacity: 0.7; stroke-width: 0.3\" />\n     <use xlink:href=\"#m0f5abcf865\" x=\"129.769593\" y=\"3.039375\" style=\"fill: #4575b4; fill-opacity: 0.7; stroke: #4575b4; stroke-opacity: 0.7; stroke-width: 0.3\" />\n     <use xlink:href=\"#m0f5abcf865\" x=\"63.159935\" y=\"62.247142\" style=\"fill: #4575b4; fill-opacity: 0.7; stroke: #4575b4; stroke-opacity: 0.7; stroke-width: 0.3\" />\n     <use xlink:href=\"#m0f5abcf865\" x=\"33.413295\" y=\"62.247142\" style=\"fill: #4575b4; fill-opacity: 0.7; stroke: #4575b4; stroke-opacity: 0.7; stroke-width: 0.3\" />\n     <use xlink:href=\"#m0f5abcf865\" x=\"122.907104\" y=\"3.039375\" style=\"fill: #4575b4; fill-opacity: 0.7; stroke: #4575b4; stroke-opacity: 0.7; stroke-width: 0.3\" />\n     <use xlink:href=\"#m0f5abcf865\" x=\"117.716354\" y=\"3.039375\" style=\"fill: #4575b4; fill-opacity: 0.7; stroke: #4575b4; stroke-opacity: 0.7; stroke-width: 0.3\" />\n     <use xlink:href=\"#m0f5abcf865\" x=\"30.333855\" y=\"3.039375\" style=\"fill: #4575b4; fill-opacity: 0.7; stroke: #4575b4; stroke-opacity: 0.7; stroke-width: 0.3\" />\n     <use xlink:href=\"#m0f5abcf865\" x=\"90.333105\" y=\"3.039375\" style=\"fill: #4575b4; fill-opacity: 0.7; stroke: #4575b4; stroke-opacity: 0.7; stroke-width: 0.3\" />\n     <use xlink:href=\"#m0f5abcf865\" x=\"133.235408\" y=\"3.039375\" style=\"fill: #4575b4; fill-opacity: 0.7; stroke: #4575b4; stroke-opacity: 0.7; stroke-width: 0.3\" />\n     <use xlink:href=\"#m0f5abcf865\" x=\"57.76974\" y=\"62.247142\" style=\"fill: #4575b4; fill-opacity: 0.7; stroke: #4575b4; stroke-opacity: 0.7; stroke-width: 0.3\" />\n     <use xlink:href=\"#m0f5abcf865\" x=\"30.936111\" y=\"3.039375\" style=\"fill: #4575b4; fill-opacity: 0.7; stroke: #4575b4; stroke-opacity: 0.7; stroke-width: 0.3\" />\n     <use xlink:href=\"#m0f5abcf865\" x=\"119.287078\" y=\"62.247142\" style=\"fill: #4575b4; fill-opacity: 0.7; stroke: #4575b4; stroke-opacity: 0.7; stroke-width: 0.3\" />\n     <use xlink:href=\"#m0f5abcf865\" x=\"98.84606\" y=\"3.039375\" style=\"fill: #4575b4; fill-opacity: 0.7; stroke: #4575b4; stroke-opacity: 0.7; stroke-width: 0.3\" />\n     <use xlink:href=\"#m0f5abcf865\" x=\"145.414269\" y=\"3.039375\" style=\"fill: #4575b4; fill-opacity: 0.7; stroke: #4575b4; stroke-opacity: 0.7; stroke-width: 0.3\" />\n     <use xlink:href=\"#m0f5abcf865\" x=\"141.21278\" y=\"62.247142\" style=\"fill: #4575b4; fill-opacity: 0.7; stroke: #4575b4; stroke-opacity: 0.7; stroke-width: 0.3\" />\n     <use xlink:href=\"#m0f5abcf865\" x=\"127.758037\" y=\"3.039375\" style=\"fill: #4575b4; fill-opacity: 0.7; stroke: #4575b4; stroke-opacity: 0.7; stroke-width: 0.3\" />\n     <use xlink:href=\"#m0f5abcf865\" x=\"123.414012\" y=\"3.039375\" style=\"fill: #4575b4; fill-opacity: 0.7; stroke: #4575b4; stroke-opacity: 0.7; stroke-width: 0.3\" />\n     <use xlink:href=\"#m0f5abcf865\" x=\"30.28458\" y=\"62.247142\" style=\"fill: #4575b4; fill-opacity: 0.7; stroke: #4575b4; stroke-opacity: 0.7; stroke-width: 0.3\" />\n     <use xlink:href=\"#m0f5abcf865\" x=\"87.025752\" y=\"3.039375\" style=\"fill: #4575b4; fill-opacity: 0.7; stroke: #4575b4; stroke-opacity: 0.7; stroke-width: 0.3\" />\n     <use xlink:href=\"#m0f5abcf865\" x=\"42.885741\" y=\"3.039375\" style=\"fill: #4575b4; fill-opacity: 0.7; stroke: #4575b4; stroke-opacity: 0.7; stroke-width: 0.3\" />\n     <use xlink:href=\"#m0f5abcf865\" x=\"23.222144\" y=\"3.039375\" style=\"fill: #4575b4; fill-opacity: 0.7; stroke: #4575b4; stroke-opacity: 0.7; stroke-width: 0.3\" />\n     <use xlink:href=\"#m0f5abcf865\" x=\"44.864963\" y=\"3.039375\" style=\"fill: #4575b4; fill-opacity: 0.7; stroke: #4575b4; stroke-opacity: 0.7; stroke-width: 0.3\" />\n     <use xlink:href=\"#m0f5abcf865\" x=\"124.576369\" y=\"62.247142\" style=\"fill: #4575b4; fill-opacity: 0.7; stroke: #4575b4; stroke-opacity: 0.7; stroke-width: 0.3\" />\n     <use xlink:href=\"#m0f5abcf865\" x=\"90.784771\" y=\"62.247142\" style=\"fill: #4575b4; fill-opacity: 0.7; stroke: #4575b4; stroke-opacity: 0.7; stroke-width: 0.3\" />\n     <use xlink:href=\"#m0f5abcf865\" x=\"98.045178\" y=\"3.039375\" style=\"fill: #4575b4; fill-opacity: 0.7; stroke: #4575b4; stroke-opacity: 0.7; stroke-width: 0.3\" />\n     <use xlink:href=\"#m0f5abcf865\" x=\"42.680821\" y=\"3.039375\" style=\"fill: #4575b4; fill-opacity: 0.7; stroke: #4575b4; stroke-opacity: 0.7; stroke-width: 0.3\" />\n    </g>\n   </g>\n   <g id=\"patch_3\">\n    <path d=\"M 94.452847 62.247142  L 91.941847 68.345542  L 96.963847 68.345542  z \" style=\"fill: #444443\" />\n   </g>\n   <g id=\"matplotlib.axis_1\">\n    <g id=\"xtick_1\">\n     <g id=\"line2d_1\">\n      <defs>\n       <path id=\"m28935a480e\" d=\"M 0 0  L 0 3.5  \" style=\"stroke: #000000; stroke-width: 0.3\" />\n      </defs>\n      <g>\n       <use xlink:href=\"#m28935a480e\" x=\"19.7225\" y=\"62.247142\" style=\"stroke: #000000; stroke-width: 0.3\" />\n      </g>\n     </g>\n     <g id=\"text_1\">\n      \n      <g style=\"fill: #444443\" transform=\"translate(5.72625 79.825892) scale(0.08 -0.08)\">\n       <defs>\n        <path id=\"DejaVuSans-30\" d=\"M 2034 4250  Q 1547 4250 1301 3770  Q 1056 3291 1056 2328  Q 1056 1369 1301 889  Q 1547 409 2034 409  Q 2525 409 2770 889  Q 3016 1369 3016 2328  Q 3016 3291 2770 3770  Q 2525 4250 2034 4250  z M 2034 4750  Q 2819 4750 3233 4129  Q 3647 3509 3647 2328  Q 3647 1150 3233 529  Q 2819 -91 2034 -91  Q 1250 -91 836 529  Q 422 1150 422 2328  Q 422 3509 836 4129  Q 1250 4750 2034 4750  z \" transform=\"scale(0.015625)\" />\n        <path id=\"DejaVuSans-2e\" d=\"M 684 794  L 1344 794  L 1344 0  L 684 0  L 684 794  z \" transform=\"scale(0.015625)\" />\n        <path id=\"DejaVuSans-31\" d=\"M 794 531  L 1825 531  L 1825 4091  L 703 3866  L 703 4441  L 1819 4666  L 2450 4666  L 2450 531  L 3481 531  L 3481 0  L 794 0  L 794 531  z \" transform=\"scale(0.015625)\" />\n        <path id=\"DejaVuSans-39\" d=\"M 703 97  L 703 672  Q 941 559 1184 500  Q 1428 441 1663 441  Q 2288 441 2617 861  Q 2947 1281 2994 2138  Q 2813 1869 2534 1725  Q 2256 1581 1919 1581  Q 1219 1581 811 2004  Q 403 2428 403 3163  Q 403 3881 828 4315  Q 1253 4750 1959 4750  Q 2769 4750 3195 4129  Q 3622 3509 3622 2328  Q 3622 1225 3098 567  Q 2575 -91 1691 -91  Q 1453 -91 1209 -44  Q 966 3 703 97  z M 1959 2075  Q 2384 2075 2632 2365  Q 2881 2656 2881 3163  Q 2881 3666 2632 3958  Q 2384 4250 1959 4250  Q 1534 4250 1286 3958  Q 1038 3666 1038 3163  Q 1038 2656 1286 2365  Q 1534 2075 1959 2075  z \" transform=\"scale(0.015625)\" />\n       </defs>\n       <use xlink:href=\"#DejaVuSans-30\" />\n       <use xlink:href=\"#DejaVuSans-2e\" x=\"63.623047\" />\n       <use xlink:href=\"#DejaVuSans-30\" x=\"95.410156\" />\n       <use xlink:href=\"#DejaVuSans-31\" x=\"159.033203\" />\n       <use xlink:href=\"#DejaVuSans-31\" x=\"222.65625\" />\n       <use xlink:href=\"#DejaVuSans-39\" x=\"286.279297\" />\n      </g>\n     </g>\n    </g>\n    <g id=\"xtick_2\">\n     <g id=\"line2d_2\">\n      <g>\n       <use xlink:href=\"#m28935a480e\" x=\"94.452847\" y=\"62.247142\" style=\"stroke: #000000; stroke-width: 0.3\" />\n      </g>\n     </g>\n     <g id=\"text_2\">\n      \n      <g style=\"fill: #444443\" transform=\"translate(80.456597 79.825892) scale(0.08 -0.08)\">\n       <defs>\n        <path id=\"DejaVuSans-35\" d=\"M 691 4666  L 3169 4666  L 3169 4134  L 1269 4134  L 1269 2991  Q 1406 3038 1543 3061  Q 1681 3084 1819 3084  Q 2600 3084 3056 2656  Q 3513 2228 3513 1497  Q 3513 744 3044 326  Q 2575 -91 1722 -91  Q 1428 -91 1123 -41  Q 819 9 494 109  L 494 744  Q 775 591 1075 516  Q 1375 441 1709 441  Q 2250 441 2565 725  Q 2881 1009 2881 1497  Q 2881 1984 2565 2268  Q 2250 2553 1709 2553  Q 1456 2553 1204 2497  Q 953 2441 691 2322  L 691 4666  z \" transform=\"scale(0.015625)\" />\n        <path id=\"DejaVuSans-33\" d=\"M 2597 2516  Q 3050 2419 3304 2112  Q 3559 1806 3559 1356  Q 3559 666 3084 287  Q 2609 -91 1734 -91  Q 1441 -91 1130 -33  Q 819 25 488 141  L 488 750  Q 750 597 1062 519  Q 1375 441 1716 441  Q 2309 441 2620 675  Q 2931 909 2931 1356  Q 2931 1769 2642 2001  Q 2353 2234 1838 2234  L 1294 2234  L 1294 2753  L 1863 2753  Q 2328 2753 2575 2939  Q 2822 3125 2822 3475  Q 2822 3834 2567 4026  Q 2313 4219 1838 4219  Q 1578 4219 1281 4162  Q 984 4106 628 3988  L 628 4550  Q 988 4650 1302 4700  Q 1616 4750 1894 4750  Q 2613 4750 3031 4423  Q 3450 4097 3450 3541  Q 3450 3153 3228 2886  Q 3006 2619 2597 2516  z \" transform=\"scale(0.015625)\" />\n       </defs>\n       <use xlink:href=\"#DejaVuSans-30\" />\n       <use xlink:href=\"#DejaVuSans-2e\" x=\"63.623047\" />\n       <use xlink:href=\"#DejaVuSans-35\" x=\"95.410156\" />\n       <use xlink:href=\"#DejaVuSans-33\" x=\"159.033203\" />\n       <use xlink:href=\"#DejaVuSans-39\" x=\"222.65625\" />\n       <use xlink:href=\"#DejaVuSans-39\" x=\"286.279297\" />\n      </g>\n     </g>\n    </g>\n    <g id=\"xtick_3\">\n     <g id=\"line2d_3\">\n      <g>\n       <use xlink:href=\"#m28935a480e\" x=\"159.2225\" y=\"62.247142\" style=\"stroke: #000000; stroke-width: 0.3\" />\n      </g>\n     </g>\n     <g id=\"text_3\">\n      \n      <g style=\"fill: #444443\" transform=\"translate(145.22625 79.825892) scale(0.08 -0.08)\">\n       <defs>\n        <path id=\"DejaVuSans-37\" d=\"M 525 4666  L 3525 4666  L 3525 4397  L 1831 0  L 1172 0  L 2766 4134  L 525 4134  L 525 4666  z \" transform=\"scale(0.015625)\" />\n        <path id=\"DejaVuSans-34\" d=\"M 2419 4116  L 825 1625  L 2419 1625  L 2419 4116  z M 2253 4666  L 3047 4666  L 3047 1625  L 3713 1625  L 3713 1100  L 3047 1100  L 3047 0  L 2419 0  L 2419 1100  L 313 1100  L 313 1709  L 2253 4666  z \" transform=\"scale(0.015625)\" />\n       </defs>\n       <use xlink:href=\"#DejaVuSans-30\" />\n       <use xlink:href=\"#DejaVuSans-2e\" x=\"63.623047\" />\n       <use xlink:href=\"#DejaVuSans-39\" x=\"95.410156\" />\n       <use xlink:href=\"#DejaVuSans-39\" x=\"159.033203\" />\n       <use xlink:href=\"#DejaVuSans-37\" x=\"222.65625\" />\n       <use xlink:href=\"#DejaVuSans-34\" x=\"286.279297\" />\n      </g>\n     </g>\n    </g>\n    <g id=\"text_4\">\n     \n     <g style=\"fill: #444443\" transform=\"translate(67.401406 93.088079) scale(0.1 -0.1)\">\n      <defs>\n       <path id=\"DejaVuSans-46\" d=\"M 628 4666  L 3309 4666  L 3309 4134  L 1259 4134  L 1259 2759  L 3109 2759  L 3109 2228  L 1259 2228  L 1259 0  L 628 0  L 628 4666  z \" transform=\"scale(0.015625)\" />\n       <path id=\"DejaVuSans-65\" d=\"M 3597 1894  L 3597 1613  L 953 1613  Q 991 1019 1311 708  Q 1631 397 2203 397  Q 2534 397 2845 478  Q 3156 559 3463 722  L 3463 178  Q 3153 47 2828 -22  Q 2503 -91 2169 -91  Q 1331 -91 842 396  Q 353 884 353 1716  Q 353 2575 817 3079  Q 1281 3584 2069 3584  Q 2775 3584 3186 3129  Q 3597 2675 3597 1894  z M 3022 2063  Q 3016 2534 2758 2815  Q 2500 3097 2075 3097  Q 1594 3097 1305 2825  Q 1016 2553 972 2059  L 3022 2063  z \" transform=\"scale(0.015625)\" />\n       <path id=\"DejaVuSans-61\" d=\"M 2194 1759  Q 1497 1759 1228 1600  Q 959 1441 959 1056  Q 959 750 1161 570  Q 1363 391 1709 391  Q 2188 391 2477 730  Q 2766 1069 2766 1631  L 2766 1759  L 2194 1759  z M 3341 1997  L 3341 0  L 2766 0  L 2766 531  Q 2569 213 2275 61  Q 1981 -91 1556 -91  Q 1019 -91 701 211  Q 384 513 384 1019  Q 384 1609 779 1909  Q 1175 2209 1959 2209  L 2766 2209  L 2766 2266  Q 2766 2663 2505 2880  Q 2244 3097 1772 3097  Q 1472 3097 1187 3025  Q 903 2953 641 2809  L 641 3341  Q 956 3463 1253 3523  Q 1550 3584 1831 3584  Q 2591 3584 2966 3190  Q 3341 2797 3341 1997  z \" transform=\"scale(0.015625)\" />\n       <path id=\"DejaVuSans-74\" d=\"M 1172 4494  L 1172 3500  L 2356 3500  L 2356 3053  L 1172 3053  L 1172 1153  Q 1172 725 1289 603  Q 1406 481 1766 481  L 2356 481  L 2356 0  L 1766 0  Q 1100 0 847 248  Q 594 497 594 1153  L 594 3053  L 172 3053  L 172 3500  L 594 3500  L 594 4494  L 1172 4494  z \" transform=\"scale(0.015625)\" />\n       <path id=\"DejaVuSans-75\" d=\"M 544 1381  L 544 3500  L 1119 3500  L 1119 1403  Q 1119 906 1312 657  Q 1506 409 1894 409  Q 2359 409 2629 706  Q 2900 1003 2900 1516  L 2900 3500  L 3475 3500  L 3475 0  L 2900 0  L 2900 538  Q 2691 219 2414 64  Q 2138 -91 1772 -91  Q 1169 -91 856 284  Q 544 659 544 1381  z M 1991 3584  L 1991 3584  z \" transform=\"scale(0.015625)\" />\n       <path id=\"DejaVuSans-72\" d=\"M 2631 2963  Q 2534 3019 2420 3045  Q 2306 3072 2169 3072  Q 1681 3072 1420 2755  Q 1159 2438 1159 1844  L 1159 0  L 581 0  L 581 3500  L 1159 3500  L 1159 2956  Q 1341 3275 1631 3429  Q 1922 3584 2338 3584  Q 2397 3584 2469 3576  Q 2541 3569 2628 3553  L 2631 2963  z \" transform=\"scale(0.015625)\" />\n      </defs>\n      <use xlink:href=\"#DejaVuSans-46\" />\n      <use xlink:href=\"#DejaVuSans-65\" x=\"52.019531\" />\n      <use xlink:href=\"#DejaVuSans-61\" x=\"113.542969\" />\n      <use xlink:href=\"#DejaVuSans-74\" x=\"174.822266\" />\n      <use xlink:href=\"#DejaVuSans-75\" x=\"214.03125\" />\n      <use xlink:href=\"#DejaVuSans-72\" x=\"277.410156\" />\n      <use xlink:href=\"#DejaVuSans-65\" x=\"316.273438\" />\n      <use xlink:href=\"#DejaVuSans-34\" x=\"377.796875\" />\n     </g>\n    </g>\n   </g>\n   <g id=\"matplotlib.axis_2\">\n    <g id=\"ytick_1\">\n     <g id=\"line2d_4\">\n      <defs>\n       <path id=\"m420f31958d\" d=\"M 0 0  L -3.5 0  \" style=\"stroke: #000000; stroke-width: 0.3\" />\n      </defs>\n      <g>\n       <use xlink:href=\"#m420f31958d\" x=\"19.7225\" y=\"62.247142\" style=\"stroke: #000000; stroke-width: 0.3\" />\n      </g>\n     </g>\n     <g id=\"text_5\">\n      \n      <g style=\"fill: #444443\" transform=\"translate(0 65.286517) scale(0.08 -0.08)\">\n       <use xlink:href=\"#DejaVuSans-30\" />\n       <use xlink:href=\"#DejaVuSans-2e\" x=\"63.623047\" />\n       <use xlink:href=\"#DejaVuSans-30\" x=\"95.410156\" />\n      </g>\n     </g>\n    </g>\n    <g id=\"ytick_2\">\n     <g id=\"line2d_5\">\n      <g>\n       <use xlink:href=\"#m420f31958d\" x=\"19.7225\" y=\"32.643258\" style=\"stroke: #000000; stroke-width: 0.3\" />\n      </g>\n     </g>\n     <g id=\"text_6\">\n      \n      <g style=\"fill: #444443\" transform=\"translate(0 35.682633) scale(0.08 -0.08)\">\n       <use xlink:href=\"#DejaVuSans-30\" />\n       <use xlink:href=\"#DejaVuSans-2e\" x=\"63.623047\" />\n       <use xlink:href=\"#DejaVuSans-35\" x=\"95.410156\" />\n      </g>\n     </g>\n    </g>\n    <g id=\"ytick_3\">\n     <g id=\"line2d_6\">\n      <g>\n       <use xlink:href=\"#m420f31958d\" x=\"19.7225\" y=\"3.039375\" style=\"stroke: #000000; stroke-width: 0.3\" />\n      </g>\n     </g>\n     <g id=\"text_7\">\n      \n      <g style=\"fill: #444443\" transform=\"translate(0 6.07875) scale(0.08 -0.08)\">\n       <use xlink:href=\"#DejaVuSans-31\" />\n       <use xlink:href=\"#DejaVuSans-2e\" x=\"63.623047\" />\n       <use xlink:href=\"#DejaVuSans-30\" x=\"95.410156\" />\n      </g>\n     </g>\n    </g>\n   </g>\n   <g id=\"line2d_7\">\n    <path d=\"M 19.7225 39.904588  L 94.452847 39.904588  \" clip-path=\"url(#p22f7309d76)\" style=\"fill: none; stroke-dasharray: 3.7,1.6; stroke-dashoffset: 0; stroke: #444443\" />\n   </g>\n   <g id=\"line2d_8\">\n    <path d=\"M 94.452847 62.247142  L 94.452847 1.263142  \" clip-path=\"url(#p22f7309d76)\" style=\"fill: none; stroke-dasharray: 3.7,1.6; stroke-dashoffset: 0; stroke: #444443\" />\n   </g>\n   <g id=\"line2d_9\">\n    <path d=\"M 94.452847 21.736565  L 159.2225 21.736565  \" clip-path=\"url(#p22f7309d76)\" style=\"fill: none; stroke-dasharray: 3.7,1.6; stroke-dashoffset: 0; stroke: #444443\" />\n   </g>\n   <g id=\"patch_4\">\n    <path d=\"M 19.7225 62.247142  L 19.7225 1.263142  \" style=\"fill: none; stroke: #444443; stroke-width: 0.3; stroke-linejoin: miter; stroke-linecap: square\" />\n   </g>\n   <g id=\"patch_5\">\n    <path d=\"M 19.7225 62.247142  L 159.2225 62.247142  \" style=\"fill: none; stroke: #444443; stroke-width: 0.3; stroke-linejoin: miter; stroke-linecap: square\" />\n   </g>\n  </g>\n </g>\n <defs>\n  <clipPath id=\"p22f7309d76\">\n   <rect x=\"19.7225\" y=\"1.263142\" width=\"139.5\" height=\"60.984\" />\n  </clipPath>\n </defs>\n</svg></g>\n\n<g id=\"edge4\" class=\"edge\">\n<title>node1-&gt;node3</title>\n<path fill=\"none\" stroke=\"#444443\" stroke-width=\"0.3\" d=\"M326.05,-127.17C330.3,-128.09 334.59,-129.02 338.86,-129.95\" />\n<polygon fill=\"#444443\" stroke=\"#444443\" stroke-width=\"0.3\" points=\"338.56,-131.31 342.77,-130.79 339.16,-128.58 338.56,-131.31\" />\n</g>\n\n<g id=\"edge5\" class=\"edge\">\n<title>node1-&gt;leaf4</title>\n<path fill=\"none\" stroke=\"#444443\" stroke-width=\"0.3\" d=\"M326.05,-90.28C344.62,-84.17 363.87,-77.84 379.29,-72.77\" />\n<polygon fill=\"#444443\" stroke=\"#444443\" stroke-width=\"0.3\" points=\"379.76,-74.09 383.12,-71.51 378.89,-71.43 379.76,-74.09\" />\n</g>\n\n<g id=\"node7\" class=\"node\">\n<title>leaf2</title>\n<polygon fill=\"none\" stroke=\"#444443\" stroke-width=\"0\" points=\"285.5,-59 229.5,-59 229.5,0 285.5,0 285.5,-59\" />\n<svg width=\"48px\" height=\"51px\" viewBox=\"0 0 64.040781 68.725507\" version=\"1.1\" preserveAspectRatio=\"xMinYMin meet\" x=\"233.5\" y=\"-54.5\">\n <metadata>\n  <rdf:RDF>\n   <ns2:Work>\n    <dc:type rdf:resource=\"http://purl.org/dc/dcmitype/StillImage\" />\n    <dc:date>2024-12-17T11:59:05.755294</dc:date>\n    <dc:format>image/svg+xml</dc:format>\n    <dc:creator>\n     <ns2:Agent>\n      <dc:title>Matplotlib v3.8.0, https://matplotlib.org/</dc:title>\n     </ns2:Agent>\n    </dc:creator>\n   </ns2:Work>\n  </rdf:RDF>\n </metadata>\n <defs>\n  <style type=\"text/css\">*{stroke-linejoin: round; stroke-linecap: butt}</style>\n </defs>\n <g id=\"figure_1\">\n  <g id=\"patch_1\">\n   <path d=\"M 0 68.725507  L 64.040781 68.725507  L 64.040781 0  L 0 0  z \" style=\"fill: #ffffff\" />\n  </g>\n  <g id=\"axes_1\">\n   <g id=\"patch_2\">\n    <path d=\"M 12.09 46.099569  L 53.94 46.099569  L 53.94 1.747569  L 12.09 1.747569  z \" style=\"fill: #ffffff\" />\n   </g>\n   <g id=\"PathCollection_1\">\n    <defs>\n     <path id=\"mba313d32d1\" d=\"M 0 1.118034  C 0.296506 1.118034 0.580908 1.000231 0.790569 0.790569  C 1.000231 0.580908 1.118034 0.296506 1.118034 0  C 1.118034 -0.296506 1.000231 -0.580908 0.790569 -0.790569  C 0.580908 -1.000231 0.296506 -1.118034 0 -1.118034  C -0.296506 -1.118034 -0.580908 -1.000231 -0.790569 -0.790569  C -1.000231 -0.580908 -1.118034 -0.296506 -1.118034 0  C -1.118034 0.296506 -1.000231 0.580908 -0.790569 0.790569  C -0.580908 1.000231 -0.296506 1.118034 0 1.118034  z \" style=\"stroke: #4575b4; stroke-opacity: 0.7; stroke-width: 0.3\" />\n    </defs>\n    <g clip-path=\"url(#pd6157af86d)\">\n     <use xlink:href=\"#mba313d32d1\" x=\"32.360842\" y=\"46.099569\" style=\"fill: #4575b4; fill-opacity: 0.7; stroke: #4575b4; stroke-opacity: 0.7; stroke-width: 0.3\" />\n     <use xlink:href=\"#mba313d32d1\" x=\"33.302593\" y=\"46.099569\" style=\"fill: #4575b4; fill-opacity: 0.7; stroke: #4575b4; stroke-opacity: 0.7; stroke-width: 0.3\" />\n     <use xlink:href=\"#mba313d32d1\" x=\"23.018062\" y=\"46.099569\" style=\"fill: #4575b4; fill-opacity: 0.7; stroke: #4575b4; stroke-opacity: 0.7; stroke-width: 0.3\" />\n     <use xlink:href=\"#mba313d32d1\" x=\"32.284051\" y=\"46.099569\" style=\"fill: #4575b4; fill-opacity: 0.7; stroke: #4575b4; stroke-opacity: 0.7; stroke-width: 0.3\" />\n     <use xlink:href=\"#mba313d32d1\" x=\"38.022313\" y=\"46.099569\" style=\"fill: #4575b4; fill-opacity: 0.7; stroke: #4575b4; stroke-opacity: 0.7; stroke-width: 0.3\" />\n     <use xlink:href=\"#mba313d32d1\" x=\"36.616133\" y=\"3.039375\" style=\"fill: #4575b4; fill-opacity: 0.7; stroke: #4575b4; stroke-opacity: 0.7; stroke-width: 0.3\" />\n     <use xlink:href=\"#mba313d32d1\" x=\"30.022522\" y=\"46.099569\" style=\"fill: #4575b4; fill-opacity: 0.7; stroke: #4575b4; stroke-opacity: 0.7; stroke-width: 0.3\" />\n     <use xlink:href=\"#mba313d32d1\" x=\"33.883817\" y=\"46.099569\" style=\"fill: #4575b4; fill-opacity: 0.7; stroke: #4575b4; stroke-opacity: 0.7; stroke-width: 0.3\" />\n     <use xlink:href=\"#mba313d32d1\" x=\"33.927385\" y=\"46.099569\" style=\"fill: #4575b4; fill-opacity: 0.7; stroke: #4575b4; stroke-opacity: 0.7; stroke-width: 0.3\" />\n    </g>\n   </g>\n   <g id=\"matplotlib.axis_1\" />\n   <g id=\"matplotlib.axis_2\">\n    <g id=\"ytick_1\">\n     <g id=\"line2d_1\">\n      <defs>\n       <path id=\"mef2c327c98\" d=\"M 0 0  L -3.5 0  \" style=\"stroke: #000000; stroke-width: 0.3\" />\n      </defs>\n      <g>\n       <use xlink:href=\"#mef2c327c98\" x=\"12.09\" y=\"46.099569\" style=\"stroke: #000000; stroke-width: 0.3\" />\n      </g>\n     </g>\n     <g id=\"text_1\">\n      \n      <g style=\"fill: #444443\" transform=\"translate(0 49.138944) scale(0.08 -0.08)\">\n       <defs>\n        <path id=\"DejaVuSans-30\" d=\"M 2034 4250  Q 1547 4250 1301 3770  Q 1056 3291 1056 2328  Q 1056 1369 1301 889  Q 1547 409 2034 409  Q 2525 409 2770 889  Q 3016 1369 3016 2328  Q 3016 3291 2770 3770  Q 2525 4250 2034 4250  z M 2034 4750  Q 2819 4750 3233 4129  Q 3647 3509 3647 2328  Q 3647 1150 3233 529  Q 2819 -91 2034 -91  Q 1250 -91 836 529  Q 422 1150 422 2328  Q 422 3509 836 4129  Q 1250 4750 2034 4750  z \" transform=\"scale(0.015625)\" />\n       </defs>\n       <use xlink:href=\"#DejaVuSans-30\" />\n      </g>\n     </g>\n    </g>\n    <g id=\"ytick_2\">\n     <g id=\"line2d_2\">\n      <g>\n       <use xlink:href=\"#mef2c327c98\" x=\"12.09\" y=\"3.039375\" style=\"stroke: #000000; stroke-width: 0.3\" />\n      </g>\n     </g>\n     <g id=\"text_2\">\n      \n      <g style=\"fill: #444443\" transform=\"translate(0 6.07875) scale(0.08 -0.08)\">\n       <defs>\n        <path id=\"DejaVuSans-31\" d=\"M 794 531  L 1825 531  L 1825 4091  L 703 3866  L 703 4441  L 1819 4666  L 2450 4666  L 2450 531  L 3481 531  L 3481 0  L 794 0  L 794 531  z \" transform=\"scale(0.015625)\" />\n       </defs>\n       <use xlink:href=\"#DejaVuSans-31\" />\n      </g>\n     </g>\n    </g>\n   </g>\n   <g id=\"line2d_3\">\n    <path d=\"M 12.09 41.315103  L 65.040781 41.315103  \" clip-path=\"url(#pd6157af86d)\" style=\"fill: none; stroke-dasharray: 3.7,1.6; stroke-dashoffset: 0; stroke: #444443\" />\n   </g>\n   <g id=\"patch_3\">\n    <path d=\"M 12.09 46.099569  L 12.09 1.747569  \" style=\"fill: none; stroke: #444443; stroke-width: 0.3; stroke-linejoin: miter; stroke-linecap: square\" />\n   </g>\n   <g id=\"text_3\">\n    \n    <g style=\"fill: #444443\" transform=\"translate(2.989219 55.448007) scale(0.1 -0.1)\">\n     <defs>\n      <path id=\"DejaVuSans-74\" d=\"M 1172 4494  L 1172 3500  L 2356 3500  L 2356 3053  L 1172 3053  L 1172 1153  Q 1172 725 1289 603  Q 1406 481 1766 481  L 2356 481  L 2356 0  L 1766 0  Q 1100 0 847 248  Q 594 497 594 1153  L 594 3053  L 172 3053  L 172 3500  L 594 3500  L 594 4494  L 1172 4494  z \" transform=\"scale(0.015625)\" />\n      <path id=\"DejaVuSans-61\" d=\"M 2194 1759  Q 1497 1759 1228 1600  Q 959 1441 959 1056  Q 959 750 1161 570  Q 1363 391 1709 391  Q 2188 391 2477 730  Q 2766 1069 2766 1631  L 2766 1759  L 2194 1759  z M 3341 1997  L 3341 0  L 2766 0  L 2766 531  Q 2569 213 2275 61  Q 1981 -91 1556 -91  Q 1019 -91 701 211  Q 384 513 384 1019  Q 384 1609 779 1909  Q 1175 2209 1959 2209  L 2766 2209  L 2766 2266  Q 2766 2663 2505 2880  Q 2244 3097 1772 3097  Q 1472 3097 1187 3025  Q 903 2953 641 2809  L 641 3341  Q 956 3463 1253 3523  Q 1550 3584 1831 3584  Q 2591 3584 2966 3190  Q 3341 2797 3341 1997  z \" transform=\"scale(0.015625)\" />\n      <path id=\"DejaVuSans-72\" d=\"M 2631 2963  Q 2534 3019 2420 3045  Q 2306 3072 2169 3072  Q 1681 3072 1420 2755  Q 1159 2438 1159 1844  L 1159 0  L 581 0  L 581 3500  L 1159 3500  L 1159 2956  Q 1341 3275 1631 3429  Q 1922 3584 2338 3584  Q 2397 3584 2469 3576  Q 2541 3569 2628 3553  L 2631 2963  z \" transform=\"scale(0.015625)\" />\n      <path id=\"DejaVuSans-67\" d=\"M 2906 1791  Q 2906 2416 2648 2759  Q 2391 3103 1925 3103  Q 1463 3103 1205 2759  Q 947 2416 947 1791  Q 947 1169 1205 825  Q 1463 481 1925 481  Q 2391 481 2648 825  Q 2906 1169 2906 1791  z M 3481 434  Q 3481 -459 3084 -895  Q 2688 -1331 1869 -1331  Q 1566 -1331 1297 -1286  Q 1028 -1241 775 -1147  L 775 -588  Q 1028 -725 1275 -790  Q 1522 -856 1778 -856  Q 2344 -856 2625 -561  Q 2906 -266 2906 331  L 2906 616  Q 2728 306 2450 153  Q 2172 0 1784 0  Q 1141 0 747 490  Q 353 981 353 1791  Q 353 2603 747 3093  Q 1141 3584 1784 3584  Q 2172 3584 2450 3431  Q 2728 3278 2906 2969  L 2906 3500  L 3481 3500  L 3481 434  z \" transform=\"scale(0.015625)\" />\n      <path id=\"DejaVuSans-65\" d=\"M 3597 1894  L 3597 1613  L 953 1613  Q 991 1019 1311 708  Q 1631 397 2203 397  Q 2534 397 2845 478  Q 3156 559 3463 722  L 3463 178  Q 3153 47 2828 -22  Q 2503 -91 2169 -91  Q 1331 -91 842 396  Q 353 884 353 1716  Q 353 2575 817 3079  Q 1281 3584 2069 3584  Q 2775 3584 3186 3129  Q 3597 2675 3597 1894  z M 3022 2063  Q 3016 2534 2758 2815  Q 2500 3097 2075 3097  Q 1594 3097 1305 2825  Q 1016 2553 972 2059  L 3022 2063  z \" transform=\"scale(0.015625)\" />\n      <path id=\"DejaVuSans-3d\" d=\"M 678 2906  L 4684 2906  L 4684 2381  L 678 2381  L 678 2906  z M 678 1631  L 4684 1631  L 4684 1100  L 678 1100  L 678 1631  z \" transform=\"scale(0.015625)\" />\n      <path id=\"DejaVuSans-2e\" d=\"M 684 794  L 1344 794  L 1344 0  L 684 0  L 684 794  z \" transform=\"scale(0.015625)\" />\n     </defs>\n     <use xlink:href=\"#DejaVuSans-74\" />\n     <use xlink:href=\"#DejaVuSans-61\" x=\"39.208984\" />\n     <use xlink:href=\"#DejaVuSans-72\" x=\"100.488281\" />\n     <use xlink:href=\"#DejaVuSans-67\" x=\"139.851562\" />\n     <use xlink:href=\"#DejaVuSans-65\" x=\"203.328125\" />\n     <use xlink:href=\"#DejaVuSans-74\" x=\"264.851562\" />\n     <use xlink:href=\"#DejaVuSans-3d\" x=\"304.060547\" />\n     <use xlink:href=\"#DejaVuSans-30\" x=\"387.849609\" />\n     <use xlink:href=\"#DejaVuSans-2e\" x=\"451.472656\" />\n     <use xlink:href=\"#DejaVuSans-31\" x=\"483.259766\" />\n     <use xlink:href=\"#DejaVuSans-31\" x=\"546.882812\" />\n    </g>\n    \n    <g style=\"fill: #444443\" transform=\"translate(22.975156 66.645819) scale(0.1 -0.1)\">\n     <defs>\n      <path id=\"DejaVuSans-6e\" d=\"M 3513 2113  L 3513 0  L 2938 0  L 2938 2094  Q 2938 2591 2744 2837  Q 2550 3084 2163 3084  Q 1697 3084 1428 2787  Q 1159 2491 1159 1978  L 1159 0  L 581 0  L 581 3500  L 1159 3500  L 1159 2956  Q 1366 3272 1645 3428  Q 1925 3584 2291 3584  Q 2894 3584 3203 3211  Q 3513 2838 3513 2113  z \" transform=\"scale(0.015625)\" />\n      <path id=\"DejaVuSans-39\" d=\"M 703 97  L 703 672  Q 941 559 1184 500  Q 1428 441 1663 441  Q 2288 441 2617 861  Q 2947 1281 2994 2138  Q 2813 1869 2534 1725  Q 2256 1581 1919 1581  Q 1219 1581 811 2004  Q 403 2428 403 3163  Q 403 3881 828 4315  Q 1253 4750 1959 4750  Q 2769 4750 3195 4129  Q 3622 3509 3622 2328  Q 3622 1225 3098 567  Q 2575 -91 1691 -91  Q 1453 -91 1209 -44  Q 966 3 703 97  z M 1959 2075  Q 2384 2075 2632 2365  Q 2881 2656 2881 3163  Q 2881 3666 2632 3958  Q 2384 4250 1959 4250  Q 1534 4250 1286 3958  Q 1038 3666 1038 3163  Q 1038 2656 1286 2365  Q 1534 2075 1959 2075  z \" transform=\"scale(0.015625)\" />\n     </defs>\n     <use xlink:href=\"#DejaVuSans-6e\" />\n     <use xlink:href=\"#DejaVuSans-3d\" x=\"63.378906\" />\n     <use xlink:href=\"#DejaVuSans-39\" x=\"147.167969\" />\n    </g>\n   </g>\n  </g>\n </g>\n <defs>\n  <clipPath id=\"pd6157af86d\">\n   <rect x=\"12.09\" y=\"1.747569\" width=\"41.85\" height=\"44.352\" />\n  </clipPath>\n </defs>\n</svg></g>\n\n\n<g id=\"node3\" class=\"node\">\n<title>node0</title>\n<svg width=\"140px\" height=\"71px\" viewBox=\"0 0 186.896875 95.167767\" version=\"1.1\" preserveAspectRatio=\"xMinYMin meet\" x=\"4\" y=\"-105.5\">\n <metadata>\n  <rdf:RDF>\n   <ns2:Work>\n    <dc:type rdf:resource=\"http://purl.org/dc/dcmitype/StillImage\" />\n    <dc:date>2024-12-17T11:59:05.139361</dc:date>\n    <dc:format>image/svg+xml</dc:format>\n    <dc:creator>\n     <ns2:Agent>\n      <dc:title>Matplotlib v3.8.0, https://matplotlib.org/</dc:title>\n     </ns2:Agent>\n    </dc:creator>\n   </ns2:Work>\n  </rdf:RDF>\n </metadata>\n <defs>\n  <style type=\"text/css\">*{stroke-linejoin: round; stroke-linecap: butt}</style>\n </defs>\n <g id=\"figure_1\">\n  <g id=\"patch_1\">\n   <path d=\"M 0 95.167767  L 186.896875 95.167767  L 186.896875 0  L 0 0  z \" style=\"fill: #ffffff\" />\n  </g>\n  <g id=\"axes_1\">\n   <g id=\"patch_2\">\n    <path d=\"M 33.400625 62.247142  L 172.900625 62.247142  L 172.900625 1.263142  L 33.400625 1.263142  z \" style=\"fill: #ffffff\" />\n   </g>\n   <g id=\"PathCollection_1\">\n    <defs>\n     <path id=\"md355e857cb\" d=\"M 0 1.118034  C 0.296506 1.118034 0.580908 1.000231 0.790569 0.790569  C 1.000231 0.580908 1.118034 0.296506 1.118034 0  C 1.118034 -0.296506 1.000231 -0.580908 0.790569 -0.790569  C 0.580908 -1.000231 0.296506 -1.118034 0 -1.118034  C -0.296506 -1.118034 -0.580908 -1.000231 -0.790569 -0.790569  C -1.000231 -0.580908 -1.118034 -0.296506 -1.118034 0  C -1.118034 0.296506 -1.000231 0.580908 -0.790569 0.790569  C -0.580908 1.000231 -0.296506 1.118034 0 1.118034  z \" style=\"stroke: #4575b4; stroke-opacity: 0.7; stroke-width: 0.3\" />\n    </defs>\n    <g clip-path=\"url(#p8fae9eec81)\">\n     <use xlink:href=\"#md355e857cb\" x=\"90.809028\" y=\"62.247142\" style=\"fill: #4575b4; fill-opacity: 0.7; stroke: #4575b4; stroke-opacity: 0.7; stroke-width: 0.3\" />\n     <use xlink:href=\"#md355e857cb\" x=\"162.036302\" y=\"62.247142\" style=\"fill: #4575b4; fill-opacity: 0.7; stroke: #4575b4; stroke-opacity: 0.7; stroke-width: 0.3\" />\n     <use xlink:href=\"#md355e857cb\" x=\"169.597497\" y=\"62.247142\" style=\"fill: #4575b4; fill-opacity: 0.7; stroke: #4575b4; stroke-opacity: 0.7; stroke-width: 0.3\" />\n     <use xlink:href=\"#md355e857cb\" x=\"54.799837\" y=\"62.247142\" style=\"fill: #4575b4; fill-opacity: 0.7; stroke: #4575b4; stroke-opacity: 0.7; stroke-width: 0.3\" />\n     <use xlink:href=\"#md355e857cb\" x=\"77.143144\" y=\"3.039375\" style=\"fill: #4575b4; fill-opacity: 0.7; stroke: #4575b4; stroke-opacity: 0.7; stroke-width: 0.3\" />\n     <use xlink:href=\"#md355e857cb\" x=\"118.754711\" y=\"62.247142\" style=\"fill: #4575b4; fill-opacity: 0.7; stroke: #4575b4; stroke-opacity: 0.7; stroke-width: 0.3\" />\n     <use xlink:href=\"#md355e857cb\" x=\"46.452493\" y=\"3.039375\" style=\"fill: #4575b4; fill-opacity: 0.7; stroke: #4575b4; stroke-opacity: 0.7; stroke-width: 0.3\" />\n     <use xlink:href=\"#md355e857cb\" x=\"82.358223\" y=\"62.247142\" style=\"fill: #4575b4; fill-opacity: 0.7; stroke: #4575b4; stroke-opacity: 0.7; stroke-width: 0.3\" />\n     <use xlink:href=\"#md355e857cb\" x=\"128.269043\" y=\"3.039375\" style=\"fill: #4575b4; fill-opacity: 0.7; stroke: #4575b4; stroke-opacity: 0.7; stroke-width: 0.3\" />\n     <use xlink:href=\"#md355e857cb\" x=\"81.24556\" y=\"62.247142\" style=\"fill: #4575b4; fill-opacity: 0.7; stroke: #4575b4; stroke-opacity: 0.7; stroke-width: 0.3\" />\n     <use xlink:href=\"#md355e857cb\" x=\"63.186911\" y=\"62.247142\" style=\"fill: #4575b4; fill-opacity: 0.7; stroke: #4575b4; stroke-opacity: 0.7; stroke-width: 0.3\" />\n     <use xlink:href=\"#md355e857cb\" x=\"171.856707\" y=\"62.247142\" style=\"fill: #4575b4; fill-opacity: 0.7; stroke: #4575b4; stroke-opacity: 0.7; stroke-width: 0.3\" />\n     <use xlink:href=\"#md355e857cb\" x=\"48.467222\" y=\"62.247142\" style=\"fill: #4575b4; fill-opacity: 0.7; stroke: #4575b4; stroke-opacity: 0.7; stroke-width: 0.3\" />\n     <use xlink:href=\"#md355e857cb\" x=\"36.805081\" y=\"62.247142\" style=\"fill: #4575b4; fill-opacity: 0.7; stroke: #4575b4; stroke-opacity: 0.7; stroke-width: 0.3\" />\n     <use xlink:href=\"#md355e857cb\" x=\"153.615463\" y=\"3.039375\" style=\"fill: #4575b4; fill-opacity: 0.7; stroke: #4575b4; stroke-opacity: 0.7; stroke-width: 0.3\" />\n     <use xlink:href=\"#md355e857cb\" x=\"95.987918\" y=\"62.247142\" style=\"fill: #4575b4; fill-opacity: 0.7; stroke: #4575b4; stroke-opacity: 0.7; stroke-width: 0.3\" />\n     <use xlink:href=\"#md355e857cb\" x=\"81.508732\" y=\"62.247142\" style=\"fill: #4575b4; fill-opacity: 0.7; stroke: #4575b4; stroke-opacity: 0.7; stroke-width: 0.3\" />\n     <use xlink:href=\"#md355e857cb\" x=\"105.316638\" y=\"62.247142\" style=\"fill: #4575b4; fill-opacity: 0.7; stroke: #4575b4; stroke-opacity: 0.7; stroke-width: 0.3\" />\n     <use xlink:href=\"#md355e857cb\" x=\"129.452386\" y=\"3.039375\" style=\"fill: #4575b4; fill-opacity: 0.7; stroke: #4575b4; stroke-opacity: 0.7; stroke-width: 0.3\" />\n     <use xlink:href=\"#md355e857cb\" x=\"129.162701\" y=\"3.039375\" style=\"fill: #4575b4; fill-opacity: 0.7; stroke: #4575b4; stroke-opacity: 0.7; stroke-width: 0.3\" />\n     <use xlink:href=\"#md355e857cb\" x=\"153.145581\" y=\"3.039375\" style=\"fill: #4575b4; fill-opacity: 0.7; stroke: #4575b4; stroke-opacity: 0.7; stroke-width: 0.3\" />\n     <use xlink:href=\"#md355e857cb\" x=\"75.844652\" y=\"3.039375\" style=\"fill: #4575b4; fill-opacity: 0.7; stroke: #4575b4; stroke-opacity: 0.7; stroke-width: 0.3\" />\n     <use xlink:href=\"#md355e857cb\" x=\"58.246531\" y=\"62.247142\" style=\"fill: #4575b4; fill-opacity: 0.7; stroke: #4575b4; stroke-opacity: 0.7; stroke-width: 0.3\" />\n     <use xlink:href=\"#md355e857cb\" x=\"108.23002\" y=\"3.039375\" style=\"fill: #4575b4; fill-opacity: 0.7; stroke: #4575b4; stroke-opacity: 0.7; stroke-width: 0.3\" />\n     <use xlink:href=\"#md355e857cb\" x=\"159.859286\" y=\"62.247142\" style=\"fill: #4575b4; fill-opacity: 0.7; stroke: #4575b4; stroke-opacity: 0.7; stroke-width: 0.3\" />\n     <use xlink:href=\"#md355e857cb\" x=\"90.388732\" y=\"3.039375\" style=\"fill: #4575b4; fill-opacity: 0.7; stroke: #4575b4; stroke-opacity: 0.7; stroke-width: 0.3\" />\n     <use xlink:href=\"#md355e857cb\" x=\"119.700437\" y=\"3.039375\" style=\"fill: #4575b4; fill-opacity: 0.7; stroke: #4575b4; stroke-opacity: 0.7; stroke-width: 0.3\" />\n     <use xlink:href=\"#md355e857cb\" x=\"38.685187\" y=\"62.247142\" style=\"fill: #4575b4; fill-opacity: 0.7; stroke: #4575b4; stroke-opacity: 0.7; stroke-width: 0.3\" />\n     <use xlink:href=\"#md355e857cb\" x=\"134.321222\" y=\"62.247142\" style=\"fill: #4575b4; fill-opacity: 0.7; stroke: #4575b4; stroke-opacity: 0.7; stroke-width: 0.3\" />\n     <use xlink:href=\"#md355e857cb\" x=\"156.864736\" y=\"62.247142\" style=\"fill: #4575b4; fill-opacity: 0.7; stroke: #4575b4; stroke-opacity: 0.7; stroke-width: 0.3\" />\n     <use xlink:href=\"#md355e857cb\" x=\"122.548877\" y=\"3.039375\" style=\"fill: #4575b4; fill-opacity: 0.7; stroke: #4575b4; stroke-opacity: 0.7; stroke-width: 0.3\" />\n     <use xlink:href=\"#md355e857cb\" x=\"58.820368\" y=\"62.247142\" style=\"fill: #4575b4; fill-opacity: 0.7; stroke: #4575b4; stroke-opacity: 0.7; stroke-width: 0.3\" />\n     <use xlink:href=\"#md355e857cb\" x=\"63.184944\" y=\"62.247142\" style=\"fill: #4575b4; fill-opacity: 0.7; stroke: #4575b4; stroke-opacity: 0.7; stroke-width: 0.3\" />\n     <use xlink:href=\"#md355e857cb\" x=\"33.400625\" y=\"62.247142\" style=\"fill: #4575b4; fill-opacity: 0.7; stroke: #4575b4; stroke-opacity: 0.7; stroke-width: 0.3\" />\n     <use xlink:href=\"#md355e857cb\" x=\"170.515717\" y=\"62.247142\" style=\"fill: #4575b4; fill-opacity: 0.7; stroke: #4575b4; stroke-opacity: 0.7; stroke-width: 0.3\" />\n     <use xlink:href=\"#md355e857cb\" x=\"163.823544\" y=\"3.039375\" style=\"fill: #4575b4; fill-opacity: 0.7; stroke: #4575b4; stroke-opacity: 0.7; stroke-width: 0.3\" />\n     <use xlink:href=\"#md355e857cb\" x=\"69.833914\" y=\"3.039375\" style=\"fill: #4575b4; fill-opacity: 0.7; stroke: #4575b4; stroke-opacity: 0.7; stroke-width: 0.3\" />\n     <use xlink:href=\"#md355e857cb\" x=\"100.159199\" y=\"3.039375\" style=\"fill: #4575b4; fill-opacity: 0.7; stroke: #4575b4; stroke-opacity: 0.7; stroke-width: 0.3\" />\n     <use xlink:href=\"#md355e857cb\" x=\"67.486289\" y=\"62.247142\" style=\"fill: #4575b4; fill-opacity: 0.7; stroke: #4575b4; stroke-opacity: 0.7; stroke-width: 0.3\" />\n     <use xlink:href=\"#md355e857cb\" x=\"39.344187\" y=\"62.247142\" style=\"fill: #4575b4; fill-opacity: 0.7; stroke: #4575b4; stroke-opacity: 0.7; stroke-width: 0.3\" />\n     <use xlink:href=\"#md355e857cb\" x=\"167.0258\" y=\"62.247142\" style=\"fill: #4575b4; fill-opacity: 0.7; stroke: #4575b4; stroke-opacity: 0.7; stroke-width: 0.3\" />\n     <use xlink:href=\"#md355e857cb\" x=\"165.071185\" y=\"3.039375\" style=\"fill: #4575b4; fill-opacity: 0.7; stroke: #4575b4; stroke-opacity: 0.7; stroke-width: 0.3\" />\n     <use xlink:href=\"#md355e857cb\" x=\"157.167076\" y=\"3.039375\" style=\"fill: #4575b4; fill-opacity: 0.7; stroke: #4575b4; stroke-opacity: 0.7; stroke-width: 0.3\" />\n     <use xlink:href=\"#md355e857cb\" x=\"33.690012\" y=\"62.247142\" style=\"fill: #4575b4; fill-opacity: 0.7; stroke: #4575b4; stroke-opacity: 0.7; stroke-width: 0.3\" />\n     <use xlink:href=\"#md355e857cb\" x=\"97.506826\" y=\"62.247142\" style=\"fill: #4575b4; fill-opacity: 0.7; stroke: #4575b4; stroke-opacity: 0.7; stroke-width: 0.3\" />\n     <use xlink:href=\"#md355e857cb\" x=\"34.521707\" y=\"62.247142\" style=\"fill: #4575b4; fill-opacity: 0.7; stroke: #4575b4; stroke-opacity: 0.7; stroke-width: 0.3\" />\n     <use xlink:href=\"#md355e857cb\" x=\"169.634175\" y=\"62.247142\" style=\"fill: #4575b4; fill-opacity: 0.7; stroke: #4575b4; stroke-opacity: 0.7; stroke-width: 0.3\" />\n     <use xlink:href=\"#md355e857cb\" x=\"36.661169\" y=\"62.247142\" style=\"fill: #4575b4; fill-opacity: 0.7; stroke: #4575b4; stroke-opacity: 0.7; stroke-width: 0.3\" />\n     <use xlink:href=\"#md355e857cb\" x=\"47.860396\" y=\"3.039375\" style=\"fill: #4575b4; fill-opacity: 0.7; stroke: #4575b4; stroke-opacity: 0.7; stroke-width: 0.3\" />\n     <use xlink:href=\"#md355e857cb\" x=\"108.031917\" y=\"62.247142\" style=\"fill: #4575b4; fill-opacity: 0.7; stroke: #4575b4; stroke-opacity: 0.7; stroke-width: 0.3\" />\n     <use xlink:href=\"#md355e857cb\" x=\"91.217722\" y=\"3.039375\" style=\"fill: #4575b4; fill-opacity: 0.7; stroke: #4575b4; stroke-opacity: 0.7; stroke-width: 0.3\" />\n     <use xlink:href=\"#md355e857cb\" x=\"133.574056\" y=\"3.039375\" style=\"fill: #4575b4; fill-opacity: 0.7; stroke: #4575b4; stroke-opacity: 0.7; stroke-width: 0.3\" />\n     <use xlink:href=\"#md355e857cb\" x=\"77.90513\" y=\"3.039375\" style=\"fill: #4575b4; fill-opacity: 0.7; stroke: #4575b4; stroke-opacity: 0.7; stroke-width: 0.3\" />\n     <use xlink:href=\"#md355e857cb\" x=\"46.004398\" y=\"62.247142\" style=\"fill: #4575b4; fill-opacity: 0.7; stroke: #4575b4; stroke-opacity: 0.7; stroke-width: 0.3\" />\n     <use xlink:href=\"#md355e857cb\" x=\"98.419691\" y=\"62.247142\" style=\"fill: #4575b4; fill-opacity: 0.7; stroke: #4575b4; stroke-opacity: 0.7; stroke-width: 0.3\" />\n     <use xlink:href=\"#md355e857cb\" x=\"69.167617\" y=\"62.247142\" style=\"fill: #4575b4; fill-opacity: 0.7; stroke: #4575b4; stroke-opacity: 0.7; stroke-width: 0.3\" />\n     <use xlink:href=\"#md355e857cb\" x=\"134.835232\" y=\"3.039375\" style=\"fill: #4575b4; fill-opacity: 0.7; stroke: #4575b4; stroke-opacity: 0.7; stroke-width: 0.3\" />\n     <use xlink:href=\"#md355e857cb\" x=\"37.313909\" y=\"3.039375\" style=\"fill: #4575b4; fill-opacity: 0.7; stroke: #4575b4; stroke-opacity: 0.7; stroke-width: 0.3\" />\n     <use xlink:href=\"#md355e857cb\" x=\"61.277198\" y=\"3.039375\" style=\"fill: #4575b4; fill-opacity: 0.7; stroke: #4575b4; stroke-opacity: 0.7; stroke-width: 0.3\" />\n     <use xlink:href=\"#md355e857cb\" x=\"123.163781\" y=\"3.039375\" style=\"fill: #4575b4; fill-opacity: 0.7; stroke: #4575b4; stroke-opacity: 0.7; stroke-width: 0.3\" />\n     <use xlink:href=\"#md355e857cb\" x=\"163.275739\" y=\"3.039375\" style=\"fill: #4575b4; fill-opacity: 0.7; stroke: #4575b4; stroke-opacity: 0.7; stroke-width: 0.3\" />\n     <use xlink:href=\"#md355e857cb\" x=\"104.190061\" y=\"62.247142\" style=\"fill: #4575b4; fill-opacity: 0.7; stroke: #4575b4; stroke-opacity: 0.7; stroke-width: 0.3\" />\n     <use xlink:href=\"#md355e857cb\" x=\"112.401115\" y=\"3.039375\" style=\"fill: #4575b4; fill-opacity: 0.7; stroke: #4575b4; stroke-opacity: 0.7; stroke-width: 0.3\" />\n     <use xlink:href=\"#md355e857cb\" x=\"116.710916\" y=\"62.247142\" style=\"fill: #4575b4; fill-opacity: 0.7; stroke: #4575b4; stroke-opacity: 0.7; stroke-width: 0.3\" />\n     <use xlink:href=\"#md355e857cb\" x=\"149.146034\" y=\"62.247142\" style=\"fill: #4575b4; fill-opacity: 0.7; stroke: #4575b4; stroke-opacity: 0.7; stroke-width: 0.3\" />\n     <use xlink:href=\"#md355e857cb\" x=\"164.833216\" y=\"3.039375\" style=\"fill: #4575b4; fill-opacity: 0.7; stroke: #4575b4; stroke-opacity: 0.7; stroke-width: 0.3\" />\n     <use xlink:href=\"#md355e857cb\" x=\"91.427259\" y=\"3.039375\" style=\"fill: #4575b4; fill-opacity: 0.7; stroke: #4575b4; stroke-opacity: 0.7; stroke-width: 0.3\" />\n     <use xlink:href=\"#md355e857cb\" x=\"151.551664\" y=\"62.247142\" style=\"fill: #4575b4; fill-opacity: 0.7; stroke: #4575b4; stroke-opacity: 0.7; stroke-width: 0.3\" />\n     <use xlink:href=\"#md355e857cb\" x=\"74.882763\" y=\"62.247142\" style=\"fill: #4575b4; fill-opacity: 0.7; stroke: #4575b4; stroke-opacity: 0.7; stroke-width: 0.3\" />\n     <use xlink:href=\"#md355e857cb\" x=\"150.845004\" y=\"62.247142\" style=\"fill: #4575b4; fill-opacity: 0.7; stroke: #4575b4; stroke-opacity: 0.7; stroke-width: 0.3\" />\n     <use xlink:href=\"#md355e857cb\" x=\"105.833418\" y=\"62.247142\" style=\"fill: #4575b4; fill-opacity: 0.7; stroke: #4575b4; stroke-opacity: 0.7; stroke-width: 0.3\" />\n     <use xlink:href=\"#md355e857cb\" x=\"143.447718\" y=\"3.039375\" style=\"fill: #4575b4; fill-opacity: 0.7; stroke: #4575b4; stroke-opacity: 0.7; stroke-width: 0.3\" />\n     <use xlink:href=\"#md355e857cb\" x=\"76.83806\" y=\"62.247142\" style=\"fill: #4575b4; fill-opacity: 0.7; stroke: #4575b4; stroke-opacity: 0.7; stroke-width: 0.3\" />\n     <use xlink:href=\"#md355e857cb\" x=\"47.09142\" y=\"62.247142\" style=\"fill: #4575b4; fill-opacity: 0.7; stroke: #4575b4; stroke-opacity: 0.7; stroke-width: 0.3\" />\n     <use xlink:href=\"#md355e857cb\" x=\"136.585229\" y=\"3.039375\" style=\"fill: #4575b4; fill-opacity: 0.7; stroke: #4575b4; stroke-opacity: 0.7; stroke-width: 0.3\" />\n     <use xlink:href=\"#md355e857cb\" x=\"172.900625\" y=\"3.039375\" style=\"fill: #4575b4; fill-opacity: 0.7; stroke: #4575b4; stroke-opacity: 0.7; stroke-width: 0.3\" />\n     <use xlink:href=\"#md355e857cb\" x=\"131.394479\" y=\"3.039375\" style=\"fill: #4575b4; fill-opacity: 0.7; stroke: #4575b4; stroke-opacity: 0.7; stroke-width: 0.3\" />\n     <use xlink:href=\"#md355e857cb\" x=\"44.01198\" y=\"3.039375\" style=\"fill: #4575b4; fill-opacity: 0.7; stroke: #4575b4; stroke-opacity: 0.7; stroke-width: 0.3\" />\n     <use xlink:href=\"#md355e857cb\" x=\"104.01123\" y=\"3.039375\" style=\"fill: #4575b4; fill-opacity: 0.7; stroke: #4575b4; stroke-opacity: 0.7; stroke-width: 0.3\" />\n     <use xlink:href=\"#md355e857cb\" x=\"146.913533\" y=\"3.039375\" style=\"fill: #4575b4; fill-opacity: 0.7; stroke: #4575b4; stroke-opacity: 0.7; stroke-width: 0.3\" />\n     <use xlink:href=\"#md355e857cb\" x=\"71.447865\" y=\"62.247142\" style=\"fill: #4575b4; fill-opacity: 0.7; stroke: #4575b4; stroke-opacity: 0.7; stroke-width: 0.3\" />\n     <use xlink:href=\"#md355e857cb\" x=\"44.614236\" y=\"3.039375\" style=\"fill: #4575b4; fill-opacity: 0.7; stroke: #4575b4; stroke-opacity: 0.7; stroke-width: 0.3\" />\n     <use xlink:href=\"#md355e857cb\" x=\"132.965203\" y=\"62.247142\" style=\"fill: #4575b4; fill-opacity: 0.7; stroke: #4575b4; stroke-opacity: 0.7; stroke-width: 0.3\" />\n     <use xlink:href=\"#md355e857cb\" x=\"112.524185\" y=\"3.039375\" style=\"fill: #4575b4; fill-opacity: 0.7; stroke: #4575b4; stroke-opacity: 0.7; stroke-width: 0.3\" />\n     <use xlink:href=\"#md355e857cb\" x=\"159.092394\" y=\"3.039375\" style=\"fill: #4575b4; fill-opacity: 0.7; stroke: #4575b4; stroke-opacity: 0.7; stroke-width: 0.3\" />\n     <use xlink:href=\"#md355e857cb\" x=\"171.715955\" y=\"62.247142\" style=\"fill: #4575b4; fill-opacity: 0.7; stroke: #4575b4; stroke-opacity: 0.7; stroke-width: 0.3\" />\n     <use xlink:href=\"#md355e857cb\" x=\"154.890905\" y=\"62.247142\" style=\"fill: #4575b4; fill-opacity: 0.7; stroke: #4575b4; stroke-opacity: 0.7; stroke-width: 0.3\" />\n     <use xlink:href=\"#md355e857cb\" x=\"141.436162\" y=\"3.039375\" style=\"fill: #4575b4; fill-opacity: 0.7; stroke: #4575b4; stroke-opacity: 0.7; stroke-width: 0.3\" />\n     <use xlink:href=\"#md355e857cb\" x=\"169.735056\" y=\"62.247142\" style=\"fill: #4575b4; fill-opacity: 0.7; stroke: #4575b4; stroke-opacity: 0.7; stroke-width: 0.3\" />\n     <use xlink:href=\"#md355e857cb\" x=\"172.337356\" y=\"62.247142\" style=\"fill: #4575b4; fill-opacity: 0.7; stroke: #4575b4; stroke-opacity: 0.7; stroke-width: 0.3\" />\n     <use xlink:href=\"#md355e857cb\" x=\"137.092137\" y=\"3.039375\" style=\"fill: #4575b4; fill-opacity: 0.7; stroke: #4575b4; stroke-opacity: 0.7; stroke-width: 0.3\" />\n     <use xlink:href=\"#md355e857cb\" x=\"43.962705\" y=\"62.247142\" style=\"fill: #4575b4; fill-opacity: 0.7; stroke: #4575b4; stroke-opacity: 0.7; stroke-width: 0.3\" />\n     <use xlink:href=\"#md355e857cb\" x=\"100.703877\" y=\"3.039375\" style=\"fill: #4575b4; fill-opacity: 0.7; stroke: #4575b4; stroke-opacity: 0.7; stroke-width: 0.3\" />\n     <use xlink:href=\"#md355e857cb\" x=\"56.563866\" y=\"3.039375\" style=\"fill: #4575b4; fill-opacity: 0.7; stroke: #4575b4; stroke-opacity: 0.7; stroke-width: 0.3\" />\n     <use xlink:href=\"#md355e857cb\" x=\"36.900269\" y=\"3.039375\" style=\"fill: #4575b4; fill-opacity: 0.7; stroke: #4575b4; stroke-opacity: 0.7; stroke-width: 0.3\" />\n     <use xlink:href=\"#md355e857cb\" x=\"58.543088\" y=\"3.039375\" style=\"fill: #4575b4; fill-opacity: 0.7; stroke: #4575b4; stroke-opacity: 0.7; stroke-width: 0.3\" />\n     <use xlink:href=\"#md355e857cb\" x=\"138.254494\" y=\"62.247142\" style=\"fill: #4575b4; fill-opacity: 0.7; stroke: #4575b4; stroke-opacity: 0.7; stroke-width: 0.3\" />\n     <use xlink:href=\"#md355e857cb\" x=\"104.462896\" y=\"62.247142\" style=\"fill: #4575b4; fill-opacity: 0.7; stroke: #4575b4; stroke-opacity: 0.7; stroke-width: 0.3\" />\n     <use xlink:href=\"#md355e857cb\" x=\"111.723303\" y=\"3.039375\" style=\"fill: #4575b4; fill-opacity: 0.7; stroke: #4575b4; stroke-opacity: 0.7; stroke-width: 0.3\" />\n     <use xlink:href=\"#md355e857cb\" x=\"56.358946\" y=\"3.039375\" style=\"fill: #4575b4; fill-opacity: 0.7; stroke: #4575b4; stroke-opacity: 0.7; stroke-width: 0.3\" />\n    </g>\n   </g>\n   <g id=\"patch_3\">\n    <path d=\"M 166.04849 62.247142  L 163.53749 68.345542  L 168.55949 68.345542  z \" style=\"fill: #444443\" />\n   </g>\n   <g id=\"matplotlib.axis_1\">\n    <g id=\"xtick_1\">\n     <g id=\"line2d_1\">\n      <defs>\n       <path id=\"m8869518aee\" d=\"M 0 0  L 0 3.5  \" style=\"stroke: #000000; stroke-width: 0.3\" />\n      </defs>\n      <g>\n       <use xlink:href=\"#m8869518aee\" x=\"33.400625\" y=\"62.247142\" style=\"stroke: #000000; stroke-width: 0.3\" />\n      </g>\n     </g>\n     <g id=\"text_1\">\n      \n      <g style=\"fill: #444443\" transform=\"translate(19.404375 79.825892) scale(0.08 -0.08)\">\n       <defs>\n        <path id=\"DejaVuSans-30\" d=\"M 2034 4250  Q 1547 4250 1301 3770  Q 1056 3291 1056 2328  Q 1056 1369 1301 889  Q 1547 409 2034 409  Q 2525 409 2770 889  Q 3016 1369 3016 2328  Q 3016 3291 2770 3770  Q 2525 4250 2034 4250  z M 2034 4750  Q 2819 4750 3233 4129  Q 3647 3509 3647 2328  Q 3647 1150 3233 529  Q 2819 -91 2034 -91  Q 1250 -91 836 529  Q 422 1150 422 2328  Q 422 3509 836 4129  Q 1250 4750 2034 4750  z \" transform=\"scale(0.015625)\" />\n        <path id=\"DejaVuSans-2e\" d=\"M 684 794  L 1344 794  L 1344 0  L 684 0  L 684 794  z \" transform=\"scale(0.015625)\" />\n        <path id=\"DejaVuSans-31\" d=\"M 794 531  L 1825 531  L 1825 4091  L 703 3866  L 703 4441  L 1819 4666  L 2450 4666  L 2450 531  L 3481 531  L 3481 0  L 794 0  L 794 531  z \" transform=\"scale(0.015625)\" />\n        <path id=\"DejaVuSans-39\" d=\"M 703 97  L 703 672  Q 941 559 1184 500  Q 1428 441 1663 441  Q 2288 441 2617 861  Q 2947 1281 2994 2138  Q 2813 1869 2534 1725  Q 2256 1581 1919 1581  Q 1219 1581 811 2004  Q 403 2428 403 3163  Q 403 3881 828 4315  Q 1253 4750 1959 4750  Q 2769 4750 3195 4129  Q 3622 3509 3622 2328  Q 3622 1225 3098 567  Q 2575 -91 1691 -91  Q 1453 -91 1209 -44  Q 966 3 703 97  z M 1959 2075  Q 2384 2075 2632 2365  Q 2881 2656 2881 3163  Q 2881 3666 2632 3958  Q 2384 4250 1959 4250  Q 1534 4250 1286 3958  Q 1038 3666 1038 3163  Q 1038 2656 1286 2365  Q 1534 2075 1959 2075  z \" transform=\"scale(0.015625)\" />\n       </defs>\n       <use xlink:href=\"#DejaVuSans-30\" />\n       <use xlink:href=\"#DejaVuSans-2e\" x=\"63.623047\" />\n       <use xlink:href=\"#DejaVuSans-30\" x=\"95.410156\" />\n       <use xlink:href=\"#DejaVuSans-31\" x=\"159.033203\" />\n       <use xlink:href=\"#DejaVuSans-31\" x=\"222.65625\" />\n       <use xlink:href=\"#DejaVuSans-39\" x=\"286.279297\" />\n      </g>\n     </g>\n    </g>\n    <g id=\"xtick_2\">\n     <g id=\"line2d_2\">\n      <g>\n       <use xlink:href=\"#m8869518aee\" x=\"172.900625\" y=\"62.247142\" style=\"stroke: #000000; stroke-width: 0.3\" />\n      </g>\n     </g>\n     <g id=\"text_2\">\n      \n      <g style=\"fill: #444443\" transform=\"translate(158.904375 79.825892) scale(0.08 -0.08)\">\n       <defs>\n        <path id=\"DejaVuSans-37\" d=\"M 525 4666  L 3525 4666  L 3525 4397  L 1831 0  L 1172 0  L 2766 4134  L 525 4134  L 525 4666  z \" transform=\"scale(0.015625)\" />\n        <path id=\"DejaVuSans-34\" d=\"M 2419 4116  L 825 1625  L 2419 1625  L 2419 4116  z M 2253 4666  L 3047 4666  L 3047 1625  L 3713 1625  L 3713 1100  L 3047 1100  L 3047 0  L 2419 0  L 2419 1100  L 313 1100  L 313 1709  L 2253 4666  z \" transform=\"scale(0.015625)\" />\n       </defs>\n       <use xlink:href=\"#DejaVuSans-30\" />\n       <use xlink:href=\"#DejaVuSans-2e\" x=\"63.623047\" />\n       <use xlink:href=\"#DejaVuSans-39\" x=\"95.410156\" />\n       <use xlink:href=\"#DejaVuSans-39\" x=\"159.033203\" />\n       <use xlink:href=\"#DejaVuSans-37\" x=\"222.65625\" />\n       <use xlink:href=\"#DejaVuSans-34\" x=\"286.279297\" />\n      </g>\n     </g>\n    </g>\n    <g id=\"text_3\">\n     \n     <g style=\"fill: #444443\" transform=\"translate(81.079531 93.088079) scale(0.1 -0.1)\">\n      <defs>\n       <path id=\"DejaVuSans-46\" d=\"M 628 4666  L 3309 4666  L 3309 4134  L 1259 4134  L 1259 2759  L 3109 2759  L 3109 2228  L 1259 2228  L 1259 0  L 628 0  L 628 4666  z \" transform=\"scale(0.015625)\" />\n       <path id=\"DejaVuSans-65\" d=\"M 3597 1894  L 3597 1613  L 953 1613  Q 991 1019 1311 708  Q 1631 397 2203 397  Q 2534 397 2845 478  Q 3156 559 3463 722  L 3463 178  Q 3153 47 2828 -22  Q 2503 -91 2169 -91  Q 1331 -91 842 396  Q 353 884 353 1716  Q 353 2575 817 3079  Q 1281 3584 2069 3584  Q 2775 3584 3186 3129  Q 3597 2675 3597 1894  z M 3022 2063  Q 3016 2534 2758 2815  Q 2500 3097 2075 3097  Q 1594 3097 1305 2825  Q 1016 2553 972 2059  L 3022 2063  z \" transform=\"scale(0.015625)\" />\n       <path id=\"DejaVuSans-61\" d=\"M 2194 1759  Q 1497 1759 1228 1600  Q 959 1441 959 1056  Q 959 750 1161 570  Q 1363 391 1709 391  Q 2188 391 2477 730  Q 2766 1069 2766 1631  L 2766 1759  L 2194 1759  z M 3341 1997  L 3341 0  L 2766 0  L 2766 531  Q 2569 213 2275 61  Q 1981 -91 1556 -91  Q 1019 -91 701 211  Q 384 513 384 1019  Q 384 1609 779 1909  Q 1175 2209 1959 2209  L 2766 2209  L 2766 2266  Q 2766 2663 2505 2880  Q 2244 3097 1772 3097  Q 1472 3097 1187 3025  Q 903 2953 641 2809  L 641 3341  Q 956 3463 1253 3523  Q 1550 3584 1831 3584  Q 2591 3584 2966 3190  Q 3341 2797 3341 1997  z \" transform=\"scale(0.015625)\" />\n       <path id=\"DejaVuSans-74\" d=\"M 1172 4494  L 1172 3500  L 2356 3500  L 2356 3053  L 1172 3053  L 1172 1153  Q 1172 725 1289 603  Q 1406 481 1766 481  L 2356 481  L 2356 0  L 1766 0  Q 1100 0 847 248  Q 594 497 594 1153  L 594 3053  L 172 3053  L 172 3500  L 594 3500  L 594 4494  L 1172 4494  z \" transform=\"scale(0.015625)\" />\n       <path id=\"DejaVuSans-75\" d=\"M 544 1381  L 544 3500  L 1119 3500  L 1119 1403  Q 1119 906 1312 657  Q 1506 409 1894 409  Q 2359 409 2629 706  Q 2900 1003 2900 1516  L 2900 3500  L 3475 3500  L 3475 0  L 2900 0  L 2900 538  Q 2691 219 2414 64  Q 2138 -91 1772 -91  Q 1169 -91 856 284  Q 544 659 544 1381  z M 1991 3584  L 1991 3584  z \" transform=\"scale(0.015625)\" />\n       <path id=\"DejaVuSans-72\" d=\"M 2631 2963  Q 2534 3019 2420 3045  Q 2306 3072 2169 3072  Q 1681 3072 1420 2755  Q 1159 2438 1159 1844  L 1159 0  L 581 0  L 581 3500  L 1159 3500  L 1159 2956  Q 1341 3275 1631 3429  Q 1922 3584 2338 3584  Q 2397 3584 2469 3576  Q 2541 3569 2628 3553  L 2631 2963  z \" transform=\"scale(0.015625)\" />\n      </defs>\n      <use xlink:href=\"#DejaVuSans-46\" />\n      <use xlink:href=\"#DejaVuSans-65\" x=\"52.019531\" />\n      <use xlink:href=\"#DejaVuSans-61\" x=\"113.542969\" />\n      <use xlink:href=\"#DejaVuSans-74\" x=\"174.822266\" />\n      <use xlink:href=\"#DejaVuSans-75\" x=\"214.03125\" />\n      <use xlink:href=\"#DejaVuSans-72\" x=\"277.410156\" />\n      <use xlink:href=\"#DejaVuSans-65\" x=\"316.273438\" />\n      <use xlink:href=\"#DejaVuSans-34\" x=\"377.796875\" />\n     </g>\n    </g>\n   </g>\n   <g id=\"matplotlib.axis_2\">\n    <g id=\"ytick_1\">\n     <g id=\"line2d_3\">\n      <defs>\n       <path id=\"m6471829a0b\" d=\"M 0 0  L -3.5 0  \" style=\"stroke: #000000; stroke-width: 0.3\" />\n      </defs>\n      <g>\n       <use xlink:href=\"#m6471829a0b\" x=\"33.400625\" y=\"62.247142\" style=\"stroke: #000000; stroke-width: 0.3\" />\n      </g>\n     </g>\n     <g id=\"text_4\">\n      \n      <g style=\"fill: #444443\" transform=\"translate(13.678125 65.286517) scale(0.08 -0.08)\">\n       <use xlink:href=\"#DejaVuSans-30\" />\n       <use xlink:href=\"#DejaVuSans-2e\" x=\"63.623047\" />\n       <use xlink:href=\"#DejaVuSans-30\" x=\"95.410156\" />\n      </g>\n     </g>\n    </g>\n    <g id=\"ytick_2\">\n     <g id=\"line2d_4\">\n      <g>\n       <use xlink:href=\"#m6471829a0b\" x=\"33.400625\" y=\"32.643258\" style=\"stroke: #000000; stroke-width: 0.3\" />\n      </g>\n     </g>\n     <g id=\"text_5\">\n      \n      <g style=\"fill: #444443\" transform=\"translate(13.678125 35.682633) scale(0.08 -0.08)\">\n       <defs>\n        <path id=\"DejaVuSans-35\" d=\"M 691 4666  L 3169 4666  L 3169 4134  L 1269 4134  L 1269 2991  Q 1406 3038 1543 3061  Q 1681 3084 1819 3084  Q 2600 3084 3056 2656  Q 3513 2228 3513 1497  Q 3513 744 3044 326  Q 2575 -91 1722 -91  Q 1428 -91 1123 -41  Q 819 9 494 109  L 494 744  Q 775 591 1075 516  Q 1375 441 1709 441  Q 2250 441 2565 725  Q 2881 1009 2881 1497  Q 2881 1984 2565 2268  Q 2250 2553 1709 2553  Q 1456 2553 1204 2497  Q 953 2441 691 2322  L 691 4666  z \" transform=\"scale(0.015625)\" />\n       </defs>\n       <use xlink:href=\"#DejaVuSans-30\" />\n       <use xlink:href=\"#DejaVuSans-2e\" x=\"63.623047\" />\n       <use xlink:href=\"#DejaVuSans-35\" x=\"95.410156\" />\n      </g>\n     </g>\n    </g>\n    <g id=\"ytick_3\">\n     <g id=\"line2d_5\">\n      <g>\n       <use xlink:href=\"#m6471829a0b\" x=\"33.400625\" y=\"3.039375\" style=\"stroke: #000000; stroke-width: 0.3\" />\n      </g>\n     </g>\n     <g id=\"text_6\">\n      \n      <g style=\"fill: #444443\" transform=\"translate(13.678125 6.07875) scale(0.08 -0.08)\">\n       <use xlink:href=\"#DejaVuSans-31\" />\n       <use xlink:href=\"#DejaVuSans-2e\" x=\"63.623047\" />\n       <use xlink:href=\"#DejaVuSans-30\" x=\"95.410156\" />\n      </g>\n     </g>\n    </g>\n    <g id=\"text_7\">\n     \n     <g style=\"fill: #444443\" transform=\"translate(7.598438 46.958267) rotate(-90) scale(0.1 -0.1)\">\n      <defs>\n       <path id=\"DejaVuSans-67\" d=\"M 2906 1791  Q 2906 2416 2648 2759  Q 2391 3103 1925 3103  Q 1463 3103 1205 2759  Q 947 2416 947 1791  Q 947 1169 1205 825  Q 1463 481 1925 481  Q 2391 481 2648 825  Q 2906 1169 2906 1791  z M 3481 434  Q 3481 -459 3084 -895  Q 2688 -1331 1869 -1331  Q 1566 -1331 1297 -1286  Q 1028 -1241 775 -1147  L 775 -588  Q 1028 -725 1275 -790  Q 1522 -856 1778 -856  Q 2344 -856 2625 -561  Q 2906 -266 2906 331  L 2906 616  Q 2728 306 2450 153  Q 2172 0 1784 0  Q 1141 0 747 490  Q 353 981 353 1791  Q 353 2603 747 3093  Q 1141 3584 1784 3584  Q 2172 3584 2450 3431  Q 2728 3278 2906 2969  L 2906 3500  L 3481 3500  L 3481 434  z \" transform=\"scale(0.015625)\" />\n      </defs>\n      <use xlink:href=\"#DejaVuSans-74\" />\n      <use xlink:href=\"#DejaVuSans-61\" x=\"39.208984\" />\n      <use xlink:href=\"#DejaVuSans-72\" x=\"100.488281\" />\n      <use xlink:href=\"#DejaVuSans-67\" x=\"139.851562\" />\n      <use xlink:href=\"#DejaVuSans-65\" x=\"203.328125\" />\n      <use xlink:href=\"#DejaVuSans-74\" x=\"264.851562\" />\n     </g>\n    </g>\n   </g>\n   <g id=\"line2d_6\">\n    <path d=\"M 33.400625 32.317941  L 166.04849 32.317941  \" clip-path=\"url(#p8fae9eec81)\" style=\"fill: none; stroke-dasharray: 3.7,1.6; stroke-dashoffset: 0; stroke: #444443\" />\n   </g>\n   <g id=\"line2d_7\">\n    <path d=\"M 166.04849 62.247142  L 166.04849 1.263142  \" clip-path=\"url(#p8fae9eec81)\" style=\"fill: none; stroke-dasharray: 3.7,1.6; stroke-dashoffset: 0; stroke: #444443\" />\n   </g>\n   <g id=\"line2d_8\">\n    <path d=\"M 166.04849 55.668501  L 172.900625 55.668501  \" clip-path=\"url(#p8fae9eec81)\" style=\"fill: none; stroke-dasharray: 3.7,1.6; stroke-dashoffset: 0; stroke: #444443\" />\n   </g>\n   <g id=\"patch_4\">\n    <path d=\"M 33.400625 62.247142  L 33.400625 1.263142  \" style=\"fill: none; stroke: #444443; stroke-width: 0.3; stroke-linejoin: miter; stroke-linecap: square\" />\n   </g>\n   <g id=\"patch_5\">\n    <path d=\"M 33.400625 62.247142  L 172.900625 62.247142  \" style=\"fill: none; stroke: #444443; stroke-width: 0.3; stroke-linejoin: miter; stroke-linecap: square\" />\n   </g>\n  </g>\n </g>\n <defs>\n  <clipPath id=\"p8fae9eec81\">\n   <rect x=\"33.400625\" y=\"1.263142\" width=\"139.5\" height=\"60.984\" />\n  </clipPath>\n </defs>\n</svg></g>\n\n<g id=\"edge7\" class=\"edge\">\n<title>node0-&gt;node1</title>\n<path fill=\"none\" stroke=\"#444443\" stroke-width=\"0.3\" d=\"M148.04,-87.4C160.16,-90.21 172.73,-93.11 184.82,-95.91\" />\n<polygon fill=\"#444443\" stroke=\"#444443\" stroke-width=\"0.3\" points=\"184.68,-97.32 188.9,-96.86 185.32,-94.59 184.68,-97.32\" />\n<text text-anchor=\"start\" x=\"156\" y=\"-97.3\" font-family=\"DejaVu Sans\" font-size=\"14.00\" fill=\"#444443\"> &#160;&#8804;</text>\n</g>\n\n<g id=\"edge8\" class=\"edge\">\n<title>node0-&gt;leaf2</title>\n<path fill=\"none\" stroke=\"#444443\" stroke-width=\"0.3\" d=\"M148.04,-54C174.82,-47.95 203.74,-41.42 224.98,-36.62\" />\n<polygon fill=\"#444443\" stroke=\"#444443\" stroke-width=\"0.3\" points=\"225.53,-37.93 229.12,-35.68 224.91,-35.2 225.53,-37.93\" />\n<text text-anchor=\"start\" x=\"156\" y=\"-55.3\" font-family=\"DejaVu Sans\" font-size=\"14.00\" fill=\"#444443\"> &#160;&gt;</text>\n</g>\n\n</g>\n</svg>"
          },
          "metadata": {},
          "execution_count": 65
        }
      ]
    },
    {
      "cell_type": "code",
      "source": [],
      "metadata": {
        "id": "frIgnc6pbBeX"
      },
      "execution_count": null,
      "outputs": []
    }
  ]
}