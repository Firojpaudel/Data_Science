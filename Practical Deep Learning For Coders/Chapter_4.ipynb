{
  "nbformat": 4,
  "nbformat_minor": 0,
  "metadata": {
    "colab": {
      "provenance": [],
      "authorship_tag": "ABX9TyNYVCW5RhFEEYk6oha9jujB",
      "include_colab_link": true
    },
    "kernelspec": {
      "name": "python3",
      "display_name": "Python 3"
    },
    "language_info": {
      "name": "python"
    }
  },
  "cells": [
    {
      "cell_type": "markdown",
      "metadata": {
        "id": "view-in-github",
        "colab_type": "text"
      },
      "source": [
        "<a href=\"https://colab.research.google.com/github/Firojpaudel/Machine-Learning-Notes/blob/main/Practical%20Deep%20Learning%20For%20Coders/Chapter_4.ipynb\" target=\"_parent\"><img src=\"https://colab.research.google.com/assets/colab-badge.svg\" alt=\"Open In Colab\"/></a>"
      ]
    },
    {
      "cell_type": "markdown",
      "source": [
        "## Training a Digit Classifier"
      ],
      "metadata": {
        "id": "Gab4QLczJMyj"
      }
    },
    {
      "cell_type": "code",
      "source": [
        "#First initializing the notebook\n",
        "%reload_ext autoreload\n",
        "%autoreload 2\n",
        "%matplotlib inline"
      ],
      "metadata": {
        "id": "-LC0cV5JKjJp"
      },
      "execution_count": 194,
      "outputs": []
    },
    {
      "cell_type": "code",
      "source": [
        "!pip install -Uqq fastbook\n",
        "import fastbook\n",
        "fastbook.setup_book()"
      ],
      "metadata": {
        "id": "B99rJS3-K8VD"
      },
      "execution_count": 195,
      "outputs": []
    },
    {
      "cell_type": "code",
      "source": [
        "from fastai.vision.all import *\n",
        "from fastbook import *\n",
        "matplotlib.rc(\"image\", cmap=\"Greys\")"
      ],
      "metadata": {
        "id": "ULkEpbTWMO8s"
      },
      "execution_count": 196,
      "outputs": []
    },
    {
      "cell_type": "markdown",
      "source": [
        "### **Lesson 1:** How images are represented in a computer:"
      ],
      "metadata": {
        "id": "UcsxnU8YJaUz"
      }
    },
    {
      "cell_type": "markdown",
      "source": [
        "For the initial learning, I'm just creating a model that classifies any image as *3 or 7*. Before that, downloading a sample of MNIST that contains images of just these digits"
      ],
      "metadata": {
        "id": "fK5ZmDN-KBE8"
      }
    },
    {
      "cell_type": "code",
      "source": [
        "path = untar_data(URLs.MNIST_SAMPLE)"
      ],
      "metadata": {
        "id": "pCw6qVKiMBfk"
      },
      "execution_count": 197,
      "outputs": []
    },
    {
      "cell_type": "code",
      "source": [
        "## Checking the directory\n",
        "path.ls()"
      ],
      "metadata": {
        "colab": {
          "base_uri": "https://localhost:8080/"
        },
        "id": "3T116VSEMIjd",
        "outputId": "ea2a6387-85f8-4600-dd6a-b6556826f983"
      },
      "execution_count": 198,
      "outputs": [
        {
          "output_type": "execute_result",
          "data": {
            "text/plain": [
              "(#3) [Path('/root/.fastai/data/mnist_sample/valid'),Path('/root/.fastai/data/mnist_sample/train'),Path('/root/.fastai/data/mnist_sample/labels.csv')]"
            ]
          },
          "metadata": {},
          "execution_count": 198
        }
      ]
    },
    {
      "cell_type": "code",
      "source": [
        "## Checking what's inside the training set\n",
        "(path/'train').ls()"
      ],
      "metadata": {
        "colab": {
          "base_uri": "https://localhost:8080/"
        },
        "id": "8UbhnRajMoUr",
        "outputId": "d11ab19c-69da-4715-f1bb-122a53c258e7"
      },
      "execution_count": 199,
      "outputs": [
        {
          "output_type": "execute_result",
          "data": {
            "text/plain": [
              "(#2) [Path('/root/.fastai/data/mnist_sample/train/7'),Path('/root/.fastai/data/mnist_sample/train/3')]"
            ]
          },
          "metadata": {},
          "execution_count": 199
        }
      ]
    },
    {
      "cell_type": "markdown",
      "source": [
        "So, yeah! there are images of 7 and 3 in the training set. The images inside these folders are labelled accordingly."
      ],
      "metadata": {
        "id": "cFt0Xp64M3N9"
      }
    },
    {
      "cell_type": "code",
      "source": [
        "## Taking a look in these folders to check the images.\n",
        "three = (path/'train'/'3').ls().sorted()\n",
        "seven= (path/'train'/'7').ls().sorted()"
      ],
      "metadata": {
        "id": "8Ie3OEynNIMk"
      },
      "execution_count": 200,
      "outputs": []
    },
    {
      "cell_type": "code",
      "source": [
        "three"
      ],
      "metadata": {
        "colab": {
          "base_uri": "https://localhost:8080/"
        },
        "id": "31BAYZ4wNbGU",
        "outputId": "e50e912d-0582-4102-c602-9cff57014f9a"
      },
      "execution_count": 201,
      "outputs": [
        {
          "output_type": "execute_result",
          "data": {
            "text/plain": [
              "(#6131) [Path('/root/.fastai/data/mnist_sample/train/3/10.png'),Path('/root/.fastai/data/mnist_sample/train/3/10000.png'),Path('/root/.fastai/data/mnist_sample/train/3/10011.png'),Path('/root/.fastai/data/mnist_sample/train/3/10031.png'),Path('/root/.fastai/data/mnist_sample/train/3/10034.png'),Path('/root/.fastai/data/mnist_sample/train/3/10042.png'),Path('/root/.fastai/data/mnist_sample/train/3/10052.png'),Path('/root/.fastai/data/mnist_sample/train/3/1007.png'),Path('/root/.fastai/data/mnist_sample/train/3/10074.png'),Path('/root/.fastai/data/mnist_sample/train/3/10091.png')...]"
            ]
          },
          "metadata": {},
          "execution_count": 201
        }
      ]
    },
    {
      "cell_type": "code",
      "source": [
        "seven"
      ],
      "metadata": {
        "colab": {
          "base_uri": "https://localhost:8080/"
        },
        "id": "icgyMIMiNsFq",
        "outputId": "85948d65-7acf-4616-9c6c-e8db7293242e"
      },
      "execution_count": 202,
      "outputs": [
        {
          "output_type": "execute_result",
          "data": {
            "text/plain": [
              "(#6265) [Path('/root/.fastai/data/mnist_sample/train/7/10002.png'),Path('/root/.fastai/data/mnist_sample/train/7/1001.png'),Path('/root/.fastai/data/mnist_sample/train/7/10014.png'),Path('/root/.fastai/data/mnist_sample/train/7/10019.png'),Path('/root/.fastai/data/mnist_sample/train/7/10039.png'),Path('/root/.fastai/data/mnist_sample/train/7/10046.png'),Path('/root/.fastai/data/mnist_sample/train/7/10050.png'),Path('/root/.fastai/data/mnist_sample/train/7/10063.png'),Path('/root/.fastai/data/mnist_sample/train/7/10077.png'),Path('/root/.fastai/data/mnist_sample/train/7/10086.png')...]"
            ]
          },
          "metadata": {},
          "execution_count": 202
        }
      ]
    },
    {
      "cell_type": "markdown",
      "source": [
        "They are all full of .png files.\n"
      ],
      "metadata": {
        "id": "42t_z8kQNtgz"
      }
    },
    {
      "cell_type": "code",
      "source": [
        "## Taking a look at one of them\n",
        "img3 = Image.open(three[0])\n",
        "img3"
      ],
      "metadata": {
        "colab": {
          "base_uri": "https://localhost:8080/",
          "height": 45
        },
        "id": "0OB9Yu9mN3a9",
        "outputId": "da19d051-a0ee-4aa8-f70e-832d91e4a5ff"
      },
      "execution_count": 203,
      "outputs": [
        {
          "output_type": "execute_result",
          "data": {
            "text/plain": [
              "<PIL.PngImagePlugin.PngImageFile image mode=L size=28x28>"
            ],
            "image/png": "[encoded data removed]",
            "image/jpeg": "[encoded data removed]"
          },
          "metadata": {},
          "execution_count": 203
        }
      ]
    },
    {
      "cell_type": "markdown",
      "source": [
        "In computer as we know all data is represented as a number, we have to convert the images into an array or tensor before model training."
      ],
      "metadata": {
        "id": "evzSxUO0OINt"
      }
    },
    {
      "cell_type": "code",
      "source": [
        "## Converting to array\n",
        "array(img3)\n",
        "\n",
        "'''\n",
        "This is similar to doing:\n",
        "array = np.array(img3)\n",
        "array\n",
        "\n",
        "'''"
      ],
      "metadata": {
        "colab": {
          "base_uri": "https://localhost:8080/",
          "height": 36
        },
        "id": "Ig8m-HGtO1oc",
        "outputId": "649b96a0-a3ed-4a3e-a4ec-b58d68c482f6"
      },
      "execution_count": 204,
      "outputs": [
        {
          "output_type": "execute_result",
          "data": {
            "text/plain": [
              "'\\nThis is similar to doing:\\narray = np.array(img3)\\narray\\n\\n'"
            ],
            "application/vnd.google.colaboratory.intrinsic+json": {
              "type": "string"
            }
          },
          "metadata": {},
          "execution_count": 204
        }
      ]
    },
    {
      "cell_type": "code",
      "source": [
        "#@ Side learnings:\n",
        "#@ If we wish to see the array from particular index in both rows and columns, we could do like:\n",
        "np.array(img3)[4:10,4:10]"
      ],
      "metadata": {
        "colab": {
          "base_uri": "https://localhost:8080/"
        },
        "id": "5Y9iqiw8PTZj",
        "outputId": "f96dc6c8-4a7c-4123-9ccf-55c1ed6a15ee"
      },
      "execution_count": 205,
      "outputs": [
        {
          "output_type": "execute_result",
          "data": {
            "text/plain": [
              "array([[0, 0, 0, 0, 0, 0],\n",
              "       [0, 0, 0, 0, 0, 0],\n",
              "       [0, 0, 0, 0, 0, 0],\n",
              "       [0, 0, 0, 0, 0, 0],\n",
              "       [0, 0, 0, 0, 0, 0],\n",
              "       [0, 0, 0, 0, 0, 0]], dtype=uint8)"
            ]
          },
          "metadata": {},
          "execution_count": 205
        }
      ]
    },
    {
      "cell_type": "code",
      "source": [
        "## Now, in pytorch, it's kinda different. We have tensors instead of arrays\n",
        "tensor(img3)[4:10, 4:10]"
      ],
      "metadata": {
        "colab": {
          "base_uri": "https://localhost:8080/"
        },
        "id": "qMMoSaVKQHVF",
        "outputId": "1a62b64b-6272-4a83-d462-d3edbc6a932d"
      },
      "execution_count": 206,
      "outputs": [
        {
          "output_type": "execute_result",
          "data": {
            "text/plain": [
              "tensor([[0, 0, 0, 0, 0, 0],\n",
              "        [0, 0, 0, 0, 0, 0],\n",
              "        [0, 0, 0, 0, 0, 0],\n",
              "        [0, 0, 0, 0, 0, 0],\n",
              "        [0, 0, 0, 0, 0, 0],\n",
              "        [0, 0, 0, 0, 0, 0]], dtype=torch.uint8)"
            ]
          },
          "metadata": {},
          "execution_count": 206
        }
      ]
    },
    {
      "cell_type": "markdown",
      "source": [
        "Also, we could do sth like color coding in pandas."
      ],
      "metadata": {
        "id": "cxzcgcEoQvJM"
      }
    },
    {
      "cell_type": "code",
      "source": [
        "#@ Visualizing in pandas\n",
        "df= pd.DataFrame(tensor(img3)[3:13, 9:19])\n",
        "df.style.set_properties(**{'font-size':'6pt'}).background_gradient('Greys')"
      ],
      "metadata": {
        "colab": {
          "base_uri": "https://localhost:8080/",
          "height": 363
        },
        "id": "uFE-kt4vRGlc",
        "outputId": "0b69c26e-f7ea-4d0c-e168-daa46a479c9a"
      },
      "execution_count": 207,
      "outputs": [
        {
          "output_type": "execute_result",
          "data": {
            "text/plain": [
              "<pandas.io.formats.style.Styler at 0x78086d9ae320>"
            ],
            "text/html": [
              "<style type=\"text/css\">\n",
              "#T_04450_row0_col0, #T_04450_row0_col1, #T_04450_row0_col2, #T_04450_row0_col3, #T_04450_row0_col4, #T_04450_row0_col5, #T_04450_row0_col6, #T_04450_row0_col7, #T_04450_row0_col8, #T_04450_row0_col9, #T_04450_row1_col0, #T_04450_row1_col1, #T_04450_row1_col9, #T_04450_row2_col0, #T_04450_row2_col9, #T_04450_row3_col0, #T_04450_row4_col0, #T_04450_row4_col1, #T_04450_row5_col0, #T_04450_row5_col1, #T_04450_row5_col2, #T_04450_row6_col0, #T_04450_row6_col1, #T_04450_row6_col2, #T_04450_row7_col0, #T_04450_row7_col1, #T_04450_row7_col2, #T_04450_row7_col3, #T_04450_row8_col0, #T_04450_row8_col1, #T_04450_row8_col2, #T_04450_row9_col0 {\n",
              "  font-size: 6pt;\n",
              "  background-color: #ffffff;\n",
              "  color: #000000;\n",
              "}\n",
              "#T_04450_row1_col2, #T_04450_row3_col1 {\n",
              "  font-size: 6pt;\n",
              "  background-color: #e7e7e7;\n",
              "  color: #000000;\n",
              "}\n",
              "#T_04450_row1_col3, #T_04450_row1_col6, #T_04450_row1_col7 {\n",
              "  font-size: 6pt;\n",
              "  background-color: #a2a2a2;\n",
              "  color: #f1f1f1;\n",
              "}\n",
              "#T_04450_row1_col4 {\n",
              "  font-size: 6pt;\n",
              "  background-color: #292929;\n",
              "  color: #f1f1f1;\n",
              "}\n",
              "#T_04450_row1_col5, #T_04450_row8_col9 {\n",
              "  font-size: 6pt;\n",
              "  background-color: #6b6b6b;\n",
              "  color: #f1f1f1;\n",
              "}\n",
              "#T_04450_row1_col8 {\n",
              "  font-size: 6pt;\n",
              "  background-color: #fcfcfc;\n",
              "  color: #000000;\n",
              "}\n",
              "#T_04450_row2_col1, #T_04450_row2_col2, #T_04450_row2_col3, #T_04450_row2_col4, #T_04450_row2_col5, #T_04450_row2_col6, #T_04450_row2_col7, #T_04450_row3_col3, #T_04450_row3_col4, #T_04450_row3_col5, #T_04450_row3_col6, #T_04450_row3_col7, #T_04450_row4_col4, #T_04450_row4_col6, #T_04450_row4_col7, #T_04450_row4_col8, #T_04450_row5_col4, #T_04450_row5_col6, #T_04450_row5_col7, #T_04450_row5_col8, #T_04450_row6_col5, #T_04450_row6_col6, #T_04450_row6_col7, #T_04450_row6_col8, #T_04450_row7_col6, #T_04450_row7_col7, #T_04450_row7_col8, #T_04450_row7_col9, #T_04450_row8_col6, #T_04450_row8_col7, #T_04450_row8_col8, #T_04450_row9_col4, #T_04450_row9_col5, #T_04450_row9_col6, #T_04450_row9_col7, #T_04450_row9_col8 {\n",
              "  font-size: 6pt;\n",
              "  background-color: #000000;\n",
              "  color: #f1f1f1;\n",
              "}\n",
              "#T_04450_row2_col8 {\n",
              "  font-size: 6pt;\n",
              "  background-color: #d7d7d7;\n",
              "  color: #000000;\n",
              "}\n",
              "#T_04450_row3_col2, #T_04450_row4_col3 {\n",
              "  font-size: 6pt;\n",
              "  background-color: #0c0c0c;\n",
              "  color: #f1f1f1;\n",
              "}\n",
              "#T_04450_row3_col8 {\n",
              "  font-size: 6pt;\n",
              "  background-color: #131313;\n",
              "  color: #f1f1f1;\n",
              "}\n",
              "#T_04450_row3_col9 {\n",
              "  font-size: 6pt;\n",
              "  background-color: #b3b3b3;\n",
              "  color: #000000;\n",
              "}\n",
              "#T_04450_row4_col2 {\n",
              "  font-size: 6pt;\n",
              "  background-color: #ababab;\n",
              "  color: #000000;\n",
              "}\n",
              "#T_04450_row4_col5 {\n",
              "  font-size: 6pt;\n",
              "  background-color: #232323;\n",
              "  color: #f1f1f1;\n",
              "}\n",
              "#T_04450_row4_col9, #T_04450_row5_col5 {\n",
              "  font-size: 6pt;\n",
              "  background-color: #363636;\n",
              "  color: #f1f1f1;\n",
              "}\n",
              "#T_04450_row5_col3 {\n",
              "  font-size: 6pt;\n",
              "  background-color: #3a3a3a;\n",
              "  color: #f1f1f1;\n",
              "}\n",
              "#T_04450_row5_col9, #T_04450_row9_col9 {\n",
              "  font-size: 6pt;\n",
              "  background-color: #e3e3e3;\n",
              "  color: #000000;\n",
              "}\n",
              "#T_04450_row6_col3 {\n",
              "  font-size: 6pt;\n",
              "  background-color: #c7c7c7;\n",
              "  color: #000000;\n",
              "}\n",
              "#T_04450_row6_col4 {\n",
              "  font-size: 6pt;\n",
              "  background-color: #3c3c3c;\n",
              "  color: #f1f1f1;\n",
              "}\n",
              "#T_04450_row6_col9 {\n",
              "  font-size: 6pt;\n",
              "  background-color: #dbdbdb;\n",
              "  color: #000000;\n",
              "}\n",
              "#T_04450_row7_col4 {\n",
              "  font-size: 6pt;\n",
              "  background-color: #f4f4f4;\n",
              "  color: #000000;\n",
              "}\n",
              "#T_04450_row7_col5 {\n",
              "  font-size: 6pt;\n",
              "  background-color: #383838;\n",
              "  color: #f1f1f1;\n",
              "}\n",
              "#T_04450_row8_col3 {\n",
              "  font-size: 6pt;\n",
              "  background-color: #c1c1c1;\n",
              "  color: #000000;\n",
              "}\n",
              "#T_04450_row8_col4 {\n",
              "  font-size: 6pt;\n",
              "  background-color: #8a8a8a;\n",
              "  color: #f1f1f1;\n",
              "}\n",
              "#T_04450_row8_col5 {\n",
              "  font-size: 6pt;\n",
              "  background-color: #010101;\n",
              "  color: #f1f1f1;\n",
              "}\n",
              "#T_04450_row9_col1 {\n",
              "  font-size: 6pt;\n",
              "  background-color: #b9b9b9;\n",
              "  color: #000000;\n",
              "}\n",
              "#T_04450_row9_col2 {\n",
              "  font-size: 6pt;\n",
              "  background-color: #222222;\n",
              "  color: #f1f1f1;\n",
              "}\n",
              "#T_04450_row9_col3 {\n",
              "  font-size: 6pt;\n",
              "  background-color: #050505;\n",
              "  color: #f1f1f1;\n",
              "}\n",
              "</style>\n",
              "<table id=\"T_04450\" class=\"dataframe\">\n",
              "  <thead>\n",
              "    <tr>\n",
              "      <th class=\"blank level0\" >&nbsp;</th>\n",
              "      <th id=\"T_04450_level0_col0\" class=\"col_heading level0 col0\" >0</th>\n",
              "      <th id=\"T_04450_level0_col1\" class=\"col_heading level0 col1\" >1</th>\n",
              "      <th id=\"T_04450_level0_col2\" class=\"col_heading level0 col2\" >2</th>\n",
              "      <th id=\"T_04450_level0_col3\" class=\"col_heading level0 col3\" >3</th>\n",
              "      <th id=\"T_04450_level0_col4\" class=\"col_heading level0 col4\" >4</th>\n",
              "      <th id=\"T_04450_level0_col5\" class=\"col_heading level0 col5\" >5</th>\n",
              "      <th id=\"T_04450_level0_col6\" class=\"col_heading level0 col6\" >6</th>\n",
              "      <th id=\"T_04450_level0_col7\" class=\"col_heading level0 col7\" >7</th>\n",
              "      <th id=\"T_04450_level0_col8\" class=\"col_heading level0 col8\" >8</th>\n",
              "      <th id=\"T_04450_level0_col9\" class=\"col_heading level0 col9\" >9</th>\n",
              "    </tr>\n",
              "  </thead>\n",
              "  <tbody>\n",
              "    <tr>\n",
              "      <th id=\"T_04450_level0_row0\" class=\"row_heading level0 row0\" >0</th>\n",
              "      <td id=\"T_04450_row0_col0\" class=\"data row0 col0\" >0</td>\n",
              "      <td id=\"T_04450_row0_col1\" class=\"data row0 col1\" >0</td>\n",
              "      <td id=\"T_04450_row0_col2\" class=\"data row0 col2\" >0</td>\n",
              "      <td id=\"T_04450_row0_col3\" class=\"data row0 col3\" >0</td>\n",
              "      <td id=\"T_04450_row0_col4\" class=\"data row0 col4\" >0</td>\n",
              "      <td id=\"T_04450_row0_col5\" class=\"data row0 col5\" >0</td>\n",
              "      <td id=\"T_04450_row0_col6\" class=\"data row0 col6\" >0</td>\n",
              "      <td id=\"T_04450_row0_col7\" class=\"data row0 col7\" >0</td>\n",
              "      <td id=\"T_04450_row0_col8\" class=\"data row0 col8\" >0</td>\n",
              "      <td id=\"T_04450_row0_col9\" class=\"data row0 col9\" >0</td>\n",
              "    </tr>\n",
              "    <tr>\n",
              "      <th id=\"T_04450_level0_row1\" class=\"row_heading level0 row1\" >1</th>\n",
              "      <td id=\"T_04450_row1_col0\" class=\"data row1 col0\" >0</td>\n",
              "      <td id=\"T_04450_row1_col1\" class=\"data row1 col1\" >0</td>\n",
              "      <td id=\"T_04450_row1_col2\" class=\"data row1 col2\" >42</td>\n",
              "      <td id=\"T_04450_row1_col3\" class=\"data row1 col3\" >118</td>\n",
              "      <td id=\"T_04450_row1_col4\" class=\"data row1 col4\" >219</td>\n",
              "      <td id=\"T_04450_row1_col5\" class=\"data row1 col5\" >166</td>\n",
              "      <td id=\"T_04450_row1_col6\" class=\"data row1 col6\" >118</td>\n",
              "      <td id=\"T_04450_row1_col7\" class=\"data row1 col7\" >118</td>\n",
              "      <td id=\"T_04450_row1_col8\" class=\"data row1 col8\" >6</td>\n",
              "      <td id=\"T_04450_row1_col9\" class=\"data row1 col9\" >0</td>\n",
              "    </tr>\n",
              "    <tr>\n",
              "      <th id=\"T_04450_level0_row2\" class=\"row_heading level0 row2\" >2</th>\n",
              "      <td id=\"T_04450_row2_col0\" class=\"data row2 col0\" >0</td>\n",
              "      <td id=\"T_04450_row2_col1\" class=\"data row2 col1\" >103</td>\n",
              "      <td id=\"T_04450_row2_col2\" class=\"data row2 col2\" >242</td>\n",
              "      <td id=\"T_04450_row2_col3\" class=\"data row2 col3\" >254</td>\n",
              "      <td id=\"T_04450_row2_col4\" class=\"data row2 col4\" >254</td>\n",
              "      <td id=\"T_04450_row2_col5\" class=\"data row2 col5\" >254</td>\n",
              "      <td id=\"T_04450_row2_col6\" class=\"data row2 col6\" >254</td>\n",
              "      <td id=\"T_04450_row2_col7\" class=\"data row2 col7\" >254</td>\n",
              "      <td id=\"T_04450_row2_col8\" class=\"data row2 col8\" >66</td>\n",
              "      <td id=\"T_04450_row2_col9\" class=\"data row2 col9\" >0</td>\n",
              "    </tr>\n",
              "    <tr>\n",
              "      <th id=\"T_04450_level0_row3\" class=\"row_heading level0 row3\" >3</th>\n",
              "      <td id=\"T_04450_row3_col0\" class=\"data row3 col0\" >0</td>\n",
              "      <td id=\"T_04450_row3_col1\" class=\"data row3 col1\" >18</td>\n",
              "      <td id=\"T_04450_row3_col2\" class=\"data row3 col2\" >232</td>\n",
              "      <td id=\"T_04450_row3_col3\" class=\"data row3 col3\" >254</td>\n",
              "      <td id=\"T_04450_row3_col4\" class=\"data row3 col4\" >254</td>\n",
              "      <td id=\"T_04450_row3_col5\" class=\"data row3 col5\" >254</td>\n",
              "      <td id=\"T_04450_row3_col6\" class=\"data row3 col6\" >254</td>\n",
              "      <td id=\"T_04450_row3_col7\" class=\"data row3 col7\" >254</td>\n",
              "      <td id=\"T_04450_row3_col8\" class=\"data row3 col8\" >238</td>\n",
              "      <td id=\"T_04450_row3_col9\" class=\"data row3 col9\" >70</td>\n",
              "    </tr>\n",
              "    <tr>\n",
              "      <th id=\"T_04450_level0_row4\" class=\"row_heading level0 row4\" >4</th>\n",
              "      <td id=\"T_04450_row4_col0\" class=\"data row4 col0\" >0</td>\n",
              "      <td id=\"T_04450_row4_col1\" class=\"data row4 col1\" >0</td>\n",
              "      <td id=\"T_04450_row4_col2\" class=\"data row4 col2\" >104</td>\n",
              "      <td id=\"T_04450_row4_col3\" class=\"data row4 col3\" >244</td>\n",
              "      <td id=\"T_04450_row4_col4\" class=\"data row4 col4\" >254</td>\n",
              "      <td id=\"T_04450_row4_col5\" class=\"data row4 col5\" >224</td>\n",
              "      <td id=\"T_04450_row4_col6\" class=\"data row4 col6\" >254</td>\n",
              "      <td id=\"T_04450_row4_col7\" class=\"data row4 col7\" >254</td>\n",
              "      <td id=\"T_04450_row4_col8\" class=\"data row4 col8\" >254</td>\n",
              "      <td id=\"T_04450_row4_col9\" class=\"data row4 col9\" >141</td>\n",
              "    </tr>\n",
              "    <tr>\n",
              "      <th id=\"T_04450_level0_row5\" class=\"row_heading level0 row5\" >5</th>\n",
              "      <td id=\"T_04450_row5_col0\" class=\"data row5 col0\" >0</td>\n",
              "      <td id=\"T_04450_row5_col1\" class=\"data row5 col1\" >0</td>\n",
              "      <td id=\"T_04450_row5_col2\" class=\"data row5 col2\" >0</td>\n",
              "      <td id=\"T_04450_row5_col3\" class=\"data row5 col3\" >207</td>\n",
              "      <td id=\"T_04450_row5_col4\" class=\"data row5 col4\" >254</td>\n",
              "      <td id=\"T_04450_row5_col5\" class=\"data row5 col5\" >210</td>\n",
              "      <td id=\"T_04450_row5_col6\" class=\"data row5 col6\" >254</td>\n",
              "      <td id=\"T_04450_row5_col7\" class=\"data row5 col7\" >254</td>\n",
              "      <td id=\"T_04450_row5_col8\" class=\"data row5 col8\" >254</td>\n",
              "      <td id=\"T_04450_row5_col9\" class=\"data row5 col9\" >34</td>\n",
              "    </tr>\n",
              "    <tr>\n",
              "      <th id=\"T_04450_level0_row6\" class=\"row_heading level0 row6\" >6</th>\n",
              "      <td id=\"T_04450_row6_col0\" class=\"data row6 col0\" >0</td>\n",
              "      <td id=\"T_04450_row6_col1\" class=\"data row6 col1\" >0</td>\n",
              "      <td id=\"T_04450_row6_col2\" class=\"data row6 col2\" >0</td>\n",
              "      <td id=\"T_04450_row6_col3\" class=\"data row6 col3\" >84</td>\n",
              "      <td id=\"T_04450_row6_col4\" class=\"data row6 col4\" >206</td>\n",
              "      <td id=\"T_04450_row6_col5\" class=\"data row6 col5\" >254</td>\n",
              "      <td id=\"T_04450_row6_col6\" class=\"data row6 col6\" >254</td>\n",
              "      <td id=\"T_04450_row6_col7\" class=\"data row6 col7\" >254</td>\n",
              "      <td id=\"T_04450_row6_col8\" class=\"data row6 col8\" >254</td>\n",
              "      <td id=\"T_04450_row6_col9\" class=\"data row6 col9\" >41</td>\n",
              "    </tr>\n",
              "    <tr>\n",
              "      <th id=\"T_04450_level0_row7\" class=\"row_heading level0 row7\" >7</th>\n",
              "      <td id=\"T_04450_row7_col0\" class=\"data row7 col0\" >0</td>\n",
              "      <td id=\"T_04450_row7_col1\" class=\"data row7 col1\" >0</td>\n",
              "      <td id=\"T_04450_row7_col2\" class=\"data row7 col2\" >0</td>\n",
              "      <td id=\"T_04450_row7_col3\" class=\"data row7 col3\" >0</td>\n",
              "      <td id=\"T_04450_row7_col4\" class=\"data row7 col4\" >24</td>\n",
              "      <td id=\"T_04450_row7_col5\" class=\"data row7 col5\" >209</td>\n",
              "      <td id=\"T_04450_row7_col6\" class=\"data row7 col6\" >254</td>\n",
              "      <td id=\"T_04450_row7_col7\" class=\"data row7 col7\" >254</td>\n",
              "      <td id=\"T_04450_row7_col8\" class=\"data row7 col8\" >254</td>\n",
              "      <td id=\"T_04450_row7_col9\" class=\"data row7 col9\" >171</td>\n",
              "    </tr>\n",
              "    <tr>\n",
              "      <th id=\"T_04450_level0_row8\" class=\"row_heading level0 row8\" >8</th>\n",
              "      <td id=\"T_04450_row8_col0\" class=\"data row8 col0\" >0</td>\n",
              "      <td id=\"T_04450_row8_col1\" class=\"data row8 col1\" >0</td>\n",
              "      <td id=\"T_04450_row8_col2\" class=\"data row8 col2\" >0</td>\n",
              "      <td id=\"T_04450_row8_col3\" class=\"data row8 col3\" >91</td>\n",
              "      <td id=\"T_04450_row8_col4\" class=\"data row8 col4\" >137</td>\n",
              "      <td id=\"T_04450_row8_col5\" class=\"data row8 col5\" >253</td>\n",
              "      <td id=\"T_04450_row8_col6\" class=\"data row8 col6\" >254</td>\n",
              "      <td id=\"T_04450_row8_col7\" class=\"data row8 col7\" >254</td>\n",
              "      <td id=\"T_04450_row8_col8\" class=\"data row8 col8\" >254</td>\n",
              "      <td id=\"T_04450_row8_col9\" class=\"data row8 col9\" >112</td>\n",
              "    </tr>\n",
              "    <tr>\n",
              "      <th id=\"T_04450_level0_row9\" class=\"row_heading level0 row9\" >9</th>\n",
              "      <td id=\"T_04450_row9_col0\" class=\"data row9 col0\" >0</td>\n",
              "      <td id=\"T_04450_row9_col1\" class=\"data row9 col1\" >40</td>\n",
              "      <td id=\"T_04450_row9_col2\" class=\"data row9 col2\" >214</td>\n",
              "      <td id=\"T_04450_row9_col3\" class=\"data row9 col3\" >250</td>\n",
              "      <td id=\"T_04450_row9_col4\" class=\"data row9 col4\" >254</td>\n",
              "      <td id=\"T_04450_row9_col5\" class=\"data row9 col5\" >254</td>\n",
              "      <td id=\"T_04450_row9_col6\" class=\"data row9 col6\" >254</td>\n",
              "      <td id=\"T_04450_row9_col7\" class=\"data row9 col7\" >254</td>\n",
              "      <td id=\"T_04450_row9_col8\" class=\"data row9 col8\" >254</td>\n",
              "      <td id=\"T_04450_row9_col9\" class=\"data row9 col9\" >34</td>\n",
              "    </tr>\n",
              "  </tbody>\n",
              "</table>\n"
            ]
          },
          "metadata": {},
          "execution_count": 207
        }
      ]
    },
    {
      "cell_type": "markdown",
      "source": [
        "### **First Try:** Pixel Similarity\n"
      ],
      "metadata": {
        "id": "pVFya2ZkS4n6"
      }
    },
    {
      "cell_type": "markdown",
      "source": [
        "* Step1: Would be to get the average of pixel values for each of our two groups"
      ],
      "metadata": {
        "id": "1QVF3xehRYh-"
      }
    },
    {
      "cell_type": "code",
      "source": [
        "#@ Creating tensors containg a single image\n",
        "seven_tensors = [tensor(Image.open(o)) for o in seven]\n",
        "three_tensors = [tensor(Image.open(o)) for o in three]\n",
        "\n",
        "#@ Checking the lengths of these created tensors\n",
        "len(three_tensors), len(seven_tensors)"
      ],
      "metadata": {
        "id": "gMq-lxRlTkXt",
        "outputId": "0349436b-edef-47c2-988e-512cbe6db153",
        "colab": {
          "base_uri": "https://localhost:8080/"
        }
      },
      "execution_count": 208,
      "outputs": [
        {
          "output_type": "execute_result",
          "data": {
            "text/plain": [
              "(6131, 6265)"
            ]
          },
          "metadata": {},
          "execution_count": 208
        }
      ]
    },
    {
      "cell_type": "code",
      "source": [
        "#! Just checking the tensor:\n",
        "show_image(three_tensors[4])"
      ],
      "metadata": {
        "id": "l2UYh6nnUQIO",
        "outputId": "111e2fb5-3dcf-4d67-b32e-f3a8eec0ccf1",
        "colab": {
          "base_uri": "https://localhost:8080/",
          "height": 132
        }
      },
      "execution_count": 209,
      "outputs": [
        {
          "output_type": "execute_result",
          "data": {
            "text/plain": [
              "<Axes: >"
            ]
          },
          "metadata": {},
          "execution_count": 209
        },
        {
          "output_type": "display_data",
          "data": {
            "text/plain": [
              "<Figure size 100x100 with 1 Axes>"
            ],
            "image/png": "[encoded data removed]"
          },
          "metadata": {}
        }
      ]
    },
    {
      "cell_type": "code",
      "source": [
        "#@ Now stacking\n",
        "stacked_sevens = torch.stack(seven_tensors).float()/255\n",
        "stacked_threes = torch.stack(three_tensors).float()/255\n",
        "\n",
        "#@ Checking the Shape\n",
        "stacked_threes.shape"
      ],
      "metadata": {
        "id": "2sCKWVkbWpIo",
        "outputId": "84f1b496-5070-4afc-a103-49294595dcc6",
        "colab": {
          "base_uri": "https://localhost:8080/"
        }
      },
      "execution_count": 210,
      "outputs": [
        {
          "output_type": "execute_result",
          "data": {
            "text/plain": [
              "torch.Size([6131, 28, 28])"
            ]
          },
          "metadata": {},
          "execution_count": 210
        }
      ]
    },
    {
      "cell_type": "markdown",
      "source": [
        "**The meaning of this output:**<br>\n",
        "It's trying to say that we have 6,131 images, each of size 28×28 pixels.\n"
      ],
      "metadata": {
        "id": "m3MhGbluZW4c"
      }
    },
    {
      "cell_type": "markdown",
      "source": [
        "<details>\n",
        "  <summary>\n",
        "    <b>The reason behind converting to float and dividing by 255</b>\n",
        "  </summary>\n",
        "- Some of the operations in PyTorch, such as taking means, require us to cast our integer types into float types. So, converting the stacks to float as well.<br>\n",
        "- When converted to float, the pixel values are also expected to be in between 0 to 1. So dividing by 255.  \n",
        "</details>"
      ],
      "metadata": {
        "id": "3LKm1qwUXfT3"
      }
    },
    {
      "cell_type": "code",
      "source": [
        "#@ Gettig the rank of the tensor\n",
        "len(stacked_threes.shape)\n",
        "\n",
        "'''\n",
        "This is similar to doing:\n",
        "stacked_threes.shape\n",
        "'''\n"
      ],
      "metadata": {
        "id": "fQvNV_SwhooD",
        "outputId": "c2e40ba1-eafc-49e8-c442-5a33b72834e2",
        "colab": {
          "base_uri": "https://localhost:8080/",
          "height": 36
        }
      },
      "execution_count": 211,
      "outputs": [
        {
          "output_type": "execute_result",
          "data": {
            "text/plain": [
              "'\\nThis is similar to doing:\\nstacked_threes.shape\\n'"
            ],
            "application/vnd.google.colaboratory.intrinsic+json": {
              "type": "string"
            }
          },
          "metadata": {},
          "execution_count": 211
        }
      ]
    },
    {
      "cell_type": "markdown",
      "source": [
        "##### **Ranks defined**:\n",
        "\\- Here's what the rank of tensors mean:\n",
        "  - **Rank 0**= Scalar, *real number or constant*\n",
        "  - **Rank 1**= Vector, *can be represente as list of values*\n",
        "  - **Rank 2**= Matrix, *to represent 2D data structures*\n",
        "  - **Rank 3**= 3D Tensor, *cube or stack of matrices*\n",
        "  - **Rank 4**= 4D Tensor, *to represent images in batch form: where the 4th dimension reprents the batch size*\n",
        "\n",
        "\n"
      ],
      "metadata": {
        "id": "vIdyTTHTiB0O"
      }
    },
    {
      "cell_type": "code",
      "source": [
        "#@ Now computing the mean and looking at what we should be expecting for peak image for 3 (for classification)\n",
        "mean3 = stacked_threes.mean(0)\n",
        "show_image(mean3)"
      ],
      "metadata": {
        "id": "DKzESfbbjUwG",
        "outputId": "f83e7626-9bdb-411c-bf04-4635f0c2666b",
        "colab": {
          "base_uri": "https://localhost:8080/",
          "height": 132
        }
      },
      "execution_count": 212,
      "outputs": [
        {
          "output_type": "execute_result",
          "data": {
            "text/plain": [
              "<Axes: >"
            ]
          },
          "metadata": {},
          "execution_count": 212
        },
        {
          "output_type": "display_data",
          "data": {
            "text/plain": [
              "<Figure size 100x100 with 1 Axes>"
            ],
            "image/png": "[encoded data removed]"
          },
          "metadata": {}
        }
      ]
    },
    {
      "cell_type": "code",
      "source": [
        "#@ Doing the same for seven\n",
        "mean7 = stacked_sevens.mean(0)\n",
        "show_image(mean7)"
      ],
      "metadata": {
        "id": "DMKMlLW0kgnn",
        "outputId": "817f39c8-b5db-4a34-ccfc-a21b6fa3e222",
        "colab": {
          "base_uri": "https://localhost:8080/",
          "height": 132
        }
      },
      "execution_count": 213,
      "outputs": [
        {
          "output_type": "execute_result",
          "data": {
            "text/plain": [
              "<Axes: >"
            ]
          },
          "metadata": {},
          "execution_count": 213
        },
        {
          "output_type": "display_data",
          "data": {
            "text/plain": [
              "<Figure size 100x100 with 1 Axes>"
            ],
            "image/png": "[encoded data removed]"
          },
          "metadata": {}
        }
      ]
    },
    {
      "cell_type": "code",
      "source": [
        "## Just picking an arbitary 3s or 7s and seeing how far are we from the \"ideal digits\"\n",
        "arb_3 = stacked_threes[1]\n",
        "show_image(arb_3)\n",
        "\n",
        "arb_7 = stacked_sevens[1]\n",
        "show_image(arb_7)"
      ],
      "metadata": {
        "id": "--0N6CYWk8L_",
        "outputId": "b73308b7-d986-4577-f04c-210bf46470dc",
        "colab": {
          "base_uri": "https://localhost:8080/",
          "height": 229
        }
      },
      "execution_count": 214,
      "outputs": [
        {
          "output_type": "execute_result",
          "data": {
            "text/plain": [
              "<Axes: >"
            ]
          },
          "metadata": {},
          "execution_count": 214
        },
        {
          "output_type": "display_data",
          "data": {
            "text/plain": [
              "<Figure size 100x100 with 1 Axes>"
            ],
            "image/png": "[encoded data removed]"
          },
          "metadata": {}
        },
        {
          "output_type": "display_data",
          "data": {
            "text/plain": [
              "<Figure size 100x100 with 1 Axes>"
            ],
            "image/png": "[encoded data removed]"
          },
          "metadata": {}
        }
      ]
    },
    {
      "cell_type": "markdown",
      "source": [
        "<details>\n",
        "  <summary>\n",
        "    Measuring the distances:\n",
        "  </summary>\n",
        "- Take the mean of absolute value of differences. Also called as <i>L1 Norm</i> <br>\n",
        "- Then find the Root Mean Sqaured Error (RMSE). Also called as <i>L2 Norm</i>\n",
        "</details>"
      ],
      "metadata": {
        "id": "gNNjTNZzlmTN"
      }
    },
    {
      "cell_type": "code",
      "source": [
        "#@ Implementing the above information\n",
        "\n",
        "dist_3_abs = (arb_3 - mean3).abs().mean() #L1 Norm\n",
        "dist_3_sqr = ((arb_3 - mean3)**2).mean().sqrt() #L2 Norm\n",
        "dist_3_abs, dist_3_sqr"
      ],
      "metadata": {
        "id": "GQjHhZc9m1m9",
        "outputId": "96ca890f-d335-461d-fd75-64e1944705ad",
        "colab": {
          "base_uri": "https://localhost:8080/"
        }
      },
      "execution_count": 215,
      "outputs": [
        {
          "output_type": "execute_result",
          "data": {
            "text/plain": [
              "(tensor(0.1114), tensor(0.2021))"
            ]
          },
          "metadata": {},
          "execution_count": 215
        }
      ]
    },
    {
      "cell_type": "code",
      "source": [
        "dist_7_abs= (arb_7 - mean7).abs().mean()\n",
        "dist_7_sqr= ((arb_7 - mean7)**2).mean().sqrt()\n",
        "dist_7_abs, dist_7_sqr"
      ],
      "metadata": {
        "id": "MAPOX73nnfGV",
        "outputId": "bdb7527a-2c97-4493-e29a-4fc6993fda51",
        "colab": {
          "base_uri": "https://localhost:8080/"
        }
      },
      "execution_count": 216,
      "outputs": [
        {
          "output_type": "execute_result",
          "data": {
            "text/plain": [
              "(tensor(0.1304), tensor(0.2585))"
            ]
          },
          "metadata": {},
          "execution_count": 216
        }
      ]
    },
    {
      "cell_type": "code",
      "source": [
        "#@ Now implementing the same using loss functions.\n",
        "import torch.nn.functional as F\n",
        "\n",
        "F.l1_loss(arb_3.float(), mean3), F.mse_loss(arb_3, mean3).sqrt() #l1 stands for L1 Norm and mse is just L2 Norm"
      ],
      "metadata": {
        "id": "2mtwSBX7oKNU",
        "outputId": "670826bd-9b4c-4b7b-b3d5-2f9d052b26a7",
        "colab": {
          "base_uri": "https://localhost:8080/"
        }
      },
      "execution_count": 217,
      "outputs": [
        {
          "output_type": "execute_result",
          "data": {
            "text/plain": [
              "(tensor(0.1114), tensor(0.2021))"
            ]
          },
          "metadata": {},
          "execution_count": 217
        }
      ]
    },
    {
      "cell_type": "markdown",
      "source": [
        "##### Numpy Arrays and PyTorch tensors"
      ],
      "metadata": {
        "id": "Z77D01FQonPF"
      }
    },
    {
      "cell_type": "markdown",
      "source": [
        "So, this part it's just a revision about what Numpy arrays and tensors are."
      ],
      "metadata": {
        "id": "kelUWdR7SZO0"
      }
    },
    {
      "cell_type": "markdown",
      "source": [
        "<details>\n",
        "  <summary>\n",
        "    <b>Why use Numpy arrays?</b>\n",
        "  </summary>\n",
        "Since they are built using optimized C code, Numpy arrays are way way faster than the python code.\n",
        "</details>\n",
        "\n",
        "<details>\n",
        "  <summary>\n",
        "    <b>Why PyTorch Tensors?</b>\n",
        "  </summary>\n",
        "They do the same task as Numpy array. Just more specified with GPUs.\n",
        "</details>"
      ],
      "metadata": {
        "id": "-djP9FaAStQM"
      }
    },
    {
      "cell_type": "code",
      "source": [
        "#@ Showing in code:\n",
        "data = [[1, 2, 3], [4, 5, 6], [7, 8, 9]]\n",
        "tnsr = torch.tensor(data)\n",
        "ary= np.array(data)"
      ],
      "metadata": {
        "id": "TiNhFZqwTksm"
      },
      "execution_count": 218,
      "outputs": []
    },
    {
      "cell_type": "code",
      "source": [
        "tnsr"
      ],
      "metadata": {
        "id": "7tGV2MvHVnpe",
        "outputId": "ac4a4039-4a4c-493f-844a-c4eb276d075c",
        "colab": {
          "base_uri": "https://localhost:8080/"
        }
      },
      "execution_count": 219,
      "outputs": [
        {
          "output_type": "execute_result",
          "data": {
            "text/plain": [
              "tensor([[1, 2, 3],\n",
              "        [4, 5, 6],\n",
              "        [7, 8, 9]])"
            ]
          },
          "metadata": {},
          "execution_count": 219
        }
      ]
    },
    {
      "cell_type": "code",
      "source": [
        "ary"
      ],
      "metadata": {
        "id": "lI56tN6nVpUV",
        "outputId": "ec997a17-e604-4a98-8492-7b1bcc79e992",
        "colab": {
          "base_uri": "https://localhost:8080/"
        }
      },
      "execution_count": 220,
      "outputs": [
        {
          "output_type": "execute_result",
          "data": {
            "text/plain": [
              "array([[1, 2, 3],\n",
              "       [4, 5, 6],\n",
              "       [7, 8, 9]])"
            ]
          },
          "metadata": {},
          "execution_count": 220
        }
      ]
    },
    {
      "cell_type": "code",
      "source": [
        "#@ Performing just basic drills:\n",
        "print(f\"Tensor's shape: {tnsr.shape}\")\n",
        "print(f\"Accessing 1st row of tensor: {tnsr[0]}\")\n",
        "print(f\"Accessing 2st column of tensor: {tnsr[:, 1]}\")"
      ],
      "metadata": {
        "id": "XJRf0GcLVqiF",
        "outputId": "73ce7c80-fc1e-4345-b03d-9bb51bc9369b",
        "colab": {
          "base_uri": "https://localhost:8080/"
        }
      },
      "execution_count": 221,
      "outputs": [
        {
          "output_type": "stream",
          "name": "stdout",
          "text": [
            "Tensor's shape: torch.Size([3, 3])\n",
            "Accessing 1st row of tensor: tensor([1, 2, 3])\n",
            "Accessing 2st column of tensor: tensor([2, 5, 8])\n"
          ]
        }
      ]
    },
    {
      "cell_type": "code",
      "source": [
        "#!! More drillings further:\n",
        "print(\"Sliced displays:\")\n",
        "print(f\"Accessing the 1st row 2nd column value: {tnsr[0, 1]}\")\n",
        "print(f\"Accessing the 1st rows 2nd and 3rd column values: {tnsr[0, 1:3]}\") #Here, for a:b the output would be only till a to b-1"
      ],
      "metadata": {
        "id": "Eh03QgjHWa7H",
        "outputId": "ec55ea1a-41a5-4c22-ebae-46e3d73bb24c",
        "colab": {
          "base_uri": "https://localhost:8080/"
        }
      },
      "execution_count": 222,
      "outputs": [
        {
          "output_type": "stream",
          "name": "stdout",
          "text": [
            "Sliced displays:\n",
            "Accessing the 1st row 2nd column value: 2\n",
            "Accessing the 1st rows 2nd and 3rd column values: tensor([2, 3])\n"
          ]
        }
      ]
    },
    {
      "cell_type": "code",
      "source": [
        "#@ Just lookig at the tensor type\n",
        "print(f\"The tensor's type: {tnsr.type()}\")\n",
        "print(f\"The datatype of this tensor: {tnsr.dtype}\")"
      ],
      "metadata": {
        "id": "0Uuf7RDKXDTd",
        "outputId": "e7579300-09d0-4d81-ebbd-2bbe35571df9",
        "colab": {
          "base_uri": "https://localhost:8080/"
        }
      },
      "execution_count": 223,
      "outputs": [
        {
          "output_type": "stream",
          "name": "stdout",
          "text": [
            "The tensor's type: torch.LongTensor\n",
            "The datatype of this tensor: torch.int64\n"
          ]
        }
      ]
    },
    {
      "cell_type": "code",
      "source": [
        "##@ Comuptations in tensor is simple:\n",
        "print(f\"The mean of tensor is: {tnsr.float().mean()}\") #As mentioned earlier, means can't be calculated until and unless its float datatype\n",
        "print(f\"Multiplying the tensor with 0.01 we get: {tnsr*0.01}\")"
      ],
      "metadata": {
        "id": "oY7BUkQUX-FN",
        "outputId": "6431b4df-0ecd-44de-c7c1-57cdefda0f96",
        "colab": {
          "base_uri": "https://localhost:8080/"
        }
      },
      "execution_count": 224,
      "outputs": [
        {
          "output_type": "stream",
          "name": "stdout",
          "text": [
            "The mean of tensor is: 5.0\n",
            "Multiplying the tensor with 0.01 we get: tensor([[0.0100, 0.0200, 0.0300],\n",
            "        [0.0400, 0.0500, 0.0600],\n",
            "        [0.0700, 0.0800, 0.0900]])\n"
          ]
        }
      ]
    },
    {
      "cell_type": "markdown",
      "source": [
        "##### Computing Metrics Using Broadcasting"
      ],
      "metadata": {
        "id": "jz5HMZMtY0t7"
      }
    },
    {
      "cell_type": "code",
      "source": [
        "## Creating the valid set tensors\n",
        "valid_3_tnsr = torch.stack([tensor(Image.open(o)) for o in (path/'valid'/'3').ls()])\n",
        "valid_3_tnsr = valid_3_tnsr.float()/255\n",
        "valid_7_tnsr = torch.stack([tensor(Image.open(o)) for o in (path/'valid'/'7').ls()])\n",
        "valid_7_tnsr = valid_7_tnsr.float()/255\n",
        "\n",
        "#@ Checking their shapes\n",
        "print(f\"Shape of valid 3s: {valid_3_tnsr.shape}\")\n",
        "print(f\"Shape of valid 7s: {valid_7_tnsr.shape}\")"
      ],
      "metadata": {
        "id": "oJENjjTPZVOQ",
        "outputId": "94a77135-d024-47a7-ef63-35554ea6e8d4",
        "colab": {
          "base_uri": "https://localhost:8080/"
        }
      },
      "execution_count": 225,
      "outputs": [
        {
          "output_type": "stream",
          "name": "stdout",
          "text": [
            "Shape of valid 3s: torch.Size([1010, 28, 28])\n",
            "Shape of valid 7s: torch.Size([1028, 28, 28])\n"
          ]
        }
      ]
    },
    {
      "cell_type": "code",
      "source": [
        "## Function for calculating MAE:\n",
        "def mnist_distance(a, b):\n",
        "    return (a-b).abs().mean((-1, -2)) #!! Tells PyTorch that we want to take the mean ranging over values indexed by last two axes of tensor.\n",
        "\n",
        "mnist_distance(arb_3, mean3)"
      ],
      "metadata": {
        "id": "1he3HKqEcIKL",
        "outputId": "81e11360-022c-473a-f88c-a3daf196de1a",
        "colab": {
          "base_uri": "https://localhost:8080/"
        }
      },
      "execution_count": 226,
      "outputs": [
        {
          "output_type": "execute_result",
          "data": {
            "text/plain": [
              "tensor(0.1114)"
            ]
          },
          "metadata": {},
          "execution_count": 226
        }
      ]
    },
    {
      "cell_type": "code",
      "source": [
        "#@ Implementing MAE on the valid sets:\n",
        "valid_3_dist = mnist_distance(valid_3_tnsr, mean3)\n",
        "valid_3_dist, valid_3_dist.shape"
      ],
      "metadata": {
        "id": "i0UjP77ZexlU",
        "outputId": "9f7822cb-0253-40cc-c54a-eee4d80cd5ae",
        "colab": {
          "base_uri": "https://localhost:8080/"
        }
      },
      "execution_count": 227,
      "outputs": [
        {
          "output_type": "execute_result",
          "data": {
            "text/plain": [
              "(tensor([0.1232, 0.1455, 0.1219,  ..., 0.1616, 0.1262, 0.1210]),\n",
              " torch.Size([1010]))"
            ]
          },
          "metadata": {},
          "execution_count": 227
        }
      ]
    },
    {
      "cell_type": "markdown",
      "source": [
        "<details>\n",
        "  <summary>\n",
        "    <b>The concept of broadcasting </b>\n",
        "  </summary>\n",
        "Broadcasting is a powerful feature in PyTorch that allows you to perform operations on tensors of different shapes without explicitly reshaping them. Here's a breakdown of how it works:<br>\n",
        "When we perform an operation between two tensors of different ranks (dimensions), PyTorch automatically expands the smaller tensor to match the shape of the larger tensor. <i>This process is called broadcasting</i>. It simplifies tensor operations and makes the code more concise.\n",
        "</details>"
      ],
      "metadata": {
        "id": "tDPAXb4vfXhz"
      }
    },
    {
      "cell_type": "code",
      "source": [
        "#@ Simple example to illustrate broadcasting:\n",
        "\n",
        "##! Performing calculations in normal operations:\n",
        "a = torch.tensor([10., 6, -4]) #Tensor of shape 3\n",
        "b = torch.tensor([2., 8, 7])   #Tensor of shape 3\n",
        "print(\"The normal operation a+b:\", a + b)\n",
        "\n",
        "##! Changing the shape of tensor a:\n",
        "a= torch.tensor(1)\n",
        "print(\"After changing the shape of tensor a: \", a.ndim)\n",
        "print(\"We got the rank of a to be scalar\")\n",
        "print(\"Checking the rank of unchanged tensor b: \", b.ndim)\n",
        "print(\"And b is of rank 1 which is vector.\")"
      ],
      "metadata": {
        "id": "-RpUHacMg4Gz",
        "outputId": "16c11069-97cd-46ca-aceb-fc822bdd68eb",
        "colab": {
          "base_uri": "https://localhost:8080/"
        }
      },
      "execution_count": 228,
      "outputs": [
        {
          "output_type": "stream",
          "name": "stdout",
          "text": [
            "The normal operation a+b: tensor([12., 14.,  3.])\n",
            "After changing the shape of tensor a:  0\n",
            "We got the rank of a to be scalar\n",
            "Checking the rank of unchanged tensor b:  1\n",
            "And b is of rank 1 which is vector.\n"
          ]
        }
      ]
    },
    {
      "cell_type": "markdown",
      "source": [
        "So theoritically, we should not be able to perform operations between scalars and vectors. **But that's where broadcasting kicks in.**"
      ],
      "metadata": {
        "id": "aakq-ShgjIWg"
      }
    },
    {
      "cell_type": "code",
      "source": [
        "## Seeing broadcasting in action:\n",
        "res = a+b #Broadcasting in the backend of PyTorch\n",
        "print(\"So adding two gives:\",res)"
      ],
      "metadata": {
        "id": "UrWkttSKjc2N",
        "outputId": "3f043d5b-3837-4fa2-e935-e598554fb9e3",
        "colab": {
          "base_uri": "https://localhost:8080/"
        }
      },
      "execution_count": 229,
      "outputs": [
        {
          "output_type": "stream",
          "name": "stdout",
          "text": [
            "So adding two gives: tensor([3., 9., 8.])\n"
          ]
        }
      ]
    },
    {
      "cell_type": "markdown",
      "source": [
        "<details>\n",
        "  <summary>\n",
        "      <b>Why is this effecient anyway? </b>\n",
        "  </summary>\n",
        "Broadcasting is efficient because PyTorch doesn't actually copy the smaller tensor multiple times. Instead, it pretends the tensor has the larger shape and performs the operation in a highly optimized manner, often in C or CUDA for GPUs. This makes tensor operations both expressive and performant.\n",
        "</details>"
      ],
      "metadata": {
        "id": "gvAAIUGbkTn-"
      }
    },
    {
      "cell_type": "code",
      "source": [
        "#@ Using this concept to figure out whether an image is 3 by using the following logic:\n",
        "def is_3(x):\n",
        "    return mnist_distance(x, mean3) < mnist_distance(x, mean7)\n",
        "\n",
        "print(is_3(arb_3), is_3(arb_3).float())\n",
        "\n",
        "print(\"The float value of 1.0 here means True\")"
      ],
      "metadata": {
        "id": "6MSQO81SpOYj",
        "outputId": "18ccb4bf-3e35-4f97-e6b8-a1b326fc469f",
        "colab": {
          "base_uri": "https://localhost:8080/"
        }
      },
      "execution_count": 230,
      "outputs": [
        {
          "output_type": "stream",
          "name": "stdout",
          "text": [
            "tensor(True) tensor(1.)\n",
            "The float value of 1.0 here means True\n"
          ]
        }
      ]
    },
    {
      "cell_type": "code",
      "source": [
        "#@ Thanks to broadcasting, we can also test it on the full validation set of 3s\n",
        "is_3(valid_3_tnsr)"
      ],
      "metadata": {
        "id": "Rn7hRzT1qRql",
        "outputId": "1d0e1816-f542-4e8c-98ef-9da2d07b1aff",
        "colab": {
          "base_uri": "https://localhost:8080/"
        }
      },
      "execution_count": 231,
      "outputs": [
        {
          "output_type": "execute_result",
          "data": {
            "text/plain": [
              "tensor([ True,  True,  True,  ..., False,  True,  True])"
            ]
          },
          "metadata": {},
          "execution_count": 231
        }
      ]
    },
    {
      "cell_type": "code",
      "source": [
        "## Now calculating accuracies\n",
        "accuracy_3= is_3(valid_3_tnsr).float().mean()\n",
        "accuracy_7= is_3(valid_7_tnsr).float().mean()\n",
        "accuracy_3, accuracy_7"
      ],
      "metadata": {
        "id": "PYuqtyOjqoyz",
        "colab": {
          "base_uri": "https://localhost:8080/"
        },
        "outputId": "624e2e42-b83e-4290-bebb-3fc52a5239bb"
      },
      "execution_count": 232,
      "outputs": [
        {
          "output_type": "execute_result",
          "data": {
            "text/plain": [
              "(tensor(0.9168), tensor(0.0146))"
            ]
          },
          "metadata": {},
          "execution_count": 232
        }
      ]
    },
    {
      "cell_type": "markdown",
      "source": [
        "So, for the function `is_3()` the `valid_3_tenr` gave the probability value closer to 1 meaning the accuracy is valid. Now testig the same for `def is_7()`"
      ],
      "metadata": {
        "id": "bYrJMsHDq-1r"
      }
    },
    {
      "cell_type": "code",
      "source": [
        "#@ Back to 7\n",
        "def is_7(x):\n",
        "    return mnist_distance(x, mean7) < mnist_distance(x, mean3)\n",
        "\n",
        "is_7(arb_7), is_7(arb_7).float()"
      ],
      "metadata": {
        "id": "MH8u6lNurYUq",
        "outputId": "962f5693-0dd3-405a-fd09-39a097095164",
        "colab": {
          "base_uri": "https://localhost:8080/"
        }
      },
      "execution_count": 233,
      "outputs": [
        {
          "output_type": "execute_result",
          "data": {
            "text/plain": [
              "(tensor(True), tensor(1.))"
            ]
          },
          "metadata": {},
          "execution_count": 233
        }
      ]
    },
    {
      "cell_type": "code",
      "source": [
        "accuracy_7s = is_7(valid_7_tnsr).float().mean()\n",
        "accuracy_7s"
      ],
      "metadata": {
        "id": "f9-W7VJGrj-s",
        "outputId": "f1223bc9-559f-4dae-921b-5a1fb942799a",
        "colab": {
          "base_uri": "https://localhost:8080/"
        }
      },
      "execution_count": 234,
      "outputs": [
        {
          "output_type": "execute_result",
          "data": {
            "text/plain": [
              "tensor(0.9854)"
            ]
          },
          "metadata": {},
          "execution_count": 234
        }
      ]
    },
    {
      "cell_type": "code",
      "source": [
        "#@ But turns out we don't need to test this way:\n",
        "#@ If we know the concept of probability, the sum total is always 1. So we could do like\n",
        "accuracy_7 = (1 - is_3(valid_7_tnsr).float()).mean()\n",
        "accuracy_7"
      ],
      "metadata": {
        "id": "KqBOlEjSr_uq",
        "outputId": "977ffa81-b05f-460e-8f55-7822b9ce2665",
        "colab": {
          "base_uri": "https://localhost:8080/"
        }
      },
      "execution_count": 235,
      "outputs": [
        {
          "output_type": "execute_result",
          "data": {
            "text/plain": [
              "tensor(0.9854)"
            ]
          },
          "metadata": {},
          "execution_count": 235
        }
      ]
    },
    {
      "cell_type": "markdown",
      "source": [
        "### **Second Try**: SGD"
      ],
      "metadata": {
        "id": "fz16o6KHZyRW"
      }
    },
    {
      "cell_type": "markdown",
      "source": [
        "Instead of trying to find the similarity between an image and an \"ideal image\", we could look at each individual pixel and come up with a set of weights for each, such that the highest weights are associated with those pixels most likely be black for a particular category."
      ],
      "metadata": {
        "id": "zs2nKxpcZ42d"
      }
    },
    {
      "cell_type": "code",
      "source": [
        "#@ First going with a simpler most basic approach:\n",
        "\n",
        "def f(x):                     #!! Initializing the function\n",
        "  return x**2\n",
        "\n",
        "#!! Calculating gradients\n",
        "xt = tensor(3.).requires_grad_()\n",
        "yt= f(xt)\n",
        "print(yt)\n",
        "yt.backward()                 #!! back prop  ---> Calculating the derivative of each layer\n",
        "xt.grad\n",
        "print(\"The value of backprop is:\",xt.grad)"
      ],
      "metadata": {
        "id": "1EclgRFV6Y8D",
        "outputId": "bd58783b-539b-4a47-bdb2-f5eaef6c9b9a",
        "colab": {
          "base_uri": "https://localhost:8080/"
        }
      },
      "execution_count": 236,
      "outputs": [
        {
          "output_type": "stream",
          "name": "stdout",
          "text": [
            "tensor(9., grad_fn=<PowBackward0>)\n",
            "The value of backprop is: tensor(6.)\n"
          ]
        }
      ]
    },
    {
      "cell_type": "markdown",
      "source": [
        "So, what we get here is the derivation with respect to xt. i.e.,\n",
        "$\\frac{\\partial y}{\\partial x} =\\frac{\\partial x^2}{\\partial x} = 2x$"
      ],
      "metadata": {
        "id": "0BDm4CCn7Aw1"
      }
    },
    {
      "cell_type": "code",
      "source": [
        "#@ Now doing the same for vector arguments in the function\n",
        "xt= tensor([1., 2., 3.], requires_grad=True)\n",
        "print(\"The vector arg xt: \",xt)\n",
        "\n",
        "\n",
        "#!! Then we add sum to our function so that the function can take vectors (rank1 tensor) and return scalar\n",
        "def f(x):\n",
        "  return (x**2).sum()\n",
        "\n",
        "yt = f(xt)\n",
        "yt\n",
        "print(yt)\n",
        "yt.backward()\n",
        "xt.grad\n",
        "print(\"The values become:\", xt.grad)"
      ],
      "metadata": {
        "id": "ik5TWrbB9nlr",
        "outputId": "242d7c0a-04aa-4c3c-be41-7cab1fbc3310",
        "colab": {
          "base_uri": "https://localhost:8080/"
        }
      },
      "execution_count": 237,
      "outputs": [
        {
          "output_type": "stream",
          "name": "stdout",
          "text": [
            "The vector arg xt:  tensor([1., 2., 3.], requires_grad=True)\n",
            "tensor(14., grad_fn=<SumBackward0>)\n",
            "The values become: tensor([2., 4., 6.])\n"
          ]
        }
      ]
    },
    {
      "cell_type": "code",
      "source": [
        "#@ An end to end SGD Example:\n",
        "time = torch.arange(0, 20).float();\n",
        "print(time)\n",
        "speed = torch.randn(20)*3 + 0.75*(time-9.5)**2 + 1\n",
        "plt.scatter(time, speed);"
      ],
      "metadata": {
        "colab": {
          "base_uri": "https://localhost:8080/",
          "height": 452
        },
        "id": "g-gBMfrC1HZf",
        "outputId": "76ccbce9-b166-4c5e-da1d-0f80a3836c9a"
      },
      "execution_count": 238,
      "outputs": [
        {
          "output_type": "stream",
          "name": "stdout",
          "text": [
            "tensor([ 0.,  1.,  2.,  3.,  4.,  5.,  6.,  7.,  8.,  9., 10., 11., 12., 13., 14., 15., 16., 17., 18., 19.])\n"
          ]
        },
        {
          "output_type": "display_data",
          "data": {
            "text/plain": [
              "<Figure size 640x480 with 1 Axes>"
            ],
            "image/png": "[encoded data removed]"
          },
          "metadata": {}
        }
      ]
    },
    {
      "cell_type": "code",
      "source": [
        "## Implementation of SGD\n",
        "def f(t, params):\n",
        "  a, b, c = params\n",
        "  return a*(t**2) + (b*t) + c\n",
        "\n",
        "def mse(preds, targets):\n",
        "  return ((preds - targets)**2).mean()"
      ],
      "metadata": {
        "id": "1OTZWmmM1cMu"
      },
      "execution_count": 239,
      "outputs": []
    },
    {
      "cell_type": "markdown",
      "source": [
        "**Step 1**: Initializing the parameters"
      ],
      "metadata": {
        "id": "EKrd4FGSAMtu"
      }
    },
    {
      "cell_type": "code",
      "source": [
        "#@ We initialize the parameters to random values and ask pyTorch to trach gradients\n",
        "\n",
        "params = torch.randn(3).requires_grad_()\n",
        "orig_params = params.clone()"
      ],
      "metadata": {
        "id": "v9tN6TLq4Bnu"
      },
      "execution_count": 240,
      "outputs": []
    },
    {
      "cell_type": "markdown",
      "source": [
        "**Step 2**: Calculating the predictions:"
      ],
      "metadata": {
        "id": "B5H4DyV84YSo"
      }
    },
    {
      "cell_type": "code",
      "source": [
        "preds = f(time, params)"
      ],
      "metadata": {
        "id": "f8dp0oiE4eQN"
      },
      "execution_count": 241,
      "outputs": []
    },
    {
      "cell_type": "code",
      "source": [
        "#!! Creating a small function to see how close our predictions are to out tragets\n",
        "\n",
        "def show_preds(preds, ax= None):\n",
        "  if ax is None:\n",
        "    ax = plt.subplots()[1]\n",
        "  ax.scatter(time, speed)\n",
        "  ax.scatter(time, to_np(preds), color='red')\n",
        "  ax.set_ylim(-300, 100)\n",
        "\n",
        "show_preds(preds)"
      ],
      "metadata": {
        "colab": {
          "base_uri": "https://localhost:8080/",
          "height": 441
        },
        "id": "j_U-yh6e4yuB",
        "outputId": "3a77bb0f-3b17-4fca-f66d-f8ea918252c3"
      },
      "execution_count": 242,
      "outputs": [
        {
          "output_type": "display_data",
          "data": {
            "text/plain": [
              "<Figure size 640x480 with 1 Axes>"
            ],
            "image/png": "[encoded data removed]"
          },
          "metadata": {}
        }
      ]
    },
    {
      "cell_type": "markdown",
      "source": [
        "And this doesnot look any close."
      ],
      "metadata": {
        "id": "v0aVlSOW5yl1"
      }
    },
    {
      "cell_type": "markdown",
      "source": [
        "**Step 3**: Calculating the Loss"
      ],
      "metadata": {
        "id": "tvvyCA705tqm"
      }
    },
    {
      "cell_type": "code",
      "source": [
        "loss = mse(preds, speed)\n",
        "loss"
      ],
      "metadata": {
        "colab": {
          "base_uri": "https://localhost:8080/"
        },
        "id": "soxLCLCZ6GPv",
        "outputId": "3ae820cb-921d-4d20-fc2e-6ad516f978be"
      },
      "execution_count": 243,
      "outputs": [
        {
          "output_type": "execute_result",
          "data": {
            "text/plain": [
              "tensor(2484.5400, grad_fn=<MeanBackward0>)"
            ]
          },
          "metadata": {},
          "execution_count": 243
        }
      ]
    },
    {
      "cell_type": "markdown",
      "source": [
        "**Step 4:** Calculating the gradients"
      ],
      "metadata": {
        "id": "DvXHAOoS6J23"
      }
    },
    {
      "cell_type": "code",
      "source": [
        "loss.backward()\n",
        "params.grad"
      ],
      "metadata": {
        "colab": {
          "base_uri": "https://localhost:8080/"
        },
        "id": "i3gWXloA6VUw",
        "outputId": "4c3fd912-9c88-4c72-8871-7cc5ae62d30e"
      },
      "execution_count": 244,
      "outputs": [
        {
          "output_type": "execute_result",
          "data": {
            "text/plain": [
              "tensor([-14409.6602,   -918.3472,    -80.4685])"
            ]
          },
          "metadata": {},
          "execution_count": 244
        }
      ]
    },
    {
      "cell_type": "code",
      "source": [
        "params.grad * 1e-5 ## Multiplying by 0.00001 which is supposed to be the learning rate"
      ],
      "metadata": {
        "colab": {
          "base_uri": "https://localhost:8080/"
        },
        "id": "WDjsgz_o6bcP",
        "outputId": "c060fa60-7093-4bbf-8181-d4969ec5158b"
      },
      "execution_count": 245,
      "outputs": [
        {
          "output_type": "execute_result",
          "data": {
            "text/plain": [
              "tensor([-0.1441, -0.0092, -0.0008])"
            ]
          },
          "metadata": {},
          "execution_count": 245
        }
      ]
    },
    {
      "cell_type": "markdown",
      "source": [
        "**Step 5**: Stepping the weights"
      ],
      "metadata": {
        "id": "G7GNO-x86gTe"
      }
    },
    {
      "cell_type": "code",
      "source": [
        "lr = 1e-5\n",
        "params.data -= lr * params.grad.data\n",
        "params.grad = None"
      ],
      "metadata": {
        "id": "dddrkB9l6yK6"
      },
      "execution_count": 246,
      "outputs": []
    },
    {
      "cell_type": "code",
      "source": [
        "#@ Checking if the loss has improved:\n",
        "preds = f(time, params)\n",
        "mse(preds, speed)\n",
        "\n",
        "show_preds(preds)"
      ],
      "metadata": {
        "colab": {
          "base_uri": "https://localhost:8080/",
          "height": 441
        },
        "id": "xMpsNzt_8GYA",
        "outputId": "dbdd9b56-9830-4a99-ab0c-db2577f00772"
      },
      "execution_count": 247,
      "outputs": [
        {
          "output_type": "display_data",
          "data": {
            "text/plain": [
              "<Figure size 640x480 with 1 Axes>"
            ],
            "image/png": "[encoded data removed]"
          },
          "metadata": {}
        }
      ]
    },
    {
      "cell_type": "markdown",
      "source": [
        "And infact it has decreased quite a bit"
      ],
      "metadata": {
        "id": "sreQgyrF8XA2"
      }
    },
    {
      "cell_type": "markdown",
      "source": [
        "**Step 6**: Repeating the process"
      ],
      "metadata": {
        "id": "qbf8g8QU8erQ"
      }
    },
    {
      "cell_type": "code",
      "source": [
        "## Defining the function that applies steps\n",
        "\n",
        "def apply_steps(params, prn= True):\n",
        "  preds = f(time, params)\n",
        "  loss = mse(preds, speed)\n",
        "  loss.backward()\n",
        "  params.data -= lr * params.grad.data\n",
        "  params.grad = None\n",
        "  if prn: print(loss.item())\n",
        "  return preds\n",
        "\n",
        "#@ Implementation of the function\n",
        "for i in range(10):\n",
        "  apply_steps(params)"
      ],
      "metadata": {
        "colab": {
          "base_uri": "https://localhost:8080/"
        },
        "id": "BJRbCzIm8uL1",
        "outputId": "31bf14eb-fcab-4b06-b8cb-251b465aa1ed"
      },
      "execution_count": 248,
      "outputs": [
        {
          "output_type": "stream",
          "name": "stdout",
          "text": [
            "988.63037109375\n",
            "705.5557861328125\n",
            "651.9866943359375\n",
            "641.8471069335938\n",
            "639.9256591796875\n",
            "639.5594482421875\n",
            "639.4874267578125\n",
            "639.470947265625\n",
            "639.4652099609375\n",
            "639.4613647460938\n"
          ]
        }
      ]
    },
    {
      "cell_type": "markdown",
      "source": [
        "The loss is now going down over the iterations."
      ],
      "metadata": {
        "id": "nZTwmGvW9zzM"
      }
    },
    {
      "cell_type": "code",
      "source": [
        "#@ Now visualizing this:\n",
        "params = orig_params.detach().requires_grad_()\n",
        "_,axs = plt.subplots(1,4,figsize=(12,3))\n",
        "for ax in axs: show_preds(apply_steps(params, False), ax)\n",
        "plt.tight_layout()"
      ],
      "metadata": {
        "colab": {
          "base_uri": "https://localhost:8080/",
          "height": 300
        },
        "id": "SxG3Rs479Shm",
        "outputId": "55f9dde3-3606-4ab4-feda-fe13b7fd8dee"
      },
      "execution_count": 249,
      "outputs": [
        {
          "output_type": "display_data",
          "data": {
            "text/plain": [
              "<Figure size 1200x300 with 4 Axes>"
            ],
            "image/png": "[encoded data removed]"
          },
          "metadata": {}
        }
      ]
    },
    {
      "cell_type": "markdown",
      "source": [
        "**Step 7**: Stopping"
      ],
      "metadata": {
        "id": "sbFDCj9zCWd9"
      }
    },
    {
      "cell_type": "markdown",
      "source": [
        "###### Summarizing Gradient Descent"
      ],
      "metadata": {
        "id": "SJjG9yZJNcj9"
      }
    },
    {
      "cell_type": "markdown",
      "source": [
        "1. Model Initialization:\n",
        "\n",
        "  - Weights can be random (training from scratch) or pretrained (transfer learning).\n",
        "  - Random weights may not yield useful outputs initially; pretrained weights may still need adjustment.\n",
        "2. Learning Process:\n",
        "\n",
        "  - Compare model outputs to target labels using a loss function.\n",
        "  - The goal is to minimize the loss value.\n",
        "3. Training Steps:\n",
        "\n",
        "  - Feed a batch of training data to the model.\n",
        "  - Compute the loss to assess prediction accuracy.\n",
        "4. Weight Adjustment:\n",
        "\n",
        "  - Use gradients (calculated via calculus or frameworks like PyTorch) to determine weight updates.\n",
        "  - Analogy: Finding the lowest point in a mountainous area by going downhill.\n",
        "5. Gradient Descent:\n",
        "\n",
        "  - Move in the direction of the steepest descent using the gradient.\n",
        "  - The learning rate controls the size of each step.\n",
        "  - Iterate until the minimum loss is reached.\n",
        "6. Application to MNIST:\n",
        "\n",
        "  - The same principles apply when training on the MNIST dataset, with a focus on defining a suitable loss function."
      ],
      "metadata": {
        "id": "tzjkaT4pQGNc"
      }
    },
    {
      "cell_type": "markdown",
      "source": [
        "### MNIST Loss Function"
      ],
      "metadata": {
        "id": "Wwa9HhJIxBNP"
      }
    },
    {
      "cell_type": "markdown",
      "source": [
        "#### Creating Training Dataset:"
      ],
      "metadata": {
        "id": "3Div_49NzkZ2"
      }
    },
    {
      "cell_type": "markdown",
      "source": [
        "Concatinating all the xs *(Images)* into a single tensor, and changing them from a list of matrices *(rank_3 tensor)* to vector *(rank_2 tensor)*.  "
      ],
      "metadata": {
        "id": "IH-HHhOhxrpp"
      }
    },
    {
      "cell_type": "code",
      "source": [
        "### We can accomplish that using the view\n",
        "train_x = torch.cat([stacked_threes, stacked_sevens]).view(-1, 28*28)  #Initializing concatenation"
      ],
      "metadata": {
        "id": "EEx9D2zty8e3"
      },
      "execution_count": 250,
      "outputs": []
    },
    {
      "cell_type": "markdown",
      "source": [
        "<details>\n",
        "    <summary><b>More on .view()</b> </summary>\n",
        "<ul>The .view() method in PyTorch chnages the shape of a tensor without changing its contents.</ul>\n",
        "<ul>Here, -1 is the special parameter to view that means <i>\"make this axis as big as necessary to fill all the data\"</i></ul>\n",
        "</details>\n"
      ],
      "metadata": {
        "id": "jKSf_GPGzbA4"
      }
    },
    {
      "cell_type": "code",
      "source": [
        "#@ Now labelling each image. Will use 1 for 3s and 0 for 7s\n",
        "\n",
        "train_y = tensor([1]*len(three) + [0]*len(seven)).unsqueeze(1)\n",
        "train_x.shape, train_y.shape"
      ],
      "metadata": {
        "colab": {
          "base_uri": "https://localhost:8080/"
        },
        "id": "c1-xRJ2e1W4R",
        "outputId": "f4678066-7fc7-4209-cb0d-439334a0b980"
      },
      "execution_count": 251,
      "outputs": [
        {
          "output_type": "execute_result",
          "data": {
            "text/plain": [
              "(torch.Size([12396, 784]), torch.Size([12396, 1]))"
            ]
          },
          "metadata": {},
          "execution_count": 251
        }
      ]
    },
    {
      "cell_type": "markdown",
      "source": [
        "A dataset in PyTorch is required to return a tuple of *(x, y)* when indexed. It can be accomplished using the ***zip*** function."
      ],
      "metadata": {
        "id": "jynl1kLN24sB"
      }
    },
    {
      "cell_type": "code",
      "source": [
        "dset = list(zip(train_x, train_y))\n",
        "x, y = dset[0]\n",
        "x.shape, y"
      ],
      "metadata": {
        "colab": {
          "base_uri": "https://localhost:8080/"
        },
        "id": "PhHZ7wY93qGg",
        "outputId": "12ae33e5-186b-42c7-82dd-2c589217cddc"
      },
      "execution_count": 252,
      "outputs": [
        {
          "output_type": "execute_result",
          "data": {
            "text/plain": [
              "(torch.Size([784]), tensor([1]))"
            ]
          },
          "metadata": {},
          "execution_count": 252
        }
      ]
    },
    {
      "cell_type": "code",
      "source": [
        "##@ Now repeating the same for validation part\n",
        "valid_x = torch.cat([valid_3_tnsr, valid_7_tnsr]).view(-1, 28*28)\n",
        "valid_y = tensor([1]*len(valid_3_tnsr) + [0]*len(valid_7_tnsr)).unsqueeze(1)\n",
        "valid_dset = list(zip(valid_x, valid_y))"
      ],
      "metadata": {
        "id": "lKxCQCCZ3xFa"
      },
      "execution_count": 253,
      "outputs": []
    },
    {
      "cell_type": "code",
      "source": [
        "##@ Now time to initialize our seven step process.\n",
        "###! But before that, we need an (initially random) weight for every pixel:\n",
        "\n",
        "def init_params(size, std= 1.0):\n",
        "  return (torch.randn(size)*std).requires_grad_()\n",
        "\n",
        "weights = init_params((28*28, 1))"
      ],
      "metadata": {
        "id": "qnaH5VGw4Pyo"
      },
      "execution_count": 254,
      "outputs": []
    },
    {
      "cell_type": "markdown",
      "source": [
        "The function ``` weights * pixels ``` won't be flexible enough -- ie., it will always be ```0``` when the pixels are equal to ```0```.\n",
        "\n",
        "---\n",
        "We know: $y= w\\times x + b$ <br>\n",
        "  Where, w is the weight and b is bias. We still need the bias component.\n"
      ],
      "metadata": {
        "id": "uZTpc-5g43xg"
      }
    },
    {
      "cell_type": "code",
      "source": [
        "bias = init_params(1)"
      ],
      "metadata": {
        "id": "wtgz_fh16Ftq"
      },
      "execution_count": 255,
      "outputs": []
    },
    {
      "cell_type": "code",
      "source": [
        "#@ Inspecting the predictions:\n",
        "(train_x[0]*weights.T).sum() + bias"
      ],
      "metadata": {
        "colab": {
          "base_uri": "https://localhost:8080/"
        },
        "id": "7wZzBeDT6M5_",
        "outputId": "6daa6710-2473-4938-b794-d7abdae90669"
      },
      "execution_count": 256,
      "outputs": [
        {
          "output_type": "execute_result",
          "data": {
            "text/plain": [
              "tensor([-4.0406], grad_fn=<AddBackward0>)"
            ]
          },
          "metadata": {},
          "execution_count": 256
        }
      ]
    },
    {
      "cell_type": "markdown",
      "source": [
        "**Predictions on Loop and its complexity**\n",
        "\n",
        "---\n",
        "We could use the above expression on loop and calculate the predictions for every images, but that would be very slow since python is a slow language. <br>\n",
        "\n",
        "However, there is an extremely convenient operation that calulates the $w \\times x$ for every row of the matrix — called as matrix multiplication."
      ],
      "metadata": {
        "id": "MGSI_b1h7BAH"
      }
    },
    {
      "cell_type": "code",
      "source": [
        "## Now performing the matrix multiplication\n",
        "\n",
        "def linear1(xb):\n",
        "  return xb @ weights + bias    #The @ operator performs the matrix multiplication\n",
        "\n",
        "preds= linear1(train_x)\n",
        "preds"
      ],
      "metadata": {
        "colab": {
          "base_uri": "https://localhost:8080/"
        },
        "id": "vEmdMuD86f4L",
        "outputId": "b8a12173-a12e-443f-a229-2a42d30ab028"
      },
      "execution_count": 257,
      "outputs": [
        {
          "output_type": "execute_result",
          "data": {
            "text/plain": [
              "tensor([[-4.0406],\n",
              "        [-3.6292],\n",
              "        [ 2.5999],\n",
              "        ...,\n",
              "        [-4.4644],\n",
              "        [-2.4775],\n",
              "        [-7.9478]], grad_fn=<AddBackward0>)"
            ]
          },
          "metadata": {},
          "execution_count": 257
        }
      ]
    },
    {
      "cell_type": "code",
      "source": [
        "##@ Checking the accuracies\n",
        "'''\n",
        "  To decide if an output represents 3 or 7, we can just check whether it's greater than 0\n",
        "'''\n",
        "\n",
        "corrects = (preds>0.0).float() == train_y\n",
        "print(corrects)\n",
        "print(corrects.float().mean().item())"
      ],
      "metadata": {
        "colab": {
          "base_uri": "https://localhost:8080/"
        },
        "id": "WqyqqRn_8i3y",
        "outputId": "c7339220-f911-417e-889a-c6ca047ec16f"
      },
      "execution_count": 258,
      "outputs": [
        {
          "output_type": "stream",
          "name": "stdout",
          "text": [
            "tensor([[False],\n",
            "        [False],\n",
            "        [ True],\n",
            "        ...,\n",
            "        [ True],\n",
            "        [ True],\n",
            "        [ True]])\n",
            "0.5570345520973206\n"
          ]
        }
      ]
    },
    {
      "cell_type": "code",
      "source": [
        "### Testing the accuracy after tweaking the weight\n",
        "weights = weights.clone()       #Can't change the main weights directly without making a clone\n",
        "weights[0] *= 1.00001\n",
        "\n",
        "preds= linear1(train_x)\n",
        "corrects = (preds>0.0).float() == train_y\n",
        "print(corrects.float().mean().item())"
      ],
      "metadata": {
        "colab": {
          "base_uri": "https://localhost:8080/"
        },
        "id": "aNSjH1fO9i1h",
        "outputId": "105aeee8-69e1-4f8d-b08b-ac0ed5de3056"
      },
      "execution_count": 259,
      "outputs": [
        {
          "output_type": "stream",
          "name": "stdout",
          "text": [
            "0.5570345520973206\n"
          ]
        }
      ]
    },
    {
      "cell_type": "code",
      "source": [
        "##@ Definig Loss Function\n",
        "def mnist_loss(predictions, targets):\n",
        "  return torch.where(targets==1, 1-predictions, predictions).mean() #Return the distance(loss) if target == 1 and just predictions otherwise"
      ],
      "metadata": {
        "id": "9TjM6n91-H-Z"
      },
      "execution_count": 260,
      "outputs": []
    },
    {
      "cell_type": "code",
      "source": [
        "###@ Inspecting how torch.where works:\n",
        "trgts = tensor([1,1,0])\n",
        "prds = tensor([0.5, 0.1, 0.4])\n",
        "\n",
        "torch.where(trgts==1, 1-prds, prds)"
      ],
      "metadata": {
        "colab": {
          "base_uri": "https://localhost:8080/"
        },
        "id": "SpIueVQDI3QI",
        "outputId": "999ae111-cd74-4f3d-c927-da63bd5db77f"
      },
      "execution_count": 261,
      "outputs": [
        {
          "output_type": "execute_result",
          "data": {
            "text/plain": [
              "tensor([0.5000, 0.9000, 0.4000])"
            ]
          },
          "metadata": {},
          "execution_count": 261
        }
      ]
    },
    {
      "cell_type": "markdown",
      "source": [
        "So yeah it works exactly how I explained in the comment before\n"
      ],
      "metadata": {
        "id": "7SyJFDccJjvq"
      }
    },
    {
      "cell_type": "code",
      "source": [
        "mnist_loss(prds, trgts)"
      ],
      "metadata": {
        "colab": {
          "base_uri": "https://localhost:8080/"
        },
        "id": "R5YCAeX-NNay",
        "outputId": "182c5cb4-5b20-483c-8aa2-0571cce6c015"
      },
      "execution_count": 262,
      "outputs": [
        {
          "output_type": "execute_result",
          "data": {
            "text/plain": [
              "tensor(0.6000)"
            ]
          },
          "metadata": {},
          "execution_count": 262
        }
      ]
    },
    {
      "cell_type": "markdown",
      "source": [
        "### Sigmoid"
      ],
      "metadata": {
        "id": "P_tpZBpOOfdc"
      }
    },
    {
      "cell_type": "markdown",
      "source": [
        "So, before we dive into the code section, let's understand a bit about the sigmoid function:<br><br>\n",
        "*formula:* $$S(x) = \\frac {1} {1+ e^{-x}}$$\n",
        "\n",
        "It outputs a number between 0 and 1. It is a non-linear function which deep learning models use a lot."
      ],
      "metadata": {
        "id": "51AXeeFrOuAM"
      }
    },
    {
      "cell_type": "code",
      "source": [
        "#@ defining the sigmoid function in code:\n",
        "def sigmoid(x):\n",
        "  return 1/(1+ torch.exp(-x))"
      ],
      "metadata": {
        "id": "ow4ar_8zSMWT"
      },
      "execution_count": 263,
      "outputs": []
    },
    {
      "cell_type": "code",
      "source": [
        "##@ Plotting the curve\n",
        "plot_function(torch.sigmoid, title= \"Sigmoid Curve\", min = -3, max= 3)"
      ],
      "metadata": {
        "id": "Hc15jFx3Sff7",
        "outputId": "d9ddb5c2-9804-42a4-ecb0-97116d353c75",
        "colab": {
          "base_uri": "https://localhost:8080/",
          "height": 396
        }
      },
      "execution_count": 264,
      "outputs": [
        {
          "output_type": "display_data",
          "data": {
            "text/plain": [
              "<Figure size 600x400 with 1 Axes>"
            ],
            "image/png": "[encoded data removed]"
          },
          "metadata": {}
        }
      ]
    },
    {
      "cell_type": "code",
      "source": [
        "##@ Updating the loss function to apply sigmoid\n",
        "def mnist_loss(predictions, targets):\n",
        "  predictions = predictions.sigmoid()\n",
        "  return torch.where(targets==1, 1- predictions, predictions).mean()"
      ],
      "metadata": {
        "id": "fqAvAfmKS1ND"
      },
      "execution_count": 265,
      "outputs": []
    },
    {
      "cell_type": "markdown",
      "source": [
        "<details>\n",
        "  <summary>\n",
        "    What does sigmoid do here?\n",
        "  </summary>\n",
        "  For any negative values of predictions, all prediction values get squashed between 0 and 1.\n",
        "</details>"
      ],
      "metadata": {
        "id": "NgM1012OTV1r"
      }
    },
    {
      "cell_type": "markdown",
      "source": [
        "### SGD and Minibatches"
      ],
      "metadata": {
        "id": "aJGqJlhlWk7F"
      }
    },
    {
      "cell_type": "markdown",
      "source": [
        "**Introduction to Optimization Steps in SGD**\n",
        "\n",
        "---\n",
        "\n",
        "In deep learning, an **optimization step** refers to adjusting the model's weights based on gradients calculated from a loss function. The objective is to minimize this loss, allowing the model to make more accurate predictions.\n",
        "\n",
        "In **Stochastic Gradient Descent (SGD)**, we repeat these optimization steps to adjust the model’s predictions closer to the desired outputs.\n",
        "\n"
      ],
      "metadata": {
        "id": "I740yAhgbftI"
      }
    },
    {
      "cell_type": "markdown",
      "source": [
        "<details>\n",
        "  <summary><strong>Components of an Optimization Step:</strong></summary>\n",
        "\n",
        "  - **Calculating the loss**: The error between the model’s predictions and the true values.\n",
        "  - **Determining the gradients**: Finding the direction to adjust weights to reduce loss.\n",
        "  - **Adjusting weights**: Using gradients to update weights, improving model performance gradually.\n",
        "\n",
        "</details>"
      ],
      "metadata": {
        "id": "muV8r3rL8_Ca"
      }
    },
    {
      "cell_type": "markdown",
      "source": [
        "**Calculating Loss with Mini-Batches**\n",
        "\n",
        "---\n",
        "\n",
        "To compute the loss, there are different options:\n",
        "\n",
        "  - **Full Dataset**: Accurate gradients but computationally expensive.\n",
        "  - **Single Data Item**: Quick but less stable and precise.\n",
        "  - **Mini-Batches**: A middle ground, providing stable gradients with efficient computation."
      ],
      "metadata": {
        "id": "FnSF6CeC9AWy"
      }
    },
    {
      "cell_type": "markdown",
      "source": [
        "**Choosing the Batch Size**\n",
        "\n",
        "---\n",
        "\n",
        "The *batch size* impacts training stability and efficiency"
      ],
      "metadata": {
        "id": "X6A-vudO9RoK"
      }
    },
    {
      "cell_type": "markdown",
      "source": [
        "<details>\n",
        "  <summary><strong>Batch size effects:</strong></summary>\n",
        "\n",
        "  - **Larger Batch Sizes**: More accurate and stable gradients, but require more memory and computation time.\n",
        "  - **Smaller Batch Sizes**: Faster but may result in noisier, less stable gradients.\n",
        "\n",
        "</details>"
      ],
      "metadata": {
        "id": "-vtqYhP49ZgD"
      }
    },
    {
      "cell_type": "markdown",
      "source": [
        "**Why Use Mini-Batches?**\n",
        "\n",
        "Mini-batches offer several benefits:\n",
        "\n",
        "1. **Efficiency with Accelerators**: Ideal for GPUs which perform best with multiple data items.\n",
        "2. **Memory Constraints**: Manages memory efficiently, avoiding overload.\n",
        "3. **Generalization**: Shuffling mini-batches every epoch improves model generalization by varying data seen per batch."
      ],
      "metadata": {
        "id": "9rf6z5ZJ9bUT"
      }
    },
    {
      "cell_type": "markdown",
      "source": [
        "**Using DataLoaders in PyTorch**\n",
        "\n",
        "---\n",
        "\n",
        "In PyTorch, `DataLoader` handles mini-batch creation and data shuffling, simplifying training with mini-batches.\n",
        "\n",
        "Here’s an example:"
      ],
      "metadata": {
        "id": "46Eonnya9hOw"
      }
    },
    {
      "cell_type": "code",
      "source": [
        "coll = range(15)\n",
        "dl = DataLoader(coll, batch_size=4, shuffle=True)\n",
        "list(dl)"
      ],
      "metadata": {
        "id": "9JkUspmG9tzu",
        "outputId": "6df37c63-a650-4023-b369-26786e2e57e3",
        "colab": {
          "base_uri": "https://localhost:8080/"
        }
      },
      "execution_count": 266,
      "outputs": [
        {
          "output_type": "execute_result",
          "data": {
            "text/plain": [
              "[tensor([10, 12,  9, 14]),\n",
              " tensor([2, 3, 4, 6]),\n",
              " tensor([13,  7,  8, 11]),\n",
              " tensor([0, 5, 1])]"
            ]
          },
          "metadata": {},
          "execution_count": 266
        }
      ]
    },
    {
      "cell_type": "markdown",
      "source": [
        "**Using Datasets and DataLoaders with Independent and Dependent Variables**\n",
        "\n",
        "---\n",
        "\n",
        "When training a model, we need both **independent** (input) and **dependent** (target) variables. In PyTorch, we use a `Dataset` to structure these pairs, which the `DataLoader` then batches.\n",
        "\n",
        "*A collection that contains the tuples of independent and dependent variables is known in PyTorch as a Dataset.*\n",
        "\n",
        "Example:"
      ],
      "metadata": {
        "id": "89-agott9xhC"
      }
    },
    {
      "cell_type": "code",
      "source": [
        " #@ Creating a simple Dataset with indexed characters\n",
        " ds = L(enumerate(string.ascii_lowercase))        # Here L is the class in PyTorch which converts tuples to datasets\n",
        " ds"
      ],
      "metadata": {
        "id": "9xmFdcja-RMc",
        "outputId": "8dfcb3fa-715e-49d3-e703-c681665ff229",
        "colab": {
          "base_uri": "https://localhost:8080/"
        }
      },
      "execution_count": 267,
      "outputs": [
        {
          "output_type": "execute_result",
          "data": {
            "text/plain": [
              "(#26) [(0, 'a'),(1, 'b'),(2, 'c'),(3, 'd'),(4, 'e'),(5, 'f'),(6, 'g'),(7, 'h'),(8, 'i'),(9, 'j')...]"
            ]
          },
          "metadata": {},
          "execution_count": 267
        }
      ]
    },
    {
      "cell_type": "code",
      "source": [
        "#@ Initializing DataLoader for the Dataset\n",
        "dl = DataLoader(ds, batch_size=6, shuffle=True)\n",
        "list(dl)"
      ],
      "metadata": {
        "id": "HaDXFMxi-Wio",
        "outputId": "ba8791b0-4aef-49a9-8d0f-63ec614297dd",
        "colab": {
          "base_uri": "https://localhost:8080/"
        }
      },
      "execution_count": 268,
      "outputs": [
        {
          "output_type": "execute_result",
          "data": {
            "text/plain": [
              "[(tensor([ 5,  9,  8, 15,  4, 24]), ('f', 'j', 'i', 'p', 'e', 'y')),\n",
              " (tensor([ 0, 18, 12, 10,  6, 20]), ('a', 's', 'm', 'k', 'g', 'u')),\n",
              " (tensor([17, 16, 23, 13,  3, 14]), ('r', 'q', 'x', 'n', 'd', 'o')),\n",
              " (tensor([21, 22,  7, 19,  1,  2]), ('v', 'w', 'h', 't', 'b', 'c')),\n",
              " (tensor([11, 25]), ('l', 'z'))]"
            ]
          },
          "metadata": {},
          "execution_count": 268
        }
      ]
    },
    {
      "cell_type": "markdown",
      "source": [
        "### Putting It All Together"
      ],
      "metadata": {
        "id": "LMqS0iQB-wxH"
      }
    },
    {
      "cell_type": "markdown",
      "source": [
        "Combining everything we’ve learned about using **mini-batches** and **optimization steps** in **Stochastic Gradient Descent (SGD)** to train a digit classifier. Here, we implement the full training loop in PyTorch, including data batching, gradient calculation, and accuracy evaluation."
      ],
      "metadata": {
        "id": "VUD4RG6o_acP"
      }
    },
    {
      "cell_type": "markdown",
      "source": [
        "**Step 1: Initializing Model Parameters**\n",
        "\n",
        "---\n",
        "\n",
        "First, we initialize the model parameters: **weights** and **biases**."
      ],
      "metadata": {
        "id": "i-NiFOny_2Ue"
      }
    },
    {
      "cell_type": "code",
      "source": [
        " weights = init_params((28*28,1))\n",
        " bias = init_params(1)"
      ],
      "metadata": {
        "id": "8Fm9NR3y_9a7"
      },
      "execution_count": 269,
      "outputs": []
    },
    {
      "cell_type": "markdown",
      "source": [
        "**Step 2: Creating DataLoader for Training and Validation**\n",
        "\n",
        "---\n",
        "\n",
        "Using PyTorch's `DataLoader` for batching and shuffling our training and validation datasets."
      ],
      "metadata": {
        "id": "jjSYNuLZAB2Z"
      }
    },
    {
      "cell_type": "code",
      "source": [
        "dl = DataLoader(dset, batch_size=256)\n",
        "xb,yb = first(dl)                 ## Getting First Elements\n",
        "xb.shape,yb.shape"
      ],
      "metadata": {
        "id": "z9ibg5EFAM7g",
        "outputId": "ff5ba4fd-6d27-447d-e843-3bcc48e817dc",
        "colab": {
          "base_uri": "https://localhost:8080/"
        }
      },
      "execution_count": 270,
      "outputs": [
        {
          "output_type": "execute_result",
          "data": {
            "text/plain": [
              "(torch.Size([256, 784]), torch.Size([256, 1]))"
            ]
          },
          "metadata": {},
          "execution_count": 270
        }
      ]
    },
    {
      "cell_type": "code",
      "source": [
        "#@ Doing the same for validation sets\n",
        "valid_dl = DataLoader(valid_dset, batch_size=256)\n",
        "v_xb, v_yb = first(valid_dl)\n",
        "v_xb.shape, v_yb.shape"
      ],
      "metadata": {
        "id": "Nl8NngfRARjT",
        "outputId": "84dff4d5-26b8-4646-e229-5d4c521fc4ad",
        "colab": {
          "base_uri": "https://localhost:8080/"
        }
      },
      "execution_count": 271,
      "outputs": [
        {
          "output_type": "execute_result",
          "data": {
            "text/plain": [
              "(torch.Size([256, 784]), torch.Size([256, 1]))"
            ]
          },
          "metadata": {},
          "execution_count": 271
        }
      ]
    },
    {
      "cell_type": "markdown",
      "source": [
        "**Step 3: Testing with a Mini-Batch**\n",
        "\n",
        "---\n",
        "\n",
        "To test the setup, let’s take a small mini-batch and calculate predictions."
      ],
      "metadata": {
        "id": "ZJzh8msWAvJR"
      }
    },
    {
      "cell_type": "code",
      "source": [
        "#@ Creating a minibatch of size 4 for testing\n",
        "batch = train_x[:4]\n",
        "batch.shape"
      ],
      "metadata": {
        "id": "Vrcszl4LA074",
        "outputId": "341e0c29-f977-4400-c975-c4d949004245",
        "colab": {
          "base_uri": "https://localhost:8080/"
        }
      },
      "execution_count": 272,
      "outputs": [
        {
          "output_type": "execute_result",
          "data": {
            "text/plain": [
              "torch.Size([4, 784])"
            ]
          },
          "metadata": {},
          "execution_count": 272
        }
      ]
    },
    {
      "cell_type": "code",
      "source": [
        "#@ Getting  the predictions:\n",
        "preds = linear1(batch)\n",
        "preds"
      ],
      "metadata": {
        "id": "Lk5Kq212BESa",
        "outputId": "82b8d062-967d-42fd-dbea-9a920179e72a",
        "colab": {
          "base_uri": "https://localhost:8080/"
        }
      },
      "execution_count": 273,
      "outputs": [
        {
          "output_type": "execute_result",
          "data": {
            "text/plain": [
              "tensor([[-9.4660],\n",
              "        [ 1.8018],\n",
              "        [ 6.9384],\n",
              "        [ 2.5004]], grad_fn=<AddBackward0>)"
            ]
          },
          "metadata": {},
          "execution_count": 273
        }
      ]
    },
    {
      "cell_type": "code",
      "source": [
        "#@ Getting Loss:\n",
        "loss = mnist_loss(preds, train_y[:4])\n",
        "loss"
      ],
      "metadata": {
        "id": "L7JIv619BMBg",
        "outputId": "1721022e-657e-465d-c021-c79189c8688b",
        "colab": {
          "base_uri": "https://localhost:8080/"
        }
      },
      "execution_count": 274,
      "outputs": [
        {
          "output_type": "execute_result",
          "data": {
            "text/plain": [
              "tensor(0.3046, grad_fn=<MeanBackward0>)"
            ]
          },
          "metadata": {},
          "execution_count": 274
        }
      ]
    },
    {
      "cell_type": "code",
      "source": [
        "#@ Now calculating the gradients:\n",
        "loss.backward(retain_graph=True)                 ## Backprop\n",
        "weights.grad.shape, weights.grad.mean(), bias.grad        ## Inspecting the gradients"
      ],
      "metadata": {
        "id": "LYpzUgrKBVYA",
        "outputId": "dcde58de-835d-4ee0-e848-8eed6ffa7353",
        "colab": {
          "base_uri": "https://localhost:8080/"
        }
      },
      "execution_count": 275,
      "outputs": [
        {
          "output_type": "execute_result",
          "data": {
            "text/plain": [
              "(torch.Size([784, 1]), tensor(-0.0074), tensor([-0.0482]))"
            ]
          },
          "metadata": {},
          "execution_count": 275
        }
      ]
    },
    {
      "cell_type": "code",
      "source": [
        "## Now putting this all in function and testing again:\n",
        "def calc_gradient(xb, yb, model):\n",
        "  preds = model(xb)\n",
        "  loss = mnist_loss(preds, yb)\n",
        "  loss.backward()"
      ],
      "metadata": {
        "id": "xFGsDIAcBfgI"
      },
      "execution_count": 276,
      "outputs": []
    },
    {
      "cell_type": "code",
      "source": [
        "##@@ Testing:\n",
        "calc_gradient(batch, train_y[:4], linear1)\n",
        "weights.grad.mean(), bias.grad"
      ],
      "metadata": {
        "id": "w5KDM5r9C1-L",
        "outputId": "e8b986be-2c84-40e3-f4e7-ad79fe85b559",
        "colab": {
          "base_uri": "https://localhost:8080/"
        }
      },
      "execution_count": 277,
      "outputs": [
        {
          "output_type": "execute_result",
          "data": {
            "text/plain": [
              "(tensor(-0.0149), tensor([-0.0964]))"
            ]
          },
          "metadata": {},
          "execution_count": 277
        }
      ]
    },
    {
      "cell_type": "code",
      "source": [
        "##@@ Running the same code second time:\n",
        "calc_gradient(batch, train_y[:4], linear1)\n",
        "weights.grad.mean(), bias.grad"
      ],
      "metadata": {
        "id": "lXj2bMWhDLZp",
        "outputId": "52fda38a-17b1-48cb-b6ff-9238248a956b",
        "colab": {
          "base_uri": "https://localhost:8080/"
        }
      },
      "execution_count": 278,
      "outputs": [
        {
          "output_type": "execute_result",
          "data": {
            "text/plain": [
              "(tensor(-0.0223), tensor([-0.1445]))"
            ]
          },
          "metadata": {},
          "execution_count": 278
        }
      ]
    },
    {
      "cell_type": "markdown",
      "source": [
        "We got different gradient! And it is due to the **accumulation behavior**."
      ],
      "metadata": {
        "id": "wu-ha2NuEJ0y"
      }
    },
    {
      "cell_type": "markdown",
      "source": [
        "<details>\n",
        "  <summary><strong>Explanation of the Accumulation Behavior:</strong></summary>\n",
        "  <ul>\n",
        "    <li>\n",
        "      The <code>.grad</code> attributes accumulate gradients every time <code>loss.backward()</code> is called. If we don’t reset the gradients between calls, they will sum up, which may distort the updates during optimization.\n",
        "    </li>\n",
        "    <li>\n",
        "      In the example above, calling <code>calc_grad</code> again adds new gradients to the existing values in <code>weights.grad</code> and <code>bias.grad</code>. This means that the gradients after the second call include contributions from both forward passes.\n",
        "    </li>\n",
        "  </ul>\n",
        "</details>"
      ],
      "metadata": {
        "id": "JQDlJ6lpEbHw"
      }
    },
    {
      "cell_type": "code",
      "source": [
        "'''\n",
        "Clearing the Gradients:\n",
        "To avoid unintended accumulation, we clear the gradients before each new batch with .zero_()\n",
        "'''\n",
        "weights.grad.zero_()\n",
        "bias.grad.zero_()"
      ],
      "metadata": {
        "id": "DVcVWKNoFehX",
        "outputId": "d1144db1-6e5b-4574-e03e-816a11d031c1",
        "colab": {
          "base_uri": "https://localhost:8080/"
        }
      },
      "execution_count": 279,
      "outputs": [
        {
          "output_type": "execute_result",
          "data": {
            "text/plain": [
              "tensor([0.])"
            ]
          },
          "metadata": {},
          "execution_count": 279
        }
      ]
    },
    {
      "cell_type": "markdown",
      "source": [
        "<details>\n",
        "  <summary>\n",
        "    <b>More on <code>.zero_()</code></b>\n",
        "  </summary>\n",
        "<ul>\n",
        "    <li>\n",
        "      <code>.zero_()</code>resets each parameter’s gradient to zero, ensuring that every time <code>calc_grad</code> runs, it only accumulates gradients from the current batch.\n",
        "    </li>\n",
        "    <li>\n",
        "      The underscore at the end (as in <code>.zero_()</code>) indicates an in-place operation in PyTorch, which directly modifies the tensor.\n",
        "    </li>\n",
        "  </ul>\n",
        "</details>"
      ],
      "metadata": {
        "id": "NdMxow3HGVDY"
      }
    },
    {
      "cell_type": "code",
      "source": [
        "##@ Now initializing the basic training loop\n",
        "def train_epoch(model, lr, prams):\n",
        "  for xb, yb in dl:\n",
        "    calc_gradient(xb, yb, model)\n",
        "    for p in prams:\n",
        "      p.data -= p.grad*lr\n",
        "      p.grad.zero_()"
      ],
      "metadata": {
        "id": "QSislapSLwGS"
      },
      "execution_count": 280,
      "outputs": []
    },
    {
      "cell_type": "code",
      "source": [
        "##@ Defining the function for accuracy\n",
        "def batch_accuracy(xb, yb):\n",
        "  preds = xb.sigmoid()\n",
        "  correct= (preds > 0.5) == yb\n",
        "  return correct.float().mean()"
      ],
      "metadata": {
        "id": "CwVvXhBaMZ6B"
      },
      "execution_count": 281,
      "outputs": []
    },
    {
      "cell_type": "code",
      "source": [
        "##@ Implementation part:\n",
        "batch_accuracy(linear1(batch), train_y[:4])"
      ],
      "metadata": {
        "id": "F1k-wjfTM2Ny",
        "outputId": "e5a014c0-4c2b-4ae3-cc75-8bffd957ac45",
        "colab": {
          "base_uri": "https://localhost:8080/"
        }
      },
      "execution_count": 282,
      "outputs": [
        {
          "output_type": "execute_result",
          "data": {
            "text/plain": [
              "tensor(0.7500)"
            ]
          },
          "metadata": {},
          "execution_count": 282
        }
      ]
    },
    {
      "cell_type": "code",
      "source": [
        "#@ Putting the batches together:\n",
        "def validate_epoch(model):\n",
        "  acc= [batch_accuracy(model(xb), yb) for xb, yb in valid_dl]\n",
        "  return round(torch.stack(acc).mean().item(), 4)  # average accuracy rounded up to 4 decimal values after stacking into single tensor\n",
        "\n",
        "validate_epoch(linear1)"
      ],
      "metadata": {
        "id": "fJtNqZA7M9w7",
        "outputId": "f5f67400-aac0-461f-82d4-fcb1ffe9a7e5",
        "colab": {
          "base_uri": "https://localhost:8080/"
        }
      },
      "execution_count": 283,
      "outputs": [
        {
          "output_type": "execute_result",
          "data": {
            "text/plain": [
              "0.5025"
            ]
          },
          "metadata": {},
          "execution_count": 283
        }
      ]
    },
    {
      "cell_type": "markdown",
      "source": [
        "And, its the starting point. Now, we train for one epoch and see if the accuracy improves."
      ],
      "metadata": {
        "id": "XtDPXVnaNuWj"
      }
    },
    {
      "cell_type": "code",
      "source": [
        "lr = 1\n",
        "params = weights, bias\n",
        "train_epoch(linear1, lr, params)\n",
        "validate_epoch(linear1)"
      ],
      "metadata": {
        "id": "IXSz7iozOhya",
        "outputId": "e851ab4a-b55e-430d-b852-e284570f0e1c",
        "colab": {
          "base_uri": "https://localhost:8080/"
        }
      },
      "execution_count": 284,
      "outputs": [
        {
          "output_type": "execute_result",
          "data": {
            "text/plain": [
              "0.6411"
            ]
          },
          "metadata": {},
          "execution_count": 284
        }
      ]
    },
    {
      "cell_type": "markdown",
      "source": [
        "Yup it increased the accuracy. Now we do for a few more:"
      ],
      "metadata": {
        "id": "or-1QuIAOrFS"
      }
    },
    {
      "cell_type": "code",
      "source": [
        "for i in range(15):\n",
        "  train_epoch(linear1, lr, params)\n",
        "  print(f\"Epoch{i+1}: {validate_epoch(linear1)}\")"
      ],
      "metadata": {
        "id": "bF5DT0qZO7UM",
        "outputId": "ac5962f8-6505-4563-9fcb-4c864dc9fcad",
        "colab": {
          "base_uri": "https://localhost:8080/"
        }
      },
      "execution_count": 285,
      "outputs": [
        {
          "output_type": "stream",
          "name": "stdout",
          "text": [
            "Epoch1: 0.8114\n",
            "Epoch2: 0.8837\n",
            "Epoch3: 0.9101\n",
            "Epoch4: 0.9277\n",
            "Epoch5: 0.9364\n",
            "Epoch6: 0.9423\n",
            "Epoch7: 0.9472\n",
            "Epoch8: 0.9516\n",
            "Epoch9: 0.9545\n",
            "Epoch10: 0.9579\n",
            "Epoch11: 0.9599\n",
            "Epoch12: 0.9628\n",
            "Epoch13: 0.9633\n",
            "Epoch14: 0.9643\n",
            "Epoch15: 0.9648\n"
          ]
        }
      ]
    },
    {
      "cell_type": "markdown",
      "source": [
        "### Creating an Optimizer:"
      ],
      "metadata": {
        "id": "U5dmEc7VPFWN"
      }
    },
    {
      "cell_type": "markdown",
      "source": [
        "As models get more complex, managing parameters and gradients manually becomes unpractical.\n",
        "\n",
        "* PyTorch provides several tools and classes to simplify this process, starting\n",
        "with ```nn.Linear()```.\n",
        "\n",
        "* ```nn.Linear``` is PyTorch's module.\n",
        "* A module is an object of class that inherits from ```nn.Module``` class."
      ],
      "metadata": {
        "id": "svJlqaA6RDTK"
      }
    },
    {
      "cell_type": "code",
      "source": [
        "## Initializing our linear model using PyTorch\n",
        "\n",
        "linear_model = nn.Linear(28*28,1)\n",
        "\n",
        "##! Inspecting the parameters:\n",
        "w,b = linear_model.parameters()\n",
        "w.shape, b.shape"
      ],
      "metadata": {
        "colab": {
          "base_uri": "https://localhost:8080/"
        },
        "id": "MepSAUCiXBdx",
        "outputId": "933347e9-bf69-41c8-ab80-fa9890d59996"
      },
      "execution_count": 315,
      "outputs": [
        {
          "output_type": "execute_result",
          "data": {
            "text/plain": [
              "(torch.Size([1, 784]), torch.Size([1]))"
            ]
          },
          "metadata": {},
          "execution_count": 315
        }
      ]
    },
    {
      "cell_type": "code",
      "source": [
        "##@ So using all these concepts to create the optimizer:\n",
        "class BasicOptim:\n",
        "  def __init__(self, params, lr):   #Initializing the optimizer with parmeters and learning rate\n",
        "    self.params, self.lr= list(params), lr\n",
        "\n",
        "  def step(self, *args, **kwargs):  #Updates the model paramters based on the gradients and the learning rate\n",
        "    for p in self.params:\n",
        "      p.data -= p.grad.data * self.lr\n",
        "\n",
        "  def zero_grad(self, *args, **kwargs):   #Resets the gradients of all parameters to zero\n",
        "    for p in self.params:\n",
        "      p.grad = None\n",
        "\n",
        "optim= BasicOptim(linear_model.parameters(), lr)"
      ],
      "metadata": {
        "id": "tYVwcUUAXgD6"
      },
      "execution_count": 316,
      "outputs": []
    },
    {
      "cell_type": "markdown",
      "source": [
        "<details>\n",
        "  <summary>\n",
        "    <b>\n",
        "      More on <code>*args</code> and <code>**kwargs</code>:\n",
        "    </b>\n",
        "  </summary>\n",
        "<ul>\n",
        "  <li>\n",
        "    <code>*args</code>: This allows the method to accept any number of positional arguments. It's useful when we want to pass a variable number of arguments to a function/method.\n",
        "  </li>\n",
        "  <li>\n",
        "    <code>**kwargs</code>: This allows the method to accept any number of additional keyword arguments. It's useful when we want to pass a variable number of keyword arguments to a function/method.\n",
        "  </li>\n",
        "</ul>\n",
        "</details>"
      ],
      "metadata": {
        "id": "glkDkqtXf_28"
      }
    },
    {
      "cell_type": "code",
      "source": [
        "## Now defining the trainig loop:\n",
        "def train_epoch(model):\n",
        "  for xb, yb in dl:\n",
        "    calc_gradient(xb, yb, model)\n",
        "    optim.step()\n",
        "    optim.zero_grad()"
      ],
      "metadata": {
        "id": "b2eI9UgWivSj"
      },
      "execution_count": 317,
      "outputs": []
    },
    {
      "cell_type": "code",
      "source": [
        "## Inspecting the validation function\n",
        "validate_epoch(linear_model)"
      ],
      "metadata": {
        "id": "a0FVnB_zjVtc",
        "outputId": "d5f72fe3-eeea-4b8c-99ba-7ea109d4d5f9",
        "colab": {
          "base_uri": "https://localhost:8080/"
        }
      },
      "execution_count": 318,
      "outputs": [
        {
          "output_type": "execute_result",
          "data": {
            "text/plain": [
              "0.1893"
            ]
          },
          "metadata": {},
          "execution_count": 318
        }
      ]
    },
    {
      "cell_type": "code",
      "source": [
        "#@ Training loop in action\n",
        "def train_model(model, epochs):\n",
        "  for i in range(epochs):\n",
        "    train_epoch(model)\n",
        "    print(f\"In Epoch{i+1}: {validate_epoch(model)}\")\n",
        "\n",
        "train_model(linear_model, 15)"
      ],
      "metadata": {
        "id": "Gk0OfbWPjwde",
        "outputId": "3086780f-543d-4183-e9e7-bc8fc8353d4c",
        "colab": {
          "base_uri": "https://localhost:8080/"
        }
      },
      "execution_count": 319,
      "outputs": [
        {
          "output_type": "stream",
          "name": "stdout",
          "text": [
            "In Epoch1: 0.4932\n",
            "In Epoch2: 0.4932\n",
            "In Epoch3: 0.6611\n",
            "In Epoch4: 0.8652\n",
            "In Epoch5: 0.9184\n",
            "In Epoch6: 0.9355\n",
            "In Epoch7: 0.9502\n",
            "In Epoch8: 0.957\n",
            "In Epoch9: 0.9629\n",
            "In Epoch10: 0.9663\n",
            "In Epoch11: 0.9678\n",
            "In Epoch12: 0.9697\n",
            "In Epoch13: 0.9721\n",
            "In Epoch14: 0.9741\n",
            "In Epoch15: 0.9746\n"
          ]
        }
      ]
    },
    {
      "cell_type": "markdown",
      "source": [
        "And we got a fair accuracy.\n"
      ],
      "metadata": {
        "id": "YmQqlwjHkWsD"
      }
    },
    {
      "cell_type": "markdown",
      "source": [
        "### The FasiAi Methods"
      ],
      "metadata": {
        "id": "rCdhPdSTmszO"
      }
    },
    {
      "cell_type": "code",
      "source": [
        "linear_model = nn.Linear(28*28,1)"
      ],
      "metadata": {
        "id": "VqqufoCxm4Zj"
      },
      "execution_count": 322,
      "outputs": []
    },
    {
      "cell_type": "code",
      "source": [
        "optim = SGD(linear_model.parameters(), lr)  #The SGD class in fastai just did the operation of BasicOptim class that we created before\n",
        "train_model(linear_model, 15)"
      ],
      "metadata": {
        "id": "2rxoM-v_m-Qt",
        "outputId": "d0ce9253-1e0c-4708-9b2e-1b418d7d30e7",
        "colab": {
          "base_uri": "https://localhost:8080/"
        }
      },
      "execution_count": 323,
      "outputs": [
        {
          "output_type": "stream",
          "name": "stdout",
          "text": [
            "In Epoch1: 0.4932\n",
            "In Epoch2: 0.7759\n",
            "In Epoch3: 0.8501\n",
            "In Epoch4: 0.9165\n",
            "In Epoch5: 0.9341\n",
            "In Epoch6: 0.9468\n",
            "In Epoch7: 0.956\n",
            "In Epoch8: 0.9638\n",
            "In Epoch9: 0.9658\n",
            "In Epoch10: 0.9682\n",
            "In Epoch11: 0.9702\n",
            "In Epoch12: 0.9726\n",
            "In Epoch13: 0.9736\n",
            "In Epoch14: 0.9751\n",
            "In Epoch15: 0.9756\n"
          ]
        }
      ]
    },
    {
      "cell_type": "markdown",
      "source": [
        "Likewise fastai also provides ```Learner.fit``` which can be used instead of ```train_model```.\n",
        "\n",
        "To create a **Learner**, we first need to create a DataLoader"
      ],
      "metadata": {
        "id": "PBehlTRtnKtN"
      }
    },
    {
      "cell_type": "code",
      "source": [
        "##@ Creating the dataloader\n",
        "dls = DataLoaders(dl, valid_dl)"
      ],
      "metadata": {
        "id": "ctltUF3_oVFM"
      },
      "execution_count": 329,
      "outputs": []
    },
    {
      "cell_type": "code",
      "source": [
        "learn = Learner(dls, nn.Linear(28*28,1), opt_func= SGD, loss_func=mnist_loss, metrics=batch_accuracy)\n",
        "\n",
        "##! Now fitting:\n",
        "learn.fit(10, lr=lr)"
      ],
      "metadata": {
        "id": "rf04KTMnoeUk",
        "outputId": "1def5fac-6d1b-43fa-d193-42ad832b4d76",
        "colab": {
          "base_uri": "https://localhost:8080/",
          "height": 363
        }
      },
      "execution_count": 330,
      "outputs": [
        {
          "output_type": "display_data",
          "data": {
            "text/plain": [
              "<IPython.core.display.HTML object>"
            ],
            "text/html": [
              "\n",
              "<style>\n",
              "    /* Turns off some styling */\n",
              "    progress {\n",
              "        /* gets rid of default border in Firefox and Opera. */\n",
              "        border: none;\n",
              "        /* Needs to be in here for Safari polyfill so background images work as expected. */\n",
              "        background-size: auto;\n",
              "    }\n",
              "    progress:not([value]), progress:not([value])::-webkit-progress-bar {\n",
              "        background: repeating-linear-gradient(45deg, #7e7e7e, #7e7e7e 10px, #5c5c5c 10px, #5c5c5c 20px);\n",
              "    }\n",
              "    .progress-bar-interrupted, .progress-bar-interrupted::-webkit-progress-bar {\n",
              "        background: #F44336;\n",
              "    }\n",
              "</style>\n"
            ]
          },
          "metadata": {}
        },
        {
          "output_type": "display_data",
          "data": {
            "text/plain": [
              "<IPython.core.display.HTML object>"
            ],
            "text/html": [
              "<table border=\"1\" class=\"dataframe\">\n",
              "  <thead>\n",
              "    <tr style=\"text-align: left;\">\n",
              "      <th>epoch</th>\n",
              "      <th>train_loss</th>\n",
              "      <th>valid_loss</th>\n",
              "      <th>batch_accuracy</th>\n",
              "      <th>time</th>\n",
              "    </tr>\n",
              "  </thead>\n",
              "  <tbody>\n",
              "    <tr>\n",
              "      <td>0</td>\n",
              "      <td>0.636826</td>\n",
              "      <td>0.503417</td>\n",
              "      <td>0.495584</td>\n",
              "      <td>00:00</td>\n",
              "    </tr>\n",
              "    <tr>\n",
              "      <td>1</td>\n",
              "      <td>0.509291</td>\n",
              "      <td>0.201193</td>\n",
              "      <td>0.824338</td>\n",
              "      <td>00:00</td>\n",
              "    </tr>\n",
              "    <tr>\n",
              "      <td>2</td>\n",
              "      <td>0.187737</td>\n",
              "      <td>0.171459</td>\n",
              "      <td>0.846909</td>\n",
              "      <td>00:00</td>\n",
              "    </tr>\n",
              "    <tr>\n",
              "      <td>3</td>\n",
              "      <td>0.082641</td>\n",
              "      <td>0.103933</td>\n",
              "      <td>0.913641</td>\n",
              "      <td>00:00</td>\n",
              "    </tr>\n",
              "    <tr>\n",
              "      <td>4</td>\n",
              "      <td>0.043888</td>\n",
              "      <td>0.076331</td>\n",
              "      <td>0.933759</td>\n",
              "      <td>00:00</td>\n",
              "    </tr>\n",
              "    <tr>\n",
              "      <td>5</td>\n",
              "      <td>0.028734</td>\n",
              "      <td>0.061294</td>\n",
              "      <td>0.948479</td>\n",
              "      <td>00:00</td>\n",
              "    </tr>\n",
              "    <tr>\n",
              "      <td>6</td>\n",
              "      <td>0.022488</td>\n",
              "      <td>0.051921</td>\n",
              "      <td>0.956820</td>\n",
              "      <td>00:00</td>\n",
              "    </tr>\n",
              "    <tr>\n",
              "      <td>7</td>\n",
              "      <td>0.019700</td>\n",
              "      <td>0.045707</td>\n",
              "      <td>0.963199</td>\n",
              "      <td>00:00</td>\n",
              "    </tr>\n",
              "    <tr>\n",
              "      <td>8</td>\n",
              "      <td>0.018282</td>\n",
              "      <td>0.041354</td>\n",
              "      <td>0.966143</td>\n",
              "      <td>00:00</td>\n",
              "    </tr>\n",
              "    <tr>\n",
              "      <td>9</td>\n",
              "      <td>0.017430</td>\n",
              "      <td>0.038150</td>\n",
              "      <td>0.968106</td>\n",
              "      <td>00:00</td>\n",
              "    </tr>\n",
              "  </tbody>\n",
              "</table>"
            ]
          },
          "metadata": {}
        }
      ]
    },
    {
      "cell_type": "markdown",
      "source": [
        "### Adding Non-Linearity"
      ],
      "metadata": {
        "id": "iV37R9bCo-Ad"
      }
    },
    {
      "cell_type": "markdown",
      "source": [
        "--This for tomorrow--\n",
        "\n",
        "---\n",
        "\n",
        "Page Number: 200"
      ],
      "metadata": {
        "id": "bkSnRrxNp50T"
      }
    }
  ]
}