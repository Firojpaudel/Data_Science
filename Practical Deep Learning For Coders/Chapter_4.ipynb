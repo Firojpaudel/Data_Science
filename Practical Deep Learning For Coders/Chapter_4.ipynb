{
  "nbformat": 4,
  "nbformat_minor": 0,
  "metadata": {
    "colab": {
      "provenance": [],
      "authorship_tag": "ABX9TyORwEga0gBtCER+voxSWP05",
      "include_colab_link": true
    },
    "kernelspec": {
      "name": "python3",
      "display_name": "Python 3"
    },
    "language_info": {
      "name": "python"
    }
  },
  "cells": [
    {
      "cell_type": "markdown",
      "metadata": {
        "id": "view-in-github",
        "colab_type": "text"
      },
      "source": [
        "<a href=\"https://colab.research.google.com/github/Firojpaudel/Machine-Learning-Notes/blob/main/Practical%20Deep%20Learning%20For%20Coders/Chapter_4.ipynb\" target=\"_parent\"><img src=\"https://colab.research.google.com/assets/colab-badge.svg\" alt=\"Open In Colab\"/></a>"
      ]
    },
    {
      "cell_type": "markdown",
      "source": [
        "## Training a Digit Classifier"
      ],
      "metadata": {
        "id": "Gab4QLczJMyj"
      }
    },
    {
      "cell_type": "code",
      "source": [
        "#First initializing the notebook\n",
        "%reload_ext autoreload\n",
        "%autoreload 2\n",
        "%matplotlib inline"
      ],
      "metadata": {
        "id": "-LC0cV5JKjJp"
      },
      "execution_count": 1,
      "outputs": []
    },
    {
      "cell_type": "code",
      "source": [
        "!pip install -Uqq fastbook\n",
        "import fastbook\n",
        "fastbook.setup_book()"
      ],
      "metadata": {
        "id": "B99rJS3-K8VD"
      },
      "execution_count": 2,
      "outputs": []
    },
    {
      "cell_type": "code",
      "source": [
        "from fastai.vision.all import *\n",
        "from fastbook import *\n",
        "matplotlib.rc(\"image\", cmap=\"Greys\")"
      ],
      "metadata": {
        "id": "ULkEpbTWMO8s"
      },
      "execution_count": 3,
      "outputs": []
    },
    {
      "cell_type": "markdown",
      "source": [
        "### **Lesson 1:** How images are represented in a computer:"
      ],
      "metadata": {
        "id": "UcsxnU8YJaUz"
      }
    },
    {
      "cell_type": "markdown",
      "source": [
        "For the initial learning, I'm just creating a model that classifies any image as *3 or 7*. Before that, downloading a sample of MNIST that contains images of just these digits"
      ],
      "metadata": {
        "id": "fK5ZmDN-KBE8"
      }
    },
    {
      "cell_type": "code",
      "source": [
        "path = untar_data(URLs.MNIST_SAMPLE)"
      ],
      "metadata": {
        "id": "pCw6qVKiMBfk"
      },
      "execution_count": 4,
      "outputs": []
    },
    {
      "cell_type": "code",
      "source": [
        "## Checking the directory\n",
        "path.ls()"
      ],
      "metadata": {
        "colab": {
          "base_uri": "https://localhost:8080/"
        },
        "id": "3T116VSEMIjd",
        "outputId": "ca90c79b-ceff-4008-977c-244c7b52ae13"
      },
      "execution_count": 5,
      "outputs": [
        {
          "output_type": "execute_result",
          "data": {
            "text/plain": [
              "(#3) [Path('/root/.fastai/data/mnist_sample/labels.csv'),Path('/root/.fastai/data/mnist_sample/valid'),Path('/root/.fastai/data/mnist_sample/train')]"
            ]
          },
          "metadata": {},
          "execution_count": 5
        }
      ]
    },
    {
      "cell_type": "code",
      "source": [
        "## Checking what's inside the training set\n",
        "(path/'train').ls()"
      ],
      "metadata": {
        "colab": {
          "base_uri": "https://localhost:8080/"
        },
        "id": "8UbhnRajMoUr",
        "outputId": "353c6661-5e19-46d5-b137-e46fab95e31e"
      },
      "execution_count": 6,
      "outputs": [
        {
          "output_type": "execute_result",
          "data": {
            "text/plain": [
              "(#2) [Path('/root/.fastai/data/mnist_sample/train/7'),Path('/root/.fastai/data/mnist_sample/train/3')]"
            ]
          },
          "metadata": {},
          "execution_count": 6
        }
      ]
    },
    {
      "cell_type": "markdown",
      "source": [
        "So, yeah! there are images of 7 and 3 in the training set. The images inside these folders are labelled accordingly."
      ],
      "metadata": {
        "id": "cFt0Xp64M3N9"
      }
    },
    {
      "cell_type": "code",
      "source": [
        "## Taking a look in these folders to check the images.\n",
        "three = (path/'train'/'3').ls().sorted()\n",
        "seven= (path/'train'/'7').ls().sorted()"
      ],
      "metadata": {
        "id": "8Ie3OEynNIMk"
      },
      "execution_count": 7,
      "outputs": []
    },
    {
      "cell_type": "code",
      "source": [
        "three"
      ],
      "metadata": {
        "colab": {
          "base_uri": "https://localhost:8080/"
        },
        "id": "31BAYZ4wNbGU",
        "outputId": "dbd138d4-5486-436e-facf-16e415d00380"
      },
      "execution_count": 8,
      "outputs": [
        {
          "output_type": "execute_result",
          "data": {
            "text/plain": [
              "(#6131) [Path('/root/.fastai/data/mnist_sample/train/3/10.png'),Path('/root/.fastai/data/mnist_sample/train/3/10000.png'),Path('/root/.fastai/data/mnist_sample/train/3/10011.png'),Path('/root/.fastai/data/mnist_sample/train/3/10031.png'),Path('/root/.fastai/data/mnist_sample/train/3/10034.png'),Path('/root/.fastai/data/mnist_sample/train/3/10042.png'),Path('/root/.fastai/data/mnist_sample/train/3/10052.png'),Path('/root/.fastai/data/mnist_sample/train/3/1007.png'),Path('/root/.fastai/data/mnist_sample/train/3/10074.png'),Path('/root/.fastai/data/mnist_sample/train/3/10091.png')...]"
            ]
          },
          "metadata": {},
          "execution_count": 8
        }
      ]
    },
    {
      "cell_type": "code",
      "source": [
        "seven"
      ],
      "metadata": {
        "colab": {
          "base_uri": "https://localhost:8080/"
        },
        "id": "icgyMIMiNsFq",
        "outputId": "eaf87476-418e-433c-f1e7-a70d71d98b9b"
      },
      "execution_count": 9,
      "outputs": [
        {
          "output_type": "execute_result",
          "data": {
            "text/plain": [
              "(#6265) [Path('/root/.fastai/data/mnist_sample/train/7/10002.png'),Path('/root/.fastai/data/mnist_sample/train/7/1001.png'),Path('/root/.fastai/data/mnist_sample/train/7/10014.png'),Path('/root/.fastai/data/mnist_sample/train/7/10019.png'),Path('/root/.fastai/data/mnist_sample/train/7/10039.png'),Path('/root/.fastai/data/mnist_sample/train/7/10046.png'),Path('/root/.fastai/data/mnist_sample/train/7/10050.png'),Path('/root/.fastai/data/mnist_sample/train/7/10063.png'),Path('/root/.fastai/data/mnist_sample/train/7/10077.png'),Path('/root/.fastai/data/mnist_sample/train/7/10086.png')...]"
            ]
          },
          "metadata": {},
          "execution_count": 9
        }
      ]
    },
    {
      "cell_type": "markdown",
      "source": [
        "They are all full of .png files.\n"
      ],
      "metadata": {
        "id": "42t_z8kQNtgz"
      }
    },
    {
      "cell_type": "code",
      "source": [
        "## Taking a look at one of them\n",
        "img3 = Image.open(three[0])\n",
        "img3"
      ],
      "metadata": {
        "colab": {
          "base_uri": "https://localhost:8080/",
          "height": 45
        },
        "id": "0OB9Yu9mN3a9",
        "outputId": "f9159ef0-5ad3-430d-88b7-93ef5fe1c420"
      },
      "execution_count": 10,
      "outputs": [
        {
          "output_type": "execute_result",
          "data": {
            "text/plain": [
              "<PIL.PngImagePlugin.PngImageFile image mode=L size=28x28>"
            ],
            "image/png": "[encoded data removed]",
            "image/jpeg": "[encoded data removed]"
          },
          "metadata": {},
          "execution_count": 10
        }
      ]
    },
    {
      "cell_type": "markdown",
      "source": [
        "In computer as we know all data is represented as a number, we have to convert the images into an array or tensor before model training."
      ],
      "metadata": {
        "id": "evzSxUO0OINt"
      }
    },
    {
      "cell_type": "code",
      "source": [
        "## Converting to array\n",
        "array(img3)\n",
        "\n",
        "'''\n",
        "This is similar to doing:\n",
        "array = np.array(img3)\n",
        "array\n",
        "\n",
        "'''"
      ],
      "metadata": {
        "colab": {
          "base_uri": "https://localhost:8080/",
          "height": 36
        },
        "id": "Ig8m-HGtO1oc",
        "outputId": "18918ebf-2ba6-4c77-dd3e-07ad8dac8ca0"
      },
      "execution_count": 11,
      "outputs": [
        {
          "output_type": "execute_result",
          "data": {
            "text/plain": [
              "'\\nThis is similar to doing:\\narray = np.array(img3)\\narray\\n\\n'"
            ],
            "application/vnd.google.colaboratory.intrinsic+json": {
              "type": "string"
            }
          },
          "metadata": {},
          "execution_count": 11
        }
      ]
    },
    {
      "cell_type": "code",
      "source": [
        "#@ Side learnings:\n",
        "#@ If we wish to see the array from particular index in both rows and columns, we could do like:\n",
        "np.array(img3)[4:10,4:10]"
      ],
      "metadata": {
        "colab": {
          "base_uri": "https://localhost:8080/"
        },
        "id": "5Y9iqiw8PTZj",
        "outputId": "a051bb76-d42c-495b-a6fc-468ce8cff3de"
      },
      "execution_count": 12,
      "outputs": [
        {
          "output_type": "execute_result",
          "data": {
            "text/plain": [
              "array([[0, 0, 0, 0, 0, 0],\n",
              "       [0, 0, 0, 0, 0, 0],\n",
              "       [0, 0, 0, 0, 0, 0],\n",
              "       [0, 0, 0, 0, 0, 0],\n",
              "       [0, 0, 0, 0, 0, 0],\n",
              "       [0, 0, 0, 0, 0, 0]], dtype=uint8)"
            ]
          },
          "metadata": {},
          "execution_count": 12
        }
      ]
    },
    {
      "cell_type": "code",
      "source": [
        "## Now, in pytorch, it's kinda different. We have tensors instead of arrays\n",
        "tensor(img3)[4:10, 4:10]"
      ],
      "metadata": {
        "colab": {
          "base_uri": "https://localhost:8080/"
        },
        "id": "qMMoSaVKQHVF",
        "outputId": "66b507fa-13cd-41b5-ba30-ac21d367a2c7"
      },
      "execution_count": 13,
      "outputs": [
        {
          "output_type": "execute_result",
          "data": {
            "text/plain": [
              "tensor([[0, 0, 0, 0, 0, 0],\n",
              "        [0, 0, 0, 0, 0, 0],\n",
              "        [0, 0, 0, 0, 0, 0],\n",
              "        [0, 0, 0, 0, 0, 0],\n",
              "        [0, 0, 0, 0, 0, 0],\n",
              "        [0, 0, 0, 0, 0, 0]], dtype=torch.uint8)"
            ]
          },
          "metadata": {},
          "execution_count": 13
        }
      ]
    },
    {
      "cell_type": "markdown",
      "source": [
        "Also, we could do sth like color coding in pandas."
      ],
      "metadata": {
        "id": "cxzcgcEoQvJM"
      }
    },
    {
      "cell_type": "code",
      "source": [
        "#@ Visualizing in pandas\n",
        "df= pd.DataFrame(tensor(img3)[3:13, 9:19])\n",
        "df.style.set_properties(**{'font-size':'6pt'}).background_gradient('Greys')"
      ],
      "metadata": {
        "colab": {
          "base_uri": "https://localhost:8080/",
          "height": 363
        },
        "id": "uFE-kt4vRGlc",
        "outputId": "3f88b0ef-51a8-4b80-c875-a54e317e7b08"
      },
      "execution_count": 14,
      "outputs": [
        {
          "output_type": "execute_result",
          "data": {
            "text/plain": [
              "<pandas.io.formats.style.Styler at 0x7d9020c5e590>"
            ],
            "text/html": [
              "<style type=\"text/css\">\n",
              "#T_b5fb9_row0_col0, #T_b5fb9_row0_col1, #T_b5fb9_row0_col2, #T_b5fb9_row0_col3, #T_b5fb9_row0_col4, #T_b5fb9_row0_col5, #T_b5fb9_row0_col6, #T_b5fb9_row0_col7, #T_b5fb9_row0_col8, #T_b5fb9_row0_col9, #T_b5fb9_row1_col0, #T_b5fb9_row1_col1, #T_b5fb9_row1_col9, #T_b5fb9_row2_col0, #T_b5fb9_row2_col9, #T_b5fb9_row3_col0, #T_b5fb9_row4_col0, #T_b5fb9_row4_col1, #T_b5fb9_row5_col0, #T_b5fb9_row5_col1, #T_b5fb9_row5_col2, #T_b5fb9_row6_col0, #T_b5fb9_row6_col1, #T_b5fb9_row6_col2, #T_b5fb9_row7_col0, #T_b5fb9_row7_col1, #T_b5fb9_row7_col2, #T_b5fb9_row7_col3, #T_b5fb9_row8_col0, #T_b5fb9_row8_col1, #T_b5fb9_row8_col2, #T_b5fb9_row9_col0 {\n",
              "  font-size: 6pt;\n",
              "  background-color: #ffffff;\n",
              "  color: #000000;\n",
              "}\n",
              "#T_b5fb9_row1_col2, #T_b5fb9_row3_col1 {\n",
              "  font-size: 6pt;\n",
              "  background-color: #e7e7e7;\n",
              "  color: #000000;\n",
              "}\n",
              "#T_b5fb9_row1_col3, #T_b5fb9_row1_col6, #T_b5fb9_row1_col7 {\n",
              "  font-size: 6pt;\n",
              "  background-color: #a2a2a2;\n",
              "  color: #f1f1f1;\n",
              "}\n",
              "#T_b5fb9_row1_col4 {\n",
              "  font-size: 6pt;\n",
              "  background-color: #292929;\n",
              "  color: #f1f1f1;\n",
              "}\n",
              "#T_b5fb9_row1_col5, #T_b5fb9_row8_col9 {\n",
              "  font-size: 6pt;\n",
              "  background-color: #6b6b6b;\n",
              "  color: #f1f1f1;\n",
              "}\n",
              "#T_b5fb9_row1_col8 {\n",
              "  font-size: 6pt;\n",
              "  background-color: #fcfcfc;\n",
              "  color: #000000;\n",
              "}\n",
              "#T_b5fb9_row2_col1, #T_b5fb9_row2_col2, #T_b5fb9_row2_col3, #T_b5fb9_row2_col4, #T_b5fb9_row2_col5, #T_b5fb9_row2_col6, #T_b5fb9_row2_col7, #T_b5fb9_row3_col3, #T_b5fb9_row3_col4, #T_b5fb9_row3_col5, #T_b5fb9_row3_col6, #T_b5fb9_row3_col7, #T_b5fb9_row4_col4, #T_b5fb9_row4_col6, #T_b5fb9_row4_col7, #T_b5fb9_row4_col8, #T_b5fb9_row5_col4, #T_b5fb9_row5_col6, #T_b5fb9_row5_col7, #T_b5fb9_row5_col8, #T_b5fb9_row6_col5, #T_b5fb9_row6_col6, #T_b5fb9_row6_col7, #T_b5fb9_row6_col8, #T_b5fb9_row7_col6, #T_b5fb9_row7_col7, #T_b5fb9_row7_col8, #T_b5fb9_row7_col9, #T_b5fb9_row8_col6, #T_b5fb9_row8_col7, #T_b5fb9_row8_col8, #T_b5fb9_row9_col4, #T_b5fb9_row9_col5, #T_b5fb9_row9_col6, #T_b5fb9_row9_col7, #T_b5fb9_row9_col8 {\n",
              "  font-size: 6pt;\n",
              "  background-color: #000000;\n",
              "  color: #f1f1f1;\n",
              "}\n",
              "#T_b5fb9_row2_col8 {\n",
              "  font-size: 6pt;\n",
              "  background-color: #d7d7d7;\n",
              "  color: #000000;\n",
              "}\n",
              "#T_b5fb9_row3_col2, #T_b5fb9_row4_col3 {\n",
              "  font-size: 6pt;\n",
              "  background-color: #0c0c0c;\n",
              "  color: #f1f1f1;\n",
              "}\n",
              "#T_b5fb9_row3_col8 {\n",
              "  font-size: 6pt;\n",
              "  background-color: #131313;\n",
              "  color: #f1f1f1;\n",
              "}\n",
              "#T_b5fb9_row3_col9 {\n",
              "  font-size: 6pt;\n",
              "  background-color: #b3b3b3;\n",
              "  color: #000000;\n",
              "}\n",
              "#T_b5fb9_row4_col2 {\n",
              "  font-size: 6pt;\n",
              "  background-color: #ababab;\n",
              "  color: #000000;\n",
              "}\n",
              "#T_b5fb9_row4_col5 {\n",
              "  font-size: 6pt;\n",
              "  background-color: #232323;\n",
              "  color: #f1f1f1;\n",
              "}\n",
              "#T_b5fb9_row4_col9, #T_b5fb9_row5_col5 {\n",
              "  font-size: 6pt;\n",
              "  background-color: #363636;\n",
              "  color: #f1f1f1;\n",
              "}\n",
              "#T_b5fb9_row5_col3 {\n",
              "  font-size: 6pt;\n",
              "  background-color: #3a3a3a;\n",
              "  color: #f1f1f1;\n",
              "}\n",
              "#T_b5fb9_row5_col9, #T_b5fb9_row9_col9 {\n",
              "  font-size: 6pt;\n",
              "  background-color: #e3e3e3;\n",
              "  color: #000000;\n",
              "}\n",
              "#T_b5fb9_row6_col3 {\n",
              "  font-size: 6pt;\n",
              "  background-color: #c7c7c7;\n",
              "  color: #000000;\n",
              "}\n",
              "#T_b5fb9_row6_col4 {\n",
              "  font-size: 6pt;\n",
              "  background-color: #3c3c3c;\n",
              "  color: #f1f1f1;\n",
              "}\n",
              "#T_b5fb9_row6_col9 {\n",
              "  font-size: 6pt;\n",
              "  background-color: #dbdbdb;\n",
              "  color: #000000;\n",
              "}\n",
              "#T_b5fb9_row7_col4 {\n",
              "  font-size: 6pt;\n",
              "  background-color: #f4f4f4;\n",
              "  color: #000000;\n",
              "}\n",
              "#T_b5fb9_row7_col5 {\n",
              "  font-size: 6pt;\n",
              "  background-color: #383838;\n",
              "  color: #f1f1f1;\n",
              "}\n",
              "#T_b5fb9_row8_col3 {\n",
              "  font-size: 6pt;\n",
              "  background-color: #c1c1c1;\n",
              "  color: #000000;\n",
              "}\n",
              "#T_b5fb9_row8_col4 {\n",
              "  font-size: 6pt;\n",
              "  background-color: #8a8a8a;\n",
              "  color: #f1f1f1;\n",
              "}\n",
              "#T_b5fb9_row8_col5 {\n",
              "  font-size: 6pt;\n",
              "  background-color: #010101;\n",
              "  color: #f1f1f1;\n",
              "}\n",
              "#T_b5fb9_row9_col1 {\n",
              "  font-size: 6pt;\n",
              "  background-color: #b9b9b9;\n",
              "  color: #000000;\n",
              "}\n",
              "#T_b5fb9_row9_col2 {\n",
              "  font-size: 6pt;\n",
              "  background-color: #222222;\n",
              "  color: #f1f1f1;\n",
              "}\n",
              "#T_b5fb9_row9_col3 {\n",
              "  font-size: 6pt;\n",
              "  background-color: #050505;\n",
              "  color: #f1f1f1;\n",
              "}\n",
              "</style>\n",
              "<table id=\"T_b5fb9\" class=\"dataframe\">\n",
              "  <thead>\n",
              "    <tr>\n",
              "      <th class=\"blank level0\" >&nbsp;</th>\n",
              "      <th id=\"T_b5fb9_level0_col0\" class=\"col_heading level0 col0\" >0</th>\n",
              "      <th id=\"T_b5fb9_level0_col1\" class=\"col_heading level0 col1\" >1</th>\n",
              "      <th id=\"T_b5fb9_level0_col2\" class=\"col_heading level0 col2\" >2</th>\n",
              "      <th id=\"T_b5fb9_level0_col3\" class=\"col_heading level0 col3\" >3</th>\n",
              "      <th id=\"T_b5fb9_level0_col4\" class=\"col_heading level0 col4\" >4</th>\n",
              "      <th id=\"T_b5fb9_level0_col5\" class=\"col_heading level0 col5\" >5</th>\n",
              "      <th id=\"T_b5fb9_level0_col6\" class=\"col_heading level0 col6\" >6</th>\n",
              "      <th id=\"T_b5fb9_level0_col7\" class=\"col_heading level0 col7\" >7</th>\n",
              "      <th id=\"T_b5fb9_level0_col8\" class=\"col_heading level0 col8\" >8</th>\n",
              "      <th id=\"T_b5fb9_level0_col9\" class=\"col_heading level0 col9\" >9</th>\n",
              "    </tr>\n",
              "  </thead>\n",
              "  <tbody>\n",
              "    <tr>\n",
              "      <th id=\"T_b5fb9_level0_row0\" class=\"row_heading level0 row0\" >0</th>\n",
              "      <td id=\"T_b5fb9_row0_col0\" class=\"data row0 col0\" >0</td>\n",
              "      <td id=\"T_b5fb9_row0_col1\" class=\"data row0 col1\" >0</td>\n",
              "      <td id=\"T_b5fb9_row0_col2\" class=\"data row0 col2\" >0</td>\n",
              "      <td id=\"T_b5fb9_row0_col3\" class=\"data row0 col3\" >0</td>\n",
              "      <td id=\"T_b5fb9_row0_col4\" class=\"data row0 col4\" >0</td>\n",
              "      <td id=\"T_b5fb9_row0_col5\" class=\"data row0 col5\" >0</td>\n",
              "      <td id=\"T_b5fb9_row0_col6\" class=\"data row0 col6\" >0</td>\n",
              "      <td id=\"T_b5fb9_row0_col7\" class=\"data row0 col7\" >0</td>\n",
              "      <td id=\"T_b5fb9_row0_col8\" class=\"data row0 col8\" >0</td>\n",
              "      <td id=\"T_b5fb9_row0_col9\" class=\"data row0 col9\" >0</td>\n",
              "    </tr>\n",
              "    <tr>\n",
              "      <th id=\"T_b5fb9_level0_row1\" class=\"row_heading level0 row1\" >1</th>\n",
              "      <td id=\"T_b5fb9_row1_col0\" class=\"data row1 col0\" >0</td>\n",
              "      <td id=\"T_b5fb9_row1_col1\" class=\"data row1 col1\" >0</td>\n",
              "      <td id=\"T_b5fb9_row1_col2\" class=\"data row1 col2\" >42</td>\n",
              "      <td id=\"T_b5fb9_row1_col3\" class=\"data row1 col3\" >118</td>\n",
              "      <td id=\"T_b5fb9_row1_col4\" class=\"data row1 col4\" >219</td>\n",
              "      <td id=\"T_b5fb9_row1_col5\" class=\"data row1 col5\" >166</td>\n",
              "      <td id=\"T_b5fb9_row1_col6\" class=\"data row1 col6\" >118</td>\n",
              "      <td id=\"T_b5fb9_row1_col7\" class=\"data row1 col7\" >118</td>\n",
              "      <td id=\"T_b5fb9_row1_col8\" class=\"data row1 col8\" >6</td>\n",
              "      <td id=\"T_b5fb9_row1_col9\" class=\"data row1 col9\" >0</td>\n",
              "    </tr>\n",
              "    <tr>\n",
              "      <th id=\"T_b5fb9_level0_row2\" class=\"row_heading level0 row2\" >2</th>\n",
              "      <td id=\"T_b5fb9_row2_col0\" class=\"data row2 col0\" >0</td>\n",
              "      <td id=\"T_b5fb9_row2_col1\" class=\"data row2 col1\" >103</td>\n",
              "      <td id=\"T_b5fb9_row2_col2\" class=\"data row2 col2\" >242</td>\n",
              "      <td id=\"T_b5fb9_row2_col3\" class=\"data row2 col3\" >254</td>\n",
              "      <td id=\"T_b5fb9_row2_col4\" class=\"data row2 col4\" >254</td>\n",
              "      <td id=\"T_b5fb9_row2_col5\" class=\"data row2 col5\" >254</td>\n",
              "      <td id=\"T_b5fb9_row2_col6\" class=\"data row2 col6\" >254</td>\n",
              "      <td id=\"T_b5fb9_row2_col7\" class=\"data row2 col7\" >254</td>\n",
              "      <td id=\"T_b5fb9_row2_col8\" class=\"data row2 col8\" >66</td>\n",
              "      <td id=\"T_b5fb9_row2_col9\" class=\"data row2 col9\" >0</td>\n",
              "    </tr>\n",
              "    <tr>\n",
              "      <th id=\"T_b5fb9_level0_row3\" class=\"row_heading level0 row3\" >3</th>\n",
              "      <td id=\"T_b5fb9_row3_col0\" class=\"data row3 col0\" >0</td>\n",
              "      <td id=\"T_b5fb9_row3_col1\" class=\"data row3 col1\" >18</td>\n",
              "      <td id=\"T_b5fb9_row3_col2\" class=\"data row3 col2\" >232</td>\n",
              "      <td id=\"T_b5fb9_row3_col3\" class=\"data row3 col3\" >254</td>\n",
              "      <td id=\"T_b5fb9_row3_col4\" class=\"data row3 col4\" >254</td>\n",
              "      <td id=\"T_b5fb9_row3_col5\" class=\"data row3 col5\" >254</td>\n",
              "      <td id=\"T_b5fb9_row3_col6\" class=\"data row3 col6\" >254</td>\n",
              "      <td id=\"T_b5fb9_row3_col7\" class=\"data row3 col7\" >254</td>\n",
              "      <td id=\"T_b5fb9_row3_col8\" class=\"data row3 col8\" >238</td>\n",
              "      <td id=\"T_b5fb9_row3_col9\" class=\"data row3 col9\" >70</td>\n",
              "    </tr>\n",
              "    <tr>\n",
              "      <th id=\"T_b5fb9_level0_row4\" class=\"row_heading level0 row4\" >4</th>\n",
              "      <td id=\"T_b5fb9_row4_col0\" class=\"data row4 col0\" >0</td>\n",
              "      <td id=\"T_b5fb9_row4_col1\" class=\"data row4 col1\" >0</td>\n",
              "      <td id=\"T_b5fb9_row4_col2\" class=\"data row4 col2\" >104</td>\n",
              "      <td id=\"T_b5fb9_row4_col3\" class=\"data row4 col3\" >244</td>\n",
              "      <td id=\"T_b5fb9_row4_col4\" class=\"data row4 col4\" >254</td>\n",
              "      <td id=\"T_b5fb9_row4_col5\" class=\"data row4 col5\" >224</td>\n",
              "      <td id=\"T_b5fb9_row4_col6\" class=\"data row4 col6\" >254</td>\n",
              "      <td id=\"T_b5fb9_row4_col7\" class=\"data row4 col7\" >254</td>\n",
              "      <td id=\"T_b5fb9_row4_col8\" class=\"data row4 col8\" >254</td>\n",
              "      <td id=\"T_b5fb9_row4_col9\" class=\"data row4 col9\" >141</td>\n",
              "    </tr>\n",
              "    <tr>\n",
              "      <th id=\"T_b5fb9_level0_row5\" class=\"row_heading level0 row5\" >5</th>\n",
              "      <td id=\"T_b5fb9_row5_col0\" class=\"data row5 col0\" >0</td>\n",
              "      <td id=\"T_b5fb9_row5_col1\" class=\"data row5 col1\" >0</td>\n",
              "      <td id=\"T_b5fb9_row5_col2\" class=\"data row5 col2\" >0</td>\n",
              "      <td id=\"T_b5fb9_row5_col3\" class=\"data row5 col3\" >207</td>\n",
              "      <td id=\"T_b5fb9_row5_col4\" class=\"data row5 col4\" >254</td>\n",
              "      <td id=\"T_b5fb9_row5_col5\" class=\"data row5 col5\" >210</td>\n",
              "      <td id=\"T_b5fb9_row5_col6\" class=\"data row5 col6\" >254</td>\n",
              "      <td id=\"T_b5fb9_row5_col7\" class=\"data row5 col7\" >254</td>\n",
              "      <td id=\"T_b5fb9_row5_col8\" class=\"data row5 col8\" >254</td>\n",
              "      <td id=\"T_b5fb9_row5_col9\" class=\"data row5 col9\" >34</td>\n",
              "    </tr>\n",
              "    <tr>\n",
              "      <th id=\"T_b5fb9_level0_row6\" class=\"row_heading level0 row6\" >6</th>\n",
              "      <td id=\"T_b5fb9_row6_col0\" class=\"data row6 col0\" >0</td>\n",
              "      <td id=\"T_b5fb9_row6_col1\" class=\"data row6 col1\" >0</td>\n",
              "      <td id=\"T_b5fb9_row6_col2\" class=\"data row6 col2\" >0</td>\n",
              "      <td id=\"T_b5fb9_row6_col3\" class=\"data row6 col3\" >84</td>\n",
              "      <td id=\"T_b5fb9_row6_col4\" class=\"data row6 col4\" >206</td>\n",
              "      <td id=\"T_b5fb9_row6_col5\" class=\"data row6 col5\" >254</td>\n",
              "      <td id=\"T_b5fb9_row6_col6\" class=\"data row6 col6\" >254</td>\n",
              "      <td id=\"T_b5fb9_row6_col7\" class=\"data row6 col7\" >254</td>\n",
              "      <td id=\"T_b5fb9_row6_col8\" class=\"data row6 col8\" >254</td>\n",
              "      <td id=\"T_b5fb9_row6_col9\" class=\"data row6 col9\" >41</td>\n",
              "    </tr>\n",
              "    <tr>\n",
              "      <th id=\"T_b5fb9_level0_row7\" class=\"row_heading level0 row7\" >7</th>\n",
              "      <td id=\"T_b5fb9_row7_col0\" class=\"data row7 col0\" >0</td>\n",
              "      <td id=\"T_b5fb9_row7_col1\" class=\"data row7 col1\" >0</td>\n",
              "      <td id=\"T_b5fb9_row7_col2\" class=\"data row7 col2\" >0</td>\n",
              "      <td id=\"T_b5fb9_row7_col3\" class=\"data row7 col3\" >0</td>\n",
              "      <td id=\"T_b5fb9_row7_col4\" class=\"data row7 col4\" >24</td>\n",
              "      <td id=\"T_b5fb9_row7_col5\" class=\"data row7 col5\" >209</td>\n",
              "      <td id=\"T_b5fb9_row7_col6\" class=\"data row7 col6\" >254</td>\n",
              "      <td id=\"T_b5fb9_row7_col7\" class=\"data row7 col7\" >254</td>\n",
              "      <td id=\"T_b5fb9_row7_col8\" class=\"data row7 col8\" >254</td>\n",
              "      <td id=\"T_b5fb9_row7_col9\" class=\"data row7 col9\" >171</td>\n",
              "    </tr>\n",
              "    <tr>\n",
              "      <th id=\"T_b5fb9_level0_row8\" class=\"row_heading level0 row8\" >8</th>\n",
              "      <td id=\"T_b5fb9_row8_col0\" class=\"data row8 col0\" >0</td>\n",
              "      <td id=\"T_b5fb9_row8_col1\" class=\"data row8 col1\" >0</td>\n",
              "      <td id=\"T_b5fb9_row8_col2\" class=\"data row8 col2\" >0</td>\n",
              "      <td id=\"T_b5fb9_row8_col3\" class=\"data row8 col3\" >91</td>\n",
              "      <td id=\"T_b5fb9_row8_col4\" class=\"data row8 col4\" >137</td>\n",
              "      <td id=\"T_b5fb9_row8_col5\" class=\"data row8 col5\" >253</td>\n",
              "      <td id=\"T_b5fb9_row8_col6\" class=\"data row8 col6\" >254</td>\n",
              "      <td id=\"T_b5fb9_row8_col7\" class=\"data row8 col7\" >254</td>\n",
              "      <td id=\"T_b5fb9_row8_col8\" class=\"data row8 col8\" >254</td>\n",
              "      <td id=\"T_b5fb9_row8_col9\" class=\"data row8 col9\" >112</td>\n",
              "    </tr>\n",
              "    <tr>\n",
              "      <th id=\"T_b5fb9_level0_row9\" class=\"row_heading level0 row9\" >9</th>\n",
              "      <td id=\"T_b5fb9_row9_col0\" class=\"data row9 col0\" >0</td>\n",
              "      <td id=\"T_b5fb9_row9_col1\" class=\"data row9 col1\" >40</td>\n",
              "      <td id=\"T_b5fb9_row9_col2\" class=\"data row9 col2\" >214</td>\n",
              "      <td id=\"T_b5fb9_row9_col3\" class=\"data row9 col3\" >250</td>\n",
              "      <td id=\"T_b5fb9_row9_col4\" class=\"data row9 col4\" >254</td>\n",
              "      <td id=\"T_b5fb9_row9_col5\" class=\"data row9 col5\" >254</td>\n",
              "      <td id=\"T_b5fb9_row9_col6\" class=\"data row9 col6\" >254</td>\n",
              "      <td id=\"T_b5fb9_row9_col7\" class=\"data row9 col7\" >254</td>\n",
              "      <td id=\"T_b5fb9_row9_col8\" class=\"data row9 col8\" >254</td>\n",
              "      <td id=\"T_b5fb9_row9_col9\" class=\"data row9 col9\" >34</td>\n",
              "    </tr>\n",
              "  </tbody>\n",
              "</table>\n"
            ]
          },
          "metadata": {},
          "execution_count": 14
        }
      ]
    },
    {
      "cell_type": "markdown",
      "source": [
        "### **First Try:** Pixel Similarity\n"
      ],
      "metadata": {
        "id": "pVFya2ZkS4n6"
      }
    },
    {
      "cell_type": "markdown",
      "source": [
        "* Step1: Would be to get the average of pixel values for each of our two groups"
      ],
      "metadata": {
        "id": "1QVF3xehRYh-"
      }
    },
    {
      "cell_type": "code",
      "source": [
        "#@ Creating tensors containg a single image\n",
        "seven_tensors = [tensor(Image.open(o)) for o in seven]\n",
        "three_tensors = [tensor(Image.open(o)) for o in three]\n",
        "\n",
        "#@ Checking the lengths of these created tensors\n",
        "len(three_tensors), len(seven_tensors)"
      ],
      "metadata": {
        "id": "gMq-lxRlTkXt",
        "outputId": "ba9d2261-25f1-453e-d705-26ab710b42b7",
        "colab": {
          "base_uri": "https://localhost:8080/"
        }
      },
      "execution_count": 15,
      "outputs": [
        {
          "output_type": "execute_result",
          "data": {
            "text/plain": [
              "(6131, 6265)"
            ]
          },
          "metadata": {},
          "execution_count": 15
        }
      ]
    },
    {
      "cell_type": "code",
      "source": [
        "#! Just checking the tensor:\n",
        "show_image(three_tensors[4])"
      ],
      "metadata": {
        "id": "l2UYh6nnUQIO",
        "outputId": "e5efdbec-1a62-4fe8-dfb8-8d99076066c2",
        "colab": {
          "base_uri": "https://localhost:8080/",
          "height": 132
        }
      },
      "execution_count": 16,
      "outputs": [
        {
          "output_type": "execute_result",
          "data": {
            "text/plain": [
              "<Axes: >"
            ]
          },
          "metadata": {},
          "execution_count": 16
        },
        {
          "output_type": "display_data",
          "data": {
            "text/plain": [
              "<Figure size 100x100 with 1 Axes>"
            ],
            "image/png": "[encoded data removed]"
          },
          "metadata": {}
        }
      ]
    },
    {
      "cell_type": "code",
      "source": [
        "#@ Now stacking\n",
        "stacked_sevens = torch.stack(seven_tensors).float()/255\n",
        "stacked_threes = torch.stack(three_tensors).float()/255\n",
        "\n",
        "#@ Checking the Shape\n",
        "stacked_threes.shape"
      ],
      "metadata": {
        "id": "2sCKWVkbWpIo",
        "outputId": "2f85dc1e-75e7-46dd-e698-32f5911e6b15",
        "colab": {
          "base_uri": "https://localhost:8080/"
        }
      },
      "execution_count": 17,
      "outputs": [
        {
          "output_type": "execute_result",
          "data": {
            "text/plain": [
              "torch.Size([6131, 28, 28])"
            ]
          },
          "metadata": {},
          "execution_count": 17
        }
      ]
    },
    {
      "cell_type": "markdown",
      "source": [
        "**The meaning of this output:**<br>\n",
        "It's trying to say that we have 6,131 images, each of size 28×28 pixels.\n"
      ],
      "metadata": {
        "id": "m3MhGbluZW4c"
      }
    },
    {
      "cell_type": "markdown",
      "source": [
        "<details>\n",
        "  <summary>\n",
        "    <b>The reason behind converting to float and dividing by 255</b>\n",
        "  </summary>\n",
        "- Some of the operations in PyTorch, such as taking means, require us to cast our integer types into float types. So, converting the stacks to float as well.<br>\n",
        "- When converted to float, the pixel values are also expected to be in between 0 to 1. So dividing by 255.  \n",
        "</details>"
      ],
      "metadata": {
        "id": "3LKm1qwUXfT3"
      }
    },
    {
      "cell_type": "code",
      "source": [
        "#@ Gettig the rank of the tensor\n",
        "len(stacked_threes.shape)\n",
        "\n",
        "'''\n",
        "This is similar to doing:\n",
        "stacked_threes.shape\n",
        "'''\n"
      ],
      "metadata": {
        "id": "fQvNV_SwhooD",
        "outputId": "c9755684-ce69-4ab7-8e27-55b3b986e9a5",
        "colab": {
          "base_uri": "https://localhost:8080/",
          "height": 36
        }
      },
      "execution_count": 18,
      "outputs": [
        {
          "output_type": "execute_result",
          "data": {
            "text/plain": [
              "'\\nThis is similar to doing:\\nstacked_threes.shape\\n'"
            ],
            "application/vnd.google.colaboratory.intrinsic+json": {
              "type": "string"
            }
          },
          "metadata": {},
          "execution_count": 18
        }
      ]
    },
    {
      "cell_type": "markdown",
      "source": [
        "##### **Ranks defined**:\n",
        "\\- Here's what the rank of tensors mean:\n",
        "  - **Rank 0**= Scalar, *real number or constant*\n",
        "  - **Rank 1**= Vector, *can be represente as list of values*\n",
        "  - **Rank 2**= Matrix, *to represent 2D data structures*\n",
        "  - **Rank 3**= 3D Tensor, *cube or stack of matrices*\n",
        "  - **Rank 4**= 4D Tensor, *to represent images in batch form: where the 4th dimension reprents the batch size*\n",
        "\n",
        "\n"
      ],
      "metadata": {
        "id": "vIdyTTHTiB0O"
      }
    },
    {
      "cell_type": "code",
      "source": [
        "#@ Now computing the mean and looking at what we should be expecting for peak image for 3 (for classification)\n",
        "mean3 = stacked_threes.mean(0)\n",
        "show_image(mean3)"
      ],
      "metadata": {
        "id": "DKzESfbbjUwG",
        "outputId": "7a892af5-9c7c-48c4-aaa7-d5e276853a76",
        "colab": {
          "base_uri": "https://localhost:8080/",
          "height": 132
        }
      },
      "execution_count": 19,
      "outputs": [
        {
          "output_type": "execute_result",
          "data": {
            "text/plain": [
              "<Axes: >"
            ]
          },
          "metadata": {},
          "execution_count": 19
        },
        {
          "output_type": "display_data",
          "data": {
            "text/plain": [
              "<Figure size 100x100 with 1 Axes>"
            ],
            "image/png": "[encoded data removed]"
          },
          "metadata": {}
        }
      ]
    },
    {
      "cell_type": "code",
      "source": [
        "#@ Doing the same for seven\n",
        "mean7 = stacked_sevens.mean(0)\n",
        "show_image(mean7)"
      ],
      "metadata": {
        "id": "DMKMlLW0kgnn",
        "outputId": "e0fd0402-a7c6-4558-9990-9725f1f7bdfd",
        "colab": {
          "base_uri": "https://localhost:8080/",
          "height": 132
        }
      },
      "execution_count": 20,
      "outputs": [
        {
          "output_type": "execute_result",
          "data": {
            "text/plain": [
              "<Axes: >"
            ]
          },
          "metadata": {},
          "execution_count": 20
        },
        {
          "output_type": "display_data",
          "data": {
            "text/plain": [
              "<Figure size 100x100 with 1 Axes>"
            ],
            "image/png": "[encoded data removed]"
          },
          "metadata": {}
        }
      ]
    },
    {
      "cell_type": "code",
      "source": [
        "## Just picking an arbitary 3s or 7s and seeing how far are we from the \"ideal digits\"\n",
        "arb_3 = stacked_threes[1]\n",
        "show_image(arb_3)\n",
        "\n",
        "arb_7 = stacked_sevens[1]\n",
        "show_image(arb_7)"
      ],
      "metadata": {
        "id": "--0N6CYWk8L_",
        "outputId": "06aacd8f-58a2-43aa-a435-bd697e3f36c1",
        "colab": {
          "base_uri": "https://localhost:8080/",
          "height": 229
        }
      },
      "execution_count": 21,
      "outputs": [
        {
          "output_type": "execute_result",
          "data": {
            "text/plain": [
              "<Axes: >"
            ]
          },
          "metadata": {},
          "execution_count": 21
        },
        {
          "output_type": "display_data",
          "data": {
            "text/plain": [
              "<Figure size 100x100 with 1 Axes>"
            ],
            "image/png": "[encoded data removed]"
          },
          "metadata": {}
        },
        {
          "output_type": "display_data",
          "data": {
            "text/plain": [
              "<Figure size 100x100 with 1 Axes>"
            ],
            "image/png": "[encoded data removed]"
          },
          "metadata": {}
        }
      ]
    },
    {
      "cell_type": "markdown",
      "source": [
        "<details>\n",
        "  <summary>\n",
        "    Measuring the distances:\n",
        "  </summary>\n",
        "- Take the mean of absolute value of differences. Also called as <i>L1 Norm</i> <br>\n",
        "- Then find the Root Mean Sqaured Error (RMSE). Also called as <i>L2 Norm</i>\n",
        "</details>"
      ],
      "metadata": {
        "id": "gNNjTNZzlmTN"
      }
    },
    {
      "cell_type": "code",
      "source": [
        "#@ Implementing the above information\n",
        "\n",
        "dist_3_abs = (arb_3 - mean3).abs().mean() #L1 Norm\n",
        "dist_3_sqr = ((arb_3 - mean3)**2).mean().sqrt() #L2 Norm\n",
        "dist_3_abs, dist_3_sqr"
      ],
      "metadata": {
        "id": "GQjHhZc9m1m9",
        "outputId": "a59cfd87-7aaa-4c56-e9cf-f2fea388a11d",
        "colab": {
          "base_uri": "https://localhost:8080/"
        }
      },
      "execution_count": 22,
      "outputs": [
        {
          "output_type": "execute_result",
          "data": {
            "text/plain": [
              "(tensor(0.1114), tensor(0.2021))"
            ]
          },
          "metadata": {},
          "execution_count": 22
        }
      ]
    },
    {
      "cell_type": "code",
      "source": [
        "dist_7_abs= (arb_7 - mean7).abs().mean()\n",
        "dist_7_sqr= ((arb_7 - mean7)**2).mean().sqrt()\n",
        "dist_7_abs, dist_7_sqr"
      ],
      "metadata": {
        "id": "MAPOX73nnfGV",
        "outputId": "353287e1-884c-4934-b9a5-1d97aaff1e32",
        "colab": {
          "base_uri": "https://localhost:8080/"
        }
      },
      "execution_count": 23,
      "outputs": [
        {
          "output_type": "execute_result",
          "data": {
            "text/plain": [
              "(tensor(0.1304), tensor(0.2585))"
            ]
          },
          "metadata": {},
          "execution_count": 23
        }
      ]
    },
    {
      "cell_type": "code",
      "source": [
        "#@ Now implementing the same using loss functions.\n",
        "import torch.nn.functional as F\n",
        "\n",
        "F.l1_loss(arb_3.float(), mean3), F.mse_loss(arb_3, mean3).sqrt() #l1 stands for L1 Norm and mse is just L2 Norm"
      ],
      "metadata": {
        "id": "2mtwSBX7oKNU",
        "outputId": "9a31551b-13ea-4b12-e2ae-11af0ce30818",
        "colab": {
          "base_uri": "https://localhost:8080/"
        }
      },
      "execution_count": 24,
      "outputs": [
        {
          "output_type": "execute_result",
          "data": {
            "text/plain": [
              "(tensor(0.1114), tensor(0.2021))"
            ]
          },
          "metadata": {},
          "execution_count": 24
        }
      ]
    },
    {
      "cell_type": "markdown",
      "source": [
        "##### Numpy Arrays and PyTorch tensors"
      ],
      "metadata": {
        "id": "Z77D01FQonPF"
      }
    },
    {
      "cell_type": "markdown",
      "source": [
        "So, this part it's just a revision about what Numpy arrays and tensors are."
      ],
      "metadata": {
        "id": "kelUWdR7SZO0"
      }
    },
    {
      "cell_type": "markdown",
      "source": [
        "<details>\n",
        "  <summary>\n",
        "    <b>Why use Numpy arrays?</b>\n",
        "  </summary>\n",
        "Since they are built using optimized C code, Numpy arrays are way way faster than the python code.\n",
        "</details>\n",
        "\n",
        "<details>\n",
        "  <summary>\n",
        "    <b>Why PyTorch Tensors?</b>\n",
        "  </summary>\n",
        "They do the same task as Numpy array. Just more specified with GPUs.\n",
        "</details>"
      ],
      "metadata": {
        "id": "-djP9FaAStQM"
      }
    },
    {
      "cell_type": "code",
      "source": [
        "#@ Showing in code:\n",
        "data = [[1, 2, 3], [4, 5, 6], [7, 8, 9]]\n",
        "tnsr = torch.tensor(data)\n",
        "ary= np.array(data)"
      ],
      "metadata": {
        "id": "TiNhFZqwTksm"
      },
      "execution_count": 25,
      "outputs": []
    },
    {
      "cell_type": "code",
      "source": [
        "tnsr"
      ],
      "metadata": {
        "id": "7tGV2MvHVnpe",
        "outputId": "f24fae4e-a019-4485-ea7a-c1c426ada3c4",
        "colab": {
          "base_uri": "https://localhost:8080/"
        }
      },
      "execution_count": 26,
      "outputs": [
        {
          "output_type": "execute_result",
          "data": {
            "text/plain": [
              "tensor([[1, 2, 3],\n",
              "        [4, 5, 6],\n",
              "        [7, 8, 9]])"
            ]
          },
          "metadata": {},
          "execution_count": 26
        }
      ]
    },
    {
      "cell_type": "code",
      "source": [
        "ary"
      ],
      "metadata": {
        "id": "lI56tN6nVpUV",
        "outputId": "88fb28f2-c358-4b3c-df96-a5ea2ca85d23",
        "colab": {
          "base_uri": "https://localhost:8080/"
        }
      },
      "execution_count": 27,
      "outputs": [
        {
          "output_type": "execute_result",
          "data": {
            "text/plain": [
              "array([[1, 2, 3],\n",
              "       [4, 5, 6],\n",
              "       [7, 8, 9]])"
            ]
          },
          "metadata": {},
          "execution_count": 27
        }
      ]
    },
    {
      "cell_type": "code",
      "source": [
        "#@ Performing just basic drills:\n",
        "print(f\"Tensor's shape: {tnsr.shape}\")\n",
        "print(f\"Accessing 1st row of tensor: {tnsr[0]}\")\n",
        "print(f\"Accessing 2st column of tensor: {tnsr[:, 1]}\")"
      ],
      "metadata": {
        "id": "XJRf0GcLVqiF",
        "outputId": "4cf98b15-a1f9-4ce5-e293-1081b9417e09",
        "colab": {
          "base_uri": "https://localhost:8080/"
        }
      },
      "execution_count": 28,
      "outputs": [
        {
          "output_type": "stream",
          "name": "stdout",
          "text": [
            "Tensor's shape: torch.Size([3, 3])\n",
            "Accessing 1st row of tensor: tensor([1, 2, 3])\n",
            "Accessing 2st column of tensor: tensor([2, 5, 8])\n"
          ]
        }
      ]
    },
    {
      "cell_type": "code",
      "source": [
        "#!! More drillings further:\n",
        "print(\"Sliced displays:\")\n",
        "print(f\"Accessing the 1st row 2nd column value: {tnsr[0, 1]}\")\n",
        "print(f\"Accessing the 1st rows 2nd and 3rd column values: {tnsr[0, 1:3]}\") #Here, for a:b the output would be only till a to b-1"
      ],
      "metadata": {
        "id": "Eh03QgjHWa7H",
        "outputId": "a9109f11-e2cf-470b-8bea-c79674d1b932",
        "colab": {
          "base_uri": "https://localhost:8080/"
        }
      },
      "execution_count": 29,
      "outputs": [
        {
          "output_type": "stream",
          "name": "stdout",
          "text": [
            "Sliced displays:\n",
            "Accessing the 1st row 2nd column value: 2\n",
            "Accessing the 1st rows 2nd and 3rd column values: tensor([2, 3])\n"
          ]
        }
      ]
    },
    {
      "cell_type": "code",
      "source": [
        "#@ Just lookig at the tensor type\n",
        "print(f\"The tensor's type: {tnsr.type()}\")\n",
        "print(f\"The datatype of this tensor: {tnsr.dtype}\")"
      ],
      "metadata": {
        "id": "0Uuf7RDKXDTd",
        "outputId": "92061b8c-518a-416a-87d6-909bc7d76aee",
        "colab": {
          "base_uri": "https://localhost:8080/"
        }
      },
      "execution_count": 30,
      "outputs": [
        {
          "output_type": "stream",
          "name": "stdout",
          "text": [
            "The tensor's type: torch.LongTensor\n",
            "The datatype of this tensor: torch.int64\n"
          ]
        }
      ]
    },
    {
      "cell_type": "code",
      "source": [
        "##@ Comuptations in tensor is simple:\n",
        "print(f\"The mean of tensor is: {tnsr.float().mean()}\") #As mentioned earlier, means can't be calculated until and unless its float datatype\n",
        "print(f\"Multiplying the tensor with 0.01 we get: {tnsr*0.01}\")"
      ],
      "metadata": {
        "id": "oY7BUkQUX-FN",
        "outputId": "55efa802-4126-4a14-bbae-3321b94fdf42",
        "colab": {
          "base_uri": "https://localhost:8080/"
        }
      },
      "execution_count": 31,
      "outputs": [
        {
          "output_type": "stream",
          "name": "stdout",
          "text": [
            "The mean of tensor is: 5.0\n",
            "Multiplying the tensor with 0.01 we get: tensor([[0.0100, 0.0200, 0.0300],\n",
            "        [0.0400, 0.0500, 0.0600],\n",
            "        [0.0700, 0.0800, 0.0900]])\n"
          ]
        }
      ]
    },
    {
      "cell_type": "markdown",
      "source": [
        "##### Computing Metrics Using Broadcasting"
      ],
      "metadata": {
        "id": "jz5HMZMtY0t7"
      }
    },
    {
      "cell_type": "code",
      "source": [
        "## Creating the valid set tensors\n",
        "valid_3_tnsr = torch.stack([tensor(Image.open(o)) for o in (path/'valid'/'3').ls()])\n",
        "valid_3_tnsr = valid_3_tnsr.float()/255\n",
        "valid_7_tnsr = torch.stack([tensor(Image.open(o)) for o in (path/'valid'/'7').ls()])\n",
        "valid_7_tnsr = valid_7_tnsr.float()/255\n",
        "\n",
        "#@ Checking their shapes\n",
        "print(f\"Shape of valid 3s: {valid_3_tnsr.shape}\")\n",
        "print(f\"Shape of valid 7s: {valid_7_tnsr.shape}\")"
      ],
      "metadata": {
        "id": "oJENjjTPZVOQ",
        "outputId": "92cfa22f-eaf2-40ed-f689-65b07ad59ea2",
        "colab": {
          "base_uri": "https://localhost:8080/"
        }
      },
      "execution_count": 32,
      "outputs": [
        {
          "output_type": "stream",
          "name": "stdout",
          "text": [
            "Shape of valid 3s: torch.Size([1010, 28, 28])\n",
            "Shape of valid 7s: torch.Size([1028, 28, 28])\n"
          ]
        }
      ]
    },
    {
      "cell_type": "code",
      "source": [
        "## Function for calculating MAE:\n",
        "def mnist_distance(a, b):\n",
        "    return (a-b).abs().mean((-1, -2)) #!! Tells PyTorch that we want to take the mean ranging over values indexed by last two axes of tensor.\n",
        "\n",
        "mnist_distance(arb_3, mean3)"
      ],
      "metadata": {
        "id": "1he3HKqEcIKL",
        "outputId": "386c61d4-9c40-4b16-d1e5-aca2c27b2cdf",
        "colab": {
          "base_uri": "https://localhost:8080/"
        }
      },
      "execution_count": 33,
      "outputs": [
        {
          "output_type": "execute_result",
          "data": {
            "text/plain": [
              "tensor(0.1114)"
            ]
          },
          "metadata": {},
          "execution_count": 33
        }
      ]
    },
    {
      "cell_type": "code",
      "source": [
        "#@ Implementing MAE on the valid sets:\n",
        "valid_3_dist = mnist_distance(valid_3_tnsr, mean3)\n",
        "valid_3_dist, valid_3_dist.shape"
      ],
      "metadata": {
        "id": "i0UjP77ZexlU",
        "outputId": "a6fd8128-c257-48aa-fa30-6785d8661846",
        "colab": {
          "base_uri": "https://localhost:8080/"
        }
      },
      "execution_count": 34,
      "outputs": [
        {
          "output_type": "execute_result",
          "data": {
            "text/plain": [
              "(tensor([0.1334, 0.1305, 0.1308,  ..., 0.1283, 0.1192, 0.1086]),\n",
              " torch.Size([1010]))"
            ]
          },
          "metadata": {},
          "execution_count": 34
        }
      ]
    },
    {
      "cell_type": "markdown",
      "source": [
        "<details>\n",
        "  <summary>\n",
        "    <b>The concept of broadcasting </b>\n",
        "  </summary>\n",
        "Broadcasting is a powerful feature in PyTorch that allows you to perform operations on tensors of different shapes without explicitly reshaping them. Here's a breakdown of how it works:<br>\n",
        "When we perform an operation between two tensors of different ranks (dimensions), PyTorch automatically expands the smaller tensor to match the shape of the larger tensor. <i>This process is called broadcasting</i>. It simplifies tensor operations and makes the code more concise.\n",
        "</details>"
      ],
      "metadata": {
        "id": "tDPAXb4vfXhz"
      }
    },
    {
      "cell_type": "code",
      "source": [
        "#@ Simple example to illustrate broadcasting:\n",
        "\n",
        "##! Performing calculations in normal operations:\n",
        "a = torch.tensor([10., 6, -4]) #Tensor of shape 3\n",
        "b = torch.tensor([2., 8, 7])   #Tensor of shape 3\n",
        "print(\"The normal operation a+b:\", a + b)\n",
        "\n",
        "##! Changing the shape of tensor a:\n",
        "a= torch.tensor(1)\n",
        "print(\"After changing the shape of tensor a: \", a.ndim)\n",
        "print(\"We got the rank of a to be scalar\")\n",
        "print(\"Checking the rank of unchanged tensor b: \", b.ndim)\n",
        "print(\"And b is of rank 1 which is vector.\")"
      ],
      "metadata": {
        "id": "-RpUHacMg4Gz",
        "outputId": "bc817a8f-9191-40ac-b10a-fd9d34cba06c",
        "colab": {
          "base_uri": "https://localhost:8080/"
        }
      },
      "execution_count": 35,
      "outputs": [
        {
          "output_type": "stream",
          "name": "stdout",
          "text": [
            "The normal operation a+b: tensor([12., 14.,  3.])\n",
            "After changing the shape of tensor a:  0\n",
            "We got the rank of a to be scalar\n",
            "Checking the rank of unchanged tensor b:  1\n",
            "And b is of rank 1 which is vector.\n"
          ]
        }
      ]
    },
    {
      "cell_type": "markdown",
      "source": [
        "So theoritically, we should not be able to perform operations between scalars and vectors. **But that's where broadcasting kicks in.**"
      ],
      "metadata": {
        "id": "aakq-ShgjIWg"
      }
    },
    {
      "cell_type": "code",
      "source": [
        "## Seeing broadcasting in action:\n",
        "res = a+b #Broadcasting in the backend of PyTorch\n",
        "print(\"So adding two gives:\",res)"
      ],
      "metadata": {
        "id": "UrWkttSKjc2N",
        "outputId": "7e72388e-c253-4774-d375-8a0629ffcdae",
        "colab": {
          "base_uri": "https://localhost:8080/"
        }
      },
      "execution_count": 36,
      "outputs": [
        {
          "output_type": "stream",
          "name": "stdout",
          "text": [
            "So adding two gives: tensor([3., 9., 8.])\n"
          ]
        }
      ]
    },
    {
      "cell_type": "markdown",
      "source": [
        "<details>\n",
        "  <summary>\n",
        "      <b>Why is this effecient anyway? </b>\n",
        "  </summary>\n",
        "Broadcasting is efficient because PyTorch doesn't actually copy the smaller tensor multiple times. Instead, it pretends the tensor has the larger shape and performs the operation in a highly optimized manner, often in C or CUDA for GPUs. This makes tensor operations both expressive and performant.\n",
        "</details>"
      ],
      "metadata": {
        "id": "gvAAIUGbkTn-"
      }
    },
    {
      "cell_type": "code",
      "source": [
        "#@ Using this concept to figure out whether an image is 3 by using the following logic:\n",
        "def is_3(x):\n",
        "    return mnist_distance(x, mean3) < mnist_distance(x, mean7)\n",
        "\n",
        "print(is_3(arb_3), is_3(arb_3).float())\n",
        "\n",
        "print(\"The float value of 1.0 here means True\")"
      ],
      "metadata": {
        "id": "6MSQO81SpOYj",
        "outputId": "a5c4c894-b5c3-4f17-b90f-561204adc670",
        "colab": {
          "base_uri": "https://localhost:8080/"
        }
      },
      "execution_count": 37,
      "outputs": [
        {
          "output_type": "stream",
          "name": "stdout",
          "text": [
            "tensor(True) tensor(1.)\n",
            "The float value of 1.0 here means True\n"
          ]
        }
      ]
    },
    {
      "cell_type": "code",
      "source": [
        "#@ Thanks to broadcasting, we can also test it on the full validation set of 3s\n",
        "is_3(valid_3_tnsr)"
      ],
      "metadata": {
        "id": "Rn7hRzT1qRql",
        "outputId": "e2216bc2-4817-49f3-dae5-8b0e630b51b2",
        "colab": {
          "base_uri": "https://localhost:8080/"
        }
      },
      "execution_count": 38,
      "outputs": [
        {
          "output_type": "execute_result",
          "data": {
            "text/plain": [
              "tensor([True, True, True,  ..., True, True, True])"
            ]
          },
          "metadata": {},
          "execution_count": 38
        }
      ]
    },
    {
      "cell_type": "code",
      "source": [
        "## Now calculating accuracies\n",
        "accuracy_3= is_3(valid_3_tnsr).float().mean()\n",
        "accuracy_7= is_3(valid_7_tnsr).float().mean()\n",
        "accuracy_3, accuracy_7"
      ],
      "metadata": {
        "id": "PYuqtyOjqoyz",
        "colab": {
          "base_uri": "https://localhost:8080/"
        },
        "outputId": "d64a9315-19ff-4cfa-9412-6ed3b0af100b"
      },
      "execution_count": 39,
      "outputs": [
        {
          "output_type": "execute_result",
          "data": {
            "text/plain": [
              "(tensor(0.9168), tensor(0.0146))"
            ]
          },
          "metadata": {},
          "execution_count": 39
        }
      ]
    },
    {
      "cell_type": "markdown",
      "source": [
        "So, for the function `is_3()` the `valid_3_tenr` gave the probability value closer to 1 meaning the accuracy is valid. Now testig the same for `def is_7()`"
      ],
      "metadata": {
        "id": "bYrJMsHDq-1r"
      }
    },
    {
      "cell_type": "code",
      "source": [
        "#@ Back to 7\n",
        "def is_7(x):\n",
        "    return mnist_distance(x, mean7) < mnist_distance(x, mean3)\n",
        "\n",
        "is_7(arb_7), is_7(arb_7).float()"
      ],
      "metadata": {
        "id": "MH8u6lNurYUq",
        "outputId": "563c4c22-31a9-4276-fabd-4faa79410b2a",
        "colab": {
          "base_uri": "https://localhost:8080/"
        }
      },
      "execution_count": 40,
      "outputs": [
        {
          "output_type": "execute_result",
          "data": {
            "text/plain": [
              "(tensor(True), tensor(1.))"
            ]
          },
          "metadata": {},
          "execution_count": 40
        }
      ]
    },
    {
      "cell_type": "code",
      "source": [
        "accuracy_7s = is_7(valid_7_tnsr).float().mean()\n",
        "accuracy_7s"
      ],
      "metadata": {
        "id": "f9-W7VJGrj-s",
        "outputId": "a73c0cf2-b455-42e8-a3e5-d0e6601cae7f",
        "colab": {
          "base_uri": "https://localhost:8080/"
        }
      },
      "execution_count": 41,
      "outputs": [
        {
          "output_type": "execute_result",
          "data": {
            "text/plain": [
              "tensor(0.9854)"
            ]
          },
          "metadata": {},
          "execution_count": 41
        }
      ]
    },
    {
      "cell_type": "code",
      "source": [
        "#@ But turns out we don't need to test this way:\n",
        "#@ If we know the concept of probability, the sum total is always 1. So we could do like\n",
        "accuracy_7 = (1 - is_3(valid_7_tnsr).float()).mean()\n",
        "accuracy_7"
      ],
      "metadata": {
        "id": "KqBOlEjSr_uq",
        "outputId": "3dc238cb-fb59-4a80-867f-92eaff4d1351",
        "colab": {
          "base_uri": "https://localhost:8080/"
        }
      },
      "execution_count": 42,
      "outputs": [
        {
          "output_type": "execute_result",
          "data": {
            "text/plain": [
              "tensor(0.9854)"
            ]
          },
          "metadata": {},
          "execution_count": 42
        }
      ]
    },
    {
      "cell_type": "markdown",
      "source": [
        "### **Second Try**: SGD"
      ],
      "metadata": {
        "id": "fz16o6KHZyRW"
      }
    },
    {
      "cell_type": "markdown",
      "source": [
        "Instead of trying to find the similarity between an image and an \"ideal image\", we could look at each individual pixel and come up with a set of weights for each, such that the highest weights are associated with those pixels most likely be black for a particular category."
      ],
      "metadata": {
        "id": "zs2nKxpcZ42d"
      }
    },
    {
      "cell_type": "code",
      "source": [
        "#@ First going with a simpler most basic approach:\n",
        "\n",
        "def f(x):                     #!! Initializing the function\n",
        "  return x**2\n",
        "\n",
        "#!! Calculating gradients\n",
        "xt = tensor(3.).requires_grad_()\n",
        "yt= f(xt)\n",
        "print(yt)\n",
        "yt.backward()                 #!! back prop  ---> Calculating the derivative of each layer\n",
        "xt.grad\n",
        "print(\"The value of backprop is:\",xt.grad)"
      ],
      "metadata": {
        "id": "1EclgRFV6Y8D",
        "outputId": "7168eacd-49ae-4baf-eea8-1e879b7fbd1e",
        "colab": {
          "base_uri": "https://localhost:8080/"
        }
      },
      "execution_count": 43,
      "outputs": [
        {
          "output_type": "stream",
          "name": "stdout",
          "text": [
            "tensor(9., grad_fn=<PowBackward0>)\n",
            "The value of backprop is: tensor(6.)\n"
          ]
        }
      ]
    },
    {
      "cell_type": "markdown",
      "source": [
        "So, what we get here is the derivation with respect to xt. i.e.,\n",
        "$\\frac{\\partial y}{\\partial x} =\\frac{\\partial x^2}{\\partial x} = 2x$"
      ],
      "metadata": {
        "id": "0BDm4CCn7Aw1"
      }
    },
    {
      "cell_type": "code",
      "source": [
        "#@ Now doing the same for vector arguments in the function\n",
        "xt= tensor([1., 2., 3.], requires_grad=True)\n",
        "print(\"The vector arg xt: \",xt)\n",
        "\n",
        "\n",
        "#!! Then we add sum to our function so that the function can take vectors (rank1 tensor) and return scalar\n",
        "def f(x):\n",
        "  return (x**2).sum()\n",
        "\n",
        "yt = f(xt)\n",
        "yt\n",
        "print(yt)\n",
        "yt.backward()\n",
        "xt.grad\n",
        "print(\"The values become:\", xt.grad)"
      ],
      "metadata": {
        "id": "ik5TWrbB9nlr",
        "outputId": "7b3916d3-a206-4427-b995-ae1d3c328934",
        "colab": {
          "base_uri": "https://localhost:8080/"
        }
      },
      "execution_count": 44,
      "outputs": [
        {
          "output_type": "stream",
          "name": "stdout",
          "text": [
            "The vector arg xt:  tensor([1., 2., 3.], requires_grad=True)\n",
            "tensor(14., grad_fn=<SumBackward0>)\n",
            "The values become: tensor([2., 4., 6.])\n"
          ]
        }
      ]
    },
    {
      "cell_type": "code",
      "source": [
        "#@ An end to end SGD Example:\n",
        "time = torch.arange(0, 20).float();\n",
        "print(time)\n",
        "speed = torch.randn(20)*3 + 0.75*(time-9.5)**2 + 1\n",
        "plt.scatter(time, speed);"
      ],
      "metadata": {
        "colab": {
          "base_uri": "https://localhost:8080/",
          "height": 452
        },
        "id": "g-gBMfrC1HZf",
        "outputId": "506240a2-40ac-4418-d9d4-93e3749af74b"
      },
      "execution_count": 45,
      "outputs": [
        {
          "output_type": "stream",
          "name": "stdout",
          "text": [
            "tensor([ 0.,  1.,  2.,  3.,  4.,  5.,  6.,  7.,  8.,  9., 10., 11., 12., 13., 14., 15., 16., 17., 18., 19.])\n"
          ]
        },
        {
          "output_type": "display_data",
          "data": {
            "text/plain": [
              "<Figure size 640x480 with 1 Axes>"
            ],
            "image/png": "[encoded data removed]"
          },
          "metadata": {}
        }
      ]
    },
    {
      "cell_type": "code",
      "source": [
        "## Implementation of SGD\n",
        "def f(t, params):\n",
        "  a, b, c = params\n",
        "  return a*(t**2) + (b*t) + c\n",
        "\n",
        "def mse(preds, targets):\n",
        "  return ((preds-targets)**2).mean()"
      ],
      "metadata": {
        "id": "1OTZWmmM1cMu"
      },
      "execution_count": 46,
      "outputs": []
    },
    {
      "cell_type": "markdown",
      "source": [
        "**Step 1**: Initializing the parameters"
      ],
      "metadata": {
        "id": "EKrd4FGSAMtu"
      }
    },
    {
      "cell_type": "code",
      "source": [
        "#@ We initialize the parameters to random values and ask pyTorch to trach gradients\n",
        "\n",
        "params = torch.randn(3).requires_grad_()"
      ],
      "metadata": {
        "id": "v9tN6TLq4Bnu"
      },
      "execution_count": 47,
      "outputs": []
    },
    {
      "cell_type": "markdown",
      "source": [
        "**Step 2**: Calculating the predictions:"
      ],
      "metadata": {
        "id": "B5H4DyV84YSo"
      }
    },
    {
      "cell_type": "code",
      "source": [
        "preds = f(time, params)"
      ],
      "metadata": {
        "id": "f8dp0oiE4eQN"
      },
      "execution_count": 48,
      "outputs": []
    },
    {
      "cell_type": "code",
      "source": [
        "#!! Creating a small function to see how close our predictions are to out tragets\n",
        "\n",
        "def show_preds(preds, ax= None):\n",
        "  if ax is None:\n",
        "    ax = plt.subplots()[1]\n",
        "  ax.scatter(time, speed)\n",
        "  ax.scatter(time, to_np(preds), color='red')\n",
        "  ax.set_ylim(-300, 100)\n",
        "\n",
        "show_preds(preds)"
      ],
      "metadata": {
        "colab": {
          "base_uri": "https://localhost:8080/",
          "height": 441
        },
        "id": "j_U-yh6e4yuB",
        "outputId": "8ad77ffa-7359-4bd2-bb03-bc7369f61172"
      },
      "execution_count": 49,
      "outputs": [
        {
          "output_type": "display_data",
          "data": {
            "text/plain": [
              "<Figure size 640x480 with 1 Axes>"
            ],
            "image/png": "[encoded data removed]"
          },
          "metadata": {}
        }
      ]
    },
    {
      "cell_type": "markdown",
      "source": [
        "And this doesnot look any close."
      ],
      "metadata": {
        "id": "v0aVlSOW5yl1"
      }
    },
    {
      "cell_type": "markdown",
      "source": [
        "**Step 3**: Calculating the Loss"
      ],
      "metadata": {
        "id": "tvvyCA705tqm"
      }
    },
    {
      "cell_type": "code",
      "source": [
        "loss = mse(preds, speed)\n",
        "loss"
      ],
      "metadata": {
        "colab": {
          "base_uri": "https://localhost:8080/"
        },
        "id": "soxLCLCZ6GPv",
        "outputId": "fa08c85c-458f-40fe-ba7c-56567e449402"
      },
      "execution_count": 50,
      "outputs": [
        {
          "output_type": "execute_result",
          "data": {
            "text/plain": [
              "tensor(25823.8086, grad_fn=<MeanBackward0>)"
            ]
          },
          "metadata": {},
          "execution_count": 50
        }
      ]
    },
    {
      "cell_type": "markdown",
      "source": [
        "**Step 4:** Calculating the gradients"
      ],
      "metadata": {
        "id": "DvXHAOoS6J23"
      }
    },
    {
      "cell_type": "code",
      "source": [
        "loss.backward()\n",
        "params.grad"
      ],
      "metadata": {
        "colab": {
          "base_uri": "https://localhost:8080/"
        },
        "id": "i3gWXloA6VUw",
        "outputId": "0384071b-83a0-4f45-b8e3-242aa9bb1540"
      },
      "execution_count": 51,
      "outputs": [
        {
          "output_type": "execute_result",
          "data": {
            "text/plain": [
              "tensor([-53195.8633,  -3419.7148,   -253.8908])"
            ]
          },
          "metadata": {},
          "execution_count": 51
        }
      ]
    },
    {
      "cell_type": "code",
      "source": [
        "params.grad * 1e-5 ## Multiplying by 0.00001 which is supposed to be the learning rate"
      ],
      "metadata": {
        "colab": {
          "base_uri": "https://localhost:8080/"
        },
        "id": "WDjsgz_o6bcP",
        "outputId": "357fc48b-492d-4bb7-a8f1-34ccf42d7a7d"
      },
      "execution_count": 52,
      "outputs": [
        {
          "output_type": "execute_result",
          "data": {
            "text/plain": [
              "tensor([-0.5320, -0.0342, -0.0025])"
            ]
          },
          "metadata": {},
          "execution_count": 52
        }
      ]
    },
    {
      "cell_type": "markdown",
      "source": [
        "**Step 5**: Stepping the weights"
      ],
      "metadata": {
        "id": "G7GNO-x86gTe"
      }
    },
    {
      "cell_type": "code",
      "source": [
        "lr = 1e-5\n",
        "params.data -= lr * params.grad.data\n",
        "params.grad = None"
      ],
      "metadata": {
        "id": "dddrkB9l6yK6"
      },
      "execution_count": 53,
      "outputs": []
    },
    {
      "cell_type": "code",
      "source": [
        "#@ Checking if the loss has improved:\n",
        "preds = f(time, params)\n",
        "mse(preds, speed)\n",
        "\n",
        "show_preds(preds)"
      ],
      "metadata": {
        "colab": {
          "base_uri": "https://localhost:8080/",
          "height": 441
        },
        "id": "xMpsNzt_8GYA",
        "outputId": "212d7be5-7b42-4cc1-99b3-9f5fc9c79a98"
      },
      "execution_count": 54,
      "outputs": [
        {
          "output_type": "display_data",
          "data": {
            "text/plain": [
              "<Figure size 640x480 with 1 Axes>"
            ],
            "image/png": "[encoded data removed]"
          },
          "metadata": {}
        }
      ]
    },
    {
      "cell_type": "markdown",
      "source": [
        "And infact it has decreased quite a bit"
      ],
      "metadata": {
        "id": "sreQgyrF8XA2"
      }
    },
    {
      "cell_type": "markdown",
      "source": [
        "**Step 6**: Repeating the process"
      ],
      "metadata": {
        "id": "qbf8g8QU8erQ"
      }
    },
    {
      "cell_type": "code",
      "source": [
        "## Defining the function that applies steps\n",
        "\n",
        "def apply_steps(params, prn= True):\n",
        "  preds = f(time, params)\n",
        "  loss = mse(preds, speed)\n",
        "  loss.backward()\n",
        "  params.data -= lr * params.grad.data\n",
        "  params.grad = None\n",
        "  if prn: print(loss.item())\n",
        "  return preds\n",
        "\n",
        "#@ Implementation of the function\n",
        "for i in range(10):\n",
        "  apply_steps(params)"
      ],
      "metadata": {
        "colab": {
          "base_uri": "https://localhost:8080/"
        },
        "id": "BJRbCzIm8uL1",
        "outputId": "adc267bc-ce70-4239-d995-1e5e1cefdc0a"
      },
      "execution_count": 55,
      "outputs": [
        {
          "output_type": "stream",
          "name": "stdout",
          "text": [
            "5435.53564453125\n",
            "1577.44921875\n",
            "847.3778076171875\n",
            "709.2225341796875\n",
            "683.0758056640625\n",
            "678.1243896484375\n",
            "677.1838989257812\n",
            "677.0023803710938\n",
            "676.9645385742188\n",
            "676.9537353515625\n"
          ]
        }
      ]
    },
    {
      "cell_type": "markdown",
      "source": [
        "The loss is now going down over the iterations."
      ],
      "metadata": {
        "id": "nZTwmGvW9zzM"
      }
    },
    {
      "cell_type": "code",
      "source": [
        "#@ Now visualizing this:\n",
        "_,axs = plt.subplots(1,4,figsize=(12,3))\n",
        "for ax in axs: show_preds(apply_steps(params, False), ax)\n",
        "plt.tight_layout()"
      ],
      "metadata": {
        "colab": {
          "base_uri": "https://localhost:8080/",
          "height": 300
        },
        "id": "SxG3Rs479Shm",
        "outputId": "6df463cd-350e-4b7d-985a-c8659a34778e"
      },
      "execution_count": 56,
      "outputs": [
        {
          "output_type": "display_data",
          "data": {
            "text/plain": [
              "<Figure size 1200x300 with 4 Axes>"
            ],
            "image/png": "[encoded data removed]"
          },
          "metadata": {}
        }
      ]
    },
    {
      "cell_type": "code",
      "source": [],
      "metadata": {
        "id": "sbFDCj9zCWd9"
      },
      "execution_count": 56,
      "outputs": []
    }
  ]
}