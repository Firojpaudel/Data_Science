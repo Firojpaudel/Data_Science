{
  "nbformat": 4,
  "nbformat_minor": 0,
  "metadata": {
    "colab": {
      "provenance": [],
      "authorship_tag": "ABX9TyOyie1DajR/njkr5jeLXpVK",
      "include_colab_link": true
    },
    "kernelspec": {
      "name": "python3",
      "display_name": "Python 3"
    },
    "language_info": {
      "name": "python"
    }
  },
  "cells": [
    {
      "cell_type": "markdown",
      "metadata": {
        "id": "view-in-github",
        "colab_type": "text"
      },
      "source": [
        "<a href=\"https://colab.research.google.com/github/Firojpaudel/Machine-Learning-Notes/blob/main/Practical%20Deep%20Learning%20For%20Coders/Chapter_4.ipynb\" target=\"_parent\"><img src=\"https://colab.research.google.com/assets/colab-badge.svg\" alt=\"Open In Colab\"/></a>"
      ]
    },
    {
      "cell_type": "markdown",
      "source": [
        "## Training a Digit Classifier"
      ],
      "metadata": {
        "id": "Gab4QLczJMyj"
      }
    },
    {
      "cell_type": "code",
      "source": [
        "#First initializing the notebook\n",
        "%reload_ext autoreload\n",
        "%autoreload 2\n",
        "%matplotlib inline"
      ],
      "metadata": {
        "id": "-LC0cV5JKjJp"
      },
      "execution_count": 1,
      "outputs": []
    },
    {
      "cell_type": "code",
      "source": [
        "!pip install -Uqq fastbook\n",
        "import fastbook\n",
        "fastbook.setup_book()"
      ],
      "metadata": {
        "id": "B99rJS3-K8VD",
        "outputId": "db600437-aefb-464b-aaee-c834c077ce6a",
        "colab": {
          "base_uri": "https://localhost:8080/"
        }
      },
      "execution_count": 2,
      "outputs": [
        {
          "output_type": "stream",
          "name": "stdout",
          "text": [
            "\u001b[?25l   \u001b[90m━━━━━━━━━━━━━━━━━━━━━━━━━━━━━━━━━━━━━━━━\u001b[0m \u001b[32m0.0/719.8 kB\u001b[0m \u001b[31m?\u001b[0m eta \u001b[36m-:--:--\u001b[0m\r\u001b[2K   \u001b[91m━━━━━━━━━━━━━━━━━━━━━━━━━━━━━━━━━━━━━━━\u001b[0m\u001b[91m╸\u001b[0m \u001b[32m716.8/719.8 kB\u001b[0m \u001b[31m35.0 MB/s\u001b[0m eta \u001b[36m0:00:01\u001b[0m\r\u001b[2K   \u001b[91m━━━━━━━━━━━━━━━━━━━━━━━━━━━━━━━━━━━━━━━\u001b[0m\u001b[91m╸\u001b[0m \u001b[32m716.8/719.8 kB\u001b[0m \u001b[31m35.0 MB/s\u001b[0m eta \u001b[36m0:00:01\u001b[0m\r\u001b[2K   \u001b[90m━━━━━━━━━━━━━━━━━━━━━━━━━━━━━━━━━━━━━━━━\u001b[0m \u001b[32m719.8/719.8 kB\u001b[0m \u001b[31m5.3 MB/s\u001b[0m eta \u001b[36m0:00:00\u001b[0m\n",
            "\u001b[2K   \u001b[90m━━━━━━━━━━━━━━━━━━━━━━━━━━━━━━━━━━━━━━━━\u001b[0m \u001b[32m472.7/472.7 kB\u001b[0m \u001b[31m15.9 MB/s\u001b[0m eta \u001b[36m0:00:00\u001b[0m\n",
            "\u001b[2K   \u001b[90m━━━━━━━━━━━━━━━━━━━━━━━━━━━━━━━━━━━━━━━━\u001b[0m \u001b[32m116.3/116.3 kB\u001b[0m \u001b[31m2.7 MB/s\u001b[0m eta \u001b[36m0:00:00\u001b[0m\n",
            "\u001b[2K   \u001b[90m━━━━━━━━━━━━━━━━━━━━━━━━━━━━━━━━━━━━━━━━\u001b[0m \u001b[32m134.8/134.8 kB\u001b[0m \u001b[31m5.3 MB/s\u001b[0m eta \u001b[36m0:00:00\u001b[0m\n",
            "\u001b[2K   \u001b[90m━━━━━━━━━━━━━━━━━━━━━━━━━━━━━━━━━━━━━━━━\u001b[0m \u001b[32m194.1/194.1 kB\u001b[0m \u001b[31m7.2 MB/s\u001b[0m eta \u001b[36m0:00:00\u001b[0m\n",
            "\u001b[2K   \u001b[90m━━━━━━━━━━━━━━━━━━━━━━━━━━━━━━━━━━━━━━━━\u001b[0m \u001b[32m1.6/1.6 MB\u001b[0m \u001b[31m20.1 MB/s\u001b[0m eta \u001b[36m0:00:00\u001b[0m\n",
            "\u001b[?25hMounted at /content/gdrive\n"
          ]
        }
      ]
    },
    {
      "cell_type": "code",
      "source": [
        "from fastai.vision.all import *\n",
        "from fastbook import *"
      ],
      "metadata": {
        "id": "ULkEpbTWMO8s"
      },
      "execution_count": 3,
      "outputs": []
    },
    {
      "cell_type": "markdown",
      "source": [
        "### **Lesson 1:** How images are represented in a computer:"
      ],
      "metadata": {
        "id": "UcsxnU8YJaUz"
      }
    },
    {
      "cell_type": "markdown",
      "source": [
        "For the initial learning, I'm just creating a model that classifies any image as *3 or 7*. Before that, downloading a sample of MNIST that contains images of just these digits"
      ],
      "metadata": {
        "id": "fK5ZmDN-KBE8"
      }
    },
    {
      "cell_type": "code",
      "source": [
        "path = untar_data(URLs.MNIST_SAMPLE)"
      ],
      "metadata": {
        "colab": {
          "base_uri": "https://localhost:8080/",
          "height": 37
        },
        "id": "pCw6qVKiMBfk",
        "outputId": "7475b7ae-1691-4def-cc78-f8baa2b78bd6"
      },
      "execution_count": 4,
      "outputs": [
        {
          "output_type": "display_data",
          "data": {
            "text/plain": [
              "<IPython.core.display.HTML object>"
            ],
            "text/html": [
              "\n",
              "<style>\n",
              "    /* Turns off some styling */\n",
              "    progress {\n",
              "        /* gets rid of default border in Firefox and Opera. */\n",
              "        border: none;\n",
              "        /* Needs to be in here for Safari polyfill so background images work as expected. */\n",
              "        background-size: auto;\n",
              "    }\n",
              "    progress:not([value]), progress:not([value])::-webkit-progress-bar {\n",
              "        background: repeating-linear-gradient(45deg, #7e7e7e, #7e7e7e 10px, #5c5c5c 10px, #5c5c5c 20px);\n",
              "    }\n",
              "    .progress-bar-interrupted, .progress-bar-interrupted::-webkit-progress-bar {\n",
              "        background: #F44336;\n",
              "    }\n",
              "</style>\n"
            ]
          },
          "metadata": {}
        },
        {
          "output_type": "display_data",
          "data": {
            "text/plain": [
              "<IPython.core.display.HTML object>"
            ],
            "text/html": [
              "\n",
              "    <div>\n",
              "      <progress value='3219456' class='' max='3214948' style='width:300px; height:20px; vertical-align: middle;'></progress>\n",
              "      100.14% [3219456/3214948 00:00&lt;00:00]\n",
              "    </div>\n",
              "    "
            ]
          },
          "metadata": {}
        }
      ]
    },
    {
      "cell_type": "code",
      "source": [
        "## Checking the directory\n",
        "path.ls()"
      ],
      "metadata": {
        "colab": {
          "base_uri": "https://localhost:8080/"
        },
        "id": "3T116VSEMIjd",
        "outputId": "a5326462-53dd-4647-8561-12ef243540bb"
      },
      "execution_count": 5,
      "outputs": [
        {
          "output_type": "execute_result",
          "data": {
            "text/plain": [
              "(#3) [Path('/root/.fastai/data/mnist_sample/valid'),Path('/root/.fastai/data/mnist_sample/train'),Path('/root/.fastai/data/mnist_sample/labels.csv')]"
            ]
          },
          "metadata": {},
          "execution_count": 5
        }
      ]
    },
    {
      "cell_type": "code",
      "source": [
        "## Checking what's inside the training set\n",
        "(path/'train').ls()"
      ],
      "metadata": {
        "colab": {
          "base_uri": "https://localhost:8080/"
        },
        "id": "8UbhnRajMoUr",
        "outputId": "110b5dd8-8f97-400a-ddc3-f7991acf7499"
      },
      "execution_count": 6,
      "outputs": [
        {
          "output_type": "execute_result",
          "data": {
            "text/plain": [
              "(#2) [Path('/root/.fastai/data/mnist_sample/train/7'),Path('/root/.fastai/data/mnist_sample/train/3')]"
            ]
          },
          "metadata": {},
          "execution_count": 6
        }
      ]
    },
    {
      "cell_type": "markdown",
      "source": [
        "So, yeah! there are images of 7 and 3 in the training set. The images inside these folders are labelled accordingly."
      ],
      "metadata": {
        "id": "cFt0Xp64M3N9"
      }
    },
    {
      "cell_type": "code",
      "source": [
        "## Taking a look in these folders to check the images.\n",
        "three = (path/'train'/'3').ls().sorted()\n",
        "seven= (path/'train'/'7').ls().sorted()"
      ],
      "metadata": {
        "id": "8Ie3OEynNIMk"
      },
      "execution_count": 7,
      "outputs": []
    },
    {
      "cell_type": "code",
      "source": [
        "three"
      ],
      "metadata": {
        "colab": {
          "base_uri": "https://localhost:8080/"
        },
        "id": "31BAYZ4wNbGU",
        "outputId": "90a57f5e-b169-444c-caaf-b8d619044a73"
      },
      "execution_count": 8,
      "outputs": [
        {
          "output_type": "execute_result",
          "data": {
            "text/plain": [
              "(#6131) [Path('/root/.fastai/data/mnist_sample/train/3/10.png'),Path('/root/.fastai/data/mnist_sample/train/3/10000.png'),Path('/root/.fastai/data/mnist_sample/train/3/10011.png'),Path('/root/.fastai/data/mnist_sample/train/3/10031.png'),Path('/root/.fastai/data/mnist_sample/train/3/10034.png'),Path('/root/.fastai/data/mnist_sample/train/3/10042.png'),Path('/root/.fastai/data/mnist_sample/train/3/10052.png'),Path('/root/.fastai/data/mnist_sample/train/3/1007.png'),Path('/root/.fastai/data/mnist_sample/train/3/10074.png'),Path('/root/.fastai/data/mnist_sample/train/3/10091.png')...]"
            ]
          },
          "metadata": {},
          "execution_count": 8
        }
      ]
    },
    {
      "cell_type": "code",
      "source": [
        "seven"
      ],
      "metadata": {
        "colab": {
          "base_uri": "https://localhost:8080/"
        },
        "id": "icgyMIMiNsFq",
        "outputId": "1c1cde9a-bb77-46c8-a066-fa0272d7596c"
      },
      "execution_count": 9,
      "outputs": [
        {
          "output_type": "execute_result",
          "data": {
            "text/plain": [
              "(#6265) [Path('/root/.fastai/data/mnist_sample/train/7/10002.png'),Path('/root/.fastai/data/mnist_sample/train/7/1001.png'),Path('/root/.fastai/data/mnist_sample/train/7/10014.png'),Path('/root/.fastai/data/mnist_sample/train/7/10019.png'),Path('/root/.fastai/data/mnist_sample/train/7/10039.png'),Path('/root/.fastai/data/mnist_sample/train/7/10046.png'),Path('/root/.fastai/data/mnist_sample/train/7/10050.png'),Path('/root/.fastai/data/mnist_sample/train/7/10063.png'),Path('/root/.fastai/data/mnist_sample/train/7/10077.png'),Path('/root/.fastai/data/mnist_sample/train/7/10086.png')...]"
            ]
          },
          "metadata": {},
          "execution_count": 9
        }
      ]
    },
    {
      "cell_type": "markdown",
      "source": [
        "They are all full of .png files.\n"
      ],
      "metadata": {
        "id": "42t_z8kQNtgz"
      }
    },
    {
      "cell_type": "code",
      "source": [
        "## Taking a look at one of them\n",
        "img3 = Image.open(three[0])\n",
        "img3"
      ],
      "metadata": {
        "colab": {
          "base_uri": "https://localhost:8080/",
          "height": 45
        },
        "id": "0OB9Yu9mN3a9",
        "outputId": "5843fb44-b18f-4e64-abbf-c9a685e60a06"
      },
      "execution_count": 10,
      "outputs": [
        {
          "output_type": "execute_result",
          "data": {
            "text/plain": [
              "<PIL.PngImagePlugin.PngImageFile image mode=L size=28x28>"
            ],
            "image/png": "[encoded data removed]",
            "image/jpeg": "[encoded data removed]"
          },
          "metadata": {},
          "execution_count": 10
        }
      ]
    },
    {
      "cell_type": "markdown",
      "source": [
        "In computer as we know all data is represented as a number, we have to convert the images into an array or tensor before model training."
      ],
      "metadata": {
        "id": "evzSxUO0OINt"
      }
    },
    {
      "cell_type": "code",
      "source": [
        "## Converting to array\n",
        "array(img3)\n",
        "\n",
        "'''\n",
        "This is similar to doing:\n",
        "array = np.array(img3)\n",
        "array\n",
        "\n",
        "'''"
      ],
      "metadata": {
        "colab": {
          "base_uri": "https://localhost:8080/",
          "height": 36
        },
        "id": "Ig8m-HGtO1oc",
        "outputId": "bbfed9b2-b4e0-4172-cce7-2b7eeb33877c"
      },
      "execution_count": 11,
      "outputs": [
        {
          "output_type": "execute_result",
          "data": {
            "text/plain": [
              "'\\nThis is similar to doing:\\narray = np.array(img3)\\narray\\n\\n'"
            ],
            "application/vnd.google.colaboratory.intrinsic+json": {
              "type": "string"
            }
          },
          "metadata": {},
          "execution_count": 11
        }
      ]
    },
    {
      "cell_type": "code",
      "source": [
        "#@ Side learnings:\n",
        "#@ If we wish to see the array from particular index in both rows and columns, we could do like:\n",
        "np.array(img3)[4:10,4:10]"
      ],
      "metadata": {
        "colab": {
          "base_uri": "https://localhost:8080/"
        },
        "id": "5Y9iqiw8PTZj",
        "outputId": "47ed7a41-4f8a-43cf-a93e-5ac7e4cbe3a6"
      },
      "execution_count": 12,
      "outputs": [
        {
          "output_type": "execute_result",
          "data": {
            "text/plain": [
              "array([[0, 0, 0, 0, 0, 0],\n",
              "       [0, 0, 0, 0, 0, 0],\n",
              "       [0, 0, 0, 0, 0, 0],\n",
              "       [0, 0, 0, 0, 0, 0],\n",
              "       [0, 0, 0, 0, 0, 0],\n",
              "       [0, 0, 0, 0, 0, 0]], dtype=uint8)"
            ]
          },
          "metadata": {},
          "execution_count": 12
        }
      ]
    },
    {
      "cell_type": "code",
      "source": [
        "## Now, in pytorch, it's kinda different. We have tensors instead of arrays\n",
        "tensor(img3)[4:10, 4:10]"
      ],
      "metadata": {
        "colab": {
          "base_uri": "https://localhost:8080/"
        },
        "id": "qMMoSaVKQHVF",
        "outputId": "d4b933c4-05cc-43df-99f1-b9abe03736b6"
      },
      "execution_count": 13,
      "outputs": [
        {
          "output_type": "execute_result",
          "data": {
            "text/plain": [
              "tensor([[0, 0, 0, 0, 0, 0],\n",
              "        [0, 0, 0, 0, 0, 0],\n",
              "        [0, 0, 0, 0, 0, 0],\n",
              "        [0, 0, 0, 0, 0, 0],\n",
              "        [0, 0, 0, 0, 0, 0],\n",
              "        [0, 0, 0, 0, 0, 0]], dtype=torch.uint8)"
            ]
          },
          "metadata": {},
          "execution_count": 13
        }
      ]
    },
    {
      "cell_type": "markdown",
      "source": [
        "Also, we could do sth like color coding in pandas."
      ],
      "metadata": {
        "id": "cxzcgcEoQvJM"
      }
    },
    {
      "cell_type": "code",
      "source": [
        "#@ Visualizing in pandas\n",
        "df= pd.DataFrame(tensor(img3)[3:13, 9:19])\n",
        "df.style.set_properties(**{'font-size':'6pt'}).background_gradient('Greys')"
      ],
      "metadata": {
        "colab": {
          "base_uri": "https://localhost:8080/",
          "height": 363
        },
        "id": "uFE-kt4vRGlc",
        "outputId": "e0327b28-d930-4798-e671-8e95590697e8"
      },
      "execution_count": 14,
      "outputs": [
        {
          "output_type": "execute_result",
          "data": {
            "text/plain": [
              "<pandas.io.formats.style.Styler at 0x7fb0f6849ab0>"
            ],
            "text/html": [
              "<style type=\"text/css\">\n",
              "#T_b1130_row0_col0, #T_b1130_row0_col1, #T_b1130_row0_col2, #T_b1130_row0_col3, #T_b1130_row0_col4, #T_b1130_row0_col5, #T_b1130_row0_col6, #T_b1130_row0_col7, #T_b1130_row0_col8, #T_b1130_row0_col9, #T_b1130_row1_col0, #T_b1130_row1_col1, #T_b1130_row1_col9, #T_b1130_row2_col0, #T_b1130_row2_col9, #T_b1130_row3_col0, #T_b1130_row4_col0, #T_b1130_row4_col1, #T_b1130_row5_col0, #T_b1130_row5_col1, #T_b1130_row5_col2, #T_b1130_row6_col0, #T_b1130_row6_col1, #T_b1130_row6_col2, #T_b1130_row7_col0, #T_b1130_row7_col1, #T_b1130_row7_col2, #T_b1130_row7_col3, #T_b1130_row8_col0, #T_b1130_row8_col1, #T_b1130_row8_col2, #T_b1130_row9_col0 {\n",
              "  font-size: 6pt;\n",
              "  background-color: #ffffff;\n",
              "  color: #000000;\n",
              "}\n",
              "#T_b1130_row1_col2, #T_b1130_row3_col1 {\n",
              "  font-size: 6pt;\n",
              "  background-color: #e7e7e7;\n",
              "  color: #000000;\n",
              "}\n",
              "#T_b1130_row1_col3, #T_b1130_row1_col6, #T_b1130_row1_col7 {\n",
              "  font-size: 6pt;\n",
              "  background-color: #a2a2a2;\n",
              "  color: #f1f1f1;\n",
              "}\n",
              "#T_b1130_row1_col4 {\n",
              "  font-size: 6pt;\n",
              "  background-color: #292929;\n",
              "  color: #f1f1f1;\n",
              "}\n",
              "#T_b1130_row1_col5, #T_b1130_row8_col9 {\n",
              "  font-size: 6pt;\n",
              "  background-color: #6b6b6b;\n",
              "  color: #f1f1f1;\n",
              "}\n",
              "#T_b1130_row1_col8 {\n",
              "  font-size: 6pt;\n",
              "  background-color: #fcfcfc;\n",
              "  color: #000000;\n",
              "}\n",
              "#T_b1130_row2_col1, #T_b1130_row2_col2, #T_b1130_row2_col3, #T_b1130_row2_col4, #T_b1130_row2_col5, #T_b1130_row2_col6, #T_b1130_row2_col7, #T_b1130_row3_col3, #T_b1130_row3_col4, #T_b1130_row3_col5, #T_b1130_row3_col6, #T_b1130_row3_col7, #T_b1130_row4_col4, #T_b1130_row4_col6, #T_b1130_row4_col7, #T_b1130_row4_col8, #T_b1130_row5_col4, #T_b1130_row5_col6, #T_b1130_row5_col7, #T_b1130_row5_col8, #T_b1130_row6_col5, #T_b1130_row6_col6, #T_b1130_row6_col7, #T_b1130_row6_col8, #T_b1130_row7_col6, #T_b1130_row7_col7, #T_b1130_row7_col8, #T_b1130_row7_col9, #T_b1130_row8_col6, #T_b1130_row8_col7, #T_b1130_row8_col8, #T_b1130_row9_col4, #T_b1130_row9_col5, #T_b1130_row9_col6, #T_b1130_row9_col7, #T_b1130_row9_col8 {\n",
              "  font-size: 6pt;\n",
              "  background-color: #000000;\n",
              "  color: #f1f1f1;\n",
              "}\n",
              "#T_b1130_row2_col8 {\n",
              "  font-size: 6pt;\n",
              "  background-color: #d7d7d7;\n",
              "  color: #000000;\n",
              "}\n",
              "#T_b1130_row3_col2, #T_b1130_row4_col3 {\n",
              "  font-size: 6pt;\n",
              "  background-color: #0c0c0c;\n",
              "  color: #f1f1f1;\n",
              "}\n",
              "#T_b1130_row3_col8 {\n",
              "  font-size: 6pt;\n",
              "  background-color: #131313;\n",
              "  color: #f1f1f1;\n",
              "}\n",
              "#T_b1130_row3_col9 {\n",
              "  font-size: 6pt;\n",
              "  background-color: #b3b3b3;\n",
              "  color: #000000;\n",
              "}\n",
              "#T_b1130_row4_col2 {\n",
              "  font-size: 6pt;\n",
              "  background-color: #ababab;\n",
              "  color: #000000;\n",
              "}\n",
              "#T_b1130_row4_col5 {\n",
              "  font-size: 6pt;\n",
              "  background-color: #232323;\n",
              "  color: #f1f1f1;\n",
              "}\n",
              "#T_b1130_row4_col9, #T_b1130_row5_col5 {\n",
              "  font-size: 6pt;\n",
              "  background-color: #363636;\n",
              "  color: #f1f1f1;\n",
              "}\n",
              "#T_b1130_row5_col3 {\n",
              "  font-size: 6pt;\n",
              "  background-color: #3a3a3a;\n",
              "  color: #f1f1f1;\n",
              "}\n",
              "#T_b1130_row5_col9, #T_b1130_row9_col9 {\n",
              "  font-size: 6pt;\n",
              "  background-color: #e3e3e3;\n",
              "  color: #000000;\n",
              "}\n",
              "#T_b1130_row6_col3 {\n",
              "  font-size: 6pt;\n",
              "  background-color: #c7c7c7;\n",
              "  color: #000000;\n",
              "}\n",
              "#T_b1130_row6_col4 {\n",
              "  font-size: 6pt;\n",
              "  background-color: #3c3c3c;\n",
              "  color: #f1f1f1;\n",
              "}\n",
              "#T_b1130_row6_col9 {\n",
              "  font-size: 6pt;\n",
              "  background-color: #dbdbdb;\n",
              "  color: #000000;\n",
              "}\n",
              "#T_b1130_row7_col4 {\n",
              "  font-size: 6pt;\n",
              "  background-color: #f4f4f4;\n",
              "  color: #000000;\n",
              "}\n",
              "#T_b1130_row7_col5 {\n",
              "  font-size: 6pt;\n",
              "  background-color: #383838;\n",
              "  color: #f1f1f1;\n",
              "}\n",
              "#T_b1130_row8_col3 {\n",
              "  font-size: 6pt;\n",
              "  background-color: #c1c1c1;\n",
              "  color: #000000;\n",
              "}\n",
              "#T_b1130_row8_col4 {\n",
              "  font-size: 6pt;\n",
              "  background-color: #8a8a8a;\n",
              "  color: #f1f1f1;\n",
              "}\n",
              "#T_b1130_row8_col5 {\n",
              "  font-size: 6pt;\n",
              "  background-color: #010101;\n",
              "  color: #f1f1f1;\n",
              "}\n",
              "#T_b1130_row9_col1 {\n",
              "  font-size: 6pt;\n",
              "  background-color: #b9b9b9;\n",
              "  color: #000000;\n",
              "}\n",
              "#T_b1130_row9_col2 {\n",
              "  font-size: 6pt;\n",
              "  background-color: #222222;\n",
              "  color: #f1f1f1;\n",
              "}\n",
              "#T_b1130_row9_col3 {\n",
              "  font-size: 6pt;\n",
              "  background-color: #050505;\n",
              "  color: #f1f1f1;\n",
              "}\n",
              "</style>\n",
              "<table id=\"T_b1130\" class=\"dataframe\">\n",
              "  <thead>\n",
              "    <tr>\n",
              "      <th class=\"blank level0\" >&nbsp;</th>\n",
              "      <th id=\"T_b1130_level0_col0\" class=\"col_heading level0 col0\" >0</th>\n",
              "      <th id=\"T_b1130_level0_col1\" class=\"col_heading level0 col1\" >1</th>\n",
              "      <th id=\"T_b1130_level0_col2\" class=\"col_heading level0 col2\" >2</th>\n",
              "      <th id=\"T_b1130_level0_col3\" class=\"col_heading level0 col3\" >3</th>\n",
              "      <th id=\"T_b1130_level0_col4\" class=\"col_heading level0 col4\" >4</th>\n",
              "      <th id=\"T_b1130_level0_col5\" class=\"col_heading level0 col5\" >5</th>\n",
              "      <th id=\"T_b1130_level0_col6\" class=\"col_heading level0 col6\" >6</th>\n",
              "      <th id=\"T_b1130_level0_col7\" class=\"col_heading level0 col7\" >7</th>\n",
              "      <th id=\"T_b1130_level0_col8\" class=\"col_heading level0 col8\" >8</th>\n",
              "      <th id=\"T_b1130_level0_col9\" class=\"col_heading level0 col9\" >9</th>\n",
              "    </tr>\n",
              "  </thead>\n",
              "  <tbody>\n",
              "    <tr>\n",
              "      <th id=\"T_b1130_level0_row0\" class=\"row_heading level0 row0\" >0</th>\n",
              "      <td id=\"T_b1130_row0_col0\" class=\"data row0 col0\" >0</td>\n",
              "      <td id=\"T_b1130_row0_col1\" class=\"data row0 col1\" >0</td>\n",
              "      <td id=\"T_b1130_row0_col2\" class=\"data row0 col2\" >0</td>\n",
              "      <td id=\"T_b1130_row0_col3\" class=\"data row0 col3\" >0</td>\n",
              "      <td id=\"T_b1130_row0_col4\" class=\"data row0 col4\" >0</td>\n",
              "      <td id=\"T_b1130_row0_col5\" class=\"data row0 col5\" >0</td>\n",
              "      <td id=\"T_b1130_row0_col6\" class=\"data row0 col6\" >0</td>\n",
              "      <td id=\"T_b1130_row0_col7\" class=\"data row0 col7\" >0</td>\n",
              "      <td id=\"T_b1130_row0_col8\" class=\"data row0 col8\" >0</td>\n",
              "      <td id=\"T_b1130_row0_col9\" class=\"data row0 col9\" >0</td>\n",
              "    </tr>\n",
              "    <tr>\n",
              "      <th id=\"T_b1130_level0_row1\" class=\"row_heading level0 row1\" >1</th>\n",
              "      <td id=\"T_b1130_row1_col0\" class=\"data row1 col0\" >0</td>\n",
              "      <td id=\"T_b1130_row1_col1\" class=\"data row1 col1\" >0</td>\n",
              "      <td id=\"T_b1130_row1_col2\" class=\"data row1 col2\" >42</td>\n",
              "      <td id=\"T_b1130_row1_col3\" class=\"data row1 col3\" >118</td>\n",
              "      <td id=\"T_b1130_row1_col4\" class=\"data row1 col4\" >219</td>\n",
              "      <td id=\"T_b1130_row1_col5\" class=\"data row1 col5\" >166</td>\n",
              "      <td id=\"T_b1130_row1_col6\" class=\"data row1 col6\" >118</td>\n",
              "      <td id=\"T_b1130_row1_col7\" class=\"data row1 col7\" >118</td>\n",
              "      <td id=\"T_b1130_row1_col8\" class=\"data row1 col8\" >6</td>\n",
              "      <td id=\"T_b1130_row1_col9\" class=\"data row1 col9\" >0</td>\n",
              "    </tr>\n",
              "    <tr>\n",
              "      <th id=\"T_b1130_level0_row2\" class=\"row_heading level0 row2\" >2</th>\n",
              "      <td id=\"T_b1130_row2_col0\" class=\"data row2 col0\" >0</td>\n",
              "      <td id=\"T_b1130_row2_col1\" class=\"data row2 col1\" >103</td>\n",
              "      <td id=\"T_b1130_row2_col2\" class=\"data row2 col2\" >242</td>\n",
              "      <td id=\"T_b1130_row2_col3\" class=\"data row2 col3\" >254</td>\n",
              "      <td id=\"T_b1130_row2_col4\" class=\"data row2 col4\" >254</td>\n",
              "      <td id=\"T_b1130_row2_col5\" class=\"data row2 col5\" >254</td>\n",
              "      <td id=\"T_b1130_row2_col6\" class=\"data row2 col6\" >254</td>\n",
              "      <td id=\"T_b1130_row2_col7\" class=\"data row2 col7\" >254</td>\n",
              "      <td id=\"T_b1130_row2_col8\" class=\"data row2 col8\" >66</td>\n",
              "      <td id=\"T_b1130_row2_col9\" class=\"data row2 col9\" >0</td>\n",
              "    </tr>\n",
              "    <tr>\n",
              "      <th id=\"T_b1130_level0_row3\" class=\"row_heading level0 row3\" >3</th>\n",
              "      <td id=\"T_b1130_row3_col0\" class=\"data row3 col0\" >0</td>\n",
              "      <td id=\"T_b1130_row3_col1\" class=\"data row3 col1\" >18</td>\n",
              "      <td id=\"T_b1130_row3_col2\" class=\"data row3 col2\" >232</td>\n",
              "      <td id=\"T_b1130_row3_col3\" class=\"data row3 col3\" >254</td>\n",
              "      <td id=\"T_b1130_row3_col4\" class=\"data row3 col4\" >254</td>\n",
              "      <td id=\"T_b1130_row3_col5\" class=\"data row3 col5\" >254</td>\n",
              "      <td id=\"T_b1130_row3_col6\" class=\"data row3 col6\" >254</td>\n",
              "      <td id=\"T_b1130_row3_col7\" class=\"data row3 col7\" >254</td>\n",
              "      <td id=\"T_b1130_row3_col8\" class=\"data row3 col8\" >238</td>\n",
              "      <td id=\"T_b1130_row3_col9\" class=\"data row3 col9\" >70</td>\n",
              "    </tr>\n",
              "    <tr>\n",
              "      <th id=\"T_b1130_level0_row4\" class=\"row_heading level0 row4\" >4</th>\n",
              "      <td id=\"T_b1130_row4_col0\" class=\"data row4 col0\" >0</td>\n",
              "      <td id=\"T_b1130_row4_col1\" class=\"data row4 col1\" >0</td>\n",
              "      <td id=\"T_b1130_row4_col2\" class=\"data row4 col2\" >104</td>\n",
              "      <td id=\"T_b1130_row4_col3\" class=\"data row4 col3\" >244</td>\n",
              "      <td id=\"T_b1130_row4_col4\" class=\"data row4 col4\" >254</td>\n",
              "      <td id=\"T_b1130_row4_col5\" class=\"data row4 col5\" >224</td>\n",
              "      <td id=\"T_b1130_row4_col6\" class=\"data row4 col6\" >254</td>\n",
              "      <td id=\"T_b1130_row4_col7\" class=\"data row4 col7\" >254</td>\n",
              "      <td id=\"T_b1130_row4_col8\" class=\"data row4 col8\" >254</td>\n",
              "      <td id=\"T_b1130_row4_col9\" class=\"data row4 col9\" >141</td>\n",
              "    </tr>\n",
              "    <tr>\n",
              "      <th id=\"T_b1130_level0_row5\" class=\"row_heading level0 row5\" >5</th>\n",
              "      <td id=\"T_b1130_row5_col0\" class=\"data row5 col0\" >0</td>\n",
              "      <td id=\"T_b1130_row5_col1\" class=\"data row5 col1\" >0</td>\n",
              "      <td id=\"T_b1130_row5_col2\" class=\"data row5 col2\" >0</td>\n",
              "      <td id=\"T_b1130_row5_col3\" class=\"data row5 col3\" >207</td>\n",
              "      <td id=\"T_b1130_row5_col4\" class=\"data row5 col4\" >254</td>\n",
              "      <td id=\"T_b1130_row5_col5\" class=\"data row5 col5\" >210</td>\n",
              "      <td id=\"T_b1130_row5_col6\" class=\"data row5 col6\" >254</td>\n",
              "      <td id=\"T_b1130_row5_col7\" class=\"data row5 col7\" >254</td>\n",
              "      <td id=\"T_b1130_row5_col8\" class=\"data row5 col8\" >254</td>\n",
              "      <td id=\"T_b1130_row5_col9\" class=\"data row5 col9\" >34</td>\n",
              "    </tr>\n",
              "    <tr>\n",
              "      <th id=\"T_b1130_level0_row6\" class=\"row_heading level0 row6\" >6</th>\n",
              "      <td id=\"T_b1130_row6_col0\" class=\"data row6 col0\" >0</td>\n",
              "      <td id=\"T_b1130_row6_col1\" class=\"data row6 col1\" >0</td>\n",
              "      <td id=\"T_b1130_row6_col2\" class=\"data row6 col2\" >0</td>\n",
              "      <td id=\"T_b1130_row6_col3\" class=\"data row6 col3\" >84</td>\n",
              "      <td id=\"T_b1130_row6_col4\" class=\"data row6 col4\" >206</td>\n",
              "      <td id=\"T_b1130_row6_col5\" class=\"data row6 col5\" >254</td>\n",
              "      <td id=\"T_b1130_row6_col6\" class=\"data row6 col6\" >254</td>\n",
              "      <td id=\"T_b1130_row6_col7\" class=\"data row6 col7\" >254</td>\n",
              "      <td id=\"T_b1130_row6_col8\" class=\"data row6 col8\" >254</td>\n",
              "      <td id=\"T_b1130_row6_col9\" class=\"data row6 col9\" >41</td>\n",
              "    </tr>\n",
              "    <tr>\n",
              "      <th id=\"T_b1130_level0_row7\" class=\"row_heading level0 row7\" >7</th>\n",
              "      <td id=\"T_b1130_row7_col0\" class=\"data row7 col0\" >0</td>\n",
              "      <td id=\"T_b1130_row7_col1\" class=\"data row7 col1\" >0</td>\n",
              "      <td id=\"T_b1130_row7_col2\" class=\"data row7 col2\" >0</td>\n",
              "      <td id=\"T_b1130_row7_col3\" class=\"data row7 col3\" >0</td>\n",
              "      <td id=\"T_b1130_row7_col4\" class=\"data row7 col4\" >24</td>\n",
              "      <td id=\"T_b1130_row7_col5\" class=\"data row7 col5\" >209</td>\n",
              "      <td id=\"T_b1130_row7_col6\" class=\"data row7 col6\" >254</td>\n",
              "      <td id=\"T_b1130_row7_col7\" class=\"data row7 col7\" >254</td>\n",
              "      <td id=\"T_b1130_row7_col8\" class=\"data row7 col8\" >254</td>\n",
              "      <td id=\"T_b1130_row7_col9\" class=\"data row7 col9\" >171</td>\n",
              "    </tr>\n",
              "    <tr>\n",
              "      <th id=\"T_b1130_level0_row8\" class=\"row_heading level0 row8\" >8</th>\n",
              "      <td id=\"T_b1130_row8_col0\" class=\"data row8 col0\" >0</td>\n",
              "      <td id=\"T_b1130_row8_col1\" class=\"data row8 col1\" >0</td>\n",
              "      <td id=\"T_b1130_row8_col2\" class=\"data row8 col2\" >0</td>\n",
              "      <td id=\"T_b1130_row8_col3\" class=\"data row8 col3\" >91</td>\n",
              "      <td id=\"T_b1130_row8_col4\" class=\"data row8 col4\" >137</td>\n",
              "      <td id=\"T_b1130_row8_col5\" class=\"data row8 col5\" >253</td>\n",
              "      <td id=\"T_b1130_row8_col6\" class=\"data row8 col6\" >254</td>\n",
              "      <td id=\"T_b1130_row8_col7\" class=\"data row8 col7\" >254</td>\n",
              "      <td id=\"T_b1130_row8_col8\" class=\"data row8 col8\" >254</td>\n",
              "      <td id=\"T_b1130_row8_col9\" class=\"data row8 col9\" >112</td>\n",
              "    </tr>\n",
              "    <tr>\n",
              "      <th id=\"T_b1130_level0_row9\" class=\"row_heading level0 row9\" >9</th>\n",
              "      <td id=\"T_b1130_row9_col0\" class=\"data row9 col0\" >0</td>\n",
              "      <td id=\"T_b1130_row9_col1\" class=\"data row9 col1\" >40</td>\n",
              "      <td id=\"T_b1130_row9_col2\" class=\"data row9 col2\" >214</td>\n",
              "      <td id=\"T_b1130_row9_col3\" class=\"data row9 col3\" >250</td>\n",
              "      <td id=\"T_b1130_row9_col4\" class=\"data row9 col4\" >254</td>\n",
              "      <td id=\"T_b1130_row9_col5\" class=\"data row9 col5\" >254</td>\n",
              "      <td id=\"T_b1130_row9_col6\" class=\"data row9 col6\" >254</td>\n",
              "      <td id=\"T_b1130_row9_col7\" class=\"data row9 col7\" >254</td>\n",
              "      <td id=\"T_b1130_row9_col8\" class=\"data row9 col8\" >254</td>\n",
              "      <td id=\"T_b1130_row9_col9\" class=\"data row9 col9\" >34</td>\n",
              "    </tr>\n",
              "  </tbody>\n",
              "</table>\n"
            ]
          },
          "metadata": {},
          "execution_count": 14
        }
      ]
    },
    {
      "cell_type": "markdown",
      "source": [
        "#### **First Try:** Pixel Similarity\n"
      ],
      "metadata": {
        "id": "pVFya2ZkS4n6"
      }
    },
    {
      "cell_type": "markdown",
      "source": [
        "* Step1: Would be to get the average of pixel values for each of our two groups"
      ],
      "metadata": {
        "id": "1QVF3xehRYh-"
      }
    },
    {
      "cell_type": "code",
      "source": [
        "#@ Creating tensors containg a single image\n",
        "seven_tensors = [tensor(Image.open(o)) for o in seven]\n",
        "three_tensors = [tensor(Image.open(o)) for o in three]\n",
        "\n",
        "#@ Checking the lengths of these created tensors\n",
        "len(three_tensors), len(seven_tensors)"
      ],
      "metadata": {
        "id": "gMq-lxRlTkXt",
        "outputId": "2900b663-19ec-48e8-9eee-21bd05a619e6",
        "colab": {
          "base_uri": "https://localhost:8080/"
        }
      },
      "execution_count": 15,
      "outputs": [
        {
          "output_type": "execute_result",
          "data": {
            "text/plain": [
              "(6131, 6265)"
            ]
          },
          "metadata": {},
          "execution_count": 15
        }
      ]
    },
    {
      "cell_type": "code",
      "source": [
        "#! Just checking the tensor:\n",
        "show_image(three_tensors[4])"
      ],
      "metadata": {
        "id": "l2UYh6nnUQIO",
        "outputId": "866b49c7-d4ef-4f9d-b14a-2cf1eb2b4a86",
        "colab": {
          "base_uri": "https://localhost:8080/",
          "height": 132
        }
      },
      "execution_count": 16,
      "outputs": [
        {
          "output_type": "execute_result",
          "data": {
            "text/plain": [
              "<Axes: >"
            ]
          },
          "metadata": {},
          "execution_count": 16
        },
        {
          "output_type": "display_data",
          "data": {
            "text/plain": [
              "<Figure size 100x100 with 1 Axes>"
            ],
            "image/png": "[encoded data removed]"
          },
          "metadata": {}
        }
      ]
    },
    {
      "cell_type": "code",
      "source": [
        "#@ Now stacking\n",
        "stacked_sevens = torch.stack(seven_tensors).float()/255\n",
        "stacked_threes = torch.stack(three_tensors).float()/255\n",
        "\n",
        "#@ Checking the Shape\n",
        "stacked_threes.shape"
      ],
      "metadata": {
        "id": "2sCKWVkbWpIo",
        "outputId": "09c0d5e2-04fc-4c9b-b528-33ec8902e8f3",
        "colab": {
          "base_uri": "https://localhost:8080/"
        }
      },
      "execution_count": 17,
      "outputs": [
        {
          "output_type": "execute_result",
          "data": {
            "text/plain": [
              "torch.Size([6131, 28, 28])"
            ]
          },
          "metadata": {},
          "execution_count": 17
        }
      ]
    },
    {
      "cell_type": "markdown",
      "source": [
        "**The meaning of this output:**<br>\n",
        "It's trying to say that we have 6,131 images, each of size 28×28 pixels.\n"
      ],
      "metadata": {
        "id": "m3MhGbluZW4c"
      }
    },
    {
      "cell_type": "markdown",
      "source": [
        "<details>\n",
        "  <summary>\n",
        "    <b>The reason behind converting to float and dividing by 255</b>\n",
        "  </summary>\n",
        "- Some of the operations in PyTorch, such as taking means, require us to cast our integer types into float types. So, converting the stacks to float as well.<br>\n",
        "- When converted to float, the pixel values are also expected to be in between 0 to 1. So dividing by 255.  \n",
        "</details>"
      ],
      "metadata": {
        "id": "3LKm1qwUXfT3"
      }
    },
    {
      "cell_type": "code",
      "source": [
        "#@ Gettig the rank of the tensor\n",
        "len(stacked_threes.shape)\n",
        "\n",
        "'''\n",
        "This is similar to doing:\n",
        "stacked_threes.shape\n",
        "'''\n"
      ],
      "metadata": {
        "id": "fQvNV_SwhooD",
        "outputId": "b6f54a87-bff6-47af-d188-7e85c09ba78d",
        "colab": {
          "base_uri": "https://localhost:8080/",
          "height": 36
        }
      },
      "execution_count": 18,
      "outputs": [
        {
          "output_type": "execute_result",
          "data": {
            "text/plain": [
              "'\\nThis is similar to doing:\\nstacked_threes.shape\\n'"
            ],
            "application/vnd.google.colaboratory.intrinsic+json": {
              "type": "string"
            }
          },
          "metadata": {},
          "execution_count": 18
        }
      ]
    },
    {
      "cell_type": "markdown",
      "source": [
        "##### **Ranks defined**:\n",
        "\\- Here's what the rank of tensors mean:\n",
        "  - **Rank 0**= Scalar, *real number or constant*\n",
        "  - **Rank 1**= Vector, *can be represente as list of values*\n",
        "  - **Rank 2**= Matrix, *to represent 2D data structures*\n",
        "  - **Rank 3**= 3D Tensor, *cube or stack of matrices*\n",
        "  - **Rank 4**= 4D Tensor, *to represent images in batch form: where the 4th dimension reprents the batch size*\n",
        "\n",
        "\n"
      ],
      "metadata": {
        "id": "vIdyTTHTiB0O"
      }
    },
    {
      "cell_type": "code",
      "source": [
        "#@ Now computing the mean and looking at what we should be expecting for peak image for 3 (for classification)\n",
        "mean3 = stacked_threes.mean(0)\n",
        "show_image(mean3)"
      ],
      "metadata": {
        "id": "DKzESfbbjUwG",
        "outputId": "76333b8e-dff8-44d5-9eeb-d4eaed4b9fda",
        "colab": {
          "base_uri": "https://localhost:8080/",
          "height": 132
        }
      },
      "execution_count": 19,
      "outputs": [
        {
          "output_type": "execute_result",
          "data": {
            "text/plain": [
              "<Axes: >"
            ]
          },
          "metadata": {},
          "execution_count": 19
        },
        {
          "output_type": "display_data",
          "data": {
            "text/plain": [
              "<Figure size 100x100 with 1 Axes>"
            ],
            "image/png": "[encoded data removed]"
          },
          "metadata": {}
        }
      ]
    },
    {
      "cell_type": "code",
      "source": [
        "#@ Doing the same for seven\n",
        "mean7 = stacked_sevens.mean(0)\n",
        "show_image(mean7)"
      ],
      "metadata": {
        "id": "DMKMlLW0kgnn",
        "outputId": "946017fa-ea2d-4911-cdbe-6a964d751b2d",
        "colab": {
          "base_uri": "https://localhost:8080/",
          "height": 132
        }
      },
      "execution_count": 20,
      "outputs": [
        {
          "output_type": "execute_result",
          "data": {
            "text/plain": [
              "<Axes: >"
            ]
          },
          "metadata": {},
          "execution_count": 20
        },
        {
          "output_type": "display_data",
          "data": {
            "text/plain": [
              "<Figure size 100x100 with 1 Axes>"
            ],
            "image/png": "[encoded data removed]"
          },
          "metadata": {}
        }
      ]
    },
    {
      "cell_type": "code",
      "source": [
        "## Just picking an arbitary 3s or 7s and seeing how far are we from the \"ideal digits\"\n",
        "arb_3 = stacked_threes[1]\n",
        "show_image(arb_3)\n",
        "\n",
        "arb_7 = stacked_sevens[1]\n",
        "show_image(arb_7)"
      ],
      "metadata": {
        "id": "--0N6CYWk8L_",
        "outputId": "44c6a3a5-d102-499e-a375-290efd40d9b0",
        "colab": {
          "base_uri": "https://localhost:8080/",
          "height": 229
        }
      },
      "execution_count": 21,
      "outputs": [
        {
          "output_type": "execute_result",
          "data": {
            "text/plain": [
              "<Axes: >"
            ]
          },
          "metadata": {},
          "execution_count": 21
        },
        {
          "output_type": "display_data",
          "data": {
            "text/plain": [
              "<Figure size 100x100 with 1 Axes>"
            ],
            "image/png": "[encoded data removed]"
          },
          "metadata": {}
        },
        {
          "output_type": "display_data",
          "data": {
            "text/plain": [
              "<Figure size 100x100 with 1 Axes>"
            ],
            "image/png": "[encoded data removed]"
          },
          "metadata": {}
        }
      ]
    },
    {
      "cell_type": "markdown",
      "source": [
        "<details>\n",
        "  <summary>\n",
        "    Measuring the distances:\n",
        "  </summary>\n",
        "- Take the mean of absolute value of differences. Also called as <i>L1 Norm</i> <br>\n",
        "- Then find the Root Mean Sqaured Error (RMSE). Also called as <i>L2 Norm</i>\n",
        "</details>"
      ],
      "metadata": {
        "id": "gNNjTNZzlmTN"
      }
    },
    {
      "cell_type": "code",
      "source": [
        "#@ Implementing the above information\n",
        "\n",
        "dist_3_abs = (arb_3 - mean3).abs().mean() #L1 Norm\n",
        "dist_3_sqr = ((arb_3 - mean3)**2).mean().sqrt() #L2 Norm\n",
        "dist_3_abs, dist_3_sqr"
      ],
      "metadata": {
        "id": "GQjHhZc9m1m9",
        "outputId": "92081370-c787-439f-d910-815a8be8f134",
        "colab": {
          "base_uri": "https://localhost:8080/"
        }
      },
      "execution_count": 22,
      "outputs": [
        {
          "output_type": "execute_result",
          "data": {
            "text/plain": [
              "(tensor(0.1114), tensor(0.2021))"
            ]
          },
          "metadata": {},
          "execution_count": 22
        }
      ]
    },
    {
      "cell_type": "code",
      "source": [
        "dist_7_abs= (arb_7 - mean7).abs().mean()\n",
        "dist_7_sqr= ((arb_7 - mean7)**2).mean().sqrt()\n",
        "dist_7_abs, dist_7_sqr"
      ],
      "metadata": {
        "id": "MAPOX73nnfGV",
        "outputId": "069f7fd5-ab5b-498e-b4ef-bb5fa1913b9c",
        "colab": {
          "base_uri": "https://localhost:8080/"
        }
      },
      "execution_count": 23,
      "outputs": [
        {
          "output_type": "execute_result",
          "data": {
            "text/plain": [
              "(tensor(0.1304), tensor(0.2585))"
            ]
          },
          "metadata": {},
          "execution_count": 23
        }
      ]
    },
    {
      "cell_type": "code",
      "source": [
        "#@ Now implementing the same using loss functions.\n",
        "import torch.nn.functional as F\n",
        "\n",
        "F.l1_loss(arb_3.float(), mean3), F.mse_loss(arb_3, mean3).sqrt() #l1 stands for L1 Norm and mse is just L2 Norm"
      ],
      "metadata": {
        "id": "2mtwSBX7oKNU",
        "outputId": "390da7bc-0bae-40a8-d000-176474b213a1",
        "colab": {
          "base_uri": "https://localhost:8080/"
        }
      },
      "execution_count": 24,
      "outputs": [
        {
          "output_type": "execute_result",
          "data": {
            "text/plain": [
              "(tensor(0.1114), tensor(0.2021))"
            ]
          },
          "metadata": {},
          "execution_count": 24
        }
      ]
    },
    {
      "cell_type": "markdown",
      "source": [
        "##### Numpy Arrays and PyTorch tensors"
      ],
      "metadata": {
        "id": "Z77D01FQonPF"
      }
    },
    {
      "cell_type": "markdown",
      "source": [
        "So, in this part it's just a revision about what Numpy arrays and tensors are."
      ],
      "metadata": {
        "id": "kelUWdR7SZO0"
      }
    },
    {
      "cell_type": "markdown",
      "source": [
        "<details>\n",
        "  <summary>\n",
        "    <b>Why use Numpy arrays?</b>\n",
        "  </summary>\n",
        "Since they are built using optimized C code, Numpy arrays are way way faster than the python code.\n",
        "</details>\n",
        "\n",
        "<details>\n",
        "  <summary>\n",
        "    <b>Why PyTorch Tensors?</b>\n",
        "  </summary>\n",
        "They do the same task as Numpy array. Just more specified with GPUs.\n",
        "</details>"
      ],
      "metadata": {
        "id": "-djP9FaAStQM"
      }
    },
    {
      "cell_type": "code",
      "source": [],
      "metadata": {
        "id": "TiNhFZqwTksm"
      },
      "execution_count": null,
      "outputs": []
    }
  ]
}