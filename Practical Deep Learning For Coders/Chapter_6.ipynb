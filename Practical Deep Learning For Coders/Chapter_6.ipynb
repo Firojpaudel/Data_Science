{
  "nbformat": 4,
  "nbformat_minor": 0,
  "metadata": {
    "colab": {
      "provenance": [],
      "authorship_tag": "ABX9TyNhWE9ms+7VV/1vmbZxjkmG",
      "include_colab_link": true
    },
    "kernelspec": {
      "name": "python3",
      "display_name": "Python 3"
    },
    "language_info": {
      "name": "python"
    }
  },
  "cells": [
    {
      "cell_type": "markdown",
      "metadata": {
        "id": "view-in-github",
        "colab_type": "text"
      },
      "source": [
        "<a href=\"https://colab.research.google.com/github/Firojpaudel/Machine-Learning-Notes/blob/main/Practical%20Deep%20Learning%20For%20Coders/Chapter_6.ipynb\" target=\"_parent\"><img src=\"https://colab.research.google.com/assets/colab-badge.svg\" alt=\"Open In Colab\"/></a>"
      ]
    },
    {
      "cell_type": "markdown",
      "source": [
        "# MultiLabel Classification And Regression"
      ],
      "metadata": {
        "id": "6Apt4iXyvuWr"
      }
    },
    {
      "cell_type": "markdown",
      "source": [
        "\n",
        "In the last chapter, we learned some practical tips for training models, like choosing the right learning rates and number of epochs which were really important for good results. Now, this chapter dives into two new types of computer vision problems: multi-label classification (predicting multiple labels for an image or none at all) and regression (predicting numbers instead of categories). Along the way, we'll explore output activations, targets, and loss functions in more depth."
      ],
      "metadata": {
        "id": "Y0KrC4hY5bUf"
      }
    },
    {
      "cell_type": "markdown",
      "source": [
        "## MultiLabel Classification"
      ],
      "metadata": {
        "id": "cY0RDWJU6s-O"
      }
    },
    {
      "cell_type": "markdown",
      "source": [
        "*MultiLabel Classification* refers to the problem of identifying the objects in images that may not contain exactly one type of object.\n",
        "\n",
        "There may be more than one type of object or there may be none.\n",
        "\n",
        "In previous bear classifier we built, it had no ability to predict \"not bear at all\". So, this time we are trying to fix that.\n",
        "\n",
        "First, let's see what a mutilabel dataset looks like. But before that lets set up the notebook."
      ],
      "metadata": {
        "id": "0VrYTbeO6zvG"
      }
    },
    {
      "cell_type": "code",
      "source": [
        "### Setting up the notebook\n",
        "##@ Notebook initialization\n",
        "%reload_ext autoreload\n",
        "%autoreload 2\n",
        "%matplotlib inline\n",
        "\n",
        "##@ Installing dependencies\n",
        "!pip install -Uqq fastbook\n",
        "import fastbook\n",
        "fastbook.setup_book()\n",
        "\n",
        "##@ Importing the necessary libraries\n",
        "from fastbook import *\n",
        "from fastai.callback.fp16 import *\n",
        "from fastai.vision.all import *"
      ],
      "metadata": {
        "id": "zmW6nLKS8BOl"
      },
      "execution_count": 1,
      "outputs": []
    },
    {
      "cell_type": "markdown",
      "source": [
        "### Getting Data"
      ],
      "metadata": {
        "id": "aPHFclorJ3An"
      }
    },
    {
      "cell_type": "markdown",
      "source": [
        "We will get the PASCAL datset which has more than one kind of classified object per image."
      ],
      "metadata": {
        "id": "dyCqVFRz9FRf"
      }
    },
    {
      "cell_type": "code",
      "source": [
        "##@ Getting the PASCAL dataset\n",
        "path = untar_data(URLs.PASCAL_2007)"
      ],
      "metadata": {
        "colab": {
          "base_uri": "https://localhost:8080/",
          "height": 55
        },
        "id": "ZTkQyd_J-bwd",
        "outputId": "ef1fe53e-4ce3-4c33-e34d-e047877ff411"
      },
      "execution_count": 2,
      "outputs": [
        {
          "output_type": "stream",
          "name": "stdout",
          "text": [
            "Downloading a new version of this dataset...\n"
          ]
        },
        {
          "output_type": "display_data",
          "data": {
            "text/plain": [
              "<IPython.core.display.HTML object>"
            ],
            "text/html": [
              "\n",
              "<style>\n",
              "    /* Turns off some styling */\n",
              "    progress {\n",
              "        /* gets rid of default border in Firefox and Opera. */\n",
              "        border: none;\n",
              "        /* Needs to be in here for Safari polyfill so background images work as expected. */\n",
              "        background-size: auto;\n",
              "    }\n",
              "    progress:not([value]), progress:not([value])::-webkit-progress-bar {\n",
              "        background: repeating-linear-gradient(45deg, #7e7e7e, #7e7e7e 10px, #5c5c5c 10px, #5c5c5c 20px);\n",
              "    }\n",
              "    .progress-bar-interrupted, .progress-bar-interrupted::-webkit-progress-bar {\n",
              "        background: #F44336;\n",
              "    }\n",
              "</style>\n"
            ]
          },
          "metadata": {}
        },
        {
          "output_type": "display_data",
          "data": {
            "text/plain": [
              "<IPython.core.display.HTML object>"
            ],
            "text/html": [
              "\n",
              "    <div>\n",
              "      <progress value='1637801984' class='' max='1637796771' style='width:300px; height:20px; vertical-align: middle;'></progress>\n",
              "      100.00% [1637801984/1637796771 00:42&lt;00:00]\n",
              "    </div>\n",
              "    "
            ]
          },
          "metadata": {}
        }
      ]
    },
    {
      "cell_type": "markdown",
      "source": [
        "<details>\n",
        "<summary><b>More about this dataset:</b></summary>\n",
        "This dataset is a bit different from the ones we've worked with before. Instead of being organized by filenames or folders, it comes with a CSV file that tells us which labels to use for each image.\n",
        "</details>\n"
      ],
      "metadata": {
        "id": "F0N9NtNK-lk_"
      }
    },
    {
      "cell_type": "code",
      "source": [
        "##@ inspecting the dataset\n",
        "df = pd.read_csv(path/'train.csv')\n",
        "df.head()"
      ],
      "metadata": {
        "colab": {
          "base_uri": "https://localhost:8080/",
          "height": 206
        },
        "id": "SB5fXHtP_KH_",
        "outputId": "d75212d1-d225-458c-8a78-e96b2d13415a"
      },
      "execution_count": 3,
      "outputs": [
        {
          "output_type": "execute_result",
          "data": {
            "text/plain": [
              "        fname        labels  is_valid\n",
              "0  000005.jpg         chair      True\n",
              "1  000007.jpg           car      True\n",
              "2  000009.jpg  horse person      True\n",
              "3  000012.jpg           car     False\n",
              "4  000016.jpg       bicycle      True"
            ],
            "text/html": [
              "\n",
              "  <div id=\"df-034cca68-fb54-459b-9b4e-d4321712ed50\" class=\"colab-df-container\">\n",
              "    <div>\n",
              "<style scoped>\n",
              "    .dataframe tbody tr th:only-of-type {\n",
              "        vertical-align: middle;\n",
              "    }\n",
              "\n",
              "    .dataframe tbody tr th {\n",
              "        vertical-align: top;\n",
              "    }\n",
              "\n",
              "    .dataframe thead th {\n",
              "        text-align: right;\n",
              "    }\n",
              "</style>\n",
              "<table border=\"1\" class=\"dataframe\">\n",
              "  <thead>\n",
              "    <tr style=\"text-align: right;\">\n",
              "      <th></th>\n",
              "      <th>fname</th>\n",
              "      <th>labels</th>\n",
              "      <th>is_valid</th>\n",
              "    </tr>\n",
              "  </thead>\n",
              "  <tbody>\n",
              "    <tr>\n",
              "      <th>0</th>\n",
              "      <td>000005.jpg</td>\n",
              "      <td>chair</td>\n",
              "      <td>True</td>\n",
              "    </tr>\n",
              "    <tr>\n",
              "      <th>1</th>\n",
              "      <td>000007.jpg</td>\n",
              "      <td>car</td>\n",
              "      <td>True</td>\n",
              "    </tr>\n",
              "    <tr>\n",
              "      <th>2</th>\n",
              "      <td>000009.jpg</td>\n",
              "      <td>horse person</td>\n",
              "      <td>True</td>\n",
              "    </tr>\n",
              "    <tr>\n",
              "      <th>3</th>\n",
              "      <td>000012.jpg</td>\n",
              "      <td>car</td>\n",
              "      <td>False</td>\n",
              "    </tr>\n",
              "    <tr>\n",
              "      <th>4</th>\n",
              "      <td>000016.jpg</td>\n",
              "      <td>bicycle</td>\n",
              "      <td>True</td>\n",
              "    </tr>\n",
              "  </tbody>\n",
              "</table>\n",
              "</div>\n",
              "    <div class=\"colab-df-buttons\">\n",
              "\n",
              "  <div class=\"colab-df-container\">\n",
              "    <button class=\"colab-df-convert\" onclick=\"convertToInteractive('df-034cca68-fb54-459b-9b4e-d4321712ed50')\"\n",
              "            title=\"Convert this dataframe to an interactive table.\"\n",
              "            style=\"display:none;\">\n",
              "\n",
              "  <svg xmlns=\"http://www.w3.org/2000/svg\" height=\"24px\" viewBox=\"0 -960 960 960\">\n",
              "    <path d=\"M120-120v-720h720v720H120Zm60-500h600v-160H180v160Zm220 220h160v-160H400v160Zm0 220h160v-160H400v160ZM180-400h160v-160H180v160Zm440 0h160v-160H620v160ZM180-180h160v-160H180v160Zm440 0h160v-160H620v160Z\"/>\n",
              "  </svg>\n",
              "    </button>\n",
              "\n",
              "  <style>\n",
              "    .colab-df-container {\n",
              "      display:flex;\n",
              "      gap: 12px;\n",
              "    }\n",
              "\n",
              "    .colab-df-convert {\n",
              "      background-color: #E8F0FE;\n",
              "      border: none;\n",
              "      border-radius: 50%;\n",
              "      cursor: pointer;\n",
              "      display: none;\n",
              "      fill: #1967D2;\n",
              "      height: 32px;\n",
              "      padding: 0 0 0 0;\n",
              "      width: 32px;\n",
              "    }\n",
              "\n",
              "    .colab-df-convert:hover {\n",
              "      background-color: #E2EBFA;\n",
              "      box-shadow: 0px 1px 2px rgba(60, 64, 67, 0.3), 0px 1px 3px 1px rgba(60, 64, 67, 0.15);\n",
              "      fill: #174EA6;\n",
              "    }\n",
              "\n",
              "    .colab-df-buttons div {\n",
              "      margin-bottom: 4px;\n",
              "    }\n",
              "\n",
              "    [theme=dark] .colab-df-convert {\n",
              "      background-color: #3B4455;\n",
              "      fill: #D2E3FC;\n",
              "    }\n",
              "\n",
              "    [theme=dark] .colab-df-convert:hover {\n",
              "      background-color: #434B5C;\n",
              "      box-shadow: 0px 1px 3px 1px rgba(0, 0, 0, 0.15);\n",
              "      filter: drop-shadow(0px 1px 2px rgba(0, 0, 0, 0.3));\n",
              "      fill: #FFFFFF;\n",
              "    }\n",
              "  </style>\n",
              "\n",
              "    <script>\n",
              "      const buttonEl =\n",
              "        document.querySelector('#df-034cca68-fb54-459b-9b4e-d4321712ed50 button.colab-df-convert');\n",
              "      buttonEl.style.display =\n",
              "        google.colab.kernel.accessAllowed ? 'block' : 'none';\n",
              "\n",
              "      async function convertToInteractive(key) {\n",
              "        const element = document.querySelector('#df-034cca68-fb54-459b-9b4e-d4321712ed50');\n",
              "        const dataTable =\n",
              "          await google.colab.kernel.invokeFunction('convertToInteractive',\n",
              "                                                    [key], {});\n",
              "        if (!dataTable) return;\n",
              "\n",
              "        const docLinkHtml = 'Like what you see? Visit the ' +\n",
              "          '<a target=\"_blank\" href=https://colab.research.google.com/notebooks/data_table.ipynb>data table notebook</a>'\n",
              "          + ' to learn more about interactive tables.';\n",
              "        element.innerHTML = '';\n",
              "        dataTable['output_type'] = 'display_data';\n",
              "        await google.colab.output.renderOutput(dataTable, element);\n",
              "        const docLink = document.createElement('div');\n",
              "        docLink.innerHTML = docLinkHtml;\n",
              "        element.appendChild(docLink);\n",
              "      }\n",
              "    </script>\n",
              "  </div>\n",
              "\n",
              "\n",
              "<div id=\"df-e0777b40-ed8d-4df1-8a9c-4efc064e1abb\">\n",
              "  <button class=\"colab-df-quickchart\" onclick=\"quickchart('df-e0777b40-ed8d-4df1-8a9c-4efc064e1abb')\"\n",
              "            title=\"Suggest charts\"\n",
              "            style=\"display:none;\">\n",
              "\n",
              "<svg xmlns=\"http://www.w3.org/2000/svg\" height=\"24px\"viewBox=\"0 0 24 24\"\n",
              "     width=\"24px\">\n",
              "    <g>\n",
              "        <path d=\"M19 3H5c-1.1 0-2 .9-2 2v14c0 1.1.9 2 2 2h14c1.1 0 2-.9 2-2V5c0-1.1-.9-2-2-2zM9 17H7v-7h2v7zm4 0h-2V7h2v10zm4 0h-2v-4h2v4z\"/>\n",
              "    </g>\n",
              "</svg>\n",
              "  </button>\n",
              "\n",
              "<style>\n",
              "  .colab-df-quickchart {\n",
              "      --bg-color: #E8F0FE;\n",
              "      --fill-color: #1967D2;\n",
              "      --hover-bg-color: #E2EBFA;\n",
              "      --hover-fill-color: #174EA6;\n",
              "      --disabled-fill-color: #AAA;\n",
              "      --disabled-bg-color: #DDD;\n",
              "  }\n",
              "\n",
              "  [theme=dark] .colab-df-quickchart {\n",
              "      --bg-color: #3B4455;\n",
              "      --fill-color: #D2E3FC;\n",
              "      --hover-bg-color: #434B5C;\n",
              "      --hover-fill-color: #FFFFFF;\n",
              "      --disabled-bg-color: #3B4455;\n",
              "      --disabled-fill-color: #666;\n",
              "  }\n",
              "\n",
              "  .colab-df-quickchart {\n",
              "    background-color: var(--bg-color);\n",
              "    border: none;\n",
              "    border-radius: 50%;\n",
              "    cursor: pointer;\n",
              "    display: none;\n",
              "    fill: var(--fill-color);\n",
              "    height: 32px;\n",
              "    padding: 0;\n",
              "    width: 32px;\n",
              "  }\n",
              "\n",
              "  .colab-df-quickchart:hover {\n",
              "    background-color: var(--hover-bg-color);\n",
              "    box-shadow: 0 1px 2px rgba(60, 64, 67, 0.3), 0 1px 3px 1px rgba(60, 64, 67, 0.15);\n",
              "    fill: var(--button-hover-fill-color);\n",
              "  }\n",
              "\n",
              "  .colab-df-quickchart-complete:disabled,\n",
              "  .colab-df-quickchart-complete:disabled:hover {\n",
              "    background-color: var(--disabled-bg-color);\n",
              "    fill: var(--disabled-fill-color);\n",
              "    box-shadow: none;\n",
              "  }\n",
              "\n",
              "  .colab-df-spinner {\n",
              "    border: 2px solid var(--fill-color);\n",
              "    border-color: transparent;\n",
              "    border-bottom-color: var(--fill-color);\n",
              "    animation:\n",
              "      spin 1s steps(1) infinite;\n",
              "  }\n",
              "\n",
              "  @keyframes spin {\n",
              "    0% {\n",
              "      border-color: transparent;\n",
              "      border-bottom-color: var(--fill-color);\n",
              "      border-left-color: var(--fill-color);\n",
              "    }\n",
              "    20% {\n",
              "      border-color: transparent;\n",
              "      border-left-color: var(--fill-color);\n",
              "      border-top-color: var(--fill-color);\n",
              "    }\n",
              "    30% {\n",
              "      border-color: transparent;\n",
              "      border-left-color: var(--fill-color);\n",
              "      border-top-color: var(--fill-color);\n",
              "      border-right-color: var(--fill-color);\n",
              "    }\n",
              "    40% {\n",
              "      border-color: transparent;\n",
              "      border-right-color: var(--fill-color);\n",
              "      border-top-color: var(--fill-color);\n",
              "    }\n",
              "    60% {\n",
              "      border-color: transparent;\n",
              "      border-right-color: var(--fill-color);\n",
              "    }\n",
              "    80% {\n",
              "      border-color: transparent;\n",
              "      border-right-color: var(--fill-color);\n",
              "      border-bottom-color: var(--fill-color);\n",
              "    }\n",
              "    90% {\n",
              "      border-color: transparent;\n",
              "      border-bottom-color: var(--fill-color);\n",
              "    }\n",
              "  }\n",
              "</style>\n",
              "\n",
              "  <script>\n",
              "    async function quickchart(key) {\n",
              "      const quickchartButtonEl =\n",
              "        document.querySelector('#' + key + ' button');\n",
              "      quickchartButtonEl.disabled = true;  // To prevent multiple clicks.\n",
              "      quickchartButtonEl.classList.add('colab-df-spinner');\n",
              "      try {\n",
              "        const charts = await google.colab.kernel.invokeFunction(\n",
              "            'suggestCharts', [key], {});\n",
              "      } catch (error) {\n",
              "        console.error('Error during call to suggestCharts:', error);\n",
              "      }\n",
              "      quickchartButtonEl.classList.remove('colab-df-spinner');\n",
              "      quickchartButtonEl.classList.add('colab-df-quickchart-complete');\n",
              "    }\n",
              "    (() => {\n",
              "      let quickchartButtonEl =\n",
              "        document.querySelector('#df-e0777b40-ed8d-4df1-8a9c-4efc064e1abb button');\n",
              "      quickchartButtonEl.style.display =\n",
              "        google.colab.kernel.accessAllowed ? 'block' : 'none';\n",
              "    })();\n",
              "  </script>\n",
              "</div>\n",
              "\n",
              "    </div>\n",
              "  </div>\n"
            ],
            "application/vnd.google.colaboratory.intrinsic+json": {
              "type": "dataframe",
              "variable_name": "df",
              "summary": "{\n  \"name\": \"df\",\n  \"rows\": 5011,\n  \"fields\": [\n    {\n      \"column\": \"fname\",\n      \"properties\": {\n        \"dtype\": \"string\",\n        \"num_unique_values\": 5011,\n        \"samples\": [\n          \"002136.jpg\",\n          \"006128.jpg\",\n          \"003554.jpg\"\n        ],\n        \"semantic_type\": \"\",\n        \"description\": \"\"\n      }\n    },\n    {\n      \"column\": \"labels\",\n      \"properties\": {\n        \"dtype\": \"category\",\n        \"num_unique_values\": 473,\n        \"samples\": [\n          \"person car bus\",\n          \"bicycle person car\",\n          \"bus\"\n        ],\n        \"semantic_type\": \"\",\n        \"description\": \"\"\n      }\n    },\n    {\n      \"column\": \"is_valid\",\n      \"properties\": {\n        \"dtype\": \"boolean\",\n        \"num_unique_values\": 2,\n        \"samples\": [\n          false,\n          true\n        ],\n        \"semantic_type\": \"\",\n        \"description\": \"\"\n      }\n    }\n  ]\n}"
            }
          },
          "metadata": {},
          "execution_count": 3
        }
      ]
    },
    {
      "cell_type": "code",
      "source": [
        "header = \"\"\"\n",
        "===============================================================\n",
        "                Pandas and DataFrames Subsection in Book\n",
        "===============================================================\n",
        "\"\"\"\n",
        "print(header)\n",
        "\n",
        "# Accessing rows and columns using .iloc\n",
        "print(\"------- Using .iloc: -------\")\n",
        "print(f\"Returning the 1st column of the dataframe:\\n\\n{df.iloc[:, 0]} \\n\")  # 1st column (labels)\n",
        "print(f\"Returning the 1st row of the dataframe:\\n\\n{df.iloc[0, :]} \\n\")    # 1st row (details of item1)\n",
        "\n",
        "# Grabbing a column by name (without using iloc)\n",
        "print(f\"Grabbing the column 'labels' directly from the dataframe:\\n\\n{df['labels']}\\n\\n\")\n",
        "\n",
        "# Calculations in the dataframe\n",
        "print(\"----- Calculations in the DataFrame itself ------ \\n\")\n",
        "print(\"Creating a new dataframe for this one:\\n\")\n",
        "df1 = pd.DataFrame({\n",
        "    'Items Sold': [5, 2, 5, 4, 9],\n",
        "    'Rates': [100, 50, 60, 400, 1000]\n",
        "})\n",
        "print(f\"The new dataframe before the calculation:\\n\\n{df1}\\n\")\n",
        "df1['Income'] = df1['Items Sold'] * df1['Rates']  # Calculating income as Items Sold * Rates\n",
        "\n",
        "print(f\"The new dataframe after the calculation:\\n\\n{df1}\\n\")"
      ],
      "metadata": {
        "colab": {
          "base_uri": "https://localhost:8080/"
        },
        "id": "FCUVfK1N9Q-I",
        "outputId": "8f2cf261-006c-4812-bc04-3eeee9a6ad0b"
      },
      "execution_count": 41,
      "outputs": [
        {
          "output_type": "stream",
          "name": "stdout",
          "text": [
            "\n",
            "===============================================================\n",
            "                Pandas and DataFrames Subsection in Book\n",
            "===============================================================\n",
            "\n",
            "------- Using .iloc: -------\n",
            "Returning the 1st column of the dataframe:\n",
            "\n",
            "0       000005.jpg\n",
            "1       000007.jpg\n",
            "2       000009.jpg\n",
            "3       000012.jpg\n",
            "4       000016.jpg\n",
            "           ...    \n",
            "5006    009954.jpg\n",
            "5007    009955.jpg\n",
            "5008    009958.jpg\n",
            "5009    009959.jpg\n",
            "5010    009961.jpg\n",
            "Name: fname, Length: 5011, dtype: object \n",
            "\n",
            "Returning the 1st row of the dataframe:\n",
            "\n",
            "fname       000005.jpg\n",
            "labels           chair\n",
            "is_valid          True\n",
            "Name: 0, dtype: object \n",
            "\n",
            "Grabbing the column 'labels' directly from the dataframe:\n",
            "\n",
            "0                chair\n",
            "1                  car\n",
            "2         horse person\n",
            "3                  car\n",
            "4              bicycle\n",
            "             ...      \n",
            "5006      horse person\n",
            "5007              boat\n",
            "5008    person bicycle\n",
            "5009               car\n",
            "5010               dog\n",
            "Name: labels, Length: 5011, dtype: object\n",
            "\n",
            "\n",
            "----- Calculations in the DataFrame itself ------ \n",
            "\n",
            "Creating a new dataframe for this one:\n",
            "\n",
            "The new dataframe before the calculation:\n",
            "\n",
            "   Items Sold  Rates\n",
            "0           5    100\n",
            "1           2     50\n",
            "2           5     60\n",
            "3           4    400\n",
            "4           9   1000\n",
            "\n",
            "The new dataframe after the calculation:\n",
            "\n",
            "   Items Sold  Rates  Income\n",
            "0           5    100     500\n",
            "1           2     50     100\n",
            "2           5     60     300\n",
            "3           4    400    1600\n",
            "4           9   1000    9000\n",
            "\n"
          ]
        }
      ]
    },
    {
      "cell_type": "markdown",
      "source": [
        "### Constriucting a DataBlock"
      ],
      "metadata": {
        "id": "ULffRHIhBhZd"
      }
    },
    {
      "cell_type": "code",
      "source": [
        "## Will complete this section tomorrow ..."
      ],
      "metadata": {
        "id": "NiZzm6nKKDPy"
      },
      "execution_count": 42,
      "outputs": []
    },
    {
      "cell_type": "code",
      "source": [
        "'''Page Number: 248'''"
      ],
      "metadata": {
        "id": "Xd5fqt1uKUlE",
        "outputId": "b0c4506b-b238-4036-b077-f696e2a4cc26",
        "colab": {
          "base_uri": "https://localhost:8080/",
          "height": 36
        }
      },
      "execution_count": 43,
      "outputs": [
        {
          "output_type": "execute_result",
          "data": {
            "text/plain": [
              "'Page Number: 248'"
            ],
            "application/vnd.google.colaboratory.intrinsic+json": {
              "type": "string"
            }
          },
          "metadata": {},
          "execution_count": 43
        }
      ]
    },
    {
      "cell_type": "code",
      "source": [],
      "metadata": {
        "id": "NdFZX6FLKaAs"
      },
      "execution_count": null,
      "outputs": []
    }
  ]
}